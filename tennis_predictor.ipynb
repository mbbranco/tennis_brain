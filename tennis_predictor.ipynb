{
 "cells": [
  {
   "cell_type": "markdown",
   "metadata": {},
   "source": [
    "# STUDYING ATP MATCHES FROM 2018-2021\n",
    "https://www.kaggle.com/datasets/valentinfiorenza/tennis-data"
   ]
  },
  {
   "cell_type": "markdown",
   "metadata": {},
   "source": [
    "## Exploratory Data Analysis"
   ]
  },
  {
   "cell_type": "code",
   "execution_count": 990,
   "metadata": {},
   "outputs": [],
   "source": [
    "import pandas as pd\n",
    "import matplotlib.pyplot as plt\n",
    "import numpy as np\n",
    "import datetime\n",
    "import plotly.express as px"
   ]
  },
  {
   "cell_type": "code",
   "execution_count": 991,
   "metadata": {},
   "outputs": [
    {
     "data": {
      "text/html": [
       "<div>\n",
       "<style scoped>\n",
       "    .dataframe tbody tr th:only-of-type {\n",
       "        vertical-align: middle;\n",
       "    }\n",
       "\n",
       "    .dataframe tbody tr th {\n",
       "        vertical-align: top;\n",
       "    }\n",
       "\n",
       "    .dataframe thead th {\n",
       "        text-align: right;\n",
       "    }\n",
       "</style>\n",
       "<table border=\"1\" class=\"dataframe\">\n",
       "  <thead>\n",
       "    <tr style=\"text-align: right;\">\n",
       "      <th></th>\n",
       "      <th>ATP</th>\n",
       "      <th>Location</th>\n",
       "      <th>Tournament</th>\n",
       "      <th>Date</th>\n",
       "      <th>Series</th>\n",
       "      <th>Court</th>\n",
       "      <th>Surface</th>\n",
       "      <th>Round</th>\n",
       "      <th>Best of</th>\n",
       "      <th>Winner</th>\n",
       "      <th>...</th>\n",
       "      <th>pl1_flag</th>\n",
       "      <th>pl1_year_pro</th>\n",
       "      <th>pl1_weight</th>\n",
       "      <th>pl1_height</th>\n",
       "      <th>pl1_hand</th>\n",
       "      <th>pl2_flag</th>\n",
       "      <th>pl2_year_pro</th>\n",
       "      <th>pl2_weight</th>\n",
       "      <th>pl2_height</th>\n",
       "      <th>pl2_hand</th>\n",
       "    </tr>\n",
       "  </thead>\n",
       "  <tbody>\n",
       "    <tr>\n",
       "      <th>0</th>\n",
       "      <td>1</td>\n",
       "      <td>Adelaide</td>\n",
       "      <td>Adelaide International 1</td>\n",
       "      <td>2022-01-03</td>\n",
       "      <td>ATP250</td>\n",
       "      <td>Outdoor</td>\n",
       "      <td>Hard</td>\n",
       "      <td>1st Round</td>\n",
       "      <td>3</td>\n",
       "      <td>Kwon S.W.</td>\n",
       "      <td>...</td>\n",
       "      <td>KOR</td>\n",
       "      <td>2015.0</td>\n",
       "      <td>72.0</td>\n",
       "      <td>180.0</td>\n",
       "      <td>Right-Handed</td>\n",
       "      <td>JPN</td>\n",
       "      <td>2014.0</td>\n",
       "      <td>64.0</td>\n",
       "      <td>170.0</td>\n",
       "      <td>Left-Handed</td>\n",
       "    </tr>\n",
       "    <tr>\n",
       "      <th>1</th>\n",
       "      <td>1</td>\n",
       "      <td>Adelaide</td>\n",
       "      <td>Adelaide International 1</td>\n",
       "      <td>2022-01-03</td>\n",
       "      <td>ATP250</td>\n",
       "      <td>Outdoor</td>\n",
       "      <td>Hard</td>\n",
       "      <td>1st Round</td>\n",
       "      <td>3</td>\n",
       "      <td>Monteiro T.</td>\n",
       "      <td>...</td>\n",
       "      <td>BRA</td>\n",
       "      <td>2011.0</td>\n",
       "      <td>78.0</td>\n",
       "      <td>183.0</td>\n",
       "      <td>Left-Handed</td>\n",
       "      <td>GER</td>\n",
       "      <td>2014.0</td>\n",
       "      <td>80.0</td>\n",
       "      <td>188.0</td>\n",
       "      <td>Right-Handed</td>\n",
       "    </tr>\n",
       "    <tr>\n",
       "      <th>2</th>\n",
       "      <td>1</td>\n",
       "      <td>Adelaide</td>\n",
       "      <td>Adelaide International 1</td>\n",
       "      <td>2022-01-03</td>\n",
       "      <td>ATP250</td>\n",
       "      <td>Outdoor</td>\n",
       "      <td>Hard</td>\n",
       "      <td>1st Round</td>\n",
       "      <td>3</td>\n",
       "      <td>Djere L.</td>\n",
       "      <td>...</td>\n",
       "      <td>SRB</td>\n",
       "      <td>2013.0</td>\n",
       "      <td>80.0</td>\n",
       "      <td>185.0</td>\n",
       "      <td>Right-Handed</td>\n",
       "      <td>ESP</td>\n",
       "      <td>2011.0</td>\n",
       "      <td>76.0</td>\n",
       "      <td>180.0</td>\n",
       "      <td>Right-Handed</td>\n",
       "    </tr>\n",
       "    <tr>\n",
       "      <th>3</th>\n",
       "      <td>1</td>\n",
       "      <td>Adelaide</td>\n",
       "      <td>Adelaide International 1</td>\n",
       "      <td>2022-01-03</td>\n",
       "      <td>ATP250</td>\n",
       "      <td>Outdoor</td>\n",
       "      <td>Hard</td>\n",
       "      <td>1st Round</td>\n",
       "      <td>3</td>\n",
       "      <td>Johnson S.</td>\n",
       "      <td>...</td>\n",
       "      <td>USA</td>\n",
       "      <td>2012.0</td>\n",
       "      <td>86.0</td>\n",
       "      <td>188.0</td>\n",
       "      <td>Right-Handed</td>\n",
       "      <td>AUS</td>\n",
       "      <td>2018.0</td>\n",
       "      <td>85.0</td>\n",
       "      <td>188.0</td>\n",
       "      <td>Right-Handed</td>\n",
       "    </tr>\n",
       "    <tr>\n",
       "      <th>4</th>\n",
       "      <td>1</td>\n",
       "      <td>Adelaide</td>\n",
       "      <td>Adelaide International 1</td>\n",
       "      <td>2022-01-04</td>\n",
       "      <td>ATP250</td>\n",
       "      <td>Outdoor</td>\n",
       "      <td>Hard</td>\n",
       "      <td>1st Round</td>\n",
       "      <td>3</td>\n",
       "      <td>Moutet C.</td>\n",
       "      <td>...</td>\n",
       "      <td>FRA</td>\n",
       "      <td>2016.0</td>\n",
       "      <td>71.0</td>\n",
       "      <td>175.0</td>\n",
       "      <td>Left-Handed</td>\n",
       "      <td>DEN</td>\n",
       "      <td>2020.0</td>\n",
       "      <td>77.0</td>\n",
       "      <td>188.0</td>\n",
       "      <td>Right-Handed</td>\n",
       "    </tr>\n",
       "  </tbody>\n",
       "</table>\n",
       "<p>5 rows × 54 columns</p>\n",
       "</div>"
      ],
      "text/plain": [
       "   ATP  Location                Tournament        Date  Series    Court  \\\n",
       "0    1  Adelaide  Adelaide International 1  2022-01-03  ATP250  Outdoor   \n",
       "1    1  Adelaide  Adelaide International 1  2022-01-03  ATP250  Outdoor   \n",
       "2    1  Adelaide  Adelaide International 1  2022-01-03  ATP250  Outdoor   \n",
       "3    1  Adelaide  Adelaide International 1  2022-01-03  ATP250  Outdoor   \n",
       "4    1  Adelaide  Adelaide International 1  2022-01-04  ATP250  Outdoor   \n",
       "\n",
       "  Surface      Round  Best of       Winner  ... pl1_flag  pl1_year_pro  \\\n",
       "0    Hard  1st Round        3    Kwon S.W.  ...      KOR        2015.0   \n",
       "1    Hard  1st Round        3  Monteiro T.  ...      BRA        2011.0   \n",
       "2    Hard  1st Round        3     Djere L.  ...      SRB        2013.0   \n",
       "3    Hard  1st Round        3   Johnson S.  ...      USA        2012.0   \n",
       "4    Hard  1st Round        3    Moutet C.  ...      FRA        2016.0   \n",
       "\n",
       "   pl1_weight  pl1_height      pl1_hand  pl2_flag  pl2_year_pro  pl2_weight  \\\n",
       "0        72.0       180.0  Right-Handed       JPN        2014.0        64.0   \n",
       "1        78.0       183.0   Left-Handed       GER        2014.0        80.0   \n",
       "2        80.0       185.0  Right-Handed       ESP        2011.0        76.0   \n",
       "3        86.0       188.0  Right-Handed       AUS        2018.0        85.0   \n",
       "4        71.0       175.0   Left-Handed       DEN        2020.0        77.0   \n",
       "\n",
       "   pl2_height      pl2_hand  \n",
       "0       170.0   Left-Handed  \n",
       "1       188.0  Right-Handed  \n",
       "2       180.0  Right-Handed  \n",
       "3       188.0  Right-Handed  \n",
       "4       188.0  Right-Handed  \n",
       "\n",
       "[5 rows x 54 columns]"
      ]
     },
     "execution_count": 991,
     "metadata": {},
     "output_type": "execute_result"
    }
   ],
   "source": [
    "tennis = pd.read_csv('tennis_data.csv',low_memory=False)\n",
    "tennis.head(5)"
   ]
  },
  {
   "cell_type": "code",
   "execution_count": 992,
   "metadata": {},
   "outputs": [
    {
     "name": "stdout",
     "output_type": "stream",
     "text": [
      "<class 'pandas.core.frame.DataFrame'>\n",
      "RangeIndex: 35923 entries, 0 to 35922\n",
      "Data columns (total 54 columns):\n",
      " #   Column        Non-Null Count  Dtype  \n",
      "---  ------        --------------  -----  \n",
      " 0   ATP           35923 non-null  int64  \n",
      " 1   Location      35923 non-null  object \n",
      " 2   Tournament    35923 non-null  object \n",
      " 3   Date          35923 non-null  object \n",
      " 4   Series        35923 non-null  object \n",
      " 5   Court         35923 non-null  object \n",
      " 6   Surface       35923 non-null  object \n",
      " 7   Round         35923 non-null  object \n",
      " 8   Best of       35923 non-null  int64  \n",
      " 9   Winner        35923 non-null  object \n",
      " 10  Loser         35923 non-null  object \n",
      " 11  WRank         35910 non-null  float64\n",
      " 12  LRank         35843 non-null  float64\n",
      " 13  WPts          35912 non-null  float64\n",
      " 14  LPts          35844 non-null  float64\n",
      " 15  W1            35692 non-null  float64\n",
      " 16  L1            35695 non-null  float64\n",
      " 17  W2            35353 non-null  float64\n",
      " 18  L2            35353 non-null  float64\n",
      " 19  W3            16973 non-null  float64\n",
      " 20  L3            16973 non-null  float64\n",
      " 21  W4            3443 non-null   float64\n",
      " 22  L4            3443 non-null   float64\n",
      " 23  W5            1295 non-null   float64\n",
      " 24  L5            1295 non-null   float64\n",
      " 25  Wsets         35693 non-null  float64\n",
      " 26  Lsets         35690 non-null  float64\n",
      " 27  Comment       35923 non-null  object \n",
      " 28  B365W         35719 non-null  float64\n",
      " 29  B365L         35742 non-null  float64\n",
      " 30  PSW           32978 non-null  float64\n",
      " 31  PSL           32978 non-null  float64\n",
      " 32  MaxW          29510 non-null  float64\n",
      " 33  MaxL          29510 non-null  float64\n",
      " 34  AvgW          29510 non-null  float64\n",
      " 35  AvgL          29510 non-null  float64\n",
      " 36  EXW           28712 non-null  object \n",
      " 37  EXL           28717 non-null  float64\n",
      " 38  LBW           28131 non-null  float64\n",
      " 39  LBL           28142 non-null  float64\n",
      " 40  SJW           15572 non-null  float64\n",
      " 41  SJL           15579 non-null  float64\n",
      " 42  UBW           5309 non-null   float64\n",
      " 43  UBL           5309 non-null   float64\n",
      " 44  pl1_flag      35881 non-null  object \n",
      " 45  pl1_year_pro  35881 non-null  float64\n",
      " 46  pl1_weight    35881 non-null  float64\n",
      " 47  pl1_height    35881 non-null  float64\n",
      " 48  pl1_hand      35881 non-null  object \n",
      " 49  pl2_flag      35339 non-null  object \n",
      " 50  pl2_year_pro  35339 non-null  float64\n",
      " 51  pl2_weight    35339 non-null  float64\n",
      " 52  pl2_height    35339 non-null  float64\n",
      " 53  pl2_hand      35339 non-null  object \n",
      "dtypes: float64(37), int64(2), object(15)\n",
      "memory usage: 14.8+ MB\n"
     ]
    }
   ],
   "source": [
    "tennis.info()"
   ]
  },
  {
   "cell_type": "code",
   "execution_count": 993,
   "metadata": {},
   "outputs": [
    {
     "data": {
      "text/html": [
       "<div>\n",
       "<style scoped>\n",
       "    .dataframe tbody tr th:only-of-type {\n",
       "        vertical-align: middle;\n",
       "    }\n",
       "\n",
       "    .dataframe tbody tr th {\n",
       "        vertical-align: top;\n",
       "    }\n",
       "\n",
       "    .dataframe thead th {\n",
       "        text-align: right;\n",
       "    }\n",
       "</style>\n",
       "<table border=\"1\" class=\"dataframe\">\n",
       "  <thead>\n",
       "    <tr style=\"text-align: right;\">\n",
       "      <th></th>\n",
       "      <th>ATP</th>\n",
       "      <th>Best of</th>\n",
       "      <th>WRank</th>\n",
       "      <th>LRank</th>\n",
       "      <th>WPts</th>\n",
       "      <th>LPts</th>\n",
       "      <th>W1</th>\n",
       "      <th>L1</th>\n",
       "      <th>W2</th>\n",
       "      <th>L2</th>\n",
       "      <th>...</th>\n",
       "      <th>SJW</th>\n",
       "      <th>SJL</th>\n",
       "      <th>UBW</th>\n",
       "      <th>UBL</th>\n",
       "      <th>pl1_year_pro</th>\n",
       "      <th>pl1_weight</th>\n",
       "      <th>pl1_height</th>\n",
       "      <th>pl2_year_pro</th>\n",
       "      <th>pl2_weight</th>\n",
       "      <th>pl2_height</th>\n",
       "    </tr>\n",
       "  </thead>\n",
       "  <tbody>\n",
       "    <tr>\n",
       "      <th>count</th>\n",
       "      <td>35923.000000</td>\n",
       "      <td>35923.000000</td>\n",
       "      <td>35910.000000</td>\n",
       "      <td>35843.000000</td>\n",
       "      <td>35912.000000</td>\n",
       "      <td>35844.000000</td>\n",
       "      <td>35692.000000</td>\n",
       "      <td>35695.000000</td>\n",
       "      <td>35353.000000</td>\n",
       "      <td>35353.000000</td>\n",
       "      <td>...</td>\n",
       "      <td>15572.000000</td>\n",
       "      <td>15579.000000</td>\n",
       "      <td>5309.000000</td>\n",
       "      <td>5309.000000</td>\n",
       "      <td>35881.000000</td>\n",
       "      <td>35881.000000</td>\n",
       "      <td>35881.000000</td>\n",
       "      <td>35339.000000</td>\n",
       "      <td>35339.000000</td>\n",
       "      <td>35339.000000</td>\n",
       "    </tr>\n",
       "    <tr>\n",
       "      <th>mean</th>\n",
       "      <td>31.830053</td>\n",
       "      <td>3.395290</td>\n",
       "      <td>57.532303</td>\n",
       "      <td>88.603828</td>\n",
       "      <td>1976.910977</td>\n",
       "      <td>1142.708905</td>\n",
       "      <td>5.804522</td>\n",
       "      <td>4.095728</td>\n",
       "      <td>5.784742</td>\n",
       "      <td>3.936215</td>\n",
       "      <td>...</td>\n",
       "      <td>1.796538</td>\n",
       "      <td>3.557943</td>\n",
       "      <td>1.819319</td>\n",
       "      <td>3.567555</td>\n",
       "      <td>2004.952064</td>\n",
       "      <td>80.864524</td>\n",
       "      <td>186.994426</td>\n",
       "      <td>2005.034155</td>\n",
       "      <td>79.961855</td>\n",
       "      <td>186.342964</td>\n",
       "    </tr>\n",
       "    <tr>\n",
       "      <th>std</th>\n",
       "      <td>18.070878</td>\n",
       "      <td>0.796457</td>\n",
       "      <td>71.095495</td>\n",
       "      <td>111.218731</td>\n",
       "      <td>2411.581458</td>\n",
       "      <td>1301.782291</td>\n",
       "      <td>1.228795</td>\n",
       "      <td>1.833657</td>\n",
       "      <td>1.247309</td>\n",
       "      <td>1.862776</td>\n",
       "      <td>...</td>\n",
       "      <td>1.004273</td>\n",
       "      <td>3.272510</td>\n",
       "      <td>1.038893</td>\n",
       "      <td>3.412837</td>\n",
       "      <td>5.155128</td>\n",
       "      <td>7.884984</td>\n",
       "      <td>11.991244</td>\n",
       "      <td>11.854770</td>\n",
       "      <td>7.523033</td>\n",
       "      <td>19.801235</td>\n",
       "    </tr>\n",
       "    <tr>\n",
       "      <th>min</th>\n",
       "      <td>1.000000</td>\n",
       "      <td>3.000000</td>\n",
       "      <td>1.000000</td>\n",
       "      <td>1.000000</td>\n",
       "      <td>1.000000</td>\n",
       "      <td>1.000000</td>\n",
       "      <td>0.000000</td>\n",
       "      <td>0.000000</td>\n",
       "      <td>0.000000</td>\n",
       "      <td>0.000000</td>\n",
       "      <td>...</td>\n",
       "      <td>1.000000</td>\n",
       "      <td>1.010000</td>\n",
       "      <td>1.010000</td>\n",
       "      <td>1.020000</td>\n",
       "      <td>1989.000000</td>\n",
       "      <td>7.000000</td>\n",
       "      <td>10.000000</td>\n",
       "      <td>0.000000</td>\n",
       "      <td>7.000000</td>\n",
       "      <td>10.000000</td>\n",
       "    </tr>\n",
       "    <tr>\n",
       "      <th>25%</th>\n",
       "      <td>18.000000</td>\n",
       "      <td>3.000000</td>\n",
       "      <td>16.000000</td>\n",
       "      <td>34.000000</td>\n",
       "      <td>701.000000</td>\n",
       "      <td>549.000000</td>\n",
       "      <td>6.000000</td>\n",
       "      <td>3.000000</td>\n",
       "      <td>6.000000</td>\n",
       "      <td>3.000000</td>\n",
       "      <td>...</td>\n",
       "      <td>1.220000</td>\n",
       "      <td>1.730000</td>\n",
       "      <td>1.230000</td>\n",
       "      <td>1.750000</td>\n",
       "      <td>2001.000000</td>\n",
       "      <td>75.000000</td>\n",
       "      <td>183.000000</td>\n",
       "      <td>2001.000000</td>\n",
       "      <td>75.000000</td>\n",
       "      <td>183.000000</td>\n",
       "    </tr>\n",
       "    <tr>\n",
       "      <th>50%</th>\n",
       "      <td>31.000000</td>\n",
       "      <td>3.000000</td>\n",
       "      <td>41.000000</td>\n",
       "      <td>63.000000</td>\n",
       "      <td>1079.000000</td>\n",
       "      <td>805.000000</td>\n",
       "      <td>6.000000</td>\n",
       "      <td>4.000000</td>\n",
       "      <td>6.000000</td>\n",
       "      <td>4.000000</td>\n",
       "      <td>...</td>\n",
       "      <td>1.500000</td>\n",
       "      <td>2.630000</td>\n",
       "      <td>1.500000</td>\n",
       "      <td>2.520000</td>\n",
       "      <td>2004.000000</td>\n",
       "      <td>80.000000</td>\n",
       "      <td>185.000000</td>\n",
       "      <td>2004.000000</td>\n",
       "      <td>80.000000</td>\n",
       "      <td>185.000000</td>\n",
       "    </tr>\n",
       "    <tr>\n",
       "      <th>75%</th>\n",
       "      <td>48.000000</td>\n",
       "      <td>3.000000</td>\n",
       "      <td>76.000000</td>\n",
       "      <td>102.000000</td>\n",
       "      <td>2050.000000</td>\n",
       "      <td>1225.000000</td>\n",
       "      <td>6.000000</td>\n",
       "      <td>6.000000</td>\n",
       "      <td>6.000000</td>\n",
       "      <td>6.000000</td>\n",
       "      <td>...</td>\n",
       "      <td>2.000000</td>\n",
       "      <td>4.000000</td>\n",
       "      <td>2.030000</td>\n",
       "      <td>4.000000</td>\n",
       "      <td>2008.000000</td>\n",
       "      <td>85.000000</td>\n",
       "      <td>191.000000</td>\n",
       "      <td>2008.000000</td>\n",
       "      <td>84.000000</td>\n",
       "      <td>191.000000</td>\n",
       "    </tr>\n",
       "    <tr>\n",
       "      <th>max</th>\n",
       "      <td>67.000000</td>\n",
       "      <td>5.000000</td>\n",
       "      <td>1890.000000</td>\n",
       "      <td>2159.000000</td>\n",
       "      <td>16950.000000</td>\n",
       "      <td>16950.000000</td>\n",
       "      <td>7.000000</td>\n",
       "      <td>7.000000</td>\n",
       "      <td>7.000000</td>\n",
       "      <td>7.000000</td>\n",
       "      <td>...</td>\n",
       "      <td>19.000000</td>\n",
       "      <td>81.000000</td>\n",
       "      <td>18.000000</td>\n",
       "      <td>50.000000</td>\n",
       "      <td>2021.000000</td>\n",
       "      <td>108.000000</td>\n",
       "      <td>1883.000000</td>\n",
       "      <td>2021.000000</td>\n",
       "      <td>108.000000</td>\n",
       "      <td>1883.000000</td>\n",
       "    </tr>\n",
       "  </tbody>\n",
       "</table>\n",
       "<p>8 rows × 39 columns</p>\n",
       "</div>"
      ],
      "text/plain": [
       "                ATP       Best of         WRank         LRank          WPts  \\\n",
       "count  35923.000000  35923.000000  35910.000000  35843.000000  35912.000000   \n",
       "mean      31.830053      3.395290     57.532303     88.603828   1976.910977   \n",
       "std       18.070878      0.796457     71.095495    111.218731   2411.581458   \n",
       "min        1.000000      3.000000      1.000000      1.000000      1.000000   \n",
       "25%       18.000000      3.000000     16.000000     34.000000    701.000000   \n",
       "50%       31.000000      3.000000     41.000000     63.000000   1079.000000   \n",
       "75%       48.000000      3.000000     76.000000    102.000000   2050.000000   \n",
       "max       67.000000      5.000000   1890.000000   2159.000000  16950.000000   \n",
       "\n",
       "               LPts            W1            L1            W2            L2  \\\n",
       "count  35844.000000  35692.000000  35695.000000  35353.000000  35353.000000   \n",
       "mean    1142.708905      5.804522      4.095728      5.784742      3.936215   \n",
       "std     1301.782291      1.228795      1.833657      1.247309      1.862776   \n",
       "min        1.000000      0.000000      0.000000      0.000000      0.000000   \n",
       "25%      549.000000      6.000000      3.000000      6.000000      3.000000   \n",
       "50%      805.000000      6.000000      4.000000      6.000000      4.000000   \n",
       "75%     1225.000000      6.000000      6.000000      6.000000      6.000000   \n",
       "max    16950.000000      7.000000      7.000000      7.000000      7.000000   \n",
       "\n",
       "       ...           SJW           SJL          UBW          UBL  \\\n",
       "count  ...  15572.000000  15579.000000  5309.000000  5309.000000   \n",
       "mean   ...      1.796538      3.557943     1.819319     3.567555   \n",
       "std    ...      1.004273      3.272510     1.038893     3.412837   \n",
       "min    ...      1.000000      1.010000     1.010000     1.020000   \n",
       "25%    ...      1.220000      1.730000     1.230000     1.750000   \n",
       "50%    ...      1.500000      2.630000     1.500000     2.520000   \n",
       "75%    ...      2.000000      4.000000     2.030000     4.000000   \n",
       "max    ...     19.000000     81.000000    18.000000    50.000000   \n",
       "\n",
       "       pl1_year_pro    pl1_weight    pl1_height  pl2_year_pro    pl2_weight  \\\n",
       "count  35881.000000  35881.000000  35881.000000  35339.000000  35339.000000   \n",
       "mean    2004.952064     80.864524    186.994426   2005.034155     79.961855   \n",
       "std        5.155128      7.884984     11.991244     11.854770      7.523033   \n",
       "min     1989.000000      7.000000     10.000000      0.000000      7.000000   \n",
       "25%     2001.000000     75.000000    183.000000   2001.000000     75.000000   \n",
       "50%     2004.000000     80.000000    185.000000   2004.000000     80.000000   \n",
       "75%     2008.000000     85.000000    191.000000   2008.000000     84.000000   \n",
       "max     2021.000000    108.000000   1883.000000   2021.000000    108.000000   \n",
       "\n",
       "         pl2_height  \n",
       "count  35339.000000  \n",
       "mean     186.342964  \n",
       "std       19.801235  \n",
       "min       10.000000  \n",
       "25%      183.000000  \n",
       "50%      185.000000  \n",
       "75%      191.000000  \n",
       "max     1883.000000  \n",
       "\n",
       "[8 rows x 39 columns]"
      ]
     },
     "execution_count": 993,
     "metadata": {},
     "output_type": "execute_result"
    }
   ],
   "source": [
    "tennis.describe()"
   ]
  },
  {
   "cell_type": "markdown",
   "metadata": {},
   "source": [
    "### aggregate data"
   ]
  },
  {
   "cell_type": "code",
   "execution_count": 994,
   "metadata": {},
   "outputs": [],
   "source": [
    "columns_to_keep = ['ATP','Date','Round','Tournament','Series','Court','Surface','Winner','Loser','WRank','LRank','Wsets','Lsets','Best of']"
   ]
  },
  {
   "cell_type": "code",
   "execution_count": 995,
   "metadata": {},
   "outputs": [],
   "source": [
    "tennis_clean = tennis[columns_to_keep]"
   ]
  },
  {
   "cell_type": "code",
   "execution_count": 996,
   "metadata": {},
   "outputs": [
    {
     "data": {
      "text/html": [
       "<div>\n",
       "<style scoped>\n",
       "    .dataframe tbody tr th:only-of-type {\n",
       "        vertical-align: middle;\n",
       "    }\n",
       "\n",
       "    .dataframe tbody tr th {\n",
       "        vertical-align: top;\n",
       "    }\n",
       "\n",
       "    .dataframe thead th {\n",
       "        text-align: right;\n",
       "    }\n",
       "</style>\n",
       "<table border=\"1\" class=\"dataframe\">\n",
       "  <thead>\n",
       "    <tr style=\"text-align: right;\">\n",
       "      <th></th>\n",
       "      <th>ATP</th>\n",
       "      <th>Date</th>\n",
       "      <th>Round</th>\n",
       "      <th>Tournament</th>\n",
       "      <th>Series</th>\n",
       "      <th>Court</th>\n",
       "      <th>Surface</th>\n",
       "      <th>Winner</th>\n",
       "      <th>Loser</th>\n",
       "      <th>WRank</th>\n",
       "      <th>LRank</th>\n",
       "      <th>Wsets</th>\n",
       "      <th>Lsets</th>\n",
       "      <th>Best of</th>\n",
       "    </tr>\n",
       "  </thead>\n",
       "  <tbody>\n",
       "    <tr>\n",
       "      <th>0</th>\n",
       "      <td>1</td>\n",
       "      <td>2022-01-03</td>\n",
       "      <td>1st Round</td>\n",
       "      <td>Adelaide International 1</td>\n",
       "      <td>ATP250</td>\n",
       "      <td>Outdoor</td>\n",
       "      <td>Hard</td>\n",
       "      <td>Kwon S.W.</td>\n",
       "      <td>Nishioka Y.</td>\n",
       "      <td>53.0</td>\n",
       "      <td>81.0</td>\n",
       "      <td>2.0</td>\n",
       "      <td>0.0</td>\n",
       "      <td>3</td>\n",
       "    </tr>\n",
       "    <tr>\n",
       "      <th>1</th>\n",
       "      <td>1</td>\n",
       "      <td>2022-01-03</td>\n",
       "      <td>1st Round</td>\n",
       "      <td>Adelaide International 1</td>\n",
       "      <td>ATP250</td>\n",
       "      <td>Outdoor</td>\n",
       "      <td>Hard</td>\n",
       "      <td>Monteiro T.</td>\n",
       "      <td>Altmaier D.</td>\n",
       "      <td>89.0</td>\n",
       "      <td>84.0</td>\n",
       "      <td>2.0</td>\n",
       "      <td>1.0</td>\n",
       "      <td>3</td>\n",
       "    </tr>\n",
       "    <tr>\n",
       "      <th>2</th>\n",
       "      <td>1</td>\n",
       "      <td>2022-01-03</td>\n",
       "      <td>1st Round</td>\n",
       "      <td>Adelaide International 1</td>\n",
       "      <td>ATP250</td>\n",
       "      <td>Outdoor</td>\n",
       "      <td>Hard</td>\n",
       "      <td>Djere L.</td>\n",
       "      <td>Carballes Baena R.</td>\n",
       "      <td>52.0</td>\n",
       "      <td>79.0</td>\n",
       "      <td>2.0</td>\n",
       "      <td>0.0</td>\n",
       "      <td>3</td>\n",
       "    </tr>\n",
       "    <tr>\n",
       "      <th>3</th>\n",
       "      <td>1</td>\n",
       "      <td>2022-01-03</td>\n",
       "      <td>1st Round</td>\n",
       "      <td>Adelaide International 1</td>\n",
       "      <td>ATP250</td>\n",
       "      <td>Outdoor</td>\n",
       "      <td>Hard</td>\n",
       "      <td>Johnson S.</td>\n",
       "      <td>Vukic A.</td>\n",
       "      <td>85.0</td>\n",
       "      <td>156.0</td>\n",
       "      <td>2.0</td>\n",
       "      <td>1.0</td>\n",
       "      <td>3</td>\n",
       "    </tr>\n",
       "    <tr>\n",
       "      <th>4</th>\n",
       "      <td>1</td>\n",
       "      <td>2022-01-04</td>\n",
       "      <td>1st Round</td>\n",
       "      <td>Adelaide International 1</td>\n",
       "      <td>ATP250</td>\n",
       "      <td>Outdoor</td>\n",
       "      <td>Hard</td>\n",
       "      <td>Moutet C.</td>\n",
       "      <td>Rune H.</td>\n",
       "      <td>92.0</td>\n",
       "      <td>103.0</td>\n",
       "      <td>2.0</td>\n",
       "      <td>0.0</td>\n",
       "      <td>3</td>\n",
       "    </tr>\n",
       "    <tr>\n",
       "      <th>...</th>\n",
       "      <td>...</td>\n",
       "      <td>...</td>\n",
       "      <td>...</td>\n",
       "      <td>...</td>\n",
       "      <td>...</td>\n",
       "      <td>...</td>\n",
       "      <td>...</td>\n",
       "      <td>...</td>\n",
       "      <td>...</td>\n",
       "      <td>...</td>\n",
       "      <td>...</td>\n",
       "      <td>...</td>\n",
       "      <td>...</td>\n",
       "      <td>...</td>\n",
       "    </tr>\n",
       "    <tr>\n",
       "      <th>35918</th>\n",
       "      <td>65</td>\n",
       "      <td>2008-11-14</td>\n",
       "      <td>Round Robin</td>\n",
       "      <td>Masters Cup</td>\n",
       "      <td>Masters Cup</td>\n",
       "      <td>Indoor</td>\n",
       "      <td>Hard</td>\n",
       "      <td>Simon G.</td>\n",
       "      <td>Stepanek R.</td>\n",
       "      <td>9.0</td>\n",
       "      <td>27.0</td>\n",
       "      <td>2.0</td>\n",
       "      <td>0.0</td>\n",
       "      <td>3</td>\n",
       "    </tr>\n",
       "    <tr>\n",
       "      <th>35919</th>\n",
       "      <td>65</td>\n",
       "      <td>2008-11-14</td>\n",
       "      <td>Round Robin</td>\n",
       "      <td>Masters Cup</td>\n",
       "      <td>Masters Cup</td>\n",
       "      <td>Indoor</td>\n",
       "      <td>Hard</td>\n",
       "      <td>Murray A.</td>\n",
       "      <td>Federer R.</td>\n",
       "      <td>4.0</td>\n",
       "      <td>2.0</td>\n",
       "      <td>2.0</td>\n",
       "      <td>1.0</td>\n",
       "      <td>3</td>\n",
       "    </tr>\n",
       "    <tr>\n",
       "      <th>35920</th>\n",
       "      <td>65</td>\n",
       "      <td>2008-11-15</td>\n",
       "      <td>Semifinals</td>\n",
       "      <td>Masters Cup</td>\n",
       "      <td>Masters Cup</td>\n",
       "      <td>Indoor</td>\n",
       "      <td>Hard</td>\n",
       "      <td>Djokovic N.</td>\n",
       "      <td>Simon G.</td>\n",
       "      <td>3.0</td>\n",
       "      <td>9.0</td>\n",
       "      <td>2.0</td>\n",
       "      <td>1.0</td>\n",
       "      <td>3</td>\n",
       "    </tr>\n",
       "    <tr>\n",
       "      <th>35921</th>\n",
       "      <td>65</td>\n",
       "      <td>2008-11-15</td>\n",
       "      <td>Semifinals</td>\n",
       "      <td>Masters Cup</td>\n",
       "      <td>Masters Cup</td>\n",
       "      <td>Indoor</td>\n",
       "      <td>Hard</td>\n",
       "      <td>Davydenko N.</td>\n",
       "      <td>Murray A.</td>\n",
       "      <td>5.0</td>\n",
       "      <td>4.0</td>\n",
       "      <td>2.0</td>\n",
       "      <td>0.0</td>\n",
       "      <td>3</td>\n",
       "    </tr>\n",
       "    <tr>\n",
       "      <th>35922</th>\n",
       "      <td>65</td>\n",
       "      <td>2008-11-16</td>\n",
       "      <td>The Final</td>\n",
       "      <td>Masters Cup</td>\n",
       "      <td>Masters Cup</td>\n",
       "      <td>Indoor</td>\n",
       "      <td>Hard</td>\n",
       "      <td>Djokovic N.</td>\n",
       "      <td>Davydenko N.</td>\n",
       "      <td>3.0</td>\n",
       "      <td>5.0</td>\n",
       "      <td>2.0</td>\n",
       "      <td>0.0</td>\n",
       "      <td>3</td>\n",
       "    </tr>\n",
       "  </tbody>\n",
       "</table>\n",
       "<p>35923 rows × 14 columns</p>\n",
       "</div>"
      ],
      "text/plain": [
       "       ATP        Date        Round                Tournament       Series  \\\n",
       "0        1  2022-01-03    1st Round  Adelaide International 1       ATP250   \n",
       "1        1  2022-01-03    1st Round  Adelaide International 1       ATP250   \n",
       "2        1  2022-01-03    1st Round  Adelaide International 1       ATP250   \n",
       "3        1  2022-01-03    1st Round  Adelaide International 1       ATP250   \n",
       "4        1  2022-01-04    1st Round  Adelaide International 1       ATP250   \n",
       "...    ...         ...          ...                       ...          ...   \n",
       "35918   65  2008-11-14  Round Robin               Masters Cup  Masters Cup   \n",
       "35919   65  2008-11-14  Round Robin               Masters Cup  Masters Cup   \n",
       "35920   65  2008-11-15   Semifinals               Masters Cup  Masters Cup   \n",
       "35921   65  2008-11-15   Semifinals               Masters Cup  Masters Cup   \n",
       "35922   65  2008-11-16    The Final               Masters Cup  Masters Cup   \n",
       "\n",
       "         Court Surface        Winner               Loser  WRank  LRank  Wsets  \\\n",
       "0      Outdoor    Hard     Kwon S.W.         Nishioka Y.   53.0   81.0    2.0   \n",
       "1      Outdoor    Hard   Monteiro T.         Altmaier D.   89.0   84.0    2.0   \n",
       "2      Outdoor    Hard      Djere L.  Carballes Baena R.   52.0   79.0    2.0   \n",
       "3      Outdoor    Hard    Johnson S.            Vukic A.   85.0  156.0    2.0   \n",
       "4      Outdoor    Hard     Moutet C.             Rune H.   92.0  103.0    2.0   \n",
       "...        ...     ...           ...                 ...    ...    ...    ...   \n",
       "35918   Indoor    Hard      Simon G.         Stepanek R.    9.0   27.0    2.0   \n",
       "35919   Indoor    Hard     Murray A.          Federer R.    4.0    2.0    2.0   \n",
       "35920   Indoor    Hard   Djokovic N.            Simon G.    3.0    9.0    2.0   \n",
       "35921   Indoor    Hard  Davydenko N.           Murray A.    5.0    4.0    2.0   \n",
       "35922   Indoor    Hard   Djokovic N.        Davydenko N.    3.0    5.0    2.0   \n",
       "\n",
       "       Lsets  Best of  \n",
       "0        0.0        3  \n",
       "1        1.0        3  \n",
       "2        0.0        3  \n",
       "3        1.0        3  \n",
       "4        0.0        3  \n",
       "...      ...      ...  \n",
       "35918    0.0        3  \n",
       "35919    1.0        3  \n",
       "35920    1.0        3  \n",
       "35921    0.0        3  \n",
       "35922    0.0        3  \n",
       "\n",
       "[35923 rows x 14 columns]"
      ]
     },
     "execution_count": 996,
     "metadata": {},
     "output_type": "execute_result"
    }
   ],
   "source": [
    "tennis_clean"
   ]
  },
  {
   "cell_type": "markdown",
   "metadata": {},
   "source": [
    "Remove outdated tournament series"
   ]
  },
  {
   "cell_type": "code",
   "execution_count": 997,
   "metadata": {},
   "outputs": [
    {
     "data": {
      "text/plain": [
       "Series\n",
       "ATP250                2022-02-13\n",
       "ATP500                2022-02-13\n",
       "Grand Slam            2022-01-30\n",
       "International         2008-10-26\n",
       "International Gold    2008-10-12\n",
       "Masters               2008-11-02\n",
       "Masters 1000          2021-11-07\n",
       "Masters Cup           2021-11-21\n",
       "Name: Date, dtype: object"
      ]
     },
     "execution_count": 997,
     "metadata": {},
     "output_type": "execute_result"
    }
   ],
   "source": [
    "tennis_clean.groupby(['Series'])['Date'].max()"
   ]
  },
  {
   "cell_type": "code",
   "execution_count": 998,
   "metadata": {},
   "outputs": [],
   "source": [
    "tennis_clean = tennis_clean[~tennis_clean['Series'].isin(['International','International Gold','Masters','Masters Cup'])]"
   ]
  },
  {
   "cell_type": "markdown",
   "metadata": {},
   "source": [
    "Connect series types to ranking points won"
   ]
  },
  {
   "cell_type": "code",
   "execution_count": 999,
   "metadata": {},
   "outputs": [
    {
     "data": {
      "text/html": [
       "<div>\n",
       "<style scoped>\n",
       "    .dataframe tbody tr th:only-of-type {\n",
       "        vertical-align: middle;\n",
       "    }\n",
       "\n",
       "    .dataframe tbody tr th {\n",
       "        vertical-align: top;\n",
       "    }\n",
       "\n",
       "    .dataframe thead th {\n",
       "        text-align: right;\n",
       "    }\n",
       "</style>\n",
       "<table border=\"1\" class=\"dataframe\">\n",
       "  <thead>\n",
       "    <tr style=\"text-align: right;\">\n",
       "      <th></th>\n",
       "      <th>ATP</th>\n",
       "      <th>Date</th>\n",
       "      <th>Round</th>\n",
       "      <th>Tournament</th>\n",
       "      <th>Series</th>\n",
       "      <th>Court</th>\n",
       "      <th>Surface</th>\n",
       "      <th>Winner</th>\n",
       "      <th>Loser</th>\n",
       "      <th>WRank</th>\n",
       "      <th>LRank</th>\n",
       "      <th>Wsets</th>\n",
       "      <th>Lsets</th>\n",
       "      <th>Best of</th>\n",
       "      <th>SeriesPoints</th>\n",
       "    </tr>\n",
       "  </thead>\n",
       "  <tbody>\n",
       "    <tr>\n",
       "      <th>0</th>\n",
       "      <td>1</td>\n",
       "      <td>2022-01-03</td>\n",
       "      <td>1st Round</td>\n",
       "      <td>Adelaide International 1</td>\n",
       "      <td>ATP250</td>\n",
       "      <td>Outdoor</td>\n",
       "      <td>Hard</td>\n",
       "      <td>Kwon S.W.</td>\n",
       "      <td>Nishioka Y.</td>\n",
       "      <td>53.0</td>\n",
       "      <td>81.0</td>\n",
       "      <td>2.0</td>\n",
       "      <td>0.0</td>\n",
       "      <td>3</td>\n",
       "      <td>250</td>\n",
       "    </tr>\n",
       "    <tr>\n",
       "      <th>1</th>\n",
       "      <td>1</td>\n",
       "      <td>2022-01-03</td>\n",
       "      <td>1st Round</td>\n",
       "      <td>Adelaide International 1</td>\n",
       "      <td>ATP250</td>\n",
       "      <td>Outdoor</td>\n",
       "      <td>Hard</td>\n",
       "      <td>Monteiro T.</td>\n",
       "      <td>Altmaier D.</td>\n",
       "      <td>89.0</td>\n",
       "      <td>84.0</td>\n",
       "      <td>2.0</td>\n",
       "      <td>1.0</td>\n",
       "      <td>3</td>\n",
       "      <td>250</td>\n",
       "    </tr>\n",
       "    <tr>\n",
       "      <th>2</th>\n",
       "      <td>1</td>\n",
       "      <td>2022-01-03</td>\n",
       "      <td>1st Round</td>\n",
       "      <td>Adelaide International 1</td>\n",
       "      <td>ATP250</td>\n",
       "      <td>Outdoor</td>\n",
       "      <td>Hard</td>\n",
       "      <td>Djere L.</td>\n",
       "      <td>Carballes Baena R.</td>\n",
       "      <td>52.0</td>\n",
       "      <td>79.0</td>\n",
       "      <td>2.0</td>\n",
       "      <td>0.0</td>\n",
       "      <td>3</td>\n",
       "      <td>250</td>\n",
       "    </tr>\n",
       "    <tr>\n",
       "      <th>3</th>\n",
       "      <td>1</td>\n",
       "      <td>2022-01-03</td>\n",
       "      <td>1st Round</td>\n",
       "      <td>Adelaide International 1</td>\n",
       "      <td>ATP250</td>\n",
       "      <td>Outdoor</td>\n",
       "      <td>Hard</td>\n",
       "      <td>Johnson S.</td>\n",
       "      <td>Vukic A.</td>\n",
       "      <td>85.0</td>\n",
       "      <td>156.0</td>\n",
       "      <td>2.0</td>\n",
       "      <td>1.0</td>\n",
       "      <td>3</td>\n",
       "      <td>250</td>\n",
       "    </tr>\n",
       "    <tr>\n",
       "      <th>4</th>\n",
       "      <td>1</td>\n",
       "      <td>2022-01-04</td>\n",
       "      <td>1st Round</td>\n",
       "      <td>Adelaide International 1</td>\n",
       "      <td>ATP250</td>\n",
       "      <td>Outdoor</td>\n",
       "      <td>Hard</td>\n",
       "      <td>Moutet C.</td>\n",
       "      <td>Rune H.</td>\n",
       "      <td>92.0</td>\n",
       "      <td>103.0</td>\n",
       "      <td>2.0</td>\n",
       "      <td>0.0</td>\n",
       "      <td>3</td>\n",
       "      <td>250</td>\n",
       "    </tr>\n",
       "  </tbody>\n",
       "</table>\n",
       "</div>"
      ],
      "text/plain": [
       "   ATP        Date      Round                Tournament  Series    Court  \\\n",
       "0    1  2022-01-03  1st Round  Adelaide International 1  ATP250  Outdoor   \n",
       "1    1  2022-01-03  1st Round  Adelaide International 1  ATP250  Outdoor   \n",
       "2    1  2022-01-03  1st Round  Adelaide International 1  ATP250  Outdoor   \n",
       "3    1  2022-01-03  1st Round  Adelaide International 1  ATP250  Outdoor   \n",
       "4    1  2022-01-04  1st Round  Adelaide International 1  ATP250  Outdoor   \n",
       "\n",
       "  Surface       Winner               Loser  WRank  LRank  Wsets  Lsets  \\\n",
       "0    Hard    Kwon S.W.         Nishioka Y.   53.0   81.0    2.0    0.0   \n",
       "1    Hard  Monteiro T.         Altmaier D.   89.0   84.0    2.0    1.0   \n",
       "2    Hard     Djere L.  Carballes Baena R.   52.0   79.0    2.0    0.0   \n",
       "3    Hard   Johnson S.            Vukic A.   85.0  156.0    2.0    1.0   \n",
       "4    Hard    Moutet C.             Rune H.   92.0  103.0    2.0    0.0   \n",
       "\n",
       "   Best of  SeriesPoints  \n",
       "0        3           250  \n",
       "1        3           250  \n",
       "2        3           250  \n",
       "3        3           250  \n",
       "4        3           250  "
      ]
     },
     "execution_count": 999,
     "metadata": {},
     "output_type": "execute_result"
    }
   ],
   "source": [
    "series_ranking_dict = {'ATP250':250,'ATP500':500,'Masters1000':1000,'Grand Slam':2000}\n",
    "series_ranking = pd.DataFrame.from_dict(series_ranking_dict,orient='index',columns=['SeriesPoints']).reset_index().rename(columns={'index': 'Series'})\n",
    "tennis_clean = tennis_clean.merge(series_ranking,on='Series',how='inner')\n",
    "tennis_clean.head(5)"
   ]
  },
  {
   "cell_type": "code",
   "execution_count": 1000,
   "metadata": {},
   "outputs": [
    {
     "data": {
      "text/html": [
       "<div>\n",
       "<style scoped>\n",
       "    .dataframe tbody tr th:only-of-type {\n",
       "        vertical-align: middle;\n",
       "    }\n",
       "\n",
       "    .dataframe tbody tr th {\n",
       "        vertical-align: top;\n",
       "    }\n",
       "\n",
       "    .dataframe thead th {\n",
       "        text-align: right;\n",
       "    }\n",
       "</style>\n",
       "<table border=\"1\" class=\"dataframe\">\n",
       "  <thead>\n",
       "    <tr style=\"text-align: right;\">\n",
       "      <th></th>\n",
       "      <th>ATP</th>\n",
       "      <th>Date</th>\n",
       "      <th>Round</th>\n",
       "      <th>Tournament</th>\n",
       "      <th>Series</th>\n",
       "      <th>Court</th>\n",
       "      <th>Surface</th>\n",
       "      <th>Winner</th>\n",
       "      <th>Loser</th>\n",
       "      <th>WRank</th>\n",
       "      <th>LRank</th>\n",
       "      <th>Wsets</th>\n",
       "      <th>Lsets</th>\n",
       "      <th>Best of</th>\n",
       "      <th>SeriesPoints</th>\n",
       "      <th>RoundDraw</th>\n",
       "    </tr>\n",
       "  </thead>\n",
       "  <tbody>\n",
       "    <tr>\n",
       "      <th>0</th>\n",
       "      <td>1</td>\n",
       "      <td>2022-01-03</td>\n",
       "      <td>1st Round</td>\n",
       "      <td>Adelaide International 1</td>\n",
       "      <td>ATP250</td>\n",
       "      <td>Outdoor</td>\n",
       "      <td>Hard</td>\n",
       "      <td>Kwon S.W.</td>\n",
       "      <td>Nishioka Y.</td>\n",
       "      <td>53.0</td>\n",
       "      <td>81.0</td>\n",
       "      <td>2.0</td>\n",
       "      <td>0.0</td>\n",
       "      <td>3</td>\n",
       "      <td>250</td>\n",
       "      <td>1</td>\n",
       "    </tr>\n",
       "    <tr>\n",
       "      <th>1</th>\n",
       "      <td>1</td>\n",
       "      <td>2022-01-03</td>\n",
       "      <td>1st Round</td>\n",
       "      <td>Adelaide International 1</td>\n",
       "      <td>ATP250</td>\n",
       "      <td>Outdoor</td>\n",
       "      <td>Hard</td>\n",
       "      <td>Monteiro T.</td>\n",
       "      <td>Altmaier D.</td>\n",
       "      <td>89.0</td>\n",
       "      <td>84.0</td>\n",
       "      <td>2.0</td>\n",
       "      <td>1.0</td>\n",
       "      <td>3</td>\n",
       "      <td>250</td>\n",
       "      <td>1</td>\n",
       "    </tr>\n",
       "    <tr>\n",
       "      <th>2</th>\n",
       "      <td>1</td>\n",
       "      <td>2022-01-03</td>\n",
       "      <td>1st Round</td>\n",
       "      <td>Adelaide International 1</td>\n",
       "      <td>ATP250</td>\n",
       "      <td>Outdoor</td>\n",
       "      <td>Hard</td>\n",
       "      <td>Djere L.</td>\n",
       "      <td>Carballes Baena R.</td>\n",
       "      <td>52.0</td>\n",
       "      <td>79.0</td>\n",
       "      <td>2.0</td>\n",
       "      <td>0.0</td>\n",
       "      <td>3</td>\n",
       "      <td>250</td>\n",
       "      <td>1</td>\n",
       "    </tr>\n",
       "    <tr>\n",
       "      <th>3</th>\n",
       "      <td>1</td>\n",
       "      <td>2022-01-03</td>\n",
       "      <td>1st Round</td>\n",
       "      <td>Adelaide International 1</td>\n",
       "      <td>ATP250</td>\n",
       "      <td>Outdoor</td>\n",
       "      <td>Hard</td>\n",
       "      <td>Johnson S.</td>\n",
       "      <td>Vukic A.</td>\n",
       "      <td>85.0</td>\n",
       "      <td>156.0</td>\n",
       "      <td>2.0</td>\n",
       "      <td>1.0</td>\n",
       "      <td>3</td>\n",
       "      <td>250</td>\n",
       "      <td>1</td>\n",
       "    </tr>\n",
       "    <tr>\n",
       "      <th>4</th>\n",
       "      <td>1</td>\n",
       "      <td>2022-01-04</td>\n",
       "      <td>1st Round</td>\n",
       "      <td>Adelaide International 1</td>\n",
       "      <td>ATP250</td>\n",
       "      <td>Outdoor</td>\n",
       "      <td>Hard</td>\n",
       "      <td>Moutet C.</td>\n",
       "      <td>Rune H.</td>\n",
       "      <td>92.0</td>\n",
       "      <td>103.0</td>\n",
       "      <td>2.0</td>\n",
       "      <td>0.0</td>\n",
       "      <td>3</td>\n",
       "      <td>250</td>\n",
       "      <td>1</td>\n",
       "    </tr>\n",
       "    <tr>\n",
       "      <th>...</th>\n",
       "      <td>...</td>\n",
       "      <td>...</td>\n",
       "      <td>...</td>\n",
       "      <td>...</td>\n",
       "      <td>...</td>\n",
       "      <td>...</td>\n",
       "      <td>...</td>\n",
       "      <td>...</td>\n",
       "      <td>...</td>\n",
       "      <td>...</td>\n",
       "      <td>...</td>\n",
       "      <td>...</td>\n",
       "      <td>...</td>\n",
       "      <td>...</td>\n",
       "      <td>...</td>\n",
       "      <td>...</td>\n",
       "    </tr>\n",
       "    <tr>\n",
       "      <th>26619</th>\n",
       "      <td>51</td>\n",
       "      <td>2008-09-02</td>\n",
       "      <td>4th Round</td>\n",
       "      <td>US Open</td>\n",
       "      <td>Grand Slam</td>\n",
       "      <td>Outdoor</td>\n",
       "      <td>Hard</td>\n",
       "      <td>Murray A.</td>\n",
       "      <td>Wawrinka S.</td>\n",
       "      <td>6.0</td>\n",
       "      <td>10.0</td>\n",
       "      <td>3.0</td>\n",
       "      <td>0.0</td>\n",
       "      <td>5</td>\n",
       "      <td>2000</td>\n",
       "      <td>4</td>\n",
       "    </tr>\n",
       "    <tr>\n",
       "      <th>26620</th>\n",
       "      <td>51</td>\n",
       "      <td>2008-09-02</td>\n",
       "      <td>4th Round</td>\n",
       "      <td>US Open</td>\n",
       "      <td>Grand Slam</td>\n",
       "      <td>Outdoor</td>\n",
       "      <td>Hard</td>\n",
       "      <td>Djokovic N.</td>\n",
       "      <td>Robredo T.</td>\n",
       "      <td>3.0</td>\n",
       "      <td>15.0</td>\n",
       "      <td>3.0</td>\n",
       "      <td>2.0</td>\n",
       "      <td>5</td>\n",
       "      <td>2000</td>\n",
       "      <td>4</td>\n",
       "    </tr>\n",
       "    <tr>\n",
       "      <th>26621</th>\n",
       "      <td>51</td>\n",
       "      <td>2008-09-02</td>\n",
       "      <td>4th Round</td>\n",
       "      <td>US Open</td>\n",
       "      <td>Grand Slam</td>\n",
       "      <td>Outdoor</td>\n",
       "      <td>Hard</td>\n",
       "      <td>Muller G.</td>\n",
       "      <td>Davydenko N.</td>\n",
       "      <td>130.0</td>\n",
       "      <td>5.0</td>\n",
       "      <td>3.0</td>\n",
       "      <td>1.0</td>\n",
       "      <td>5</td>\n",
       "      <td>2000</td>\n",
       "      <td>4</td>\n",
       "    </tr>\n",
       "    <tr>\n",
       "      <th>26622</th>\n",
       "      <td>51</td>\n",
       "      <td>2008-09-02</td>\n",
       "      <td>4th Round</td>\n",
       "      <td>US Open</td>\n",
       "      <td>Grand Slam</td>\n",
       "      <td>Outdoor</td>\n",
       "      <td>Hard</td>\n",
       "      <td>Federer R.</td>\n",
       "      <td>Andreev I.</td>\n",
       "      <td>2.0</td>\n",
       "      <td>23.0</td>\n",
       "      <td>3.0</td>\n",
       "      <td>2.0</td>\n",
       "      <td>5</td>\n",
       "      <td>2000</td>\n",
       "      <td>4</td>\n",
       "    </tr>\n",
       "    <tr>\n",
       "      <th>26623</th>\n",
       "      <td>51</td>\n",
       "      <td>2008-09-03</td>\n",
       "      <td>4th Round</td>\n",
       "      <td>US Open</td>\n",
       "      <td>Grand Slam</td>\n",
       "      <td>Outdoor</td>\n",
       "      <td>Hard</td>\n",
       "      <td>Roddick A.</td>\n",
       "      <td>Gonzalez F.</td>\n",
       "      <td>8.0</td>\n",
       "      <td>11.0</td>\n",
       "      <td>3.0</td>\n",
       "      <td>0.0</td>\n",
       "      <td>5</td>\n",
       "      <td>2000</td>\n",
       "      <td>4</td>\n",
       "    </tr>\n",
       "  </tbody>\n",
       "</table>\n",
       "<p>26624 rows × 16 columns</p>\n",
       "</div>"
      ],
      "text/plain": [
       "       ATP        Date      Round                Tournament      Series  \\\n",
       "0        1  2022-01-03  1st Round  Adelaide International 1      ATP250   \n",
       "1        1  2022-01-03  1st Round  Adelaide International 1      ATP250   \n",
       "2        1  2022-01-03  1st Round  Adelaide International 1      ATP250   \n",
       "3        1  2022-01-03  1st Round  Adelaide International 1      ATP250   \n",
       "4        1  2022-01-04  1st Round  Adelaide International 1      ATP250   \n",
       "...    ...         ...        ...                       ...         ...   \n",
       "26619   51  2008-09-02  4th Round                   US Open  Grand Slam   \n",
       "26620   51  2008-09-02  4th Round                   US Open  Grand Slam   \n",
       "26621   51  2008-09-02  4th Round                   US Open  Grand Slam   \n",
       "26622   51  2008-09-02  4th Round                   US Open  Grand Slam   \n",
       "26623   51  2008-09-03  4th Round                   US Open  Grand Slam   \n",
       "\n",
       "         Court Surface       Winner               Loser  WRank  LRank  Wsets  \\\n",
       "0      Outdoor    Hard    Kwon S.W.         Nishioka Y.   53.0   81.0    2.0   \n",
       "1      Outdoor    Hard  Monteiro T.         Altmaier D.   89.0   84.0    2.0   \n",
       "2      Outdoor    Hard     Djere L.  Carballes Baena R.   52.0   79.0    2.0   \n",
       "3      Outdoor    Hard   Johnson S.            Vukic A.   85.0  156.0    2.0   \n",
       "4      Outdoor    Hard    Moutet C.             Rune H.   92.0  103.0    2.0   \n",
       "...        ...     ...          ...                 ...    ...    ...    ...   \n",
       "26619  Outdoor    Hard    Murray A.         Wawrinka S.    6.0   10.0    3.0   \n",
       "26620  Outdoor    Hard  Djokovic N.          Robredo T.    3.0   15.0    3.0   \n",
       "26621  Outdoor    Hard    Muller G.        Davydenko N.  130.0    5.0    3.0   \n",
       "26622  Outdoor    Hard   Federer R.          Andreev I.    2.0   23.0    3.0   \n",
       "26623  Outdoor    Hard   Roddick A.         Gonzalez F.    8.0   11.0    3.0   \n",
       "\n",
       "       Lsets  Best of  SeriesPoints  RoundDraw  \n",
       "0        0.0        3           250          1  \n",
       "1        1.0        3           250          1  \n",
       "2        0.0        3           250          1  \n",
       "3        1.0        3           250          1  \n",
       "4        0.0        3           250          1  \n",
       "...      ...      ...           ...        ...  \n",
       "26619    0.0        5          2000          4  \n",
       "26620    2.0        5          2000          4  \n",
       "26621    1.0        5          2000          4  \n",
       "26622    2.0        5          2000          4  \n",
       "26623    0.0        5          2000          4  \n",
       "\n",
       "[26624 rows x 16 columns]"
      ]
     },
     "execution_count": 1000,
     "metadata": {},
     "output_type": "execute_result"
    }
   ],
   "source": [
    "tennis_clean['Round'].value_counts()\n",
    "rounds_ranking = {'1st Round':1,'2nd Round':2,'3rd Round':3,'4th Round':4,'Quarterfinals':5,'Semifinals':6,'The Final':7,'Round Robin':3}\n",
    "rounds_ranking = pd.DataFrame.from_dict(rounds_ranking,orient='index',columns=['RoundDraw']).reset_index().rename(columns={'index': 'Round'})\n",
    "\n",
    "tennis_clean = tennis_clean.merge(rounds_ranking,on='Round',how='inner')\n",
    "tennis_clean"
   ]
  },
  {
   "cell_type": "code",
   "execution_count": 1001,
   "metadata": {},
   "outputs": [],
   "source": [
    "tennis_clean['Type'] = tennis_clean['Court'] +\"_\"+ tennis_clean['Surface']"
   ]
  },
  {
   "cell_type": "code",
   "execution_count": 1002,
   "metadata": {},
   "outputs": [],
   "source": [
    "tennis_clean = tennis_clean.drop(['Series','Round','Surface','Court'],axis=1)"
   ]
  },
  {
   "cell_type": "code",
   "execution_count": 1003,
   "metadata": {},
   "outputs": [],
   "source": [
    "tennis_clean['Date'] = pd.to_datetime(tennis_clean['Date'],format='%Y-%m-%d')\n",
    "tennis_clean['Year'] = tennis_clean['Date'].dt.year"
   ]
  },
  {
   "cell_type": "code",
   "execution_count": 1004,
   "metadata": {},
   "outputs": [
    {
     "data": {
      "text/html": [
       "<div>\n",
       "<style scoped>\n",
       "    .dataframe tbody tr th:only-of-type {\n",
       "        vertical-align: middle;\n",
       "    }\n",
       "\n",
       "    .dataframe tbody tr th {\n",
       "        vertical-align: top;\n",
       "    }\n",
       "\n",
       "    .dataframe thead th {\n",
       "        text-align: right;\n",
       "    }\n",
       "</style>\n",
       "<table border=\"1\" class=\"dataframe\">\n",
       "  <thead>\n",
       "    <tr style=\"text-align: right;\">\n",
       "      <th></th>\n",
       "      <th>ATP</th>\n",
       "      <th>Date</th>\n",
       "      <th>Tournament</th>\n",
       "      <th>Winner</th>\n",
       "      <th>Loser</th>\n",
       "      <th>WRank</th>\n",
       "      <th>LRank</th>\n",
       "      <th>Wsets</th>\n",
       "      <th>Lsets</th>\n",
       "      <th>Best of</th>\n",
       "      <th>SeriesPoints</th>\n",
       "      <th>RoundDraw</th>\n",
       "      <th>Type</th>\n",
       "      <th>Year</th>\n",
       "    </tr>\n",
       "  </thead>\n",
       "  <tbody>\n",
       "    <tr>\n",
       "      <th>0</th>\n",
       "      <td>1</td>\n",
       "      <td>2022-01-03</td>\n",
       "      <td>Adelaide International 1</td>\n",
       "      <td>Kwon S.W.</td>\n",
       "      <td>Nishioka Y.</td>\n",
       "      <td>53.0</td>\n",
       "      <td>81.0</td>\n",
       "      <td>2.0</td>\n",
       "      <td>0.0</td>\n",
       "      <td>3</td>\n",
       "      <td>250</td>\n",
       "      <td>1</td>\n",
       "      <td>Outdoor_Hard</td>\n",
       "      <td>2022</td>\n",
       "    </tr>\n",
       "    <tr>\n",
       "      <th>1</th>\n",
       "      <td>1</td>\n",
       "      <td>2022-01-03</td>\n",
       "      <td>Adelaide International 1</td>\n",
       "      <td>Monteiro T.</td>\n",
       "      <td>Altmaier D.</td>\n",
       "      <td>89.0</td>\n",
       "      <td>84.0</td>\n",
       "      <td>2.0</td>\n",
       "      <td>1.0</td>\n",
       "      <td>3</td>\n",
       "      <td>250</td>\n",
       "      <td>1</td>\n",
       "      <td>Outdoor_Hard</td>\n",
       "      <td>2022</td>\n",
       "    </tr>\n",
       "    <tr>\n",
       "      <th>2</th>\n",
       "      <td>1</td>\n",
       "      <td>2022-01-03</td>\n",
       "      <td>Adelaide International 1</td>\n",
       "      <td>Djere L.</td>\n",
       "      <td>Carballes Baena R.</td>\n",
       "      <td>52.0</td>\n",
       "      <td>79.0</td>\n",
       "      <td>2.0</td>\n",
       "      <td>0.0</td>\n",
       "      <td>3</td>\n",
       "      <td>250</td>\n",
       "      <td>1</td>\n",
       "      <td>Outdoor_Hard</td>\n",
       "      <td>2022</td>\n",
       "    </tr>\n",
       "    <tr>\n",
       "      <th>3</th>\n",
       "      <td>1</td>\n",
       "      <td>2022-01-03</td>\n",
       "      <td>Adelaide International 1</td>\n",
       "      <td>Johnson S.</td>\n",
       "      <td>Vukic A.</td>\n",
       "      <td>85.0</td>\n",
       "      <td>156.0</td>\n",
       "      <td>2.0</td>\n",
       "      <td>1.0</td>\n",
       "      <td>3</td>\n",
       "      <td>250</td>\n",
       "      <td>1</td>\n",
       "      <td>Outdoor_Hard</td>\n",
       "      <td>2022</td>\n",
       "    </tr>\n",
       "    <tr>\n",
       "      <th>4</th>\n",
       "      <td>1</td>\n",
       "      <td>2022-01-04</td>\n",
       "      <td>Adelaide International 1</td>\n",
       "      <td>Moutet C.</td>\n",
       "      <td>Rune H.</td>\n",
       "      <td>92.0</td>\n",
       "      <td>103.0</td>\n",
       "      <td>2.0</td>\n",
       "      <td>0.0</td>\n",
       "      <td>3</td>\n",
       "      <td>250</td>\n",
       "      <td>1</td>\n",
       "      <td>Outdoor_Hard</td>\n",
       "      <td>2022</td>\n",
       "    </tr>\n",
       "    <tr>\n",
       "      <th>5</th>\n",
       "      <td>1</td>\n",
       "      <td>2022-01-04</td>\n",
       "      <td>Adelaide International 1</td>\n",
       "      <td>Daniel T.</td>\n",
       "      <td>Musetti L.</td>\n",
       "      <td>125.0</td>\n",
       "      <td>59.0</td>\n",
       "      <td>2.0</td>\n",
       "      <td>1.0</td>\n",
       "      <td>3</td>\n",
       "      <td>250</td>\n",
       "      <td>1</td>\n",
       "      <td>Outdoor_Hard</td>\n",
       "      <td>2022</td>\n",
       "    </tr>\n",
       "    <tr>\n",
       "      <th>6</th>\n",
       "      <td>1</td>\n",
       "      <td>2022-01-04</td>\n",
       "      <td>Adelaide International 1</td>\n",
       "      <td>Gerasimov E.</td>\n",
       "      <td>Fucsovics M.</td>\n",
       "      <td>113.0</td>\n",
       "      <td>40.0</td>\n",
       "      <td>2.0</td>\n",
       "      <td>0.0</td>\n",
       "      <td>3</td>\n",
       "      <td>250</td>\n",
       "      <td>1</td>\n",
       "      <td>Outdoor_Hard</td>\n",
       "      <td>2022</td>\n",
       "    </tr>\n",
       "    <tr>\n",
       "      <th>7</th>\n",
       "      <td>1</td>\n",
       "      <td>2022-01-04</td>\n",
       "      <td>Adelaide International 1</td>\n",
       "      <td>Ymer M.</td>\n",
       "      <td>Bonzi B.</td>\n",
       "      <td>94.0</td>\n",
       "      <td>64.0</td>\n",
       "      <td>2.0</td>\n",
       "      <td>0.0</td>\n",
       "      <td>3</td>\n",
       "      <td>250</td>\n",
       "      <td>1</td>\n",
       "      <td>Outdoor_Hard</td>\n",
       "      <td>2022</td>\n",
       "    </tr>\n",
       "    <tr>\n",
       "      <th>8</th>\n",
       "      <td>1</td>\n",
       "      <td>2022-01-04</td>\n",
       "      <td>Adelaide International 1</td>\n",
       "      <td>Cerundolo J.M.</td>\n",
       "      <td>Bolt A.</td>\n",
       "      <td>90.0</td>\n",
       "      <td>137.0</td>\n",
       "      <td>2.0</td>\n",
       "      <td>0.0</td>\n",
       "      <td>3</td>\n",
       "      <td>250</td>\n",
       "      <td>1</td>\n",
       "      <td>Outdoor_Hard</td>\n",
       "      <td>2022</td>\n",
       "    </tr>\n",
       "    <tr>\n",
       "      <th>9</th>\n",
       "      <td>1</td>\n",
       "      <td>2022-01-04</td>\n",
       "      <td>Adelaide International 1</td>\n",
       "      <td>Paul T.</td>\n",
       "      <td>Vesely J.</td>\n",
       "      <td>43.0</td>\n",
       "      <td>83.0</td>\n",
       "      <td>2.0</td>\n",
       "      <td>1.0</td>\n",
       "      <td>3</td>\n",
       "      <td>250</td>\n",
       "      <td>1</td>\n",
       "      <td>Outdoor_Hard</td>\n",
       "      <td>2022</td>\n",
       "    </tr>\n",
       "  </tbody>\n",
       "</table>\n",
       "</div>"
      ],
      "text/plain": [
       "   ATP       Date                Tournament          Winner  \\\n",
       "0    1 2022-01-03  Adelaide International 1       Kwon S.W.   \n",
       "1    1 2022-01-03  Adelaide International 1     Monteiro T.   \n",
       "2    1 2022-01-03  Adelaide International 1        Djere L.   \n",
       "3    1 2022-01-03  Adelaide International 1      Johnson S.   \n",
       "4    1 2022-01-04  Adelaide International 1       Moutet C.   \n",
       "5    1 2022-01-04  Adelaide International 1       Daniel T.   \n",
       "6    1 2022-01-04  Adelaide International 1    Gerasimov E.   \n",
       "7    1 2022-01-04  Adelaide International 1         Ymer M.   \n",
       "8    1 2022-01-04  Adelaide International 1  Cerundolo J.M.   \n",
       "9    1 2022-01-04  Adelaide International 1         Paul T.   \n",
       "\n",
       "                Loser  WRank  LRank  Wsets  Lsets  Best of  SeriesPoints  \\\n",
       "0         Nishioka Y.   53.0   81.0    2.0    0.0        3           250   \n",
       "1         Altmaier D.   89.0   84.0    2.0    1.0        3           250   \n",
       "2  Carballes Baena R.   52.0   79.0    2.0    0.0        3           250   \n",
       "3            Vukic A.   85.0  156.0    2.0    1.0        3           250   \n",
       "4             Rune H.   92.0  103.0    2.0    0.0        3           250   \n",
       "5          Musetti L.  125.0   59.0    2.0    1.0        3           250   \n",
       "6        Fucsovics M.  113.0   40.0    2.0    0.0        3           250   \n",
       "7            Bonzi B.   94.0   64.0    2.0    0.0        3           250   \n",
       "8             Bolt A.   90.0  137.0    2.0    0.0        3           250   \n",
       "9           Vesely J.   43.0   83.0    2.0    1.0        3           250   \n",
       "\n",
       "   RoundDraw          Type  Year  \n",
       "0          1  Outdoor_Hard  2022  \n",
       "1          1  Outdoor_Hard  2022  \n",
       "2          1  Outdoor_Hard  2022  \n",
       "3          1  Outdoor_Hard  2022  \n",
       "4          1  Outdoor_Hard  2022  \n",
       "5          1  Outdoor_Hard  2022  \n",
       "6          1  Outdoor_Hard  2022  \n",
       "7          1  Outdoor_Hard  2022  \n",
       "8          1  Outdoor_Hard  2022  \n",
       "9          1  Outdoor_Hard  2022  "
      ]
     },
     "execution_count": 1004,
     "metadata": {},
     "output_type": "execute_result"
    }
   ],
   "source": [
    "tennis_clean.head(10)"
   ]
  },
  {
   "cell_type": "code",
   "execution_count": 1005,
   "metadata": {},
   "outputs": [
    {
     "data": {
      "text/html": [
       "<div>\n",
       "<style scoped>\n",
       "    .dataframe tbody tr th:only-of-type {\n",
       "        vertical-align: middle;\n",
       "    }\n",
       "\n",
       "    .dataframe tbody tr th {\n",
       "        vertical-align: top;\n",
       "    }\n",
       "\n",
       "    .dataframe thead th {\n",
       "        text-align: right;\n",
       "    }\n",
       "</style>\n",
       "<table border=\"1\" class=\"dataframe\">\n",
       "  <thead>\n",
       "    <tr style=\"text-align: right;\">\n",
       "      <th></th>\n",
       "      <th>ATP</th>\n",
       "      <th>Date</th>\n",
       "      <th>Tournament</th>\n",
       "      <th>Winner</th>\n",
       "      <th>Loser</th>\n",
       "      <th>WRank</th>\n",
       "      <th>LRank</th>\n",
       "      <th>Wsets</th>\n",
       "      <th>Lsets</th>\n",
       "      <th>Best of</th>\n",
       "      <th>SeriesPoints</th>\n",
       "      <th>RoundDraw</th>\n",
       "      <th>Type</th>\n",
       "      <th>Year</th>\n",
       "      <th>H2H</th>\n",
       "    </tr>\n",
       "  </thead>\n",
       "  <tbody>\n",
       "    <tr>\n",
       "      <th>22044</th>\n",
       "      <td>33</td>\n",
       "      <td>2015-06-03</td>\n",
       "      <td>French Open</td>\n",
       "      <td>Djokovic N.</td>\n",
       "      <td>Nadal R.</td>\n",
       "      <td>1.0</td>\n",
       "      <td>7.0</td>\n",
       "      <td>3.0</td>\n",
       "      <td>0.0</td>\n",
       "      <td>5</td>\n",
       "      <td>2000</td>\n",
       "      <td>5</td>\n",
       "      <td>Outdoor_Clay</td>\n",
       "      <td>2015</td>\n",
       "      <td>Djokovic N._Nadal R.</td>\n",
       "    </tr>\n",
       "    <tr>\n",
       "      <th>23765</th>\n",
       "      <td>30</td>\n",
       "      <td>2021-06-11</td>\n",
       "      <td>French Open</td>\n",
       "      <td>Djokovic N.</td>\n",
       "      <td>Nadal R.</td>\n",
       "      <td>1.0</td>\n",
       "      <td>3.0</td>\n",
       "      <td>3.0</td>\n",
       "      <td>1.0</td>\n",
       "      <td>5</td>\n",
       "      <td>2000</td>\n",
       "      <td>6</td>\n",
       "      <td>Outdoor_Clay</td>\n",
       "      <td>2021</td>\n",
       "      <td>Djokovic N._Nadal R.</td>\n",
       "    </tr>\n",
       "    <tr>\n",
       "      <th>23789</th>\n",
       "      <td>40</td>\n",
       "      <td>2018-07-14</td>\n",
       "      <td>Wimbledon</td>\n",
       "      <td>Djokovic N.</td>\n",
       "      <td>Nadal R.</td>\n",
       "      <td>21.0</td>\n",
       "      <td>1.0</td>\n",
       "      <td>3.0</td>\n",
       "      <td>2.0</td>\n",
       "      <td>5</td>\n",
       "      <td>2000</td>\n",
       "      <td>6</td>\n",
       "      <td>Outdoor_Grass</td>\n",
       "      <td>2018</td>\n",
       "      <td>Djokovic N._Nadal R.</td>\n",
       "    </tr>\n",
       "    <tr>\n",
       "      <th>23826</th>\n",
       "      <td>32</td>\n",
       "      <td>2013-06-07</td>\n",
       "      <td>French Open</td>\n",
       "      <td>Nadal R.</td>\n",
       "      <td>Djokovic N.</td>\n",
       "      <td>4.0</td>\n",
       "      <td>1.0</td>\n",
       "      <td>3.0</td>\n",
       "      <td>2.0</td>\n",
       "      <td>5</td>\n",
       "      <td>2000</td>\n",
       "      <td>6</td>\n",
       "      <td>Outdoor_Clay</td>\n",
       "      <td>2013</td>\n",
       "      <td>Djokovic N._Nadal R.</td>\n",
       "    </tr>\n",
       "    <tr>\n",
       "      <th>23866</th>\n",
       "      <td>31</td>\n",
       "      <td>2008-06-06</td>\n",
       "      <td>French Open</td>\n",
       "      <td>Nadal R.</td>\n",
       "      <td>Djokovic N.</td>\n",
       "      <td>2.0</td>\n",
       "      <td>3.0</td>\n",
       "      <td>3.0</td>\n",
       "      <td>0.0</td>\n",
       "      <td>5</td>\n",
       "      <td>2000</td>\n",
       "      <td>6</td>\n",
       "      <td>Outdoor_Clay</td>\n",
       "      <td>2008</td>\n",
       "      <td>Djokovic N._Nadal R.</td>\n",
       "    </tr>\n",
       "    <tr>\n",
       "      <th>24355</th>\n",
       "      <td>3</td>\n",
       "      <td>2016-01-09</td>\n",
       "      <td>Qatar Exxon Mobil Open</td>\n",
       "      <td>Djokovic N.</td>\n",
       "      <td>Nadal R.</td>\n",
       "      <td>1.0</td>\n",
       "      <td>5.0</td>\n",
       "      <td>2.0</td>\n",
       "      <td>0.0</td>\n",
       "      <td>3</td>\n",
       "      <td>250</td>\n",
       "      <td>7</td>\n",
       "      <td>Outdoor_Hard</td>\n",
       "      <td>2016</td>\n",
       "      <td>Djokovic N._Nadal R.</td>\n",
       "    </tr>\n",
       "    <tr>\n",
       "      <th>24676</th>\n",
       "      <td>22</td>\n",
       "      <td>2020-10-11</td>\n",
       "      <td>French Open</td>\n",
       "      <td>Nadal R.</td>\n",
       "      <td>Djokovic N.</td>\n",
       "      <td>2.0</td>\n",
       "      <td>1.0</td>\n",
       "      <td>3.0</td>\n",
       "      <td>0.0</td>\n",
       "      <td>5</td>\n",
       "      <td>2000</td>\n",
       "      <td>7</td>\n",
       "      <td>Outdoor_Clay</td>\n",
       "      <td>2020</td>\n",
       "      <td>Djokovic N._Nadal R.</td>\n",
       "    </tr>\n",
       "    <tr>\n",
       "      <th>24677</th>\n",
       "      <td>6</td>\n",
       "      <td>2019-01-27</td>\n",
       "      <td>Australian Open</td>\n",
       "      <td>Djokovic N.</td>\n",
       "      <td>Nadal R.</td>\n",
       "      <td>1.0</td>\n",
       "      <td>2.0</td>\n",
       "      <td>3.0</td>\n",
       "      <td>0.0</td>\n",
       "      <td>5</td>\n",
       "      <td>2000</td>\n",
       "      <td>7</td>\n",
       "      <td>Outdoor_Hard</td>\n",
       "      <td>2019</td>\n",
       "      <td>Djokovic N._Nadal R.</td>\n",
       "    </tr>\n",
       "    <tr>\n",
       "      <th>24698</th>\n",
       "      <td>32</td>\n",
       "      <td>2014-06-08</td>\n",
       "      <td>French Open</td>\n",
       "      <td>Nadal R.</td>\n",
       "      <td>Djokovic N.</td>\n",
       "      <td>1.0</td>\n",
       "      <td>2.0</td>\n",
       "      <td>3.0</td>\n",
       "      <td>1.0</td>\n",
       "      <td>5</td>\n",
       "      <td>2000</td>\n",
       "      <td>7</td>\n",
       "      <td>Outdoor_Clay</td>\n",
       "      <td>2014</td>\n",
       "      <td>Djokovic N._Nadal R.</td>\n",
       "    </tr>\n",
       "    <tr>\n",
       "      <th>24704</th>\n",
       "      <td>51</td>\n",
       "      <td>2013-09-09</td>\n",
       "      <td>US Open</td>\n",
       "      <td>Nadal R.</td>\n",
       "      <td>Djokovic N.</td>\n",
       "      <td>2.0</td>\n",
       "      <td>1.0</td>\n",
       "      <td>3.0</td>\n",
       "      <td>1.0</td>\n",
       "      <td>5</td>\n",
       "      <td>2000</td>\n",
       "      <td>7</td>\n",
       "      <td>Outdoor_Hard</td>\n",
       "      <td>2013</td>\n",
       "      <td>Djokovic N._Nadal R.</td>\n",
       "    </tr>\n",
       "    <tr>\n",
       "      <th>24705</th>\n",
       "      <td>6</td>\n",
       "      <td>2012-01-29</td>\n",
       "      <td>Australian Open</td>\n",
       "      <td>Djokovic N.</td>\n",
       "      <td>Nadal R.</td>\n",
       "      <td>1.0</td>\n",
       "      <td>2.0</td>\n",
       "      <td>3.0</td>\n",
       "      <td>2.0</td>\n",
       "      <td>5</td>\n",
       "      <td>2000</td>\n",
       "      <td>7</td>\n",
       "      <td>Outdoor_Hard</td>\n",
       "      <td>2012</td>\n",
       "      <td>Djokovic N._Nadal R.</td>\n",
       "    </tr>\n",
       "    <tr>\n",
       "      <th>24706</th>\n",
       "      <td>32</td>\n",
       "      <td>2012-06-10</td>\n",
       "      <td>French Open</td>\n",
       "      <td>Nadal R.</td>\n",
       "      <td>Djokovic N.</td>\n",
       "      <td>2.0</td>\n",
       "      <td>1.0</td>\n",
       "      <td>3.0</td>\n",
       "      <td>1.0</td>\n",
       "      <td>5</td>\n",
       "      <td>2000</td>\n",
       "      <td>7</td>\n",
       "      <td>Outdoor_Clay</td>\n",
       "      <td>2012</td>\n",
       "      <td>Djokovic N._Nadal R.</td>\n",
       "    </tr>\n",
       "    <tr>\n",
       "      <th>24711</th>\n",
       "      <td>36</td>\n",
       "      <td>2011-07-02</td>\n",
       "      <td>Wimbledon</td>\n",
       "      <td>Djokovic N.</td>\n",
       "      <td>Nadal R.</td>\n",
       "      <td>2.0</td>\n",
       "      <td>1.0</td>\n",
       "      <td>3.0</td>\n",
       "      <td>1.0</td>\n",
       "      <td>5</td>\n",
       "      <td>2000</td>\n",
       "      <td>7</td>\n",
       "      <td>Outdoor_Grass</td>\n",
       "      <td>2011</td>\n",
       "      <td>Djokovic N._Nadal R.</td>\n",
       "    </tr>\n",
       "    <tr>\n",
       "      <th>24712</th>\n",
       "      <td>50</td>\n",
       "      <td>2011-09-12</td>\n",
       "      <td>US Open</td>\n",
       "      <td>Djokovic N.</td>\n",
       "      <td>Nadal R.</td>\n",
       "      <td>1.0</td>\n",
       "      <td>2.0</td>\n",
       "      <td>3.0</td>\n",
       "      <td>1.0</td>\n",
       "      <td>5</td>\n",
       "      <td>2000</td>\n",
       "      <td>7</td>\n",
       "      <td>Outdoor_Hard</td>\n",
       "      <td>2011</td>\n",
       "      <td>Djokovic N._Nadal R.</td>\n",
       "    </tr>\n",
       "    <tr>\n",
       "      <th>24716</th>\n",
       "      <td>49</td>\n",
       "      <td>2010-09-12</td>\n",
       "      <td>US Open</td>\n",
       "      <td>Nadal R.</td>\n",
       "      <td>Djokovic N.</td>\n",
       "      <td>1.0</td>\n",
       "      <td>3.0</td>\n",
       "      <td>3.0</td>\n",
       "      <td>1.0</td>\n",
       "      <td>5</td>\n",
       "      <td>2000</td>\n",
       "      <td>7</td>\n",
       "      <td>Outdoor_Hard</td>\n",
       "      <td>2010</td>\n",
       "      <td>Djokovic N._Nadal R.</td>\n",
       "    </tr>\n",
       "    <tr>\n",
       "      <th>24803</th>\n",
       "      <td>57</td>\n",
       "      <td>2015-10-11</td>\n",
       "      <td>China Open</td>\n",
       "      <td>Djokovic N.</td>\n",
       "      <td>Nadal R.</td>\n",
       "      <td>1.0</td>\n",
       "      <td>8.0</td>\n",
       "      <td>2.0</td>\n",
       "      <td>0.0</td>\n",
       "      <td>3</td>\n",
       "      <td>500</td>\n",
       "      <td>7</td>\n",
       "      <td>Outdoor_Hard</td>\n",
       "      <td>2015</td>\n",
       "      <td>Djokovic N._Nadal R.</td>\n",
       "    </tr>\n",
       "    <tr>\n",
       "      <th>24825</th>\n",
       "      <td>56</td>\n",
       "      <td>2012-10-07</td>\n",
       "      <td>China Open</td>\n",
       "      <td>Djokovic N.</td>\n",
       "      <td>Nadal R.</td>\n",
       "      <td>1.0</td>\n",
       "      <td>2.0</td>\n",
       "      <td>2.0</td>\n",
       "      <td>0.0</td>\n",
       "      <td>3</td>\n",
       "      <td>500</td>\n",
       "      <td>7</td>\n",
       "      <td>Outdoor_Hard</td>\n",
       "      <td>2012</td>\n",
       "      <td>Djokovic N._Nadal R.</td>\n",
       "    </tr>\n",
       "  </tbody>\n",
       "</table>\n",
       "</div>"
      ],
      "text/plain": [
       "       ATP       Date              Tournament       Winner        Loser  \\\n",
       "22044   33 2015-06-03             French Open  Djokovic N.     Nadal R.   \n",
       "23765   30 2021-06-11             French Open  Djokovic N.     Nadal R.   \n",
       "23789   40 2018-07-14               Wimbledon  Djokovic N.     Nadal R.   \n",
       "23826   32 2013-06-07             French Open     Nadal R.  Djokovic N.   \n",
       "23866   31 2008-06-06             French Open     Nadal R.  Djokovic N.   \n",
       "24355    3 2016-01-09  Qatar Exxon Mobil Open  Djokovic N.     Nadal R.   \n",
       "24676   22 2020-10-11             French Open     Nadal R.  Djokovic N.   \n",
       "24677    6 2019-01-27         Australian Open  Djokovic N.     Nadal R.   \n",
       "24698   32 2014-06-08             French Open     Nadal R.  Djokovic N.   \n",
       "24704   51 2013-09-09                 US Open     Nadal R.  Djokovic N.   \n",
       "24705    6 2012-01-29         Australian Open  Djokovic N.     Nadal R.   \n",
       "24706   32 2012-06-10             French Open     Nadal R.  Djokovic N.   \n",
       "24711   36 2011-07-02               Wimbledon  Djokovic N.     Nadal R.   \n",
       "24712   50 2011-09-12                 US Open  Djokovic N.     Nadal R.   \n",
       "24716   49 2010-09-12                 US Open     Nadal R.  Djokovic N.   \n",
       "24803   57 2015-10-11              China Open  Djokovic N.     Nadal R.   \n",
       "24825   56 2012-10-07              China Open  Djokovic N.     Nadal R.   \n",
       "\n",
       "       WRank  LRank  Wsets  Lsets  Best of  SeriesPoints  RoundDraw  \\\n",
       "22044    1.0    7.0    3.0    0.0        5          2000          5   \n",
       "23765    1.0    3.0    3.0    1.0        5          2000          6   \n",
       "23789   21.0    1.0    3.0    2.0        5          2000          6   \n",
       "23826    4.0    1.0    3.0    2.0        5          2000          6   \n",
       "23866    2.0    3.0    3.0    0.0        5          2000          6   \n",
       "24355    1.0    5.0    2.0    0.0        3           250          7   \n",
       "24676    2.0    1.0    3.0    0.0        5          2000          7   \n",
       "24677    1.0    2.0    3.0    0.0        5          2000          7   \n",
       "24698    1.0    2.0    3.0    1.0        5          2000          7   \n",
       "24704    2.0    1.0    3.0    1.0        5          2000          7   \n",
       "24705    1.0    2.0    3.0    2.0        5          2000          7   \n",
       "24706    2.0    1.0    3.0    1.0        5          2000          7   \n",
       "24711    2.0    1.0    3.0    1.0        5          2000          7   \n",
       "24712    1.0    2.0    3.0    1.0        5          2000          7   \n",
       "24716    1.0    3.0    3.0    1.0        5          2000          7   \n",
       "24803    1.0    8.0    2.0    0.0        3           500          7   \n",
       "24825    1.0    2.0    2.0    0.0        3           500          7   \n",
       "\n",
       "                Type  Year                   H2H  \n",
       "22044   Outdoor_Clay  2015  Djokovic N._Nadal R.  \n",
       "23765   Outdoor_Clay  2021  Djokovic N._Nadal R.  \n",
       "23789  Outdoor_Grass  2018  Djokovic N._Nadal R.  \n",
       "23826   Outdoor_Clay  2013  Djokovic N._Nadal R.  \n",
       "23866   Outdoor_Clay  2008  Djokovic N._Nadal R.  \n",
       "24355   Outdoor_Hard  2016  Djokovic N._Nadal R.  \n",
       "24676   Outdoor_Clay  2020  Djokovic N._Nadal R.  \n",
       "24677   Outdoor_Hard  2019  Djokovic N._Nadal R.  \n",
       "24698   Outdoor_Clay  2014  Djokovic N._Nadal R.  \n",
       "24704   Outdoor_Hard  2013  Djokovic N._Nadal R.  \n",
       "24705   Outdoor_Hard  2012  Djokovic N._Nadal R.  \n",
       "24706   Outdoor_Clay  2012  Djokovic N._Nadal R.  \n",
       "24711  Outdoor_Grass  2011  Djokovic N._Nadal R.  \n",
       "24712   Outdoor_Hard  2011  Djokovic N._Nadal R.  \n",
       "24716   Outdoor_Hard  2010  Djokovic N._Nadal R.  \n",
       "24803   Outdoor_Hard  2015  Djokovic N._Nadal R.  \n",
       "24825   Outdoor_Hard  2012  Djokovic N._Nadal R.  "
      ]
     },
     "execution_count": 1005,
     "metadata": {},
     "output_type": "execute_result"
    }
   ],
   "source": [
    "def generate_H2H(row):\n",
    "    h2h = [row['Loser'],row['Winner']]\n",
    "    h2h = sorted(h2h)\n",
    "    return str(h2h[0])+ \"_\"+ str(h2h[1])\n",
    "\n",
    "tennis_clean['H2H'] = tennis_clean.apply(generate_H2H, axis=1)\n",
    "tennis_clean[tennis_clean['H2H']=='Djokovic N._Nadal R.']"
   ]
  },
  {
   "cell_type": "code",
   "execution_count": 1006,
   "metadata": {},
   "outputs": [],
   "source": [
    "worst_rank = max(tennis_clean['LRank'].max(),tennis_clean['WRank'].max())\n",
    "tennis_clean['LRank'] = tennis_clean['LRank'].fillna(worst_rank)\n",
    "tennis_clean['WRank'] = tennis_clean['WRank'].fillna(worst_rank)"
   ]
  },
  {
   "cell_type": "code",
   "execution_count": 1007,
   "metadata": {},
   "outputs": [
    {
     "data": {
      "text/html": [
       "<div>\n",
       "<style scoped>\n",
       "    .dataframe tbody tr th:only-of-type {\n",
       "        vertical-align: middle;\n",
       "    }\n",
       "\n",
       "    .dataframe tbody tr th {\n",
       "        vertical-align: top;\n",
       "    }\n",
       "\n",
       "    .dataframe thead th {\n",
       "        text-align: right;\n",
       "    }\n",
       "</style>\n",
       "<table border=\"1\" class=\"dataframe\">\n",
       "  <thead>\n",
       "    <tr style=\"text-align: right;\">\n",
       "      <th></th>\n",
       "      <th>ATP</th>\n",
       "      <th>Date</th>\n",
       "      <th>Tournament</th>\n",
       "      <th>Winner</th>\n",
       "      <th>Loser</th>\n",
       "      <th>WRank</th>\n",
       "      <th>LRank</th>\n",
       "      <th>Wsets</th>\n",
       "      <th>Lsets</th>\n",
       "      <th>Best of</th>\n",
       "      <th>SeriesPoints</th>\n",
       "      <th>RoundDraw</th>\n",
       "      <th>Type</th>\n",
       "      <th>Year</th>\n",
       "      <th>H2H</th>\n",
       "      <th>QualityWin</th>\n",
       "    </tr>\n",
       "  </thead>\n",
       "  <tbody>\n",
       "    <tr>\n",
       "      <th>0</th>\n",
       "      <td>1</td>\n",
       "      <td>2022-01-03</td>\n",
       "      <td>Adelaide International 1</td>\n",
       "      <td>Kwon S.W.</td>\n",
       "      <td>Nishioka Y.</td>\n",
       "      <td>53.0</td>\n",
       "      <td>81.0</td>\n",
       "      <td>2.0</td>\n",
       "      <td>0.0</td>\n",
       "      <td>3</td>\n",
       "      <td>250</td>\n",
       "      <td>1</td>\n",
       "      <td>Outdoor_Hard</td>\n",
       "      <td>2022</td>\n",
       "      <td>Kwon S.W._Nishioka Y.</td>\n",
       "      <td>2.0</td>\n",
       "    </tr>\n",
       "    <tr>\n",
       "      <th>1</th>\n",
       "      <td>1</td>\n",
       "      <td>2022-01-03</td>\n",
       "      <td>Adelaide International 1</td>\n",
       "      <td>Monteiro T.</td>\n",
       "      <td>Altmaier D.</td>\n",
       "      <td>89.0</td>\n",
       "      <td>84.0</td>\n",
       "      <td>2.0</td>\n",
       "      <td>1.0</td>\n",
       "      <td>3</td>\n",
       "      <td>250</td>\n",
       "      <td>1</td>\n",
       "      <td>Outdoor_Hard</td>\n",
       "      <td>2022</td>\n",
       "      <td>Altmaier D._Monteiro T.</td>\n",
       "      <td>1.0</td>\n",
       "    </tr>\n",
       "    <tr>\n",
       "      <th>2</th>\n",
       "      <td>1</td>\n",
       "      <td>2022-01-03</td>\n",
       "      <td>Adelaide International 1</td>\n",
       "      <td>Djere L.</td>\n",
       "      <td>Carballes Baena R.</td>\n",
       "      <td>52.0</td>\n",
       "      <td>79.0</td>\n",
       "      <td>2.0</td>\n",
       "      <td>0.0</td>\n",
       "      <td>3</td>\n",
       "      <td>250</td>\n",
       "      <td>1</td>\n",
       "      <td>Outdoor_Hard</td>\n",
       "      <td>2022</td>\n",
       "      <td>Carballes Baena R._Djere L.</td>\n",
       "      <td>2.0</td>\n",
       "    </tr>\n",
       "    <tr>\n",
       "      <th>3</th>\n",
       "      <td>1</td>\n",
       "      <td>2022-01-03</td>\n",
       "      <td>Adelaide International 1</td>\n",
       "      <td>Johnson S.</td>\n",
       "      <td>Vukic A.</td>\n",
       "      <td>85.0</td>\n",
       "      <td>156.0</td>\n",
       "      <td>2.0</td>\n",
       "      <td>1.0</td>\n",
       "      <td>3</td>\n",
       "      <td>250</td>\n",
       "      <td>1</td>\n",
       "      <td>Outdoor_Hard</td>\n",
       "      <td>2022</td>\n",
       "      <td>Johnson S._Vukic A.</td>\n",
       "      <td>1.0</td>\n",
       "    </tr>\n",
       "    <tr>\n",
       "      <th>4</th>\n",
       "      <td>1</td>\n",
       "      <td>2022-01-04</td>\n",
       "      <td>Adelaide International 1</td>\n",
       "      <td>Moutet C.</td>\n",
       "      <td>Rune H.</td>\n",
       "      <td>92.0</td>\n",
       "      <td>103.0</td>\n",
       "      <td>2.0</td>\n",
       "      <td>0.0</td>\n",
       "      <td>3</td>\n",
       "      <td>250</td>\n",
       "      <td>1</td>\n",
       "      <td>Outdoor_Hard</td>\n",
       "      <td>2022</td>\n",
       "      <td>Moutet C._Rune H.</td>\n",
       "      <td>2.0</td>\n",
       "    </tr>\n",
       "    <tr>\n",
       "      <th>...</th>\n",
       "      <td>...</td>\n",
       "      <td>...</td>\n",
       "      <td>...</td>\n",
       "      <td>...</td>\n",
       "      <td>...</td>\n",
       "      <td>...</td>\n",
       "      <td>...</td>\n",
       "      <td>...</td>\n",
       "      <td>...</td>\n",
       "      <td>...</td>\n",
       "      <td>...</td>\n",
       "      <td>...</td>\n",
       "      <td>...</td>\n",
       "      <td>...</td>\n",
       "      <td>...</td>\n",
       "      <td>...</td>\n",
       "    </tr>\n",
       "    <tr>\n",
       "      <th>26619</th>\n",
       "      <td>51</td>\n",
       "      <td>2008-09-02</td>\n",
       "      <td>US Open</td>\n",
       "      <td>Murray A.</td>\n",
       "      <td>Wawrinka S.</td>\n",
       "      <td>6.0</td>\n",
       "      <td>10.0</td>\n",
       "      <td>3.0</td>\n",
       "      <td>0.0</td>\n",
       "      <td>5</td>\n",
       "      <td>2000</td>\n",
       "      <td>4</td>\n",
       "      <td>Outdoor_Hard</td>\n",
       "      <td>2008</td>\n",
       "      <td>Murray A._Wawrinka S.</td>\n",
       "      <td>2.0</td>\n",
       "    </tr>\n",
       "    <tr>\n",
       "      <th>26620</th>\n",
       "      <td>51</td>\n",
       "      <td>2008-09-02</td>\n",
       "      <td>US Open</td>\n",
       "      <td>Djokovic N.</td>\n",
       "      <td>Robredo T.</td>\n",
       "      <td>3.0</td>\n",
       "      <td>15.0</td>\n",
       "      <td>3.0</td>\n",
       "      <td>2.0</td>\n",
       "      <td>5</td>\n",
       "      <td>2000</td>\n",
       "      <td>4</td>\n",
       "      <td>Outdoor_Hard</td>\n",
       "      <td>2008</td>\n",
       "      <td>Djokovic N._Robredo T.</td>\n",
       "      <td>2.0</td>\n",
       "    </tr>\n",
       "    <tr>\n",
       "      <th>26621</th>\n",
       "      <td>51</td>\n",
       "      <td>2008-09-02</td>\n",
       "      <td>US Open</td>\n",
       "      <td>Muller G.</td>\n",
       "      <td>Davydenko N.</td>\n",
       "      <td>130.0</td>\n",
       "      <td>5.0</td>\n",
       "      <td>3.0</td>\n",
       "      <td>1.0</td>\n",
       "      <td>5</td>\n",
       "      <td>2000</td>\n",
       "      <td>4</td>\n",
       "      <td>Outdoor_Hard</td>\n",
       "      <td>2008</td>\n",
       "      <td>Davydenko N._Muller G.</td>\n",
       "      <td>2.0</td>\n",
       "    </tr>\n",
       "    <tr>\n",
       "      <th>26622</th>\n",
       "      <td>51</td>\n",
       "      <td>2008-09-02</td>\n",
       "      <td>US Open</td>\n",
       "      <td>Federer R.</td>\n",
       "      <td>Andreev I.</td>\n",
       "      <td>2.0</td>\n",
       "      <td>23.0</td>\n",
       "      <td>3.0</td>\n",
       "      <td>2.0</td>\n",
       "      <td>5</td>\n",
       "      <td>2000</td>\n",
       "      <td>4</td>\n",
       "      <td>Outdoor_Hard</td>\n",
       "      <td>2008</td>\n",
       "      <td>Andreev I._Federer R.</td>\n",
       "      <td>3.0</td>\n",
       "    </tr>\n",
       "    <tr>\n",
       "      <th>26623</th>\n",
       "      <td>51</td>\n",
       "      <td>2008-09-03</td>\n",
       "      <td>US Open</td>\n",
       "      <td>Roddick A.</td>\n",
       "      <td>Gonzalez F.</td>\n",
       "      <td>8.0</td>\n",
       "      <td>11.0</td>\n",
       "      <td>3.0</td>\n",
       "      <td>0.0</td>\n",
       "      <td>5</td>\n",
       "      <td>2000</td>\n",
       "      <td>4</td>\n",
       "      <td>Outdoor_Hard</td>\n",
       "      <td>2008</td>\n",
       "      <td>Gonzalez F._Roddick A.</td>\n",
       "      <td>3.0</td>\n",
       "    </tr>\n",
       "  </tbody>\n",
       "</table>\n",
       "<p>26624 rows × 16 columns</p>\n",
       "</div>"
      ],
      "text/plain": [
       "       ATP       Date                Tournament       Winner  \\\n",
       "0        1 2022-01-03  Adelaide International 1    Kwon S.W.   \n",
       "1        1 2022-01-03  Adelaide International 1  Monteiro T.   \n",
       "2        1 2022-01-03  Adelaide International 1     Djere L.   \n",
       "3        1 2022-01-03  Adelaide International 1   Johnson S.   \n",
       "4        1 2022-01-04  Adelaide International 1    Moutet C.   \n",
       "...    ...        ...                       ...          ...   \n",
       "26619   51 2008-09-02                   US Open    Murray A.   \n",
       "26620   51 2008-09-02                   US Open  Djokovic N.   \n",
       "26621   51 2008-09-02                   US Open    Muller G.   \n",
       "26622   51 2008-09-02                   US Open   Federer R.   \n",
       "26623   51 2008-09-03                   US Open   Roddick A.   \n",
       "\n",
       "                    Loser  WRank  LRank  Wsets  Lsets  Best of  SeriesPoints  \\\n",
       "0             Nishioka Y.   53.0   81.0    2.0    0.0        3           250   \n",
       "1             Altmaier D.   89.0   84.0    2.0    1.0        3           250   \n",
       "2      Carballes Baena R.   52.0   79.0    2.0    0.0        3           250   \n",
       "3                Vukic A.   85.0  156.0    2.0    1.0        3           250   \n",
       "4                 Rune H.   92.0  103.0    2.0    0.0        3           250   \n",
       "...                   ...    ...    ...    ...    ...      ...           ...   \n",
       "26619         Wawrinka S.    6.0   10.0    3.0    0.0        5          2000   \n",
       "26620          Robredo T.    3.0   15.0    3.0    2.0        5          2000   \n",
       "26621        Davydenko N.  130.0    5.0    3.0    1.0        5          2000   \n",
       "26622          Andreev I.    2.0   23.0    3.0    2.0        5          2000   \n",
       "26623         Gonzalez F.    8.0   11.0    3.0    0.0        5          2000   \n",
       "\n",
       "       RoundDraw          Type  Year                          H2H  QualityWin  \n",
       "0              1  Outdoor_Hard  2022        Kwon S.W._Nishioka Y.         2.0  \n",
       "1              1  Outdoor_Hard  2022      Altmaier D._Monteiro T.         1.0  \n",
       "2              1  Outdoor_Hard  2022  Carballes Baena R._Djere L.         2.0  \n",
       "3              1  Outdoor_Hard  2022          Johnson S._Vukic A.         1.0  \n",
       "4              1  Outdoor_Hard  2022            Moutet C._Rune H.         2.0  \n",
       "...          ...           ...   ...                          ...         ...  \n",
       "26619          4  Outdoor_Hard  2008        Murray A._Wawrinka S.         2.0  \n",
       "26620          4  Outdoor_Hard  2008       Djokovic N._Robredo T.         2.0  \n",
       "26621          4  Outdoor_Hard  2008       Davydenko N._Muller G.         2.0  \n",
       "26622          4  Outdoor_Hard  2008        Andreev I._Federer R.         3.0  \n",
       "26623          4  Outdoor_Hard  2008       Gonzalez F._Roddick A.         3.0  \n",
       "\n",
       "[26624 rows x 16 columns]"
      ]
     },
     "execution_count": 1007,
     "metadata": {},
     "output_type": "execute_result"
    }
   ],
   "source": [
    "tennis_clean['QualityWin'] = tennis_clean['Wsets']-tennis['Lsets']\n",
    "tennis_clean['QualityWin'] = tennis_clean['QualityWin'].fillna(1)\n",
    "tennis_clean"
   ]
  },
  {
   "cell_type": "markdown",
   "metadata": {},
   "source": [
    "Add data about game to predict"
   ]
  },
  {
   "cell_type": "markdown",
   "metadata": {},
   "source": [
    "## Predict what will be the next results for a certain player"
   ]
  },
  {
   "cell_type": "markdown",
   "metadata": {},
   "source": [
    "importing models from scikit learn"
   ]
  },
  {
   "cell_type": "code",
   "execution_count": 1009,
   "metadata": {},
   "outputs": [],
   "source": [
    "from sklearn.model_selection import train_test_split\n",
    "from sklearn.preprocessing import StandardScaler\n",
    "\n",
    "# Import scores\n",
    "from sklearn.metrics import precision_score\n",
    "from sklearn.metrics import recall_score\n",
    "from sklearn.metrics import roc_curve\n",
    "from sklearn.metrics import roc_auc_score\n",
    "from sklearn.metrics import f1_score\n",
    "\n",
    "\n",
    "# Import classifiers\n",
    "from sklearn.ensemble import RandomForestClassifier\n",
    "from sklearn.linear_model import LogisticRegression\n",
    "from sklearn.tree import DecisionTreeClassifier\n"
   ]
  },
  {
   "cell_type": "markdown",
   "metadata": {},
   "source": [
    "#### Comparing Two Players"
   ]
  },
  {
   "cell_type": "code",
   "execution_count": 1175,
   "metadata": {},
   "outputs": [],
   "source": [
    "def historical_h2h(df,name_p1,name_p2):\n",
    "    p1 = (df['H2H'].str.contains(name_p1))\n",
    "    p2 = (df['H2H'].str.contains(name_p2))\n",
    "\n",
    "    df = df[p1 & p2]\n",
    "    wins_p1 = df[df['Winner']==name_p1].shape[0]\n",
    "    wins_p2 = df[df['Winner']==name_p2].shape[0]\n",
    "    nr_matches = df.shape[0]\n",
    "    print(f'The players have faced each other {nr_matches} times')\n",
    "    print(f'Player {name_p1} has won {wins_p1} out of {nr_matches}')\n",
    "    print(f'Player {name_p2} has won {wins_p2} out of {nr_matches}')\n",
    "\n",
    "    plot = px.bar(df,x='Type',color='Winner',text='Tournament',hover_data={'SeriesPoints':True,'RoundDraw':True})\n",
    "\n",
    "    return plot\n",
    "\n",
    "\n",
    "def tournament_performance(df,name_p1):\n",
    "    df_p1 = tennis_clean[(tennis_clean['H2H'].str.contains(name_p1))].copy()\n",
    "    df_p1['Year'] = df_p1['Date'].dt.year\n",
    "    df_p1 = df_p1.groupby(['Year','Tournament','SeriesPoints','Type','Winner']).agg({'RoundDraw':'max','Date':'min'}).reset_index()\n",
    "    df_p1 = df_p1.sort_values(by='Date')\n",
    "    df_p1['FinalWinner'] = np.where((df_p1['RoundDraw']==7)&(df_p1['Winner']==name_p1),'Winner','')\n",
    "    df_p1['FinalWinner'] = np.where((df_p1['RoundDraw']==7)&(df_p1['Winner']!=name_p1),'Runner-Up',df_p1['FinalWinner'])\n",
    "\n",
    "    plot = px.bar(data_frame=df_p1,x='Date',y='RoundDraw',color='Type',title=f\"Tournament Performance for {name_p1}\",text='FinalWinner',\\\n",
    "            hover_data={'Tournament':True,'SeriesPoints':True,'Winner':True})\n",
    "\n",
    "    plot.update_xaxes(type='category')  \n",
    "    plot.update_xaxes(categoryorder='category ascending') \n",
    "    plot.add_hline(y=7, line_width=3, line_dash=\"dash\", line_color=\"gold\")\n",
    "    \n",
    "    return plot\n",
    "\n",
    "def win_loss_ratio(df,name_p1):\n",
    "    df_p1 = tennis_clean[(tennis_clean['H2H'].str.contains(name_p1))].copy()\n",
    "    df_p1['Win/Loss'] =  np.where(df_p1['Winner']==name_p1,'Win','Loss')\n",
    "    df_p1['Win/Loss_Val'] =  np.where(df_p1['Winner']==name_p1,1,-1)\n",
    "    df_p1 = df_p1.sort_values(by='Type')\n",
    "\n",
    "    plot = px.bar(data_frame=df_p1,x='Type',y='Win/Loss_Val',color='Win/Loss',\\\n",
    "        color_discrete_map={\n",
    "        'Win': 'green',\n",
    "        'Loss': 'red'\n",
    "        },\\\n",
    "        title=f\"Win/Loss Ratio for {name_p1}\",\\\n",
    "        hover_data={'Tournament':True,'Date':True})\n",
    "\n",
    "    return plot\n",
    "\n",
    "def rank_evol(df,name_p1,name_p2):\n",
    "    df_p1 = tennis_clean[(tennis_clean['H2H'].str.contains(name_p1))].copy()\n",
    "    df_p2 = tennis_clean[(tennis_clean['H2H'].str.contains(name_p2))].copy()\n",
    "\n",
    "    df_p1['MainPlayer'] = np.where(df_p1['Winner']==name_p1,df_p1['Winner'],df_p1['Loser'])\n",
    "    df_p1['Win/Loss'] = np.where(df_p1['Winner']==name_p1,'Win','Loss')\n",
    "    df_p1['Rank'] = np.where((df_p1['Winner']==name_p1),df_p1['WRank'],df_p1['LRank'])\n",
    "\n",
    "    df_p2['MainPlayer'] = np.where(df_p2['Winner']==name_p2,df_p2['Winner'],df_p2['Loser'])\n",
    "    df_p2['Win/Loss'] = np.where(df_p2['Winner']==name_p2,'Win','Loss')\n",
    "    df_p2['Rank'] = np.where((df_p2['Winner']==name_p2),df_p2['WRank'],df_p2['LRank'])\n",
    "\n",
    "    df_both = pd.concat([df_p1,df_p2])\n",
    "\n",
    "    df_both = df_both.sort_values(by='Date')\n",
    "    plot = px.line(data_frame=df_both,x='Date',y='Rank',color='MainPlayer')\n",
    "    plot.update_traces(mode=\"markers+lines\", hovertemplate=None)\n",
    "    plot.update_layout(hovermode=\"x\")\n",
    "    return plot\n"
   ]
  },
  {
   "cell_type": "markdown",
   "metadata": {},
   "source": [
    "#### Picking Match  to Predict"
   ]
  },
  {
   "cell_type": "code",
   "execution_count": 1184,
   "metadata": {},
   "outputs": [],
   "source": [
    "name_p1 = 'Rublev A.'\n",
    "name_p2 = 'Ruud C.'"
   ]
  },
  {
   "cell_type": "code",
   "execution_count": 1185,
   "metadata": {},
   "outputs": [
    {
     "data": {
      "application/vnd.plotly.v1+json": {
       "config": {
        "plotlyServerURL": "https://plot.ly"
       },
       "data": [
        {
         "alignmentgroup": "True",
         "customdata": [
          [
           "St. Petersburg Open",
           "2020-10-13T00:00:00"
          ],
          [
           "Erste Bank Open",
           "2019-10-24T00:00:00"
          ],
          [
           "Erste Bank Open",
           "2020-10-29T00:00:00"
          ],
          [
           "Kremlin Cup",
           "2019-10-20T00:00:00"
          ],
          [
           "ABN AMRO World Tennis Tournament",
           "2020-02-13T00:00:00"
          ],
          [
           "Open 13",
           "2019-02-21T00:00:00"
          ],
          [
           "ABN AMRO World Tennis Tournament",
           "2021-03-03T00:00:00"
          ],
          [
           "ABN AMRO World Tennis Tournament",
           "2022-02-10T00:00:00"
          ],
          [
           "Erste Bank Open",
           "2020-10-31T00:00:00"
          ],
          [
           "St. Petersburg Open",
           "2020-10-17T00:00:00"
          ],
          [
           "Kremlin Cup",
           "2019-10-19T00:00:00"
          ],
          [
           "ABN AMRO World Tennis Tournament",
           "2018-02-15T00:00:00"
          ],
          [
           "Valencia Open 500",
           "2015-10-28T00:00:00"
          ],
          [
           "ABN AMRO World Tennis Tournament",
           "2021-03-02T00:00:00"
          ],
          [
           "Open Sud de France",
           "2018-02-07T00:00:00"
          ],
          [
           "ABN AMRO World Tennis Tournament",
           "2020-02-11T00:00:00"
          ],
          [
           "Erste Bank Open",
           "2020-10-26T00:00:00"
          ],
          [
           "Erste Bank Open",
           "2020-11-01T00:00:00"
          ],
          [
           "ABN AMRO World Tennis Tournament",
           "2021-03-06T00:00:00"
          ],
          [
           "Erste Bank Open",
           "2019-10-23T00:00:00"
          ],
          [
           "ABN AMRO World Tennis Tournament",
           "2018-02-14T00:00:00"
          ],
          [
           "ABN AMRO World Tennis Tournament",
           "2021-03-07T00:00:00"
          ],
          [
           "ABN AMRO World Tennis Tournament",
           "2022-02-08T00:00:00"
          ],
          [
           "Erste Bank Open",
           "2018-10-22T00:00:00"
          ],
          [
           "ABN AMRO World Tennis Tournament",
           "2021-03-05T00:00:00"
          ],
          [
           "St. Petersburg Open",
           "2019-09-19T00:00:00"
          ],
          [
           "Open 13",
           "2019-02-19T00:00:00"
          ],
          [
           "Kremlin Cup",
           "2019-10-17T00:00:00"
          ],
          [
           "St. Petersburg Open",
           "2019-09-17T00:00:00"
          ],
          [
           "Kremlin Cup",
           "2019-10-15T00:00:00"
          ],
          [
           "Kremlin Cup",
           "2019-10-18T00:00:00"
          ],
          [
           "Open Sud de France",
           "2018-02-05T00:00:00"
          ],
          [
           "St. Petersburg Open",
           "2021-10-27T00:00:00"
          ],
          [
           "St. Petersburg Open",
           "2020-10-16T00:00:00"
          ],
          [
           "St. Petersburg Open",
           "2016-09-21T00:00:00"
          ],
          [
           "ABN AMRO World Tennis Tournament",
           "2022-02-11T00:00:00"
          ],
          [
           "St. Petersburg Open",
           "2020-10-18T00:00:00"
          ],
          [
           "Erste Bank Open",
           "2020-10-30T00:00:00"
          ],
          [
           "St. Petersburg Open",
           "2020-10-15T00:00:00"
          ],
          [
           "Croatia Open",
           "2018-07-19T00:00:00"
          ],
          [
           "Barcelona Open",
           "2021-04-21T00:00:00"
          ],
          [
           "Croatia Open",
           "2017-07-20T00:00:00"
          ],
          [
           "Croatia Open",
           "2017-07-22T00:00:00"
          ],
          [
           "French Open",
           "2020-10-01T00:00:00"
          ],
          [
           "German Tennis Championships",
           "2020-09-23T00:00:00"
          ],
          [
           "German Tennis Championships",
           "2019-07-24T00:00:00"
          ],
          [
           "German Tennis Championships",
           "2019-07-26T00:00:00"
          ],
          [
           "German Tennis Championships",
           "2020-09-25T00:00:00"
          ],
          [
           "Croatia Open",
           "2017-07-21T00:00:00"
          ],
          [
           "German Tennis Championships",
           "2020-09-26T00:00:00"
          ],
          [
           "German Tennis Championships",
           "2019-07-27T00:00:00"
          ],
          [
           "Barcelona Open",
           "2021-04-22T00:00:00"
          ],
          [
           "Croatia Open",
           "2017-07-18T00:00:00"
          ],
          [
           "Istanbul Open",
           "2015-04-28T00:00:00"
          ],
          [
           "Geneva Open",
           "2015-05-17T00:00:00"
          ],
          [
           "German Tennis Championships",
           "2019-07-22T00:00:00"
          ],
          [
           "German Tennis Championships",
           "2020-09-21T00:00:00"
          ],
          [
           "Croatia Open",
           "2019-07-16T00:00:00"
          ],
          [
           "French Open",
           "2020-09-29T00:00:00"
          ],
          [
           "French Open",
           "2020-10-03T00:00:00"
          ],
          [
           "Croatia Open",
           "2017-07-23T00:00:00"
          ],
          [
           "Open Banco Sabadell",
           "2015-04-21T00:00:00"
          ],
          [
           "French Open",
           "2020-10-05T00:00:00"
          ],
          [
           "German Tennis Championships",
           "2020-09-27T00:00:00"
          ],
          [
           "Halle Open",
           "2021-06-18T00:00:00"
          ],
          [
           "Wimbledon",
           "2019-07-02T00:00:00"
          ],
          [
           "Wimbledon",
           "2021-06-28T00:00:00"
          ],
          [
           "Wimbledon",
           "2021-07-02T00:00:00"
          ],
          [
           "Halle Open",
           "2021-06-16T00:00:00"
          ],
          [
           "Gerry Weber Open",
           "2017-06-22T00:00:00"
          ],
          [
           "Wimbledon",
           "2017-07-04T00:00:00"
          ],
          [
           "Wimbledon",
           "2021-06-30T00:00:00"
          ],
          [
           "Gerry Weber Open",
           "2017-06-19T00:00:00"
          ],
          [
           "Halle Open",
           "2021-06-15T00:00:00"
          ],
          [
           "Halle Open",
           "2021-06-19T00:00:00"
          ],
          [
           "US Open",
           "2020-09-08T00:00:00"
          ],
          [
           "Dubai Tennis Championships",
           "2021-03-17T00:00:00"
          ],
          [
           "Citi Open",
           "2018-08-03T00:00:00"
          ],
          [
           "Australian Open",
           "2021-02-15T00:00:00"
          ],
          [
           "Dubai Tennis Championships",
           "2021-03-18T00:00:00"
          ],
          [
           "Qatar Exxon Mobil Open",
           "2020-01-11T00:00:00"
          ],
          [
           "Winston-Salem Open at Wake Forest University",
           "2019-08-22T00:00:00"
          ],
          [
           "Qatar Exxon Mobil Open",
           "2018-01-05T00:00:00"
          ],
          [
           "ASB Classic",
           "2020-01-17T00:00:00"
          ],
          [
           "Qatar Exxon Mobil Open",
           "2020-01-10T00:00:00"
          ],
          [
           "Australian Open",
           "2021-02-13T00:00:00"
          ],
          [
           "Australian Open",
           "2020-01-25T00:00:00"
          ],
          [
           "Citi Open",
           "2018-08-04T00:00:00"
          ],
          [
           "US Open",
           "2020-09-05T00:00:00"
          ],
          [
           "US Open",
           "2019-09-01T00:00:00"
          ],
          [
           "US Open",
           "2017-09-02T00:00:00"
          ],
          [
           "ASB Classic",
           "2020-01-18T00:00:00"
          ],
          [
           "Qatar Exxon Mobil Open",
           "2020-01-08T00:00:00"
          ],
          [
           "San Diego Open",
           "2021-09-30T00:00:00"
          ],
          [
           "Qatar Exxon Mobil Open",
           "2021-03-10T00:00:00"
          ],
          [
           "China Open",
           "2017-10-03T00:00:00"
          ],
          [
           "China Open",
           "2018-10-02T00:00:00"
          ],
          [
           "China Open",
           "2019-09-30T00:00:00"
          ],
          [
           "Dubai Tennis Championships",
           "2020-02-24T00:00:00"
          ],
          [
           "US Open",
           "2017-08-30T00:00:00"
          ],
          [
           "Australian Open",
           "2017-01-16T00:00:00"
          ],
          [
           "ASB Classic",
           "2020-01-15T00:00:00"
          ],
          [
           "Australian Open",
           "2018-01-15T00:00:00"
          ],
          [
           "US Open",
           "2020-09-01T00:00:00"
          ],
          [
           "Australian Open",
           "2020-01-21T00:00:00"
          ],
          [
           "US Open",
           "2021-08-30T00:00:00"
          ],
          [
           "Australian Open",
           "2021-02-09T00:00:00"
          ],
          [
           "Australian Open",
           "2022-01-18T00:00:00"
          ],
          [
           "Delray Beach Open",
           "2015-02-17T00:00:00"
          ],
          [
           "Chennai Open",
           "2016-01-05T00:00:00"
          ],
          [
           "Winston-Salem Open at Wake Forest University",
           "2017-08-21T00:00:00"
          ],
          [
           "Qatar Exxon Mobil Open",
           "2018-01-01T00:00:00"
          ],
          [
           "Winston-Salem Open at Wake Forest University",
           "2019-08-20T00:00:00"
          ],
          [
           "Sydney International",
           "2019-01-08T00:00:00"
          ],
          [
           "Qatar Exxon Mobil Open",
           "2018-12-31T00:00:00"
          ],
          [
           "US Open",
           "2019-08-27T00:00:00"
          ],
          [
           "Winston-Salem Open at Wake Forest University",
           "2019-08-21T00:00:00"
          ],
          [
           "Qatar Exxon Mobil Open",
           "2018-01-04T00:00:00"
          ],
          [
           "ASB Classic",
           "2020-01-16T00:00:00"
          ],
          [
           "Qatar Exxon Mobil Open",
           "2020-01-10T00:00:00"
          ],
          [
           "San Diego Open",
           "2021-10-01T00:00:00"
          ],
          [
           "Qatar Exxon Mobil Open",
           "2021-03-11T00:00:00"
          ],
          [
           "China Open",
           "2017-10-05T00:00:00"
          ],
          [
           "Citi Open",
           "2018-08-02T00:00:00"
          ],
          [
           "Dubai Tennis Championships",
           "2020-02-26T00:00:00"
          ],
          [
           "Dubai Tennis Championships",
           "2021-03-16T00:00:00"
          ],
          [
           "US Open",
           "2017-08-31T00:00:00"
          ],
          [
           "Australian Open",
           "2018-01-17T00:00:00"
          ],
          [
           "US Open",
           "2019-08-29T00:00:00"
          ],
          [
           "US Open",
           "2020-09-03T00:00:00"
          ],
          [
           "Australian Open",
           "2020-01-23T00:00:00"
          ],
          [
           "US Open",
           "2021-09-01T00:00:00"
          ],
          [
           "Australian Open",
           "2021-02-11T00:00:00"
          ],
          [
           "Australian Open",
           "2022-01-20T00:00:00"
          ],
          [
           "Qatar Exxon Mobil Open",
           "2018-01-03T00:00:00"
          ],
          [
           "US Open",
           "2017-09-04T00:00:00"
          ]
         ],
         "hovertemplate": "Win/Loss=Win<br>Type=%{x}<br>Win/Loss_Val=%{y}<br>Tournament=%{customdata[0]}<br>Date=%{customdata[1]}<extra></extra>",
         "legendgroup": "Win",
         "marker": {
          "color": "green",
          "pattern": {
           "shape": ""
          }
         },
         "name": "Win",
         "offsetgroup": "Win",
         "orientation": "v",
         "showlegend": true,
         "textposition": "auto",
         "type": "bar",
         "x": [
          "Indoor_Hard",
          "Indoor_Hard",
          "Indoor_Hard",
          "Indoor_Hard",
          "Indoor_Hard",
          "Indoor_Hard",
          "Indoor_Hard",
          "Indoor_Hard",
          "Indoor_Hard",
          "Indoor_Hard",
          "Indoor_Hard",
          "Indoor_Hard",
          "Indoor_Hard",
          "Indoor_Hard",
          "Indoor_Hard",
          "Indoor_Hard",
          "Indoor_Hard",
          "Indoor_Hard",
          "Indoor_Hard",
          "Indoor_Hard",
          "Indoor_Hard",
          "Indoor_Hard",
          "Indoor_Hard",
          "Indoor_Hard",
          "Indoor_Hard",
          "Indoor_Hard",
          "Indoor_Hard",
          "Indoor_Hard",
          "Indoor_Hard",
          "Indoor_Hard",
          "Indoor_Hard",
          "Indoor_Hard",
          "Indoor_Hard",
          "Indoor_Hard",
          "Indoor_Hard",
          "Indoor_Hard",
          "Indoor_Hard",
          "Indoor_Hard",
          "Indoor_Hard",
          "Outdoor_Clay",
          "Outdoor_Clay",
          "Outdoor_Clay",
          "Outdoor_Clay",
          "Outdoor_Clay",
          "Outdoor_Clay",
          "Outdoor_Clay",
          "Outdoor_Clay",
          "Outdoor_Clay",
          "Outdoor_Clay",
          "Outdoor_Clay",
          "Outdoor_Clay",
          "Outdoor_Clay",
          "Outdoor_Clay",
          "Outdoor_Clay",
          "Outdoor_Clay",
          "Outdoor_Clay",
          "Outdoor_Clay",
          "Outdoor_Clay",
          "Outdoor_Clay",
          "Outdoor_Clay",
          "Outdoor_Clay",
          "Outdoor_Clay",
          "Outdoor_Clay",
          "Outdoor_Clay",
          "Outdoor_Grass",
          "Outdoor_Grass",
          "Outdoor_Grass",
          "Outdoor_Grass",
          "Outdoor_Grass",
          "Outdoor_Grass",
          "Outdoor_Grass",
          "Outdoor_Grass",
          "Outdoor_Grass",
          "Outdoor_Grass",
          "Outdoor_Grass",
          "Outdoor_Hard",
          "Outdoor_Hard",
          "Outdoor_Hard",
          "Outdoor_Hard",
          "Outdoor_Hard",
          "Outdoor_Hard",
          "Outdoor_Hard",
          "Outdoor_Hard",
          "Outdoor_Hard",
          "Outdoor_Hard",
          "Outdoor_Hard",
          "Outdoor_Hard",
          "Outdoor_Hard",
          "Outdoor_Hard",
          "Outdoor_Hard",
          "Outdoor_Hard",
          "Outdoor_Hard",
          "Outdoor_Hard",
          "Outdoor_Hard",
          "Outdoor_Hard",
          "Outdoor_Hard",
          "Outdoor_Hard",
          "Outdoor_Hard",
          "Outdoor_Hard",
          "Outdoor_Hard",
          "Outdoor_Hard",
          "Outdoor_Hard",
          "Outdoor_Hard",
          "Outdoor_Hard",
          "Outdoor_Hard",
          "Outdoor_Hard",
          "Outdoor_Hard",
          "Outdoor_Hard",
          "Outdoor_Hard",
          "Outdoor_Hard",
          "Outdoor_Hard",
          "Outdoor_Hard",
          "Outdoor_Hard",
          "Outdoor_Hard",
          "Outdoor_Hard",
          "Outdoor_Hard",
          "Outdoor_Hard",
          "Outdoor_Hard",
          "Outdoor_Hard",
          "Outdoor_Hard",
          "Outdoor_Hard",
          "Outdoor_Hard",
          "Outdoor_Hard",
          "Outdoor_Hard",
          "Outdoor_Hard",
          "Outdoor_Hard",
          "Outdoor_Hard",
          "Outdoor_Hard",
          "Outdoor_Hard",
          "Outdoor_Hard",
          "Outdoor_Hard",
          "Outdoor_Hard",
          "Outdoor_Hard",
          "Outdoor_Hard",
          "Outdoor_Hard",
          "Outdoor_Hard"
         ],
         "xaxis": "x",
         "y": [
          1,
          1,
          1,
          1,
          1,
          1,
          1,
          1,
          1,
          1,
          1,
          1,
          1,
          1,
          1,
          1,
          1,
          1,
          1,
          1,
          1,
          1,
          1,
          1,
          1,
          1,
          1,
          1,
          1,
          1,
          1,
          1,
          1,
          1,
          1,
          1,
          1,
          1,
          1,
          1,
          1,
          1,
          1,
          1,
          1,
          1,
          1,
          1,
          1,
          1,
          1,
          1,
          1,
          1,
          1,
          1,
          1,
          1,
          1,
          1,
          1,
          1,
          1,
          1,
          1,
          1,
          1,
          1,
          1,
          1,
          1,
          1,
          1,
          1,
          1,
          1,
          1,
          1,
          1,
          1,
          1,
          1,
          1,
          1,
          1,
          1,
          1,
          1,
          1,
          1,
          1,
          1,
          1,
          1,
          1,
          1,
          1,
          1,
          1,
          1,
          1,
          1,
          1,
          1,
          1,
          1,
          1,
          1,
          1,
          1,
          1,
          1,
          1,
          1,
          1,
          1,
          1,
          1,
          1,
          1,
          1,
          1,
          1,
          1,
          1,
          1,
          1,
          1,
          1,
          1,
          1,
          1,
          1,
          1,
          1,
          1
         ],
         "yaxis": "y"
        },
        {
         "alignmentgroup": "True",
         "customdata": [
          [
           "ABN AMRO World Tennis Tournament",
           "2018-02-16T00:00:00"
          ],
          [
           "Kremlin Cup",
           "2021-10-21T00:00:00"
          ],
          [
           "Erste Bank Open",
           "2017-10-24T00:00:00"
          ],
          [
           "ABN AMRO World Tennis Tournament",
           "2022-02-12T00:00:00"
          ],
          [
           "St. Petersburg Open",
           "2016-09-22T00:00:00"
          ],
          [
           "Erste Bank Open",
           "2019-10-25T00:00:00"
          ],
          [
           "Erste Bank Open",
           "2018-10-25T00:00:00"
          ],
          [
           "Open Sud de France",
           "2018-02-09T00:00:00"
          ],
          [
           "St. Petersburg Open",
           "2018-09-18T00:00:00"
          ],
          [
           "Kremlin Cup",
           "2018-10-16T00:00:00"
          ],
          [
           "Open 13",
           "2017-02-21T00:00:00"
          ],
          [
           "St. Petersburg Open",
           "2019-09-20T00:00:00"
          ],
          [
           "Kremlin Cup",
           "2017-10-17T00:00:00"
          ],
          [
           "Open 13",
           "2019-02-22T00:00:00"
          ],
          [
           "ABN AMRO World Tennis Tournament",
           "2020-02-14T00:00:00"
          ],
          [
           "St. Petersburg Open",
           "2021-10-29T00:00:00"
          ],
          [
           "Valencia Open 500",
           "2015-10-29T00:00:00"
          ],
          [
           "St. Petersburg Open",
           "2015-09-23T00:00:00"
          ],
          [
           "Kremlin Cup",
           "2015-10-20T00:00:00"
          ],
          [
           "Kremlin Cup",
           "2014-10-14T00:00:00"
          ],
          [
           "Suisse Open Gstaad",
           "2018-07-25T00:00:00"
          ],
          [
           "Istanbul Open",
           "2015-04-29T00:00:00"
          ],
          [
           "Geneva Open",
           "2015-05-19T00:00:00"
          ],
          [
           "Open Banco Sabadell",
           "2015-04-22T00:00:00"
          ],
          [
           "Barcelona Open",
           "2021-04-23T00:00:00"
          ],
          [
           "Croatia Open",
           "2018-07-20T00:00:00"
          ],
          [
           "French Open",
           "2020-10-07T00:00:00"
          ],
          [
           "French Open",
           "2017-05-29T00:00:00"
          ],
          [
           "French Open",
           "2021-06-01T00:00:00"
          ],
          [
           "Croatia Open",
           "2019-07-18T00:00:00"
          ],
          [
           "Konzum Croatia Open",
           "2015-07-22T00:00:00"
          ],
          [
           "German Tennis Championships",
           "2019-07-28T00:00:00"
          ],
          [
           "Suisse Open Gstaad",
           "2015-07-27T00:00:00"
          ],
          [
           "German Tennis Championships",
           "2017-07-25T00:00:00"
          ],
          [
           "Istanbul Open",
           "2016-04-25T00:00:00"
          ],
          [
           "Gerry Weber Open",
           "2017-06-23T00:00:00"
          ],
          [
           "Wimbledon",
           "2019-07-04T00:00:00"
          ],
          [
           "Wimbledon",
           "2021-07-05T00:00:00"
          ],
          [
           "Wimbledon",
           "2017-07-06T00:00:00"
          ],
          [
           "Halle Open",
           "2021-06-20T00:00:00"
          ],
          [
           "Dubai Tennis Championships",
           "2020-02-27T00:00:00"
          ],
          [
           "Australian Open",
           "2020-01-27T00:00:00"
          ],
          [
           "Citi Open",
           "2018-08-05T00:00:00"
          ],
          [
           "Australian Open",
           "2018-01-19T00:00:00"
          ],
          [
           "Qatar Exxon Mobil Open",
           "2018-01-06T00:00:00"
          ],
          [
           "Dubai Tennis Championships",
           "2021-03-19T00:00:00"
          ],
          [
           "Australian Open",
           "2022-01-22T00:00:00"
          ],
          [
           "San Diego Open",
           "2021-10-02T00:00:00"
          ],
          [
           "Qatar Exxon Mobil Open",
           "2021-03-12T00:00:00"
          ],
          [
           "China Open",
           "2017-10-06T00:00:00"
          ],
          [
           "US Open",
           "2021-09-04T00:00:00"
          ],
          [
           "Australian Open",
           "2017-01-18T00:00:00"
          ],
          [
           "US Open",
           "2020-09-09T00:00:00"
          ],
          [
           "Abierto Mexicano",
           "2018-02-27T00:00:00"
          ],
          [
           "Citi Open",
           "2019-07-30T00:00:00"
          ],
          [
           "US Open",
           "2015-09-01T00:00:00"
          ],
          [
           "US Open",
           "2018-08-27T00:00:00"
          ],
          [
           "Australian Open",
           "2019-01-14T00:00:00"
          ],
          [
           "US Open",
           "2017-09-06T00:00:00"
          ],
          [
           "Qatar Exxon Mobil Open",
           "2019-01-02T00:00:00"
          ],
          [
           "Australian Open",
           "2021-02-17T00:00:00"
          ],
          [
           "Winston-Salem Open at Wake Forest University",
           "2019-08-23T00:00:00"
          ],
          [
           "China Open",
           "2018-10-04T00:00:00"
          ],
          [
           "China Open",
           "2019-10-02T00:00:00"
          ],
          [
           "Sydney International",
           "2019-01-09T00:00:00"
          ],
          [
           "Delray Beach Open",
           "2015-02-18T00:00:00"
          ],
          [
           "Chennai Open",
           "2016-01-06T00:00:00"
          ],
          [
           "Chengdu Open",
           "2017-09-28T00:00:00"
          ],
          [
           "Winston-Salem Open at Wake Forest University",
           "2017-08-23T00:00:00"
          ],
          [
           "Winston-Salem Open at Wake Forest University",
           "2018-08-21T00:00:00"
          ],
          [
           "US Open",
           "2019-09-02T00:00:00"
          ]
         ],
         "hovertemplate": "Win/Loss=Loss<br>Type=%{x}<br>Win/Loss_Val=%{y}<br>Tournament=%{customdata[0]}<br>Date=%{customdata[1]}<extra></extra>",
         "legendgroup": "Loss",
         "marker": {
          "color": "red",
          "pattern": {
           "shape": ""
          }
         },
         "name": "Loss",
         "offsetgroup": "Loss",
         "orientation": "v",
         "showlegend": true,
         "textposition": "auto",
         "type": "bar",
         "x": [
          "Indoor_Hard",
          "Indoor_Hard",
          "Indoor_Hard",
          "Indoor_Hard",
          "Indoor_Hard",
          "Indoor_Hard",
          "Indoor_Hard",
          "Indoor_Hard",
          "Indoor_Hard",
          "Indoor_Hard",
          "Indoor_Hard",
          "Indoor_Hard",
          "Indoor_Hard",
          "Indoor_Hard",
          "Indoor_Hard",
          "Indoor_Hard",
          "Indoor_Hard",
          "Indoor_Hard",
          "Indoor_Hard",
          "Indoor_Hard",
          "Outdoor_Clay",
          "Outdoor_Clay",
          "Outdoor_Clay",
          "Outdoor_Clay",
          "Outdoor_Clay",
          "Outdoor_Clay",
          "Outdoor_Clay",
          "Outdoor_Clay",
          "Outdoor_Clay",
          "Outdoor_Clay",
          "Outdoor_Clay",
          "Outdoor_Clay",
          "Outdoor_Clay",
          "Outdoor_Clay",
          "Outdoor_Clay",
          "Outdoor_Grass",
          "Outdoor_Grass",
          "Outdoor_Grass",
          "Outdoor_Grass",
          "Outdoor_Grass",
          "Outdoor_Hard",
          "Outdoor_Hard",
          "Outdoor_Hard",
          "Outdoor_Hard",
          "Outdoor_Hard",
          "Outdoor_Hard",
          "Outdoor_Hard",
          "Outdoor_Hard",
          "Outdoor_Hard",
          "Outdoor_Hard",
          "Outdoor_Hard",
          "Outdoor_Hard",
          "Outdoor_Hard",
          "Outdoor_Hard",
          "Outdoor_Hard",
          "Outdoor_Hard",
          "Outdoor_Hard",
          "Outdoor_Hard",
          "Outdoor_Hard",
          "Outdoor_Hard",
          "Outdoor_Hard",
          "Outdoor_Hard",
          "Outdoor_Hard",
          "Outdoor_Hard",
          "Outdoor_Hard",
          "Outdoor_Hard",
          "Outdoor_Hard",
          "Outdoor_Hard",
          "Outdoor_Hard",
          "Outdoor_Hard",
          "Outdoor_Hard"
         ],
         "xaxis": "x",
         "y": [
          -1,
          -1,
          -1,
          -1,
          -1,
          -1,
          -1,
          -1,
          -1,
          -1,
          -1,
          -1,
          -1,
          -1,
          -1,
          -1,
          -1,
          -1,
          -1,
          -1,
          -1,
          -1,
          -1,
          -1,
          -1,
          -1,
          -1,
          -1,
          -1,
          -1,
          -1,
          -1,
          -1,
          -1,
          -1,
          -1,
          -1,
          -1,
          -1,
          -1,
          -1,
          -1,
          -1,
          -1,
          -1,
          -1,
          -1,
          -1,
          -1,
          -1,
          -1,
          -1,
          -1,
          -1,
          -1,
          -1,
          -1,
          -1,
          -1,
          -1,
          -1,
          -1,
          -1,
          -1,
          -1,
          -1,
          -1,
          -1,
          -1,
          -1,
          -1
         ],
         "yaxis": "y"
        }
       ],
       "layout": {
        "barmode": "relative",
        "legend": {
         "title": {
          "text": "Win/Loss"
         },
         "tracegroupgap": 0
        },
        "template": {
         "data": {
          "bar": [
           {
            "error_x": {
             "color": "#2a3f5f"
            },
            "error_y": {
             "color": "#2a3f5f"
            },
            "marker": {
             "line": {
              "color": "#E5ECF6",
              "width": 0.5
             },
             "pattern": {
              "fillmode": "overlay",
              "size": 10,
              "solidity": 0.2
             }
            },
            "type": "bar"
           }
          ],
          "barpolar": [
           {
            "marker": {
             "line": {
              "color": "#E5ECF6",
              "width": 0.5
             },
             "pattern": {
              "fillmode": "overlay",
              "size": 10,
              "solidity": 0.2
             }
            },
            "type": "barpolar"
           }
          ],
          "carpet": [
           {
            "aaxis": {
             "endlinecolor": "#2a3f5f",
             "gridcolor": "white",
             "linecolor": "white",
             "minorgridcolor": "white",
             "startlinecolor": "#2a3f5f"
            },
            "baxis": {
             "endlinecolor": "#2a3f5f",
             "gridcolor": "white",
             "linecolor": "white",
             "minorgridcolor": "white",
             "startlinecolor": "#2a3f5f"
            },
            "type": "carpet"
           }
          ],
          "choropleth": [
           {
            "colorbar": {
             "outlinewidth": 0,
             "ticks": ""
            },
            "type": "choropleth"
           }
          ],
          "contour": [
           {
            "colorbar": {
             "outlinewidth": 0,
             "ticks": ""
            },
            "colorscale": [
             [
              0,
              "#0d0887"
             ],
             [
              0.1111111111111111,
              "#46039f"
             ],
             [
              0.2222222222222222,
              "#7201a8"
             ],
             [
              0.3333333333333333,
              "#9c179e"
             ],
             [
              0.4444444444444444,
              "#bd3786"
             ],
             [
              0.5555555555555556,
              "#d8576b"
             ],
             [
              0.6666666666666666,
              "#ed7953"
             ],
             [
              0.7777777777777778,
              "#fb9f3a"
             ],
             [
              0.8888888888888888,
              "#fdca26"
             ],
             [
              1,
              "#f0f921"
             ]
            ],
            "type": "contour"
           }
          ],
          "contourcarpet": [
           {
            "colorbar": {
             "outlinewidth": 0,
             "ticks": ""
            },
            "type": "contourcarpet"
           }
          ],
          "heatmap": [
           {
            "colorbar": {
             "outlinewidth": 0,
             "ticks": ""
            },
            "colorscale": [
             [
              0,
              "#0d0887"
             ],
             [
              0.1111111111111111,
              "#46039f"
             ],
             [
              0.2222222222222222,
              "#7201a8"
             ],
             [
              0.3333333333333333,
              "#9c179e"
             ],
             [
              0.4444444444444444,
              "#bd3786"
             ],
             [
              0.5555555555555556,
              "#d8576b"
             ],
             [
              0.6666666666666666,
              "#ed7953"
             ],
             [
              0.7777777777777778,
              "#fb9f3a"
             ],
             [
              0.8888888888888888,
              "#fdca26"
             ],
             [
              1,
              "#f0f921"
             ]
            ],
            "type": "heatmap"
           }
          ],
          "heatmapgl": [
           {
            "colorbar": {
             "outlinewidth": 0,
             "ticks": ""
            },
            "colorscale": [
             [
              0,
              "#0d0887"
             ],
             [
              0.1111111111111111,
              "#46039f"
             ],
             [
              0.2222222222222222,
              "#7201a8"
             ],
             [
              0.3333333333333333,
              "#9c179e"
             ],
             [
              0.4444444444444444,
              "#bd3786"
             ],
             [
              0.5555555555555556,
              "#d8576b"
             ],
             [
              0.6666666666666666,
              "#ed7953"
             ],
             [
              0.7777777777777778,
              "#fb9f3a"
             ],
             [
              0.8888888888888888,
              "#fdca26"
             ],
             [
              1,
              "#f0f921"
             ]
            ],
            "type": "heatmapgl"
           }
          ],
          "histogram": [
           {
            "marker": {
             "pattern": {
              "fillmode": "overlay",
              "size": 10,
              "solidity": 0.2
             }
            },
            "type": "histogram"
           }
          ],
          "histogram2d": [
           {
            "colorbar": {
             "outlinewidth": 0,
             "ticks": ""
            },
            "colorscale": [
             [
              0,
              "#0d0887"
             ],
             [
              0.1111111111111111,
              "#46039f"
             ],
             [
              0.2222222222222222,
              "#7201a8"
             ],
             [
              0.3333333333333333,
              "#9c179e"
             ],
             [
              0.4444444444444444,
              "#bd3786"
             ],
             [
              0.5555555555555556,
              "#d8576b"
             ],
             [
              0.6666666666666666,
              "#ed7953"
             ],
             [
              0.7777777777777778,
              "#fb9f3a"
             ],
             [
              0.8888888888888888,
              "#fdca26"
             ],
             [
              1,
              "#f0f921"
             ]
            ],
            "type": "histogram2d"
           }
          ],
          "histogram2dcontour": [
           {
            "colorbar": {
             "outlinewidth": 0,
             "ticks": ""
            },
            "colorscale": [
             [
              0,
              "#0d0887"
             ],
             [
              0.1111111111111111,
              "#46039f"
             ],
             [
              0.2222222222222222,
              "#7201a8"
             ],
             [
              0.3333333333333333,
              "#9c179e"
             ],
             [
              0.4444444444444444,
              "#bd3786"
             ],
             [
              0.5555555555555556,
              "#d8576b"
             ],
             [
              0.6666666666666666,
              "#ed7953"
             ],
             [
              0.7777777777777778,
              "#fb9f3a"
             ],
             [
              0.8888888888888888,
              "#fdca26"
             ],
             [
              1,
              "#f0f921"
             ]
            ],
            "type": "histogram2dcontour"
           }
          ],
          "mesh3d": [
           {
            "colorbar": {
             "outlinewidth": 0,
             "ticks": ""
            },
            "type": "mesh3d"
           }
          ],
          "parcoords": [
           {
            "line": {
             "colorbar": {
              "outlinewidth": 0,
              "ticks": ""
             }
            },
            "type": "parcoords"
           }
          ],
          "pie": [
           {
            "automargin": true,
            "type": "pie"
           }
          ],
          "scatter": [
           {
            "fillpattern": {
             "fillmode": "overlay",
             "size": 10,
             "solidity": 0.2
            },
            "type": "scatter"
           }
          ],
          "scatter3d": [
           {
            "line": {
             "colorbar": {
              "outlinewidth": 0,
              "ticks": ""
             }
            },
            "marker": {
             "colorbar": {
              "outlinewidth": 0,
              "ticks": ""
             }
            },
            "type": "scatter3d"
           }
          ],
          "scattercarpet": [
           {
            "marker": {
             "colorbar": {
              "outlinewidth": 0,
              "ticks": ""
             }
            },
            "type": "scattercarpet"
           }
          ],
          "scattergeo": [
           {
            "marker": {
             "colorbar": {
              "outlinewidth": 0,
              "ticks": ""
             }
            },
            "type": "scattergeo"
           }
          ],
          "scattergl": [
           {
            "marker": {
             "colorbar": {
              "outlinewidth": 0,
              "ticks": ""
             }
            },
            "type": "scattergl"
           }
          ],
          "scattermapbox": [
           {
            "marker": {
             "colorbar": {
              "outlinewidth": 0,
              "ticks": ""
             }
            },
            "type": "scattermapbox"
           }
          ],
          "scatterpolar": [
           {
            "marker": {
             "colorbar": {
              "outlinewidth": 0,
              "ticks": ""
             }
            },
            "type": "scatterpolar"
           }
          ],
          "scatterpolargl": [
           {
            "marker": {
             "colorbar": {
              "outlinewidth": 0,
              "ticks": ""
             }
            },
            "type": "scatterpolargl"
           }
          ],
          "scatterternary": [
           {
            "marker": {
             "colorbar": {
              "outlinewidth": 0,
              "ticks": ""
             }
            },
            "type": "scatterternary"
           }
          ],
          "surface": [
           {
            "colorbar": {
             "outlinewidth": 0,
             "ticks": ""
            },
            "colorscale": [
             [
              0,
              "#0d0887"
             ],
             [
              0.1111111111111111,
              "#46039f"
             ],
             [
              0.2222222222222222,
              "#7201a8"
             ],
             [
              0.3333333333333333,
              "#9c179e"
             ],
             [
              0.4444444444444444,
              "#bd3786"
             ],
             [
              0.5555555555555556,
              "#d8576b"
             ],
             [
              0.6666666666666666,
              "#ed7953"
             ],
             [
              0.7777777777777778,
              "#fb9f3a"
             ],
             [
              0.8888888888888888,
              "#fdca26"
             ],
             [
              1,
              "#f0f921"
             ]
            ],
            "type": "surface"
           }
          ],
          "table": [
           {
            "cells": {
             "fill": {
              "color": "#EBF0F8"
             },
             "line": {
              "color": "white"
             }
            },
            "header": {
             "fill": {
              "color": "#C8D4E3"
             },
             "line": {
              "color": "white"
             }
            },
            "type": "table"
           }
          ]
         },
         "layout": {
          "annotationdefaults": {
           "arrowcolor": "#2a3f5f",
           "arrowhead": 0,
           "arrowwidth": 1
          },
          "autotypenumbers": "strict",
          "coloraxis": {
           "colorbar": {
            "outlinewidth": 0,
            "ticks": ""
           }
          },
          "colorscale": {
           "diverging": [
            [
             0,
             "#8e0152"
            ],
            [
             0.1,
             "#c51b7d"
            ],
            [
             0.2,
             "#de77ae"
            ],
            [
             0.3,
             "#f1b6da"
            ],
            [
             0.4,
             "#fde0ef"
            ],
            [
             0.5,
             "#f7f7f7"
            ],
            [
             0.6,
             "#e6f5d0"
            ],
            [
             0.7,
             "#b8e186"
            ],
            [
             0.8,
             "#7fbc41"
            ],
            [
             0.9,
             "#4d9221"
            ],
            [
             1,
             "#276419"
            ]
           ],
           "sequential": [
            [
             0,
             "#0d0887"
            ],
            [
             0.1111111111111111,
             "#46039f"
            ],
            [
             0.2222222222222222,
             "#7201a8"
            ],
            [
             0.3333333333333333,
             "#9c179e"
            ],
            [
             0.4444444444444444,
             "#bd3786"
            ],
            [
             0.5555555555555556,
             "#d8576b"
            ],
            [
             0.6666666666666666,
             "#ed7953"
            ],
            [
             0.7777777777777778,
             "#fb9f3a"
            ],
            [
             0.8888888888888888,
             "#fdca26"
            ],
            [
             1,
             "#f0f921"
            ]
           ],
           "sequentialminus": [
            [
             0,
             "#0d0887"
            ],
            [
             0.1111111111111111,
             "#46039f"
            ],
            [
             0.2222222222222222,
             "#7201a8"
            ],
            [
             0.3333333333333333,
             "#9c179e"
            ],
            [
             0.4444444444444444,
             "#bd3786"
            ],
            [
             0.5555555555555556,
             "#d8576b"
            ],
            [
             0.6666666666666666,
             "#ed7953"
            ],
            [
             0.7777777777777778,
             "#fb9f3a"
            ],
            [
             0.8888888888888888,
             "#fdca26"
            ],
            [
             1,
             "#f0f921"
            ]
           ]
          },
          "colorway": [
           "#636efa",
           "#EF553B",
           "#00cc96",
           "#ab63fa",
           "#FFA15A",
           "#19d3f3",
           "#FF6692",
           "#B6E880",
           "#FF97FF",
           "#FECB52"
          ],
          "font": {
           "color": "#2a3f5f"
          },
          "geo": {
           "bgcolor": "white",
           "lakecolor": "white",
           "landcolor": "#E5ECF6",
           "showlakes": true,
           "showland": true,
           "subunitcolor": "white"
          },
          "hoverlabel": {
           "align": "left"
          },
          "hovermode": "closest",
          "mapbox": {
           "style": "light"
          },
          "paper_bgcolor": "white",
          "plot_bgcolor": "#E5ECF6",
          "polar": {
           "angularaxis": {
            "gridcolor": "white",
            "linecolor": "white",
            "ticks": ""
           },
           "bgcolor": "#E5ECF6",
           "radialaxis": {
            "gridcolor": "white",
            "linecolor": "white",
            "ticks": ""
           }
          },
          "scene": {
           "xaxis": {
            "backgroundcolor": "#E5ECF6",
            "gridcolor": "white",
            "gridwidth": 2,
            "linecolor": "white",
            "showbackground": true,
            "ticks": "",
            "zerolinecolor": "white"
           },
           "yaxis": {
            "backgroundcolor": "#E5ECF6",
            "gridcolor": "white",
            "gridwidth": 2,
            "linecolor": "white",
            "showbackground": true,
            "ticks": "",
            "zerolinecolor": "white"
           },
           "zaxis": {
            "backgroundcolor": "#E5ECF6",
            "gridcolor": "white",
            "gridwidth": 2,
            "linecolor": "white",
            "showbackground": true,
            "ticks": "",
            "zerolinecolor": "white"
           }
          },
          "shapedefaults": {
           "line": {
            "color": "#2a3f5f"
           }
          },
          "ternary": {
           "aaxis": {
            "gridcolor": "white",
            "linecolor": "white",
            "ticks": ""
           },
           "baxis": {
            "gridcolor": "white",
            "linecolor": "white",
            "ticks": ""
           },
           "bgcolor": "#E5ECF6",
           "caxis": {
            "gridcolor": "white",
            "linecolor": "white",
            "ticks": ""
           }
          },
          "title": {
           "x": 0.05
          },
          "xaxis": {
           "automargin": true,
           "gridcolor": "white",
           "linecolor": "white",
           "ticks": "",
           "title": {
            "standoff": 15
           },
           "zerolinecolor": "white",
           "zerolinewidth": 2
          },
          "yaxis": {
           "automargin": true,
           "gridcolor": "white",
           "linecolor": "white",
           "ticks": "",
           "title": {
            "standoff": 15
           },
           "zerolinecolor": "white",
           "zerolinewidth": 2
          }
         }
        },
        "title": {
         "text": "Win/Loss Ratio for Rublev A."
        },
        "xaxis": {
         "anchor": "y",
         "domain": [
          0,
          1
         ],
         "title": {
          "text": "Type"
         }
        },
        "yaxis": {
         "anchor": "x",
         "domain": [
          0,
          1
         ],
         "title": {
          "text": "Win/Loss_Val"
         }
        }
       }
      }
     },
     "metadata": {},
     "output_type": "display_data"
    },
    {
     "data": {
      "application/vnd.plotly.v1+json": {
       "config": {
        "plotlyServerURL": "https://plot.ly"
       },
       "data": [
        {
         "alignmentgroup": "True",
         "customdata": [
          [
           "Kremlin Cup",
           250,
           "Groth S."
          ],
          [
           "St. Petersburg Open",
           250,
           "Bolelli S."
          ],
          [
           "Kremlin Cup",
           250,
           "Kukushkin M."
          ],
          [
           "Valencia Open 500",
           500,
           "Rublev A."
          ],
          [
           "Valencia Open 500",
           500,
           "Bautista R."
          ],
          [
           "St. Petersburg Open",
           250,
           "Rublev A."
          ],
          [
           "St. Petersburg Open",
           250,
           "Sousa J."
          ],
          [
           "Open 13",
           250,
           "Marchenko I."
          ],
          [
           "Kremlin Cup",
           250,
           "Krajinovic F."
          ],
          [
           "Erste Bank Open",
           500,
           "Thiem D."
          ],
          [
           "Open Sud de France",
           250,
           "Rublev A."
          ],
          [
           "Open Sud de France",
           250,
           "Tsonga J.W."
          ],
          [
           "ABN AMRO World Tennis Tournament",
           500,
           "Rublev A."
          ],
          [
           "ABN AMRO World Tennis Tournament",
           500,
           "Dimitrov G."
          ],
          [
           "St. Petersburg Open",
           250,
           "Struff J.L."
          ],
          [
           "Kremlin Cup",
           250,
           "Kyrgios N."
          ],
          [
           "Erste Bank Open",
           500,
           "Rublev A."
          ],
          [
           "Erste Bank Open",
           500,
           "Kukushkin M."
          ],
          [
           "Open 13",
           250,
           "Rublev A."
          ],
          [
           "Open 13",
           250,
           "Kukushkin M."
          ],
          [
           "St. Petersburg Open",
           250,
           "Rublev A."
          ],
          [
           "St. Petersburg Open",
           250,
           "Medvedev D."
          ],
          [
           "Kremlin Cup",
           250,
           "Rublev A."
          ],
          [
           "Erste Bank Open",
           500,
           "Rublev A."
          ],
          [
           "Erste Bank Open",
           500,
           "Berrettini M."
          ],
          [
           "ABN AMRO World Tennis Tournament",
           500,
           "Rublev A."
          ],
          [
           "ABN AMRO World Tennis Tournament",
           500,
           "Krajinovic F."
          ],
          [
           "St. Petersburg Open",
           250,
           "Rublev A."
          ],
          [
           "Erste Bank Open",
           500,
           "Rublev A."
          ],
          [
           "ABN AMRO World Tennis Tournament",
           500,
           "Rublev A."
          ],
          [
           "Kremlin Cup",
           250,
           "Mannarino A."
          ],
          [
           "St. Petersburg Open",
           250,
           "Rublev A."
          ],
          [
           "St. Petersburg Open",
           250,
           "Van De Zandschulp B."
          ],
          [
           "ABN AMRO World Tennis Tournament",
           500,
           "Rublev A."
          ],
          [
           "ABN AMRO World Tennis Tournament",
           500,
           "Auger-Aliassime F."
          ]
         ],
         "hovertemplate": "Type=Indoor_Hard<br>Date=%{x}<br>RoundDraw=%{y}<br>FinalWinner=%{text}<br>Tournament=%{customdata[0]}<br>SeriesPoints=%{customdata[1]}<br>Winner=%{customdata[2]}<extra></extra>",
         "legendgroup": "Indoor_Hard",
         "marker": {
          "color": "#636efa",
          "pattern": {
           "shape": ""
          }
         },
         "name": "Indoor_Hard",
         "offsetgroup": "Indoor_Hard",
         "orientation": "v",
         "showlegend": true,
         "text": [
          "",
          "",
          "",
          "",
          "",
          "",
          "",
          "",
          "",
          "",
          "",
          "",
          "",
          "",
          "",
          "",
          "",
          "",
          "",
          "",
          "",
          "",
          "Winner",
          "",
          "",
          "",
          "",
          "Winner",
          "Winner",
          "Winner",
          "",
          "",
          "",
          "",
          ""
         ],
         "textposition": "auto",
         "type": "bar",
         "x": [
          "2014-10-14T00:00:00",
          "2015-09-23T00:00:00",
          "2015-10-20T00:00:00",
          "2015-10-28T00:00:00",
          "2015-10-29T00:00:00",
          "2016-09-21T00:00:00",
          "2016-09-22T00:00:00",
          "2017-02-21T00:00:00",
          "2017-10-17T00:00:00",
          "2017-10-24T00:00:00",
          "2018-02-05T00:00:00",
          "2018-02-09T00:00:00",
          "2018-02-14T00:00:00",
          "2018-02-16T00:00:00",
          "2018-09-18T00:00:00",
          "2018-10-16T00:00:00",
          "2018-10-22T00:00:00",
          "2018-10-25T00:00:00",
          "2019-02-19T00:00:00",
          "2019-02-22T00:00:00",
          "2019-09-17T00:00:00",
          "2019-09-20T00:00:00",
          "2019-10-15T00:00:00",
          "2019-10-23T00:00:00",
          "2019-10-25T00:00:00",
          "2020-02-11T00:00:00",
          "2020-02-14T00:00:00",
          "2020-10-13T00:00:00",
          "2020-10-26T00:00:00",
          "2021-03-02T00:00:00",
          "2021-10-21T00:00:00",
          "2021-10-27T00:00:00",
          "2021-10-29T00:00:00",
          "2022-02-08T00:00:00",
          "2022-02-12T00:00:00"
         ],
         "xaxis": "x",
         "y": [
          1,
          1,
          1,
          1,
          2,
          1,
          2,
          1,
          1,
          1,
          2,
          5,
          2,
          5,
          1,
          1,
          1,
          2,
          2,
          5,
          2,
          5,
          7,
          2,
          5,
          2,
          5,
          7,
          7,
          7,
          2,
          2,
          5,
          5,
          6
         ],
         "yaxis": "y"
        },
        {
         "alignmentgroup": "True",
         "customdata": [
          [
           "Delray Beach Open",
           250,
           "Rublev A."
          ],
          [
           "Delray Beach Open",
           250,
           "Johnson S."
          ],
          [
           "US Open",
           2000,
           "Anderson K."
          ],
          [
           "Chennai Open",
           250,
           "Rublev A."
          ],
          [
           "Chennai Open",
           250,
           "Wawrinka S."
          ],
          [
           "Australian Open",
           2000,
           "Rublev A."
          ],
          [
           "Australian Open",
           2000,
           "Murray A."
          ],
          [
           "Winston-Salem Open at Wake Forest University",
           250,
           "Rublev A."
          ],
          [
           "Winston-Salem Open at Wake Forest University",
           250,
           "Chung H."
          ],
          [
           "US Open",
           2000,
           "Rublev A."
          ],
          [
           "US Open",
           2000,
           "Nadal R."
          ],
          [
           "Chengdu Open",
           250,
           "Lu Y.H."
          ],
          [
           "China Open",
           500,
           "Rublev A."
          ],
          [
           "China Open",
           500,
           "Zverev A."
          ],
          [
           "Qatar Exxon Mobil Open",
           250,
           "Rublev A."
          ],
          [
           "Qatar Exxon Mobil Open",
           250,
           "Monfils G."
          ],
          [
           "Australian Open",
           2000,
           "Rublev A."
          ],
          [
           "Australian Open",
           2000,
           "Dimitrov G."
          ],
          [
           "Abierto Mexicano",
           500,
           "Ferrer D."
          ],
          [
           "Citi Open",
           500,
           "Rublev A."
          ],
          [
           "Citi Open",
           500,
           "De Minaur A."
          ],
          [
           "Winston-Salem Open at Wake Forest University",
           250,
           "Munar J."
          ],
          [
           "US Open",
           2000,
           "Chardy J."
          ],
          [
           "China Open",
           500,
           "Rublev A."
          ],
          [
           "China Open",
           500,
           "Fognini F."
          ],
          [
           "Qatar Exxon Mobil Open",
           250,
           "Basilashvili N."
          ],
          [
           "Sydney International",
           250,
           "Rublev A."
          ],
          [
           "Sydney International",
           250,
           "Nishioka Y."
          ],
          [
           "Australian Open",
           2000,
           "Mcdonald M."
          ],
          [
           "Citi Open",
           500,
           "Gojowczyk P."
          ],
          [
           "Winston-Salem Open at Wake Forest University",
           250,
           "Rublev A."
          ],
          [
           "Winston-Salem Open at Wake Forest University",
           250,
           "Shapovalov D."
          ],
          [
           "US Open",
           2000,
           "Rublev A."
          ],
          [
           "US Open",
           2000,
           "Berrettini M."
          ],
          [
           "China Open",
           500,
           "Rublev A."
          ],
          [
           "China Open",
           500,
           "Fognini F."
          ],
          [
           "Qatar Exxon Mobil Open",
           250,
           "Rublev A."
          ],
          [
           "ASB Classic",
           250,
           "Rublev A."
          ],
          [
           "Australian Open",
           2000,
           "Rublev A."
          ],
          [
           "Australian Open",
           2000,
           "Zverev A."
          ],
          [
           "Dubai Tennis Championships",
           500,
           "Rublev A."
          ],
          [
           "Dubai Tennis Championships",
           500,
           "Evans D."
          ],
          [
           "US Open",
           2000,
           "Rublev A."
          ],
          [
           "US Open",
           2000,
           "Medvedev D."
          ],
          [
           "Australian Open",
           2000,
           "Rublev A."
          ],
          [
           "Australian Open",
           2000,
           "Medvedev D."
          ],
          [
           "Qatar Exxon Mobil Open",
           250,
           "Rublev A."
          ],
          [
           "Qatar Exxon Mobil Open",
           250,
           "Bautista Agut R."
          ],
          [
           "Dubai Tennis Championships",
           500,
           "Rublev A."
          ],
          [
           "Dubai Tennis Championships",
           500,
           "Karatsev A."
          ],
          [
           "US Open",
           2000,
           "Rublev A."
          ],
          [
           "US Open",
           2000,
           "Tiafoe F."
          ],
          [
           "San Diego Open",
           250,
           "Rublev A."
          ],
          [
           "San Diego Open",
           250,
           "Norrie C."
          ],
          [
           "Australian Open",
           2000,
           "Rublev A."
          ],
          [
           "Australian Open",
           2000,
           "Cilic M."
          ]
         ],
         "hovertemplate": "Type=Outdoor_Hard<br>Date=%{x}<br>RoundDraw=%{y}<br>FinalWinner=%{text}<br>Tournament=%{customdata[0]}<br>SeriesPoints=%{customdata[1]}<br>Winner=%{customdata[2]}<extra></extra>",
         "legendgroup": "Outdoor_Hard",
         "marker": {
          "color": "#EF553B",
          "pattern": {
           "shape": ""
          }
         },
         "name": "Outdoor_Hard",
         "offsetgroup": "Outdoor_Hard",
         "orientation": "v",
         "showlegend": true,
         "text": [
          "",
          "",
          "",
          "",
          "",
          "",
          "",
          "",
          "",
          "",
          "",
          "",
          "",
          "",
          "",
          "Runner-Up",
          "",
          "",
          "",
          "",
          "",
          "",
          "",
          "",
          "",
          "",
          "",
          "",
          "",
          "",
          "",
          "",
          "",
          "",
          "",
          "",
          "Winner",
          "Winner",
          "",
          "",
          "",
          "",
          "",
          "",
          "",
          "",
          "",
          "",
          "",
          "",
          "",
          "",
          "",
          "",
          "",
          ""
         ],
         "textposition": "auto",
         "type": "bar",
         "x": [
          "2015-02-17T00:00:00",
          "2015-02-18T00:00:00",
          "2015-09-01T00:00:00",
          "2016-01-05T00:00:00",
          "2016-01-06T00:00:00",
          "2017-01-16T00:00:00",
          "2017-01-18T00:00:00",
          "2017-08-21T00:00:00",
          "2017-08-23T00:00:00",
          "2017-08-30T00:00:00",
          "2017-09-06T00:00:00",
          "2017-09-28T00:00:00",
          "2017-10-03T00:00:00",
          "2017-10-06T00:00:00",
          "2018-01-01T00:00:00",
          "2018-01-06T00:00:00",
          "2018-01-15T00:00:00",
          "2018-01-19T00:00:00",
          "2018-02-27T00:00:00",
          "2018-08-02T00:00:00",
          "2018-08-05T00:00:00",
          "2018-08-21T00:00:00",
          "2018-08-27T00:00:00",
          "2018-10-02T00:00:00",
          "2018-10-04T00:00:00",
          "2019-01-02T00:00:00",
          "2019-01-08T00:00:00",
          "2019-01-09T00:00:00",
          "2019-01-14T00:00:00",
          "2019-07-30T00:00:00",
          "2019-08-20T00:00:00",
          "2019-08-23T00:00:00",
          "2019-08-27T00:00:00",
          "2019-09-02T00:00:00",
          "2019-09-30T00:00:00",
          "2019-10-02T00:00:00",
          "2020-01-08T00:00:00",
          "2020-01-15T00:00:00",
          "2020-01-21T00:00:00",
          "2020-01-27T00:00:00",
          "2020-02-24T00:00:00",
          "2020-02-27T00:00:00",
          "2020-09-01T00:00:00",
          "2020-09-09T00:00:00",
          "2021-02-09T00:00:00",
          "2021-02-17T00:00:00",
          "2021-03-10T00:00:00",
          "2021-03-12T00:00:00",
          "2021-03-16T00:00:00",
          "2021-03-19T00:00:00",
          "2021-08-30T00:00:00",
          "2021-09-04T00:00:00",
          "2021-09-30T00:00:00",
          "2021-10-02T00:00:00",
          "2022-01-18T00:00:00",
          "2022-01-22T00:00:00"
         ],
         "xaxis": "x",
         "y": [
          1,
          2,
          1,
          1,
          2,
          1,
          2,
          1,
          2,
          4,
          5,
          2,
          2,
          5,
          6,
          7,
          2,
          3,
          1,
          5,
          6,
          2,
          1,
          1,
          2,
          2,
          1,
          2,
          1,
          1,
          3,
          5,
          3,
          4,
          1,
          2,
          7,
          7,
          3,
          4,
          2,
          5,
          4,
          5,
          4,
          5,
          5,
          6,
          5,
          6,
          2,
          3,
          5,
          6,
          2,
          3
         ],
         "yaxis": "y"
        },
        {
         "alignmentgroup": "True",
         "customdata": [
          [
           "Open Banco Sabadell",
           500,
           "Rublev A."
          ],
          [
           "Open Banco Sabadell",
           500,
           "Fognini F."
          ],
          [
           "Istanbul Open",
           250,
           "Rublev A."
          ],
          [
           "Istanbul Open",
           250,
           "Giraldo S."
          ],
          [
           "Geneva Open",
           250,
           "Rublev A."
          ],
          [
           "Geneva Open",
           250,
           "Cilic M."
          ],
          [
           "Konzum Croatia Open",
           250,
           "Kavcic B."
          ],
          [
           "Suisse Open Gstaad",
           250,
           "Zeballos H."
          ],
          [
           "Istanbul Open",
           250,
           "Sela D."
          ],
          [
           "French Open",
           2000,
           "Schwartzman D."
          ],
          [
           "Croatia Open",
           250,
           "Rublev A."
          ],
          [
           "German Tennis Championships",
           500,
           "Kohlschreiber P."
          ],
          [
           "Croatia Open",
           250,
           "Rublev A."
          ],
          [
           "Croatia Open",
           250,
           "Haase R."
          ],
          [
           "Suisse Open Gstaad",
           250,
           "Berrettini M."
          ],
          [
           "Croatia Open",
           250,
           "Rublev A."
          ],
          [
           "Croatia Open",
           250,
           "Lajovic D."
          ],
          [
           "German Tennis Championships",
           500,
           "Rublev A."
          ],
          [
           "German Tennis Championships",
           500,
           "Basilashvili N."
          ],
          [
           "German Tennis Championships",
           500,
           "Rublev A."
          ],
          [
           "French Open",
           2000,
           "Rublev A."
          ],
          [
           "French Open",
           2000,
           "Tsitsipas S."
          ],
          [
           "Barcelona Open",
           500,
           "Rublev A."
          ],
          [
           "Barcelona Open",
           500,
           "Sinner J."
          ],
          [
           "French Open",
           2000,
           "Struff J.L."
          ]
         ],
         "hovertemplate": "Type=Outdoor_Clay<br>Date=%{x}<br>RoundDraw=%{y}<br>FinalWinner=%{text}<br>Tournament=%{customdata[0]}<br>SeriesPoints=%{customdata[1]}<br>Winner=%{customdata[2]}<extra></extra>",
         "legendgroup": "Outdoor_Clay",
         "marker": {
          "color": "#00cc96",
          "pattern": {
           "shape": ""
          }
         },
         "name": "Outdoor_Clay",
         "offsetgroup": "Outdoor_Clay",
         "orientation": "v",
         "showlegend": true,
         "text": [
          "",
          "",
          "",
          "",
          "",
          "",
          "",
          "",
          "",
          "",
          "Winner",
          "",
          "",
          "",
          "",
          "",
          "",
          "",
          "Runner-Up",
          "Winner",
          "",
          "",
          "",
          "",
          ""
         ],
         "textposition": "auto",
         "type": "bar",
         "x": [
          "2015-04-21T00:00:00",
          "2015-04-22T00:00:00",
          "2015-04-28T00:00:00",
          "2015-04-29T00:00:00",
          "2015-05-17T00:00:00",
          "2015-05-19T00:00:00",
          "2015-07-22T00:00:00",
          "2015-07-27T00:00:00",
          "2016-04-25T00:00:00",
          "2017-05-29T00:00:00",
          "2017-07-18T00:00:00",
          "2017-07-25T00:00:00",
          "2018-07-19T00:00:00",
          "2018-07-20T00:00:00",
          "2018-07-25T00:00:00",
          "2019-07-16T00:00:00",
          "2019-07-18T00:00:00",
          "2019-07-22T00:00:00",
          "2019-07-28T00:00:00",
          "2020-09-21T00:00:00",
          "2020-09-29T00:00:00",
          "2020-10-07T00:00:00",
          "2021-04-21T00:00:00",
          "2021-04-23T00:00:00",
          "2021-06-01T00:00:00"
         ],
         "xaxis": "x",
         "y": [
          1,
          2,
          1,
          2,
          1,
          2,
          1,
          1,
          1,
          1,
          7,
          1,
          2,
          5,
          2,
          1,
          2,
          6,
          7,
          7,
          4,
          5,
          3,
          5,
          1
         ],
         "yaxis": "y"
        },
        {
         "alignmentgroup": "True",
         "customdata": [
          [
           "Gerry Weber Open",
           500,
           "Rublev A."
          ],
          [
           "Gerry Weber Open",
           500,
           "Khachanov K."
          ],
          [
           "Wimbledon",
           2000,
           "Rublev A."
          ],
          [
           "Wimbledon",
           2000,
           "Ramos-Vinolas A."
          ],
          [
           "Wimbledon",
           2000,
           "Rublev A."
          ],
          [
           "Wimbledon",
           2000,
           "Querrey S."
          ],
          [
           "Halle Open",
           500,
           "Rublev A."
          ],
          [
           "Halle Open",
           500,
           "Humbert U."
          ],
          [
           "Wimbledon",
           2000,
           "Rublev A."
          ],
          [
           "Wimbledon",
           2000,
           "Fucsovics M."
          ]
         ],
         "hovertemplate": "Type=Outdoor_Grass<br>Date=%{x}<br>RoundDraw=%{y}<br>FinalWinner=%{text}<br>Tournament=%{customdata[0]}<br>SeriesPoints=%{customdata[1]}<br>Winner=%{customdata[2]}<extra></extra>",
         "legendgroup": "Outdoor_Grass",
         "marker": {
          "color": "#ab63fa",
          "pattern": {
           "shape": ""
          }
         },
         "name": "Outdoor_Grass",
         "offsetgroup": "Outdoor_Grass",
         "orientation": "v",
         "showlegend": true,
         "text": [
          "",
          "",
          "",
          "",
          "",
          "",
          "",
          "Runner-Up",
          "",
          ""
         ],
         "textposition": "auto",
         "type": "bar",
         "x": [
          "2017-06-19T00:00:00",
          "2017-06-23T00:00:00",
          "2017-07-04T00:00:00",
          "2017-07-06T00:00:00",
          "2019-07-02T00:00:00",
          "2019-07-04T00:00:00",
          "2021-06-15T00:00:00",
          "2021-06-20T00:00:00",
          "2021-06-28T00:00:00",
          "2021-07-05T00:00:00"
         ],
         "xaxis": "x",
         "y": [
          2,
          5,
          1,
          2,
          1,
          2,
          6,
          7,
          3,
          4
         ],
         "yaxis": "y"
        }
       ],
       "layout": {
        "barmode": "relative",
        "legend": {
         "title": {
          "text": "Type"
         },
         "tracegroupgap": 0
        },
        "shapes": [
         {
          "line": {
           "color": "gold",
           "dash": "dash",
           "width": 3
          },
          "type": "line",
          "x0": 0,
          "x1": 1,
          "xref": "x domain",
          "y0": 7,
          "y1": 7,
          "yref": "y"
         }
        ],
        "template": {
         "data": {
          "bar": [
           {
            "error_x": {
             "color": "#2a3f5f"
            },
            "error_y": {
             "color": "#2a3f5f"
            },
            "marker": {
             "line": {
              "color": "#E5ECF6",
              "width": 0.5
             },
             "pattern": {
              "fillmode": "overlay",
              "size": 10,
              "solidity": 0.2
             }
            },
            "type": "bar"
           }
          ],
          "barpolar": [
           {
            "marker": {
             "line": {
              "color": "#E5ECF6",
              "width": 0.5
             },
             "pattern": {
              "fillmode": "overlay",
              "size": 10,
              "solidity": 0.2
             }
            },
            "type": "barpolar"
           }
          ],
          "carpet": [
           {
            "aaxis": {
             "endlinecolor": "#2a3f5f",
             "gridcolor": "white",
             "linecolor": "white",
             "minorgridcolor": "white",
             "startlinecolor": "#2a3f5f"
            },
            "baxis": {
             "endlinecolor": "#2a3f5f",
             "gridcolor": "white",
             "linecolor": "white",
             "minorgridcolor": "white",
             "startlinecolor": "#2a3f5f"
            },
            "type": "carpet"
           }
          ],
          "choropleth": [
           {
            "colorbar": {
             "outlinewidth": 0,
             "ticks": ""
            },
            "type": "choropleth"
           }
          ],
          "contour": [
           {
            "colorbar": {
             "outlinewidth": 0,
             "ticks": ""
            },
            "colorscale": [
             [
              0,
              "#0d0887"
             ],
             [
              0.1111111111111111,
              "#46039f"
             ],
             [
              0.2222222222222222,
              "#7201a8"
             ],
             [
              0.3333333333333333,
              "#9c179e"
             ],
             [
              0.4444444444444444,
              "#bd3786"
             ],
             [
              0.5555555555555556,
              "#d8576b"
             ],
             [
              0.6666666666666666,
              "#ed7953"
             ],
             [
              0.7777777777777778,
              "#fb9f3a"
             ],
             [
              0.8888888888888888,
              "#fdca26"
             ],
             [
              1,
              "#f0f921"
             ]
            ],
            "type": "contour"
           }
          ],
          "contourcarpet": [
           {
            "colorbar": {
             "outlinewidth": 0,
             "ticks": ""
            },
            "type": "contourcarpet"
           }
          ],
          "heatmap": [
           {
            "colorbar": {
             "outlinewidth": 0,
             "ticks": ""
            },
            "colorscale": [
             [
              0,
              "#0d0887"
             ],
             [
              0.1111111111111111,
              "#46039f"
             ],
             [
              0.2222222222222222,
              "#7201a8"
             ],
             [
              0.3333333333333333,
              "#9c179e"
             ],
             [
              0.4444444444444444,
              "#bd3786"
             ],
             [
              0.5555555555555556,
              "#d8576b"
             ],
             [
              0.6666666666666666,
              "#ed7953"
             ],
             [
              0.7777777777777778,
              "#fb9f3a"
             ],
             [
              0.8888888888888888,
              "#fdca26"
             ],
             [
              1,
              "#f0f921"
             ]
            ],
            "type": "heatmap"
           }
          ],
          "heatmapgl": [
           {
            "colorbar": {
             "outlinewidth": 0,
             "ticks": ""
            },
            "colorscale": [
             [
              0,
              "#0d0887"
             ],
             [
              0.1111111111111111,
              "#46039f"
             ],
             [
              0.2222222222222222,
              "#7201a8"
             ],
             [
              0.3333333333333333,
              "#9c179e"
             ],
             [
              0.4444444444444444,
              "#bd3786"
             ],
             [
              0.5555555555555556,
              "#d8576b"
             ],
             [
              0.6666666666666666,
              "#ed7953"
             ],
             [
              0.7777777777777778,
              "#fb9f3a"
             ],
             [
              0.8888888888888888,
              "#fdca26"
             ],
             [
              1,
              "#f0f921"
             ]
            ],
            "type": "heatmapgl"
           }
          ],
          "histogram": [
           {
            "marker": {
             "pattern": {
              "fillmode": "overlay",
              "size": 10,
              "solidity": 0.2
             }
            },
            "type": "histogram"
           }
          ],
          "histogram2d": [
           {
            "colorbar": {
             "outlinewidth": 0,
             "ticks": ""
            },
            "colorscale": [
             [
              0,
              "#0d0887"
             ],
             [
              0.1111111111111111,
              "#46039f"
             ],
             [
              0.2222222222222222,
              "#7201a8"
             ],
             [
              0.3333333333333333,
              "#9c179e"
             ],
             [
              0.4444444444444444,
              "#bd3786"
             ],
             [
              0.5555555555555556,
              "#d8576b"
             ],
             [
              0.6666666666666666,
              "#ed7953"
             ],
             [
              0.7777777777777778,
              "#fb9f3a"
             ],
             [
              0.8888888888888888,
              "#fdca26"
             ],
             [
              1,
              "#f0f921"
             ]
            ],
            "type": "histogram2d"
           }
          ],
          "histogram2dcontour": [
           {
            "colorbar": {
             "outlinewidth": 0,
             "ticks": ""
            },
            "colorscale": [
             [
              0,
              "#0d0887"
             ],
             [
              0.1111111111111111,
              "#46039f"
             ],
             [
              0.2222222222222222,
              "#7201a8"
             ],
             [
              0.3333333333333333,
              "#9c179e"
             ],
             [
              0.4444444444444444,
              "#bd3786"
             ],
             [
              0.5555555555555556,
              "#d8576b"
             ],
             [
              0.6666666666666666,
              "#ed7953"
             ],
             [
              0.7777777777777778,
              "#fb9f3a"
             ],
             [
              0.8888888888888888,
              "#fdca26"
             ],
             [
              1,
              "#f0f921"
             ]
            ],
            "type": "histogram2dcontour"
           }
          ],
          "mesh3d": [
           {
            "colorbar": {
             "outlinewidth": 0,
             "ticks": ""
            },
            "type": "mesh3d"
           }
          ],
          "parcoords": [
           {
            "line": {
             "colorbar": {
              "outlinewidth": 0,
              "ticks": ""
             }
            },
            "type": "parcoords"
           }
          ],
          "pie": [
           {
            "automargin": true,
            "type": "pie"
           }
          ],
          "scatter": [
           {
            "fillpattern": {
             "fillmode": "overlay",
             "size": 10,
             "solidity": 0.2
            },
            "type": "scatter"
           }
          ],
          "scatter3d": [
           {
            "line": {
             "colorbar": {
              "outlinewidth": 0,
              "ticks": ""
             }
            },
            "marker": {
             "colorbar": {
              "outlinewidth": 0,
              "ticks": ""
             }
            },
            "type": "scatter3d"
           }
          ],
          "scattercarpet": [
           {
            "marker": {
             "colorbar": {
              "outlinewidth": 0,
              "ticks": ""
             }
            },
            "type": "scattercarpet"
           }
          ],
          "scattergeo": [
           {
            "marker": {
             "colorbar": {
              "outlinewidth": 0,
              "ticks": ""
             }
            },
            "type": "scattergeo"
           }
          ],
          "scattergl": [
           {
            "marker": {
             "colorbar": {
              "outlinewidth": 0,
              "ticks": ""
             }
            },
            "type": "scattergl"
           }
          ],
          "scattermapbox": [
           {
            "marker": {
             "colorbar": {
              "outlinewidth": 0,
              "ticks": ""
             }
            },
            "type": "scattermapbox"
           }
          ],
          "scatterpolar": [
           {
            "marker": {
             "colorbar": {
              "outlinewidth": 0,
              "ticks": ""
             }
            },
            "type": "scatterpolar"
           }
          ],
          "scatterpolargl": [
           {
            "marker": {
             "colorbar": {
              "outlinewidth": 0,
              "ticks": ""
             }
            },
            "type": "scatterpolargl"
           }
          ],
          "scatterternary": [
           {
            "marker": {
             "colorbar": {
              "outlinewidth": 0,
              "ticks": ""
             }
            },
            "type": "scatterternary"
           }
          ],
          "surface": [
           {
            "colorbar": {
             "outlinewidth": 0,
             "ticks": ""
            },
            "colorscale": [
             [
              0,
              "#0d0887"
             ],
             [
              0.1111111111111111,
              "#46039f"
             ],
             [
              0.2222222222222222,
              "#7201a8"
             ],
             [
              0.3333333333333333,
              "#9c179e"
             ],
             [
              0.4444444444444444,
              "#bd3786"
             ],
             [
              0.5555555555555556,
              "#d8576b"
             ],
             [
              0.6666666666666666,
              "#ed7953"
             ],
             [
              0.7777777777777778,
              "#fb9f3a"
             ],
             [
              0.8888888888888888,
              "#fdca26"
             ],
             [
              1,
              "#f0f921"
             ]
            ],
            "type": "surface"
           }
          ],
          "table": [
           {
            "cells": {
             "fill": {
              "color": "#EBF0F8"
             },
             "line": {
              "color": "white"
             }
            },
            "header": {
             "fill": {
              "color": "#C8D4E3"
             },
             "line": {
              "color": "white"
             }
            },
            "type": "table"
           }
          ]
         },
         "layout": {
          "annotationdefaults": {
           "arrowcolor": "#2a3f5f",
           "arrowhead": 0,
           "arrowwidth": 1
          },
          "autotypenumbers": "strict",
          "coloraxis": {
           "colorbar": {
            "outlinewidth": 0,
            "ticks": ""
           }
          },
          "colorscale": {
           "diverging": [
            [
             0,
             "#8e0152"
            ],
            [
             0.1,
             "#c51b7d"
            ],
            [
             0.2,
             "#de77ae"
            ],
            [
             0.3,
             "#f1b6da"
            ],
            [
             0.4,
             "#fde0ef"
            ],
            [
             0.5,
             "#f7f7f7"
            ],
            [
             0.6,
             "#e6f5d0"
            ],
            [
             0.7,
             "#b8e186"
            ],
            [
             0.8,
             "#7fbc41"
            ],
            [
             0.9,
             "#4d9221"
            ],
            [
             1,
             "#276419"
            ]
           ],
           "sequential": [
            [
             0,
             "#0d0887"
            ],
            [
             0.1111111111111111,
             "#46039f"
            ],
            [
             0.2222222222222222,
             "#7201a8"
            ],
            [
             0.3333333333333333,
             "#9c179e"
            ],
            [
             0.4444444444444444,
             "#bd3786"
            ],
            [
             0.5555555555555556,
             "#d8576b"
            ],
            [
             0.6666666666666666,
             "#ed7953"
            ],
            [
             0.7777777777777778,
             "#fb9f3a"
            ],
            [
             0.8888888888888888,
             "#fdca26"
            ],
            [
             1,
             "#f0f921"
            ]
           ],
           "sequentialminus": [
            [
             0,
             "#0d0887"
            ],
            [
             0.1111111111111111,
             "#46039f"
            ],
            [
             0.2222222222222222,
             "#7201a8"
            ],
            [
             0.3333333333333333,
             "#9c179e"
            ],
            [
             0.4444444444444444,
             "#bd3786"
            ],
            [
             0.5555555555555556,
             "#d8576b"
            ],
            [
             0.6666666666666666,
             "#ed7953"
            ],
            [
             0.7777777777777778,
             "#fb9f3a"
            ],
            [
             0.8888888888888888,
             "#fdca26"
            ],
            [
             1,
             "#f0f921"
            ]
           ]
          },
          "colorway": [
           "#636efa",
           "#EF553B",
           "#00cc96",
           "#ab63fa",
           "#FFA15A",
           "#19d3f3",
           "#FF6692",
           "#B6E880",
           "#FF97FF",
           "#FECB52"
          ],
          "font": {
           "color": "#2a3f5f"
          },
          "geo": {
           "bgcolor": "white",
           "lakecolor": "white",
           "landcolor": "#E5ECF6",
           "showlakes": true,
           "showland": true,
           "subunitcolor": "white"
          },
          "hoverlabel": {
           "align": "left"
          },
          "hovermode": "closest",
          "mapbox": {
           "style": "light"
          },
          "paper_bgcolor": "white",
          "plot_bgcolor": "#E5ECF6",
          "polar": {
           "angularaxis": {
            "gridcolor": "white",
            "linecolor": "white",
            "ticks": ""
           },
           "bgcolor": "#E5ECF6",
           "radialaxis": {
            "gridcolor": "white",
            "linecolor": "white",
            "ticks": ""
           }
          },
          "scene": {
           "xaxis": {
            "backgroundcolor": "#E5ECF6",
            "gridcolor": "white",
            "gridwidth": 2,
            "linecolor": "white",
            "showbackground": true,
            "ticks": "",
            "zerolinecolor": "white"
           },
           "yaxis": {
            "backgroundcolor": "#E5ECF6",
            "gridcolor": "white",
            "gridwidth": 2,
            "linecolor": "white",
            "showbackground": true,
            "ticks": "",
            "zerolinecolor": "white"
           },
           "zaxis": {
            "backgroundcolor": "#E5ECF6",
            "gridcolor": "white",
            "gridwidth": 2,
            "linecolor": "white",
            "showbackground": true,
            "ticks": "",
            "zerolinecolor": "white"
           }
          },
          "shapedefaults": {
           "line": {
            "color": "#2a3f5f"
           }
          },
          "ternary": {
           "aaxis": {
            "gridcolor": "white",
            "linecolor": "white",
            "ticks": ""
           },
           "baxis": {
            "gridcolor": "white",
            "linecolor": "white",
            "ticks": ""
           },
           "bgcolor": "#E5ECF6",
           "caxis": {
            "gridcolor": "white",
            "linecolor": "white",
            "ticks": ""
           }
          },
          "title": {
           "x": 0.05
          },
          "xaxis": {
           "automargin": true,
           "gridcolor": "white",
           "linecolor": "white",
           "ticks": "",
           "title": {
            "standoff": 15
           },
           "zerolinecolor": "white",
           "zerolinewidth": 2
          },
          "yaxis": {
           "automargin": true,
           "gridcolor": "white",
           "linecolor": "white",
           "ticks": "",
           "title": {
            "standoff": 15
           },
           "zerolinecolor": "white",
           "zerolinewidth": 2
          }
         }
        },
        "title": {
         "text": "Tournament Performance for Rublev A."
        },
        "xaxis": {
         "anchor": "y",
         "categoryorder": "category ascending",
         "domain": [
          0,
          1
         ],
         "title": {
          "text": "Date"
         },
         "type": "category"
        },
        "yaxis": {
         "anchor": "x",
         "domain": [
          0,
          1
         ],
         "title": {
          "text": "RoundDraw"
         }
        }
       }
      }
     },
     "metadata": {},
     "output_type": "display_data"
    },
    {
     "data": {
      "application/vnd.plotly.v1+json": {
       "config": {
        "plotlyServerURL": "https://plot.ly"
       },
       "data": [
        {
         "alignmentgroup": "True",
         "customdata": [
          [
           "Chile Open",
           "2020-02-26T00:00:00"
          ],
          [
           "Chile Open",
           "2020-02-29T00:00:00"
          ],
          [
           "Chile Open",
           "2020-02-28T00:00:00"
          ],
          [
           "Brasil Open",
           "2019-03-01T00:00:00"
          ],
          [
           "Brasil Open",
           "2017-02-28T00:00:00"
          ],
          [
           "Brasil Open",
           "2019-02-27T00:00:00"
          ],
          [
           "Brasil Open",
           "2019-02-28T00:00:00"
          ],
          [
           "St. Petersburg Open",
           "2019-09-19T00:00:00"
          ],
          [
           "Vienna Open",
           "2021-10-28T00:00:00"
          ],
          [
           "Vienna Open",
           "2021-10-26T00:00:00"
          ],
          [
           "St. Petersburg Open",
           "2019-09-18T00:00:00"
          ],
          [
           "Argentina Open",
           "2020-02-15T00:00:00"
          ],
          [
           "French Open",
           "2019-05-29T00:00:00"
          ],
          [
           "French Open",
           "2020-09-30T00:00:00"
          ],
          [
           "French Open",
           "2021-06-02T00:00:00"
          ],
          [
           "Generali Open",
           "2019-07-31T00:00:00"
          ],
          [
           "U.S. Men's Clay Court Championships",
           "2019-04-13T00:00:00"
          ],
          [
           "SkiStar Swedish Open",
           "2018-07-19T00:00:00"
          ],
          [
           "U.S. Men's Clay Court Championships",
           "2019-04-11T00:00:00"
          ],
          [
           "German Tennis Championships",
           "2020-09-24T00:00:00"
          ],
          [
           "Generali Open",
           "2021-07-28T00:00:00"
          ],
          [
           "Argentina Open",
           "2022-02-12T00:00:00"
          ],
          [
           "Rio Open",
           "2017-02-24T00:00:00"
          ],
          [
           "German Tennis Championships",
           "2020-09-25T00:00:00"
          ],
          [
           "Nordea Open",
           "2021-07-17T00:00:00"
          ],
          [
           "Generali Open",
           "2019-08-01T00:00:00"
          ],
          [
           "U.S. Men's Clay Court Championships",
           "2019-04-12T00:00:00"
          ],
          [
           "Argentina Open",
           "2020-02-14T00:00:00"
          ],
          [
           "Suisse Open Gstaad",
           "2021-07-24T00:00:00"
          ],
          [
           "Generali Open",
           "2021-07-29T00:00:00"
          ],
          [
           "Suisse Open Gstaad",
           "2021-07-23T00:00:00"
          ],
          [
           "Nordea Open",
           "2021-07-16T00:00:00"
          ],
          [
           "Geneva Open",
           "2021-05-20T00:00:00"
          ],
          [
           "BMW Open",
           "2021-05-01T00:00:00"
          ],
          [
           "Generali Open",
           "2021-07-30T00:00:00"
          ],
          [
           "Rio Open",
           "2017-02-23T00:00:00"
          ],
          [
           "Rio Open",
           "2019-02-21T00:00:00"
          ],
          [
           "Argentina Open",
           "2022-02-11T00:00:00"
          ],
          [
           "Geneva Open",
           "2021-05-21T00:00:00"
          ],
          [
           "Suisse Open Gstaad",
           "2021-07-25T00:00:00"
          ],
          [
           "Argentina Open",
           "2020-02-12T00:00:00"
          ],
          [
           "French Open",
           "2019-05-26T00:00:00"
          ],
          [
           "French Open",
           "2020-09-28T00:00:00"
          ],
          [
           "Argentina Open",
           "2020-02-16T00:00:00"
          ],
          [
           "French Open",
           "2021-05-31T00:00:00"
          ],
          [
           "SkiStar Swedish Open",
           "2018-07-16T00:00:00"
          ],
          [
           "BMW Open",
           "2018-05-01T00:00:00"
          ],
          [
           "Ecuador Open",
           "2018-02-05T00:00:00"
          ],
          [
           "Generali Open",
           "2019-07-30T00:00:00"
          ],
          [
           "U.S. Men's Clay Court Championships",
           "2019-04-08T00:00:00"
          ],
          [
           "Argentina Open",
           "2020-02-10T00:00:00"
          ],
          [
           "French Open",
           "2018-05-28T00:00:00"
          ],
          [
           "Nordea Open",
           "2021-07-18T00:00:00"
          ],
          [
           "Generali Open",
           "2021-07-31T00:00:00"
          ],
          [
           "Argentina Open",
           "2022-02-09T00:00:00"
          ],
          [
           "BMW Open",
           "2021-04-28T00:00:00"
          ],
          [
           "Argentina Open",
           "2022-02-13T00:00:00"
          ],
          [
           "Geneva Open",
           "2021-05-22T00:00:00"
          ],
          [
           "Open Banco Sabadell ",
           "2017-04-24T00:00:00"
          ],
          [
           "Rio Open",
           "2017-02-20T00:00:00"
          ],
          [
           "Geneva Open",
           "2021-05-19T00:00:00"
          ],
          [
           "Nordea Open",
           "2021-07-15T00:00:00"
          ],
          [
           "German Tennis Championships",
           "2019-07-23T00:00:00"
          ],
          [
           "Suisse Open Gstaad",
           "2021-07-22T00:00:00"
          ],
          [
           "Rio Open",
           "2019-02-19T00:00:00"
          ],
          [
           "German Tennis Championships",
           "2020-09-23T00:00:00"
          ],
          [
           "Mallorca Championships",
           "2021-06-22T00:00:00"
          ],
          [
           "Mallorca Championships",
           "2021-06-21T00:00:00"
          ],
          [
           "San Diego Open",
           "2021-10-04T00:00:00"
          ],
          [
           "San Diego Open",
           "2021-10-03T00:00:00"
          ],
          [
           "Australian Open",
           "2021-02-13T00:00:00"
          ],
          [
           "Australian Open",
           "2021-02-11T00:00:00"
          ],
          [
           "San Diego Open",
           "2021-10-02T00:00:00"
          ],
          [
           "Australian Open",
           "2021-02-09T00:00:00"
          ],
          [
           "US Open",
           "2021-08-30T00:00:00"
          ],
          [
           "US Open",
           "2020-09-01T00:00:00"
          ],
          [
           "Australian Open",
           "2018-01-15T00:00:00"
          ],
          [
           "Abierto Mexicano",
           "2021-03-17T00:00:00"
          ],
          [
           "AnyTech365 Andalucia Open",
           "2021-04-08T00:00:00"
          ],
          [
           "San Diego Open",
           "2021-10-01T00:00:00"
          ],
          [
           "Winston-Salem Open at Wake Forest University",
           "2019-08-20T00:00:00"
          ],
          [
           "US Open",
           "2020-09-03T00:00:00"
          ],
          [
           "Abierto Mexicano",
           "2021-03-18T00:00:00"
          ]
         ],
         "hovertemplate": "Win/Loss=Win<br>Type=%{x}<br>Win/Loss_Val=%{y}<br>Tournament=%{customdata[0]}<br>Date=%{customdata[1]}<extra></extra>",
         "legendgroup": "Win",
         "marker": {
          "color": "green",
          "pattern": {
           "shape": ""
          }
         },
         "name": "Win",
         "offsetgroup": "Win",
         "orientation": "v",
         "showlegend": true,
         "textposition": "auto",
         "type": "bar",
         "x": [
          "Indoor_Clay",
          "Indoor_Clay",
          "Indoor_Clay",
          "Indoor_Clay",
          "Indoor_Clay",
          "Indoor_Clay",
          "Indoor_Clay",
          "Indoor_Hard",
          "Indoor_Hard",
          "Indoor_Hard",
          "Indoor_Hard",
          "Outdoor_Clay",
          "Outdoor_Clay",
          "Outdoor_Clay",
          "Outdoor_Clay",
          "Outdoor_Clay",
          "Outdoor_Clay",
          "Outdoor_Clay",
          "Outdoor_Clay",
          "Outdoor_Clay",
          "Outdoor_Clay",
          "Outdoor_Clay",
          "Outdoor_Clay",
          "Outdoor_Clay",
          "Outdoor_Clay",
          "Outdoor_Clay",
          "Outdoor_Clay",
          "Outdoor_Clay",
          "Outdoor_Clay",
          "Outdoor_Clay",
          "Outdoor_Clay",
          "Outdoor_Clay",
          "Outdoor_Clay",
          "Outdoor_Clay",
          "Outdoor_Clay",
          "Outdoor_Clay",
          "Outdoor_Clay",
          "Outdoor_Clay",
          "Outdoor_Clay",
          "Outdoor_Clay",
          "Outdoor_Clay",
          "Outdoor_Clay",
          "Outdoor_Clay",
          "Outdoor_Clay",
          "Outdoor_Clay",
          "Outdoor_Clay",
          "Outdoor_Clay",
          "Outdoor_Clay",
          "Outdoor_Clay",
          "Outdoor_Clay",
          "Outdoor_Clay",
          "Outdoor_Clay",
          "Outdoor_Clay",
          "Outdoor_Clay",
          "Outdoor_Clay",
          "Outdoor_Clay",
          "Outdoor_Clay",
          "Outdoor_Clay",
          "Outdoor_Clay",
          "Outdoor_Clay",
          "Outdoor_Clay",
          "Outdoor_Clay",
          "Outdoor_Clay",
          "Outdoor_Clay",
          "Outdoor_Clay",
          "Outdoor_Clay",
          "Outdoor_Grass",
          "Outdoor_Grass",
          "Outdoor_Hard",
          "Outdoor_Hard",
          "Outdoor_Hard",
          "Outdoor_Hard",
          "Outdoor_Hard",
          "Outdoor_Hard",
          "Outdoor_Hard",
          "Outdoor_Hard",
          "Outdoor_Hard",
          "Outdoor_Hard",
          "Outdoor_Hard",
          "Outdoor_Hard",
          "Outdoor_Hard",
          "Outdoor_Hard",
          "Outdoor_Hard"
         ],
         "xaxis": "x",
         "y": [
          1,
          1,
          1,
          1,
          1,
          1,
          1,
          1,
          1,
          1,
          1,
          1,
          1,
          1,
          1,
          1,
          1,
          1,
          1,
          1,
          1,
          1,
          1,
          1,
          1,
          1,
          1,
          1,
          1,
          1,
          1,
          1,
          1,
          1,
          1,
          1,
          1,
          1,
          1,
          1,
          1,
          1,
          1,
          1,
          1,
          1,
          1,
          1,
          1,
          1,
          1,
          1,
          1,
          1,
          1,
          1,
          1,
          1,
          1,
          1,
          1,
          1,
          1,
          1,
          1,
          1,
          1,
          1,
          1,
          1,
          1,
          1,
          1,
          1,
          1,
          1,
          1,
          1,
          1,
          1,
          1,
          1,
          1
         ],
         "yaxis": "y"
        },
        {
         "alignmentgroup": "True",
         "customdata": [
          [
           "Chile Open",
           "2020-03-01T00:00:00"
          ],
          [
           "Brasil Open",
           "2019-03-02T00:00:00"
          ],
          [
           "Brasil Open",
           "2017-03-01T00:00:00"
          ],
          [
           "Stockholm Open",
           "2019-10-15T00:00:00"
          ],
          [
           "St. Petersburg Open",
           "2019-09-20T00:00:00"
          ],
          [
           "Erste Bank Open",
           "2020-10-28T00:00:00"
          ],
          [
           "Vienna Open",
           "2021-10-29T00:00:00"
          ],
          [
           "French Open",
           "2018-05-31T00:00:00"
          ],
          [
           "French Open",
           "2019-05-31T00:00:00"
          ],
          [
           "BMW Open",
           "2018-05-03T00:00:00"
          ],
          [
           "Ecuador Open",
           "2018-02-08T00:00:00"
          ],
          [
           "German Tennis Championships",
           "2019-07-24T00:00:00"
          ],
          [
           "Rio Open",
           "2019-02-22T00:00:00"
          ],
          [
           "SkiStar Swedish Open",
           "2018-07-20T00:00:00"
          ],
          [
           "Forte Village Sardegna Open",
           "2020-10-15T00:00:00"
          ],
          [
           "Open Banco Sabadell ",
           "2017-04-26T00:00:00"
          ],
          [
           "Generali Open",
           "2019-08-02T00:00:00"
          ],
          [
           "U.S. Men's Clay Court Championships",
           "2019-04-14T00:00:00"
          ],
          [
           "BMW Open",
           "2017-05-02T00:00:00"
          ],
          [
           "French Open",
           "2021-06-04T00:00:00"
          ],
          [
           "SkiStar Swedish Open",
           "2019-07-16T00:00:00"
          ],
          [
           "French Open",
           "2020-10-02T00:00:00"
          ],
          [
           "Rio Open",
           "2020-02-18T00:00:00"
          ],
          [
           "Rio Open",
           "2017-02-25T00:00:00"
          ],
          [
           "German Tennis Championships",
           "2018-07-23T00:00:00"
          ],
          [
           "Rio Open",
           "2018-02-20T00:00:00"
          ],
          [
           "BMW Open",
           "2021-05-01T00:00:00"
          ],
          [
           "German Tennis Championships",
           "2020-09-26T00:00:00"
          ],
          [
           "Wimbledon",
           "2021-06-30T00:00:00"
          ],
          [
           "Mallorca Championships",
           "2021-06-24T00:00:00"
          ],
          [
           "Wimbledon",
           "2019-07-02T00:00:00"
          ],
          [
           "US Open",
           "2020-09-05T00:00:00"
          ],
          [
           "Winston-Salem Open at Wake Forest University",
           "2019-08-21T00:00:00"
          ],
          [
           "Adelaide International",
           "2020-01-13T00:00:00"
          ],
          [
           "Zhuhai Open",
           "2019-09-24T00:00:00"
          ],
          [
           "ASB Classic",
           "2018-01-09T00:00:00"
          ],
          [
           "Chennai Open",
           "2017-01-03T00:00:00"
          ],
          [
           "Chengdu Open",
           "2016-09-28T00:00:00"
          ],
          [
           "Australian Open",
           "2020-01-21T00:00:00"
          ],
          [
           "US Open",
           "2019-08-27T00:00:00"
          ],
          [
           "US Open",
           "2018-08-27T00:00:00"
          ],
          [
           "Citi Open",
           "2017-07-31T00:00:00"
          ],
          [
           "Murray River Open",
           "2021-02-03T00:00:00"
          ],
          [
           "US Open",
           "2021-09-01T00:00:00"
          ],
          [
           "Australian Open",
           "2018-01-17T00:00:00"
          ],
          [
           "AnyTech365 Andalucia Open",
           "2021-04-09T00:00:00"
          ],
          [
           "Abierto Mexicano",
           "2021-03-19T00:00:00"
          ],
          [
           "Australian Open",
           "2021-02-15T00:00:00"
          ]
         ],
         "hovertemplate": "Win/Loss=Loss<br>Type=%{x}<br>Win/Loss_Val=%{y}<br>Tournament=%{customdata[0]}<br>Date=%{customdata[1]}<extra></extra>",
         "legendgroup": "Loss",
         "marker": {
          "color": "red",
          "pattern": {
           "shape": ""
          }
         },
         "name": "Loss",
         "offsetgroup": "Loss",
         "orientation": "v",
         "showlegend": true,
         "textposition": "auto",
         "type": "bar",
         "x": [
          "Indoor_Clay",
          "Indoor_Clay",
          "Indoor_Clay",
          "Indoor_Hard",
          "Indoor_Hard",
          "Indoor_Hard",
          "Indoor_Hard",
          "Outdoor_Clay",
          "Outdoor_Clay",
          "Outdoor_Clay",
          "Outdoor_Clay",
          "Outdoor_Clay",
          "Outdoor_Clay",
          "Outdoor_Clay",
          "Outdoor_Clay",
          "Outdoor_Clay",
          "Outdoor_Clay",
          "Outdoor_Clay",
          "Outdoor_Clay",
          "Outdoor_Clay",
          "Outdoor_Clay",
          "Outdoor_Clay",
          "Outdoor_Clay",
          "Outdoor_Clay",
          "Outdoor_Clay",
          "Outdoor_Clay",
          "Outdoor_Clay",
          "Outdoor_Clay",
          "Outdoor_Grass",
          "Outdoor_Grass",
          "Outdoor_Grass",
          "Outdoor_Hard",
          "Outdoor_Hard",
          "Outdoor_Hard",
          "Outdoor_Hard",
          "Outdoor_Hard",
          "Outdoor_Hard",
          "Outdoor_Hard",
          "Outdoor_Hard",
          "Outdoor_Hard",
          "Outdoor_Hard",
          "Outdoor_Hard",
          "Outdoor_Hard",
          "Outdoor_Hard",
          "Outdoor_Hard",
          "Outdoor_Hard",
          "Outdoor_Hard",
          "Outdoor_Hard"
         ],
         "xaxis": "x",
         "y": [
          -1,
          -1,
          -1,
          -1,
          -1,
          -1,
          -1,
          -1,
          -1,
          -1,
          -1,
          -1,
          -1,
          -1,
          -1,
          -1,
          -1,
          -1,
          -1,
          -1,
          -1,
          -1,
          -1,
          -1,
          -1,
          -1,
          -1,
          -1,
          -1,
          -1,
          -1,
          -1,
          -1,
          -1,
          -1,
          -1,
          -1,
          -1,
          -1,
          -1,
          -1,
          -1,
          -1,
          -1,
          -1,
          -1,
          -1,
          -1
         ],
         "yaxis": "y"
        }
       ],
       "layout": {
        "barmode": "relative",
        "legend": {
         "title": {
          "text": "Win/Loss"
         },
         "tracegroupgap": 0
        },
        "template": {
         "data": {
          "bar": [
           {
            "error_x": {
             "color": "#2a3f5f"
            },
            "error_y": {
             "color": "#2a3f5f"
            },
            "marker": {
             "line": {
              "color": "#E5ECF6",
              "width": 0.5
             },
             "pattern": {
              "fillmode": "overlay",
              "size": 10,
              "solidity": 0.2
             }
            },
            "type": "bar"
           }
          ],
          "barpolar": [
           {
            "marker": {
             "line": {
              "color": "#E5ECF6",
              "width": 0.5
             },
             "pattern": {
              "fillmode": "overlay",
              "size": 10,
              "solidity": 0.2
             }
            },
            "type": "barpolar"
           }
          ],
          "carpet": [
           {
            "aaxis": {
             "endlinecolor": "#2a3f5f",
             "gridcolor": "white",
             "linecolor": "white",
             "minorgridcolor": "white",
             "startlinecolor": "#2a3f5f"
            },
            "baxis": {
             "endlinecolor": "#2a3f5f",
             "gridcolor": "white",
             "linecolor": "white",
             "minorgridcolor": "white",
             "startlinecolor": "#2a3f5f"
            },
            "type": "carpet"
           }
          ],
          "choropleth": [
           {
            "colorbar": {
             "outlinewidth": 0,
             "ticks": ""
            },
            "type": "choropleth"
           }
          ],
          "contour": [
           {
            "colorbar": {
             "outlinewidth": 0,
             "ticks": ""
            },
            "colorscale": [
             [
              0,
              "#0d0887"
             ],
             [
              0.1111111111111111,
              "#46039f"
             ],
             [
              0.2222222222222222,
              "#7201a8"
             ],
             [
              0.3333333333333333,
              "#9c179e"
             ],
             [
              0.4444444444444444,
              "#bd3786"
             ],
             [
              0.5555555555555556,
              "#d8576b"
             ],
             [
              0.6666666666666666,
              "#ed7953"
             ],
             [
              0.7777777777777778,
              "#fb9f3a"
             ],
             [
              0.8888888888888888,
              "#fdca26"
             ],
             [
              1,
              "#f0f921"
             ]
            ],
            "type": "contour"
           }
          ],
          "contourcarpet": [
           {
            "colorbar": {
             "outlinewidth": 0,
             "ticks": ""
            },
            "type": "contourcarpet"
           }
          ],
          "heatmap": [
           {
            "colorbar": {
             "outlinewidth": 0,
             "ticks": ""
            },
            "colorscale": [
             [
              0,
              "#0d0887"
             ],
             [
              0.1111111111111111,
              "#46039f"
             ],
             [
              0.2222222222222222,
              "#7201a8"
             ],
             [
              0.3333333333333333,
              "#9c179e"
             ],
             [
              0.4444444444444444,
              "#bd3786"
             ],
             [
              0.5555555555555556,
              "#d8576b"
             ],
             [
              0.6666666666666666,
              "#ed7953"
             ],
             [
              0.7777777777777778,
              "#fb9f3a"
             ],
             [
              0.8888888888888888,
              "#fdca26"
             ],
             [
              1,
              "#f0f921"
             ]
            ],
            "type": "heatmap"
           }
          ],
          "heatmapgl": [
           {
            "colorbar": {
             "outlinewidth": 0,
             "ticks": ""
            },
            "colorscale": [
             [
              0,
              "#0d0887"
             ],
             [
              0.1111111111111111,
              "#46039f"
             ],
             [
              0.2222222222222222,
              "#7201a8"
             ],
             [
              0.3333333333333333,
              "#9c179e"
             ],
             [
              0.4444444444444444,
              "#bd3786"
             ],
             [
              0.5555555555555556,
              "#d8576b"
             ],
             [
              0.6666666666666666,
              "#ed7953"
             ],
             [
              0.7777777777777778,
              "#fb9f3a"
             ],
             [
              0.8888888888888888,
              "#fdca26"
             ],
             [
              1,
              "#f0f921"
             ]
            ],
            "type": "heatmapgl"
           }
          ],
          "histogram": [
           {
            "marker": {
             "pattern": {
              "fillmode": "overlay",
              "size": 10,
              "solidity": 0.2
             }
            },
            "type": "histogram"
           }
          ],
          "histogram2d": [
           {
            "colorbar": {
             "outlinewidth": 0,
             "ticks": ""
            },
            "colorscale": [
             [
              0,
              "#0d0887"
             ],
             [
              0.1111111111111111,
              "#46039f"
             ],
             [
              0.2222222222222222,
              "#7201a8"
             ],
             [
              0.3333333333333333,
              "#9c179e"
             ],
             [
              0.4444444444444444,
              "#bd3786"
             ],
             [
              0.5555555555555556,
              "#d8576b"
             ],
             [
              0.6666666666666666,
              "#ed7953"
             ],
             [
              0.7777777777777778,
              "#fb9f3a"
             ],
             [
              0.8888888888888888,
              "#fdca26"
             ],
             [
              1,
              "#f0f921"
             ]
            ],
            "type": "histogram2d"
           }
          ],
          "histogram2dcontour": [
           {
            "colorbar": {
             "outlinewidth": 0,
             "ticks": ""
            },
            "colorscale": [
             [
              0,
              "#0d0887"
             ],
             [
              0.1111111111111111,
              "#46039f"
             ],
             [
              0.2222222222222222,
              "#7201a8"
             ],
             [
              0.3333333333333333,
              "#9c179e"
             ],
             [
              0.4444444444444444,
              "#bd3786"
             ],
             [
              0.5555555555555556,
              "#d8576b"
             ],
             [
              0.6666666666666666,
              "#ed7953"
             ],
             [
              0.7777777777777778,
              "#fb9f3a"
             ],
             [
              0.8888888888888888,
              "#fdca26"
             ],
             [
              1,
              "#f0f921"
             ]
            ],
            "type": "histogram2dcontour"
           }
          ],
          "mesh3d": [
           {
            "colorbar": {
             "outlinewidth": 0,
             "ticks": ""
            },
            "type": "mesh3d"
           }
          ],
          "parcoords": [
           {
            "line": {
             "colorbar": {
              "outlinewidth": 0,
              "ticks": ""
             }
            },
            "type": "parcoords"
           }
          ],
          "pie": [
           {
            "automargin": true,
            "type": "pie"
           }
          ],
          "scatter": [
           {
            "fillpattern": {
             "fillmode": "overlay",
             "size": 10,
             "solidity": 0.2
            },
            "type": "scatter"
           }
          ],
          "scatter3d": [
           {
            "line": {
             "colorbar": {
              "outlinewidth": 0,
              "ticks": ""
             }
            },
            "marker": {
             "colorbar": {
              "outlinewidth": 0,
              "ticks": ""
             }
            },
            "type": "scatter3d"
           }
          ],
          "scattercarpet": [
           {
            "marker": {
             "colorbar": {
              "outlinewidth": 0,
              "ticks": ""
             }
            },
            "type": "scattercarpet"
           }
          ],
          "scattergeo": [
           {
            "marker": {
             "colorbar": {
              "outlinewidth": 0,
              "ticks": ""
             }
            },
            "type": "scattergeo"
           }
          ],
          "scattergl": [
           {
            "marker": {
             "colorbar": {
              "outlinewidth": 0,
              "ticks": ""
             }
            },
            "type": "scattergl"
           }
          ],
          "scattermapbox": [
           {
            "marker": {
             "colorbar": {
              "outlinewidth": 0,
              "ticks": ""
             }
            },
            "type": "scattermapbox"
           }
          ],
          "scatterpolar": [
           {
            "marker": {
             "colorbar": {
              "outlinewidth": 0,
              "ticks": ""
             }
            },
            "type": "scatterpolar"
           }
          ],
          "scatterpolargl": [
           {
            "marker": {
             "colorbar": {
              "outlinewidth": 0,
              "ticks": ""
             }
            },
            "type": "scatterpolargl"
           }
          ],
          "scatterternary": [
           {
            "marker": {
             "colorbar": {
              "outlinewidth": 0,
              "ticks": ""
             }
            },
            "type": "scatterternary"
           }
          ],
          "surface": [
           {
            "colorbar": {
             "outlinewidth": 0,
             "ticks": ""
            },
            "colorscale": [
             [
              0,
              "#0d0887"
             ],
             [
              0.1111111111111111,
              "#46039f"
             ],
             [
              0.2222222222222222,
              "#7201a8"
             ],
             [
              0.3333333333333333,
              "#9c179e"
             ],
             [
              0.4444444444444444,
              "#bd3786"
             ],
             [
              0.5555555555555556,
              "#d8576b"
             ],
             [
              0.6666666666666666,
              "#ed7953"
             ],
             [
              0.7777777777777778,
              "#fb9f3a"
             ],
             [
              0.8888888888888888,
              "#fdca26"
             ],
             [
              1,
              "#f0f921"
             ]
            ],
            "type": "surface"
           }
          ],
          "table": [
           {
            "cells": {
             "fill": {
              "color": "#EBF0F8"
             },
             "line": {
              "color": "white"
             }
            },
            "header": {
             "fill": {
              "color": "#C8D4E3"
             },
             "line": {
              "color": "white"
             }
            },
            "type": "table"
           }
          ]
         },
         "layout": {
          "annotationdefaults": {
           "arrowcolor": "#2a3f5f",
           "arrowhead": 0,
           "arrowwidth": 1
          },
          "autotypenumbers": "strict",
          "coloraxis": {
           "colorbar": {
            "outlinewidth": 0,
            "ticks": ""
           }
          },
          "colorscale": {
           "diverging": [
            [
             0,
             "#8e0152"
            ],
            [
             0.1,
             "#c51b7d"
            ],
            [
             0.2,
             "#de77ae"
            ],
            [
             0.3,
             "#f1b6da"
            ],
            [
             0.4,
             "#fde0ef"
            ],
            [
             0.5,
             "#f7f7f7"
            ],
            [
             0.6,
             "#e6f5d0"
            ],
            [
             0.7,
             "#b8e186"
            ],
            [
             0.8,
             "#7fbc41"
            ],
            [
             0.9,
             "#4d9221"
            ],
            [
             1,
             "#276419"
            ]
           ],
           "sequential": [
            [
             0,
             "#0d0887"
            ],
            [
             0.1111111111111111,
             "#46039f"
            ],
            [
             0.2222222222222222,
             "#7201a8"
            ],
            [
             0.3333333333333333,
             "#9c179e"
            ],
            [
             0.4444444444444444,
             "#bd3786"
            ],
            [
             0.5555555555555556,
             "#d8576b"
            ],
            [
             0.6666666666666666,
             "#ed7953"
            ],
            [
             0.7777777777777778,
             "#fb9f3a"
            ],
            [
             0.8888888888888888,
             "#fdca26"
            ],
            [
             1,
             "#f0f921"
            ]
           ],
           "sequentialminus": [
            [
             0,
             "#0d0887"
            ],
            [
             0.1111111111111111,
             "#46039f"
            ],
            [
             0.2222222222222222,
             "#7201a8"
            ],
            [
             0.3333333333333333,
             "#9c179e"
            ],
            [
             0.4444444444444444,
             "#bd3786"
            ],
            [
             0.5555555555555556,
             "#d8576b"
            ],
            [
             0.6666666666666666,
             "#ed7953"
            ],
            [
             0.7777777777777778,
             "#fb9f3a"
            ],
            [
             0.8888888888888888,
             "#fdca26"
            ],
            [
             1,
             "#f0f921"
            ]
           ]
          },
          "colorway": [
           "#636efa",
           "#EF553B",
           "#00cc96",
           "#ab63fa",
           "#FFA15A",
           "#19d3f3",
           "#FF6692",
           "#B6E880",
           "#FF97FF",
           "#FECB52"
          ],
          "font": {
           "color": "#2a3f5f"
          },
          "geo": {
           "bgcolor": "white",
           "lakecolor": "white",
           "landcolor": "#E5ECF6",
           "showlakes": true,
           "showland": true,
           "subunitcolor": "white"
          },
          "hoverlabel": {
           "align": "left"
          },
          "hovermode": "closest",
          "mapbox": {
           "style": "light"
          },
          "paper_bgcolor": "white",
          "plot_bgcolor": "#E5ECF6",
          "polar": {
           "angularaxis": {
            "gridcolor": "white",
            "linecolor": "white",
            "ticks": ""
           },
           "bgcolor": "#E5ECF6",
           "radialaxis": {
            "gridcolor": "white",
            "linecolor": "white",
            "ticks": ""
           }
          },
          "scene": {
           "xaxis": {
            "backgroundcolor": "#E5ECF6",
            "gridcolor": "white",
            "gridwidth": 2,
            "linecolor": "white",
            "showbackground": true,
            "ticks": "",
            "zerolinecolor": "white"
           },
           "yaxis": {
            "backgroundcolor": "#E5ECF6",
            "gridcolor": "white",
            "gridwidth": 2,
            "linecolor": "white",
            "showbackground": true,
            "ticks": "",
            "zerolinecolor": "white"
           },
           "zaxis": {
            "backgroundcolor": "#E5ECF6",
            "gridcolor": "white",
            "gridwidth": 2,
            "linecolor": "white",
            "showbackground": true,
            "ticks": "",
            "zerolinecolor": "white"
           }
          },
          "shapedefaults": {
           "line": {
            "color": "#2a3f5f"
           }
          },
          "ternary": {
           "aaxis": {
            "gridcolor": "white",
            "linecolor": "white",
            "ticks": ""
           },
           "baxis": {
            "gridcolor": "white",
            "linecolor": "white",
            "ticks": ""
           },
           "bgcolor": "#E5ECF6",
           "caxis": {
            "gridcolor": "white",
            "linecolor": "white",
            "ticks": ""
           }
          },
          "title": {
           "x": 0.05
          },
          "xaxis": {
           "automargin": true,
           "gridcolor": "white",
           "linecolor": "white",
           "ticks": "",
           "title": {
            "standoff": 15
           },
           "zerolinecolor": "white",
           "zerolinewidth": 2
          },
          "yaxis": {
           "automargin": true,
           "gridcolor": "white",
           "linecolor": "white",
           "ticks": "",
           "title": {
            "standoff": 15
           },
           "zerolinecolor": "white",
           "zerolinewidth": 2
          }
         }
        },
        "title": {
         "text": "Win/Loss Ratio for Ruud C."
        },
        "xaxis": {
         "anchor": "y",
         "domain": [
          0,
          1
         ],
         "title": {
          "text": "Type"
         }
        },
        "yaxis": {
         "anchor": "x",
         "domain": [
          0,
          1
         ],
         "title": {
          "text": "Win/Loss_Val"
         }
        }
       }
      }
     },
     "metadata": {},
     "output_type": "display_data"
    },
    {
     "data": {
      "application/vnd.plotly.v1+json": {
       "config": {
        "plotlyServerURL": "https://plot.ly"
       },
       "data": [
        {
         "alignmentgroup": "True",
         "customdata": [
          [
           "Chengdu Open",
           250,
           "Troicki V."
          ],
          [
           "Chennai Open",
           250,
           "Olivo R."
          ],
          [
           "Citi Open",
           500,
           "Paul T."
          ],
          [
           "ASB Classic",
           250,
           "Haase R."
          ],
          [
           "Australian Open",
           2000,
           "Ruud C."
          ],
          [
           "Australian Open",
           2000,
           "Schwartzman D."
          ],
          [
           "US Open",
           2000,
           "Pella G."
          ],
          [
           "Winston-Salem Open at Wake Forest University",
           250,
           "Ruud C."
          ],
          [
           "Winston-Salem Open at Wake Forest University",
           250,
           "Johnson S."
          ],
          [
           "US Open",
           2000,
           "Struff J.L."
          ],
          [
           "Zhuhai Open",
           250,
           "Kecmanovic M."
          ],
          [
           "Adelaide International",
           250,
           "Humbert U."
          ],
          [
           "Australian Open",
           2000,
           "Gerasimov E."
          ],
          [
           "US Open",
           2000,
           "Ruud C."
          ],
          [
           "US Open",
           2000,
           "Berrettini M."
          ],
          [
           "Murray River Open",
           250,
           "Vesely J."
          ],
          [
           "Australian Open",
           2000,
           "Ruud C."
          ],
          [
           "Australian Open",
           2000,
           "Rublev A."
          ],
          [
           "Abierto Mexicano",
           500,
           "Ruud C."
          ],
          [
           "Abierto Mexicano",
           500,
           "Zverev A."
          ],
          [
           "AnyTech365 Andalucia Open",
           250,
           "Ruud C."
          ],
          [
           "AnyTech365 Andalucia Open",
           250,
           "Alcaraz C."
          ],
          [
           "US Open",
           2000,
           "Ruud C."
          ],
          [
           "US Open",
           2000,
           "Van De Zandschulp B."
          ],
          [
           "San Diego Open",
           250,
           "Ruud C."
          ]
         ],
         "hovertemplate": "Type=Outdoor_Hard<br>Date=%{x}<br>RoundDraw=%{y}<br>FinalWinner=%{text}<br>Tournament=%{customdata[0]}<br>SeriesPoints=%{customdata[1]}<br>Winner=%{customdata[2]}<extra></extra>",
         "legendgroup": "Outdoor_Hard",
         "marker": {
          "color": "#636efa",
          "pattern": {
           "shape": ""
          }
         },
         "name": "Outdoor_Hard",
         "offsetgroup": "Outdoor_Hard",
         "orientation": "v",
         "showlegend": true,
         "text": [
          "",
          "",
          "",
          "",
          "",
          "",
          "",
          "",
          "",
          "",
          "",
          "",
          "",
          "",
          "",
          "",
          "",
          "",
          "",
          "",
          "",
          "",
          "",
          "",
          "Winner"
         ],
         "textposition": "auto",
         "type": "bar",
         "x": [
          "2016-09-28T00:00:00",
          "2017-01-03T00:00:00",
          "2017-07-31T00:00:00",
          "2018-01-09T00:00:00",
          "2018-01-15T00:00:00",
          "2018-01-17T00:00:00",
          "2018-08-27T00:00:00",
          "2019-08-20T00:00:00",
          "2019-08-21T00:00:00",
          "2019-08-27T00:00:00",
          "2019-09-24T00:00:00",
          "2020-01-13T00:00:00",
          "2020-01-21T00:00:00",
          "2020-09-01T00:00:00",
          "2020-09-05T00:00:00",
          "2021-02-03T00:00:00",
          "2021-02-09T00:00:00",
          "2021-02-15T00:00:00",
          "2021-03-17T00:00:00",
          "2021-03-19T00:00:00",
          "2021-04-08T00:00:00",
          "2021-04-09T00:00:00",
          "2021-08-30T00:00:00",
          "2021-09-01T00:00:00",
          "2021-10-01T00:00:00"
         ],
         "xaxis": "x",
         "y": [
          1,
          1,
          1,
          1,
          1,
          2,
          1,
          2,
          3,
          1,
          1,
          1,
          1,
          2,
          3,
          2,
          3,
          4,
          2,
          5,
          2,
          5,
          1,
          2,
          7
         ],
         "yaxis": "y"
        },
        {
         "alignmentgroup": "True",
         "customdata": [
          [
           "Rio Open",
           500,
           "Ruud C."
          ],
          [
           "Rio Open",
           500,
           "Carreno Busta P."
          ],
          [
           "Open Banco Sabadell ",
           500,
           "Ruud C."
          ],
          [
           "Open Banco Sabadell ",
           500,
           "Ramos-Vinolas A."
          ],
          [
           "BMW Open",
           250,
           "Kohlschreiber P."
          ],
          [
           "Ecuador Open",
           250,
           "Ruud C."
          ],
          [
           "Ecuador Open",
           250,
           "Monfils G."
          ],
          [
           "Rio Open",
           500,
           "Schwartzman D."
          ],
          [
           "BMW Open",
           250,
           "Ruud C."
          ],
          [
           "BMW Open",
           250,
           "Bautista Agut R."
          ],
          [
           "French Open",
           2000,
           "Ruud C."
          ],
          [
           "French Open",
           2000,
           "Ramos-Vinolas A."
          ],
          [
           "SkiStar Swedish Open",
           250,
           "Ruud C."
          ],
          [
           "SkiStar Swedish Open",
           250,
           "Gasquet R."
          ],
          [
           "German Tennis Championships",
           500,
           "Schwartzman D."
          ],
          [
           "Rio Open",
           500,
           "Ruud C."
          ],
          [
           "Rio Open",
           500,
           "Djere L."
          ],
          [
           "U.S. Men's Clay Court Championships",
           250,
           "Ruud C."
          ],
          [
           "U.S. Men's Clay Court Championships",
           250,
           "Garin C."
          ],
          [
           "French Open",
           2000,
           "Ruud C."
          ],
          [
           "French Open",
           2000,
           "Federer R."
          ],
          [
           "SkiStar Swedish Open",
           250,
           "Dzumhur D."
          ],
          [
           "German Tennis Championships",
           500,
           "Ruud C."
          ],
          [
           "German Tennis Championships",
           500,
           "Rublev A."
          ],
          [
           "Generali Open",
           250,
           "Ruud C."
          ],
          [
           "Generali Open",
           250,
           "Ramos-Vinolas A."
          ],
          [
           "Argentina Open",
           250,
           "Ruud C."
          ],
          [
           "Rio Open",
           500,
           "Mager G."
          ],
          [
           "German Tennis Championships",
           500,
           "Ruud C."
          ],
          [
           "German Tennis Championships",
           500,
           "Rublev A."
          ],
          [
           "French Open",
           2000,
           "Ruud C."
          ],
          [
           "French Open",
           2000,
           "Thiem D."
          ],
          [
           "Forte Village Sardegna Open",
           250,
           "Hanfmann Y."
          ],
          [
           "BMW Open",
           250,
           "Ruud C."
          ],
          [
           "BMW Open",
           250,
           "Basilashvili N."
          ],
          [
           "Geneva Open",
           250,
           "Ruud C."
          ],
          [
           "French Open",
           2000,
           "Ruud C."
          ],
          [
           "French Open",
           2000,
           "Davidovich Fokina A."
          ],
          [
           "Nordea Open",
           250,
           "Ruud C."
          ],
          [
           "Suisse Open Gstaad",
           250,
           "Ruud C."
          ],
          [
           "Generali Open",
           250,
           "Ruud C."
          ],
          [
           "Argentina Open",
           250,
           "Ruud C."
          ]
         ],
         "hovertemplate": "Type=Outdoor_Clay<br>Date=%{x}<br>RoundDraw=%{y}<br>FinalWinner=%{text}<br>Tournament=%{customdata[0]}<br>SeriesPoints=%{customdata[1]}<br>Winner=%{customdata[2]}<extra></extra>",
         "legendgroup": "Outdoor_Clay",
         "marker": {
          "color": "#EF553B",
          "pattern": {
           "shape": ""
          }
         },
         "name": "Outdoor_Clay",
         "offsetgroup": "Outdoor_Clay",
         "orientation": "v",
         "showlegend": true,
         "text": [
          "",
          "",
          "",
          "",
          "",
          "",
          "",
          "",
          "",
          "",
          "",
          "",
          "",
          "",
          "",
          "",
          "",
          "",
          "Runner-Up",
          "",
          "",
          "",
          "",
          "",
          "",
          "",
          "Winner",
          "",
          "",
          "",
          "",
          "",
          "",
          "",
          "",
          "Winner",
          "",
          "",
          "Winner",
          "Winner",
          "Winner",
          "Winner"
         ],
         "textposition": "auto",
         "type": "bar",
         "x": [
          "2017-02-20T00:00:00",
          "2017-02-25T00:00:00",
          "2017-04-24T00:00:00",
          "2017-04-26T00:00:00",
          "2017-05-02T00:00:00",
          "2018-02-05T00:00:00",
          "2018-02-08T00:00:00",
          "2018-02-20T00:00:00",
          "2018-05-01T00:00:00",
          "2018-05-03T00:00:00",
          "2018-05-28T00:00:00",
          "2018-05-31T00:00:00",
          "2018-07-16T00:00:00",
          "2018-07-20T00:00:00",
          "2018-07-23T00:00:00",
          "2019-02-19T00:00:00",
          "2019-02-22T00:00:00",
          "2019-04-08T00:00:00",
          "2019-04-14T00:00:00",
          "2019-05-26T00:00:00",
          "2019-05-31T00:00:00",
          "2019-07-16T00:00:00",
          "2019-07-23T00:00:00",
          "2019-07-24T00:00:00",
          "2019-07-30T00:00:00",
          "2019-08-02T00:00:00",
          "2020-02-10T00:00:00",
          "2020-02-18T00:00:00",
          "2020-09-23T00:00:00",
          "2020-09-26T00:00:00",
          "2020-09-28T00:00:00",
          "2020-10-02T00:00:00",
          "2020-10-15T00:00:00",
          "2021-04-28T00:00:00",
          "2021-05-01T00:00:00",
          "2021-05-19T00:00:00",
          "2021-05-31T00:00:00",
          "2021-06-04T00:00:00",
          "2021-07-15T00:00:00",
          "2021-07-22T00:00:00",
          "2021-07-28T00:00:00",
          "2022-02-09T00:00:00"
         ],
         "xaxis": "x",
         "y": [
          5,
          6,
          1,
          2,
          1,
          1,
          2,
          1,
          1,
          2,
          1,
          2,
          2,
          5,
          1,
          2,
          5,
          6,
          7,
          2,
          3,
          1,
          1,
          2,
          5,
          6,
          7,
          1,
          5,
          6,
          2,
          3,
          2,
          5,
          6,
          7,
          2,
          3,
          7,
          7,
          7,
          7
         ],
         "yaxis": "y"
        },
        {
         "alignmentgroup": "True",
         "customdata": [
          [
           "Brasil Open",
           250,
           "Ruud C."
          ],
          [
           "Brasil Open",
           250,
           "Delbonis F."
          ],
          [
           "Brasil Open",
           250,
           "Ruud C."
          ],
          [
           "Brasil Open",
           250,
           "Garin C."
          ],
          [
           "Chile Open",
           250,
           "Ruud C."
          ],
          [
           "Chile Open",
           250,
           "Seyboth Wild T."
          ]
         ],
         "hovertemplate": "Type=Indoor_Clay<br>Date=%{x}<br>RoundDraw=%{y}<br>FinalWinner=%{text}<br>Tournament=%{customdata[0]}<br>SeriesPoints=%{customdata[1]}<br>Winner=%{customdata[2]}<extra></extra>",
         "legendgroup": "Indoor_Clay",
         "marker": {
          "color": "#00cc96",
          "pattern": {
           "shape": ""
          }
         },
         "name": "Indoor_Clay",
         "offsetgroup": "Indoor_Clay",
         "orientation": "v",
         "showlegend": true,
         "text": [
          "",
          "",
          "",
          "",
          "",
          "Runner-Up"
         ],
         "textposition": "auto",
         "type": "bar",
         "x": [
          "2017-02-28T00:00:00",
          "2017-03-01T00:00:00",
          "2019-02-27T00:00:00",
          "2019-03-02T00:00:00",
          "2020-02-26T00:00:00",
          "2020-03-01T00:00:00"
         ],
         "xaxis": "x",
         "y": [
          1,
          2,
          5,
          6,
          6,
          7
         ],
         "yaxis": "y"
        },
        {
         "alignmentgroup": "True",
         "customdata": [
          [
           "Wimbledon",
           2000,
           "Isner J."
          ],
          [
           "Mallorca Championships",
           250,
           "Ruud C."
          ],
          [
           "Mallorca Championships",
           250,
           "Medvedev D."
          ],
          [
           "Wimbledon",
           2000,
           "Thompson J."
          ]
         ],
         "hovertemplate": "Type=Outdoor_Grass<br>Date=%{x}<br>RoundDraw=%{y}<br>FinalWinner=%{text}<br>Tournament=%{customdata[0]}<br>SeriesPoints=%{customdata[1]}<br>Winner=%{customdata[2]}<extra></extra>",
         "legendgroup": "Outdoor_Grass",
         "marker": {
          "color": "#ab63fa",
          "pattern": {
           "shape": ""
          }
         },
         "name": "Outdoor_Grass",
         "offsetgroup": "Outdoor_Grass",
         "orientation": "v",
         "showlegend": true,
         "text": [
          "",
          "",
          "",
          ""
         ],
         "textposition": "auto",
         "type": "bar",
         "x": [
          "2019-07-02T00:00:00",
          "2021-06-21T00:00:00",
          "2021-06-24T00:00:00",
          "2021-06-30T00:00:00"
         ],
         "xaxis": "x",
         "y": [
          1,
          2,
          5,
          1
         ],
         "yaxis": "y"
        },
        {
         "alignmentgroup": "True",
         "customdata": [
          [
           "St. Petersburg Open",
           250,
           "Ruud C."
          ],
          [
           "St. Petersburg Open",
           250,
           "Coric B."
          ],
          [
           "Stockholm Open",
           250,
           "Krajinovic F."
          ],
          [
           "Erste Bank Open",
           500,
           "Sinner J."
          ],
          [
           "Vienna Open",
           500,
           "Ruud C."
          ],
          [
           "Vienna Open",
           500,
           "Sinner J."
          ]
         ],
         "hovertemplate": "Type=Indoor_Hard<br>Date=%{x}<br>RoundDraw=%{y}<br>FinalWinner=%{text}<br>Tournament=%{customdata[0]}<br>SeriesPoints=%{customdata[1]}<br>Winner=%{customdata[2]}<extra></extra>",
         "legendgroup": "Indoor_Hard",
         "marker": {
          "color": "#FFA15A",
          "pattern": {
           "shape": ""
          }
         },
         "name": "Indoor_Hard",
         "offsetgroup": "Indoor_Hard",
         "orientation": "v",
         "showlegend": true,
         "text": [
          "",
          "",
          "",
          "",
          "",
          ""
         ],
         "textposition": "auto",
         "type": "bar",
         "x": [
          "2019-09-18T00:00:00",
          "2019-09-20T00:00:00",
          "2019-10-15T00:00:00",
          "2020-10-28T00:00:00",
          "2021-10-26T00:00:00",
          "2021-10-29T00:00:00"
         ],
         "xaxis": "x",
         "y": [
          2,
          5,
          1,
          1,
          2,
          5
         ],
         "yaxis": "y"
        }
       ],
       "layout": {
        "barmode": "relative",
        "legend": {
         "title": {
          "text": "Type"
         },
         "tracegroupgap": 0
        },
        "shapes": [
         {
          "line": {
           "color": "gold",
           "dash": "dash",
           "width": 3
          },
          "type": "line",
          "x0": 0,
          "x1": 1,
          "xref": "x domain",
          "y0": 7,
          "y1": 7,
          "yref": "y"
         }
        ],
        "template": {
         "data": {
          "bar": [
           {
            "error_x": {
             "color": "#2a3f5f"
            },
            "error_y": {
             "color": "#2a3f5f"
            },
            "marker": {
             "line": {
              "color": "#E5ECF6",
              "width": 0.5
             },
             "pattern": {
              "fillmode": "overlay",
              "size": 10,
              "solidity": 0.2
             }
            },
            "type": "bar"
           }
          ],
          "barpolar": [
           {
            "marker": {
             "line": {
              "color": "#E5ECF6",
              "width": 0.5
             },
             "pattern": {
              "fillmode": "overlay",
              "size": 10,
              "solidity": 0.2
             }
            },
            "type": "barpolar"
           }
          ],
          "carpet": [
           {
            "aaxis": {
             "endlinecolor": "#2a3f5f",
             "gridcolor": "white",
             "linecolor": "white",
             "minorgridcolor": "white",
             "startlinecolor": "#2a3f5f"
            },
            "baxis": {
             "endlinecolor": "#2a3f5f",
             "gridcolor": "white",
             "linecolor": "white",
             "minorgridcolor": "white",
             "startlinecolor": "#2a3f5f"
            },
            "type": "carpet"
           }
          ],
          "choropleth": [
           {
            "colorbar": {
             "outlinewidth": 0,
             "ticks": ""
            },
            "type": "choropleth"
           }
          ],
          "contour": [
           {
            "colorbar": {
             "outlinewidth": 0,
             "ticks": ""
            },
            "colorscale": [
             [
              0,
              "#0d0887"
             ],
             [
              0.1111111111111111,
              "#46039f"
             ],
             [
              0.2222222222222222,
              "#7201a8"
             ],
             [
              0.3333333333333333,
              "#9c179e"
             ],
             [
              0.4444444444444444,
              "#bd3786"
             ],
             [
              0.5555555555555556,
              "#d8576b"
             ],
             [
              0.6666666666666666,
              "#ed7953"
             ],
             [
              0.7777777777777778,
              "#fb9f3a"
             ],
             [
              0.8888888888888888,
              "#fdca26"
             ],
             [
              1,
              "#f0f921"
             ]
            ],
            "type": "contour"
           }
          ],
          "contourcarpet": [
           {
            "colorbar": {
             "outlinewidth": 0,
             "ticks": ""
            },
            "type": "contourcarpet"
           }
          ],
          "heatmap": [
           {
            "colorbar": {
             "outlinewidth": 0,
             "ticks": ""
            },
            "colorscale": [
             [
              0,
              "#0d0887"
             ],
             [
              0.1111111111111111,
              "#46039f"
             ],
             [
              0.2222222222222222,
              "#7201a8"
             ],
             [
              0.3333333333333333,
              "#9c179e"
             ],
             [
              0.4444444444444444,
              "#bd3786"
             ],
             [
              0.5555555555555556,
              "#d8576b"
             ],
             [
              0.6666666666666666,
              "#ed7953"
             ],
             [
              0.7777777777777778,
              "#fb9f3a"
             ],
             [
              0.8888888888888888,
              "#fdca26"
             ],
             [
              1,
              "#f0f921"
             ]
            ],
            "type": "heatmap"
           }
          ],
          "heatmapgl": [
           {
            "colorbar": {
             "outlinewidth": 0,
             "ticks": ""
            },
            "colorscale": [
             [
              0,
              "#0d0887"
             ],
             [
              0.1111111111111111,
              "#46039f"
             ],
             [
              0.2222222222222222,
              "#7201a8"
             ],
             [
              0.3333333333333333,
              "#9c179e"
             ],
             [
              0.4444444444444444,
              "#bd3786"
             ],
             [
              0.5555555555555556,
              "#d8576b"
             ],
             [
              0.6666666666666666,
              "#ed7953"
             ],
             [
              0.7777777777777778,
              "#fb9f3a"
             ],
             [
              0.8888888888888888,
              "#fdca26"
             ],
             [
              1,
              "#f0f921"
             ]
            ],
            "type": "heatmapgl"
           }
          ],
          "histogram": [
           {
            "marker": {
             "pattern": {
              "fillmode": "overlay",
              "size": 10,
              "solidity": 0.2
             }
            },
            "type": "histogram"
           }
          ],
          "histogram2d": [
           {
            "colorbar": {
             "outlinewidth": 0,
             "ticks": ""
            },
            "colorscale": [
             [
              0,
              "#0d0887"
             ],
             [
              0.1111111111111111,
              "#46039f"
             ],
             [
              0.2222222222222222,
              "#7201a8"
             ],
             [
              0.3333333333333333,
              "#9c179e"
             ],
             [
              0.4444444444444444,
              "#bd3786"
             ],
             [
              0.5555555555555556,
              "#d8576b"
             ],
             [
              0.6666666666666666,
              "#ed7953"
             ],
             [
              0.7777777777777778,
              "#fb9f3a"
             ],
             [
              0.8888888888888888,
              "#fdca26"
             ],
             [
              1,
              "#f0f921"
             ]
            ],
            "type": "histogram2d"
           }
          ],
          "histogram2dcontour": [
           {
            "colorbar": {
             "outlinewidth": 0,
             "ticks": ""
            },
            "colorscale": [
             [
              0,
              "#0d0887"
             ],
             [
              0.1111111111111111,
              "#46039f"
             ],
             [
              0.2222222222222222,
              "#7201a8"
             ],
             [
              0.3333333333333333,
              "#9c179e"
             ],
             [
              0.4444444444444444,
              "#bd3786"
             ],
             [
              0.5555555555555556,
              "#d8576b"
             ],
             [
              0.6666666666666666,
              "#ed7953"
             ],
             [
              0.7777777777777778,
              "#fb9f3a"
             ],
             [
              0.8888888888888888,
              "#fdca26"
             ],
             [
              1,
              "#f0f921"
             ]
            ],
            "type": "histogram2dcontour"
           }
          ],
          "mesh3d": [
           {
            "colorbar": {
             "outlinewidth": 0,
             "ticks": ""
            },
            "type": "mesh3d"
           }
          ],
          "parcoords": [
           {
            "line": {
             "colorbar": {
              "outlinewidth": 0,
              "ticks": ""
             }
            },
            "type": "parcoords"
           }
          ],
          "pie": [
           {
            "automargin": true,
            "type": "pie"
           }
          ],
          "scatter": [
           {
            "fillpattern": {
             "fillmode": "overlay",
             "size": 10,
             "solidity": 0.2
            },
            "type": "scatter"
           }
          ],
          "scatter3d": [
           {
            "line": {
             "colorbar": {
              "outlinewidth": 0,
              "ticks": ""
             }
            },
            "marker": {
             "colorbar": {
              "outlinewidth": 0,
              "ticks": ""
             }
            },
            "type": "scatter3d"
           }
          ],
          "scattercarpet": [
           {
            "marker": {
             "colorbar": {
              "outlinewidth": 0,
              "ticks": ""
             }
            },
            "type": "scattercarpet"
           }
          ],
          "scattergeo": [
           {
            "marker": {
             "colorbar": {
              "outlinewidth": 0,
              "ticks": ""
             }
            },
            "type": "scattergeo"
           }
          ],
          "scattergl": [
           {
            "marker": {
             "colorbar": {
              "outlinewidth": 0,
              "ticks": ""
             }
            },
            "type": "scattergl"
           }
          ],
          "scattermapbox": [
           {
            "marker": {
             "colorbar": {
              "outlinewidth": 0,
              "ticks": ""
             }
            },
            "type": "scattermapbox"
           }
          ],
          "scatterpolar": [
           {
            "marker": {
             "colorbar": {
              "outlinewidth": 0,
              "ticks": ""
             }
            },
            "type": "scatterpolar"
           }
          ],
          "scatterpolargl": [
           {
            "marker": {
             "colorbar": {
              "outlinewidth": 0,
              "ticks": ""
             }
            },
            "type": "scatterpolargl"
           }
          ],
          "scatterternary": [
           {
            "marker": {
             "colorbar": {
              "outlinewidth": 0,
              "ticks": ""
             }
            },
            "type": "scatterternary"
           }
          ],
          "surface": [
           {
            "colorbar": {
             "outlinewidth": 0,
             "ticks": ""
            },
            "colorscale": [
             [
              0,
              "#0d0887"
             ],
             [
              0.1111111111111111,
              "#46039f"
             ],
             [
              0.2222222222222222,
              "#7201a8"
             ],
             [
              0.3333333333333333,
              "#9c179e"
             ],
             [
              0.4444444444444444,
              "#bd3786"
             ],
             [
              0.5555555555555556,
              "#d8576b"
             ],
             [
              0.6666666666666666,
              "#ed7953"
             ],
             [
              0.7777777777777778,
              "#fb9f3a"
             ],
             [
              0.8888888888888888,
              "#fdca26"
             ],
             [
              1,
              "#f0f921"
             ]
            ],
            "type": "surface"
           }
          ],
          "table": [
           {
            "cells": {
             "fill": {
              "color": "#EBF0F8"
             },
             "line": {
              "color": "white"
             }
            },
            "header": {
             "fill": {
              "color": "#C8D4E3"
             },
             "line": {
              "color": "white"
             }
            },
            "type": "table"
           }
          ]
         },
         "layout": {
          "annotationdefaults": {
           "arrowcolor": "#2a3f5f",
           "arrowhead": 0,
           "arrowwidth": 1
          },
          "autotypenumbers": "strict",
          "coloraxis": {
           "colorbar": {
            "outlinewidth": 0,
            "ticks": ""
           }
          },
          "colorscale": {
           "diverging": [
            [
             0,
             "#8e0152"
            ],
            [
             0.1,
             "#c51b7d"
            ],
            [
             0.2,
             "#de77ae"
            ],
            [
             0.3,
             "#f1b6da"
            ],
            [
             0.4,
             "#fde0ef"
            ],
            [
             0.5,
             "#f7f7f7"
            ],
            [
             0.6,
             "#e6f5d0"
            ],
            [
             0.7,
             "#b8e186"
            ],
            [
             0.8,
             "#7fbc41"
            ],
            [
             0.9,
             "#4d9221"
            ],
            [
             1,
             "#276419"
            ]
           ],
           "sequential": [
            [
             0,
             "#0d0887"
            ],
            [
             0.1111111111111111,
             "#46039f"
            ],
            [
             0.2222222222222222,
             "#7201a8"
            ],
            [
             0.3333333333333333,
             "#9c179e"
            ],
            [
             0.4444444444444444,
             "#bd3786"
            ],
            [
             0.5555555555555556,
             "#d8576b"
            ],
            [
             0.6666666666666666,
             "#ed7953"
            ],
            [
             0.7777777777777778,
             "#fb9f3a"
            ],
            [
             0.8888888888888888,
             "#fdca26"
            ],
            [
             1,
             "#f0f921"
            ]
           ],
           "sequentialminus": [
            [
             0,
             "#0d0887"
            ],
            [
             0.1111111111111111,
             "#46039f"
            ],
            [
             0.2222222222222222,
             "#7201a8"
            ],
            [
             0.3333333333333333,
             "#9c179e"
            ],
            [
             0.4444444444444444,
             "#bd3786"
            ],
            [
             0.5555555555555556,
             "#d8576b"
            ],
            [
             0.6666666666666666,
             "#ed7953"
            ],
            [
             0.7777777777777778,
             "#fb9f3a"
            ],
            [
             0.8888888888888888,
             "#fdca26"
            ],
            [
             1,
             "#f0f921"
            ]
           ]
          },
          "colorway": [
           "#636efa",
           "#EF553B",
           "#00cc96",
           "#ab63fa",
           "#FFA15A",
           "#19d3f3",
           "#FF6692",
           "#B6E880",
           "#FF97FF",
           "#FECB52"
          ],
          "font": {
           "color": "#2a3f5f"
          },
          "geo": {
           "bgcolor": "white",
           "lakecolor": "white",
           "landcolor": "#E5ECF6",
           "showlakes": true,
           "showland": true,
           "subunitcolor": "white"
          },
          "hoverlabel": {
           "align": "left"
          },
          "hovermode": "closest",
          "mapbox": {
           "style": "light"
          },
          "paper_bgcolor": "white",
          "plot_bgcolor": "#E5ECF6",
          "polar": {
           "angularaxis": {
            "gridcolor": "white",
            "linecolor": "white",
            "ticks": ""
           },
           "bgcolor": "#E5ECF6",
           "radialaxis": {
            "gridcolor": "white",
            "linecolor": "white",
            "ticks": ""
           }
          },
          "scene": {
           "xaxis": {
            "backgroundcolor": "#E5ECF6",
            "gridcolor": "white",
            "gridwidth": 2,
            "linecolor": "white",
            "showbackground": true,
            "ticks": "",
            "zerolinecolor": "white"
           },
           "yaxis": {
            "backgroundcolor": "#E5ECF6",
            "gridcolor": "white",
            "gridwidth": 2,
            "linecolor": "white",
            "showbackground": true,
            "ticks": "",
            "zerolinecolor": "white"
           },
           "zaxis": {
            "backgroundcolor": "#E5ECF6",
            "gridcolor": "white",
            "gridwidth": 2,
            "linecolor": "white",
            "showbackground": true,
            "ticks": "",
            "zerolinecolor": "white"
           }
          },
          "shapedefaults": {
           "line": {
            "color": "#2a3f5f"
           }
          },
          "ternary": {
           "aaxis": {
            "gridcolor": "white",
            "linecolor": "white",
            "ticks": ""
           },
           "baxis": {
            "gridcolor": "white",
            "linecolor": "white",
            "ticks": ""
           },
           "bgcolor": "#E5ECF6",
           "caxis": {
            "gridcolor": "white",
            "linecolor": "white",
            "ticks": ""
           }
          },
          "title": {
           "x": 0.05
          },
          "xaxis": {
           "automargin": true,
           "gridcolor": "white",
           "linecolor": "white",
           "ticks": "",
           "title": {
            "standoff": 15
           },
           "zerolinecolor": "white",
           "zerolinewidth": 2
          },
          "yaxis": {
           "automargin": true,
           "gridcolor": "white",
           "linecolor": "white",
           "ticks": "",
           "title": {
            "standoff": 15
           },
           "zerolinecolor": "white",
           "zerolinewidth": 2
          }
         }
        },
        "title": {
         "text": "Tournament Performance for Ruud C."
        },
        "xaxis": {
         "anchor": "y",
         "categoryorder": "category ascending",
         "domain": [
          0,
          1
         ],
         "title": {
          "text": "Date"
         },
         "type": "category"
        },
        "yaxis": {
         "anchor": "x",
         "domain": [
          0,
          1
         ],
         "title": {
          "text": "RoundDraw"
         }
        }
       }
      }
     },
     "metadata": {},
     "output_type": "display_data"
    },
    {
     "data": {
      "application/vnd.plotly.v1+json": {
       "config": {
        "plotlyServerURL": "https://plot.ly"
       },
       "data": [
        {
         "legendgroup": "Rublev A.",
         "line": {
          "color": "#636efa",
          "dash": "solid"
         },
         "marker": {
          "symbol": "circle"
         },
         "mode": "markers+lines",
         "name": "Rublev A.",
         "orientation": "v",
         "showlegend": true,
         "type": "scatter",
         "x": [
          "2014-10-14T00:00:00",
          "2015-02-17T00:00:00",
          "2015-02-18T00:00:00",
          "2015-04-21T00:00:00",
          "2015-04-22T00:00:00",
          "2015-04-28T00:00:00",
          "2015-04-29T00:00:00",
          "2015-05-17T00:00:00",
          "2015-05-19T00:00:00",
          "2015-07-22T00:00:00",
          "2015-07-27T00:00:00",
          "2015-09-01T00:00:00",
          "2015-09-23T00:00:00",
          "2015-10-20T00:00:00",
          "2015-10-28T00:00:00",
          "2015-10-29T00:00:00",
          "2016-01-05T00:00:00",
          "2016-01-06T00:00:00",
          "2016-04-25T00:00:00",
          "2016-09-21T00:00:00",
          "2016-09-22T00:00:00",
          "2017-01-16T00:00:00",
          "2017-01-18T00:00:00",
          "2017-02-21T00:00:00",
          "2017-05-29T00:00:00",
          "2017-06-19T00:00:00",
          "2017-06-22T00:00:00",
          "2017-06-23T00:00:00",
          "2017-07-04T00:00:00",
          "2017-07-06T00:00:00",
          "2017-07-18T00:00:00",
          "2017-07-20T00:00:00",
          "2017-07-21T00:00:00",
          "2017-07-22T00:00:00",
          "2017-07-23T00:00:00",
          "2017-07-25T00:00:00",
          "2017-08-21T00:00:00",
          "2017-08-23T00:00:00",
          "2017-08-30T00:00:00",
          "2017-08-31T00:00:00",
          "2017-09-02T00:00:00",
          "2017-09-04T00:00:00",
          "2017-09-06T00:00:00",
          "2017-09-28T00:00:00",
          "2017-10-03T00:00:00",
          "2017-10-05T00:00:00",
          "2017-10-06T00:00:00",
          "2017-10-17T00:00:00",
          "2017-10-24T00:00:00",
          "2018-01-01T00:00:00",
          "2018-01-03T00:00:00",
          "2018-01-04T00:00:00",
          "2018-01-05T00:00:00",
          "2018-01-06T00:00:00",
          "2018-01-15T00:00:00",
          "2018-01-17T00:00:00",
          "2018-01-19T00:00:00",
          "2018-02-05T00:00:00",
          "2018-02-07T00:00:00",
          "2018-02-09T00:00:00",
          "2018-02-14T00:00:00",
          "2018-02-15T00:00:00",
          "2018-02-16T00:00:00",
          "2018-02-27T00:00:00",
          "2018-07-19T00:00:00",
          "2018-07-20T00:00:00",
          "2018-07-25T00:00:00",
          "2018-08-02T00:00:00",
          "2018-08-03T00:00:00",
          "2018-08-04T00:00:00",
          "2018-08-05T00:00:00",
          "2018-08-21T00:00:00",
          "2018-08-27T00:00:00",
          "2018-09-18T00:00:00",
          "2018-10-02T00:00:00",
          "2018-10-04T00:00:00",
          "2018-10-16T00:00:00",
          "2018-10-22T00:00:00",
          "2018-10-25T00:00:00",
          "2018-12-31T00:00:00",
          "2019-01-02T00:00:00",
          "2019-01-08T00:00:00",
          "2019-01-09T00:00:00",
          "2019-01-14T00:00:00",
          "2019-02-19T00:00:00",
          "2019-02-21T00:00:00",
          "2019-02-22T00:00:00",
          "2019-07-02T00:00:00",
          "2019-07-04T00:00:00",
          "2019-07-16T00:00:00",
          "2019-07-18T00:00:00",
          "2019-07-22T00:00:00",
          "2019-07-24T00:00:00",
          "2019-07-26T00:00:00",
          "2019-07-27T00:00:00",
          "2019-07-28T00:00:00",
          "2019-07-30T00:00:00",
          "2019-08-20T00:00:00",
          "2019-08-21T00:00:00",
          "2019-08-22T00:00:00",
          "2019-08-23T00:00:00",
          "2019-08-27T00:00:00",
          "2019-08-29T00:00:00",
          "2019-09-01T00:00:00",
          "2019-09-02T00:00:00",
          "2019-09-17T00:00:00",
          "2019-09-19T00:00:00",
          "2019-09-20T00:00:00",
          "2019-09-30T00:00:00",
          "2019-10-02T00:00:00",
          "2019-10-15T00:00:00",
          "2019-10-17T00:00:00",
          "2019-10-18T00:00:00",
          "2019-10-19T00:00:00",
          "2019-10-20T00:00:00",
          "2019-10-23T00:00:00",
          "2019-10-24T00:00:00",
          "2019-10-25T00:00:00",
          "2020-01-08T00:00:00",
          "2020-01-10T00:00:00",
          "2020-01-10T00:00:00",
          "2020-01-11T00:00:00",
          "2020-01-15T00:00:00",
          "2020-01-16T00:00:00",
          "2020-01-17T00:00:00",
          "2020-01-18T00:00:00",
          "2020-01-21T00:00:00",
          "2020-01-23T00:00:00",
          "2020-01-25T00:00:00",
          "2020-01-27T00:00:00",
          "2020-02-11T00:00:00",
          "2020-02-13T00:00:00",
          "2020-02-14T00:00:00",
          "2020-02-24T00:00:00",
          "2020-02-26T00:00:00",
          "2020-02-27T00:00:00",
          "2020-09-01T00:00:00",
          "2020-09-03T00:00:00",
          "2020-09-05T00:00:00",
          "2020-09-08T00:00:00",
          "2020-09-09T00:00:00",
          "2020-09-21T00:00:00",
          "2020-09-23T00:00:00",
          "2020-09-25T00:00:00",
          "2020-09-26T00:00:00",
          "2020-09-27T00:00:00",
          "2020-09-29T00:00:00",
          "2020-10-01T00:00:00",
          "2020-10-03T00:00:00",
          "2020-10-05T00:00:00",
          "2020-10-07T00:00:00",
          "2020-10-13T00:00:00",
          "2020-10-15T00:00:00",
          "2020-10-16T00:00:00",
          "2020-10-17T00:00:00",
          "2020-10-18T00:00:00",
          "2020-10-26T00:00:00",
          "2020-10-29T00:00:00",
          "2020-10-30T00:00:00",
          "2020-10-31T00:00:00",
          "2020-11-01T00:00:00",
          "2021-02-09T00:00:00",
          "2021-02-11T00:00:00",
          "2021-02-13T00:00:00",
          "2021-02-15T00:00:00",
          "2021-02-17T00:00:00",
          "2021-03-02T00:00:00",
          "2021-03-03T00:00:00",
          "2021-03-05T00:00:00",
          "2021-03-06T00:00:00",
          "2021-03-07T00:00:00",
          "2021-03-10T00:00:00",
          "2021-03-11T00:00:00",
          "2021-03-12T00:00:00",
          "2021-03-16T00:00:00",
          "2021-03-17T00:00:00",
          "2021-03-18T00:00:00",
          "2021-03-19T00:00:00",
          "2021-04-21T00:00:00",
          "2021-04-22T00:00:00",
          "2021-04-23T00:00:00",
          "2021-06-01T00:00:00",
          "2021-06-15T00:00:00",
          "2021-06-16T00:00:00",
          "2021-06-18T00:00:00",
          "2021-06-19T00:00:00",
          "2021-06-20T00:00:00",
          "2021-06-28T00:00:00",
          "2021-06-30T00:00:00",
          "2021-07-02T00:00:00",
          "2021-07-05T00:00:00",
          "2021-08-30T00:00:00",
          "2021-09-01T00:00:00",
          "2021-09-04T00:00:00",
          "2021-09-30T00:00:00",
          "2021-10-01T00:00:00",
          "2021-10-02T00:00:00",
          "2021-10-21T00:00:00",
          "2021-10-27T00:00:00",
          "2021-10-29T00:00:00",
          "2022-01-18T00:00:00",
          "2022-01-20T00:00:00",
          "2022-01-22T00:00:00",
          "2022-02-08T00:00:00",
          "2022-02-10T00:00:00",
          "2022-02-11T00:00:00",
          "2022-02-12T00:00:00"
         ],
         "xaxis": "x",
         "y": [
          495,
          370,
          370,
          329,
          329,
          292,
          292,
          229,
          229,
          190,
          193,
          198,
          178,
          179,
          180,
          180,
          185,
          185,
          163,
          201,
          201,
          152,
          152,
          111,
          118,
          106,
          106,
          106,
          95,
          95,
          74,
          74,
          74,
          74,
          74,
          49,
          54,
          54,
          53,
          53,
          53,
          53,
          53,
          37,
          39,
          39,
          39,
          35,
          35,
          39,
          39,
          39,
          39,
          39,
          32,
          32,
          32,
          36,
          36,
          36,
          34,
          34,
          34,
          32,
          35,
          35,
          46,
          46,
          46,
          46,
          46,
          37,
          38,
          69,
          68,
          68,
          78,
          76,
          76,
          68,
          68,
          84,
          84,
          87,
          115,
          115,
          115,
          79,
          79,
          76,
          76,
          78,
          78,
          78,
          78,
          78,
          49,
          47,
          47,
          47,
          47,
          43,
          43,
          43,
          43,
          38,
          38,
          38,
          35,
          35,
          31,
          31,
          31,
          31,
          31,
          22,
          22,
          22,
          23,
          23,
          23,
          23,
          18,
          18,
          18,
          18,
          16,
          16,
          16,
          16,
          15,
          15,
          15,
          14,
          14,
          14,
          14,
          14,
          14,
          14,
          14,
          14,
          14,
          14,
          14,
          14,
          12,
          12,
          12,
          12,
          12,
          10,
          10,
          10,
          10,
          10,
          8,
          8,
          8,
          8,
          8,
          8,
          8,
          8,
          8,
          8,
          8,
          8,
          8,
          8,
          8,
          8,
          8,
          8,
          8,
          8,
          8,
          8,
          7,
          7,
          7,
          7,
          7,
          7,
          7,
          7,
          7,
          7,
          7,
          7,
          7,
          7,
          7,
          7,
          5,
          5,
          5,
          6,
          6,
          6,
          6,
          6,
          6,
          7,
          7,
          7,
          7
         ],
         "yaxis": "y"
        },
        {
         "legendgroup": "Ruud C.",
         "line": {
          "color": "#EF553B",
          "dash": "solid"
         },
         "marker": {
          "symbol": "circle"
         },
         "mode": "markers+lines",
         "name": "Ruud C.",
         "orientation": "v",
         "showlegend": true,
         "type": "scatter",
         "x": [
          "2016-09-28T00:00:00",
          "2017-01-03T00:00:00",
          "2017-02-20T00:00:00",
          "2017-02-23T00:00:00",
          "2017-02-24T00:00:00",
          "2017-02-25T00:00:00",
          "2017-02-28T00:00:00",
          "2017-03-01T00:00:00",
          "2017-04-24T00:00:00",
          "2017-04-26T00:00:00",
          "2017-05-02T00:00:00",
          "2017-07-31T00:00:00",
          "2018-01-09T00:00:00",
          "2018-01-15T00:00:00",
          "2018-01-17T00:00:00",
          "2018-02-05T00:00:00",
          "2018-02-08T00:00:00",
          "2018-02-20T00:00:00",
          "2018-05-01T00:00:00",
          "2018-05-03T00:00:00",
          "2018-05-28T00:00:00",
          "2018-05-31T00:00:00",
          "2018-07-16T00:00:00",
          "2018-07-19T00:00:00",
          "2018-07-20T00:00:00",
          "2018-07-23T00:00:00",
          "2018-08-27T00:00:00",
          "2019-02-19T00:00:00",
          "2019-02-21T00:00:00",
          "2019-02-22T00:00:00",
          "2019-02-27T00:00:00",
          "2019-02-28T00:00:00",
          "2019-03-01T00:00:00",
          "2019-03-02T00:00:00",
          "2019-04-08T00:00:00",
          "2019-04-11T00:00:00",
          "2019-04-12T00:00:00",
          "2019-04-13T00:00:00",
          "2019-04-14T00:00:00",
          "2019-05-26T00:00:00",
          "2019-05-29T00:00:00",
          "2019-05-31T00:00:00",
          "2019-07-02T00:00:00",
          "2019-07-16T00:00:00",
          "2019-07-23T00:00:00",
          "2019-07-24T00:00:00",
          "2019-07-30T00:00:00",
          "2019-07-31T00:00:00",
          "2019-08-01T00:00:00",
          "2019-08-02T00:00:00",
          "2019-08-20T00:00:00",
          "2019-08-21T00:00:00",
          "2019-08-27T00:00:00",
          "2019-09-18T00:00:00",
          "2019-09-19T00:00:00",
          "2019-09-20T00:00:00",
          "2019-09-24T00:00:00",
          "2019-10-15T00:00:00",
          "2020-01-13T00:00:00",
          "2020-01-21T00:00:00",
          "2020-02-10T00:00:00",
          "2020-02-12T00:00:00",
          "2020-02-14T00:00:00",
          "2020-02-15T00:00:00",
          "2020-02-16T00:00:00",
          "2020-02-18T00:00:00",
          "2020-02-26T00:00:00",
          "2020-02-28T00:00:00",
          "2020-02-29T00:00:00",
          "2020-03-01T00:00:00",
          "2020-09-01T00:00:00",
          "2020-09-03T00:00:00",
          "2020-09-05T00:00:00",
          "2020-09-23T00:00:00",
          "2020-09-24T00:00:00",
          "2020-09-25T00:00:00",
          "2020-09-26T00:00:00",
          "2020-09-28T00:00:00",
          "2020-09-30T00:00:00",
          "2020-10-02T00:00:00",
          "2020-10-15T00:00:00",
          "2020-10-28T00:00:00",
          "2021-02-03T00:00:00",
          "2021-02-09T00:00:00",
          "2021-02-11T00:00:00",
          "2021-02-13T00:00:00",
          "2021-02-15T00:00:00",
          "2021-03-17T00:00:00",
          "2021-03-18T00:00:00",
          "2021-03-19T00:00:00",
          "2021-04-08T00:00:00",
          "2021-04-09T00:00:00",
          "2021-04-28T00:00:00",
          "2021-05-01T00:00:00",
          "2021-05-01T00:00:00",
          "2021-05-19T00:00:00",
          "2021-05-20T00:00:00",
          "2021-05-21T00:00:00",
          "2021-05-22T00:00:00",
          "2021-05-31T00:00:00",
          "2021-06-02T00:00:00",
          "2021-06-04T00:00:00",
          "2021-06-21T00:00:00",
          "2021-06-22T00:00:00",
          "2021-06-24T00:00:00",
          "2021-06-30T00:00:00",
          "2021-07-15T00:00:00",
          "2021-07-16T00:00:00",
          "2021-07-17T00:00:00",
          "2021-07-18T00:00:00",
          "2021-07-22T00:00:00",
          "2021-07-23T00:00:00",
          "2021-07-24T00:00:00",
          "2021-07-25T00:00:00",
          "2021-07-28T00:00:00",
          "2021-07-29T00:00:00",
          "2021-07-30T00:00:00",
          "2021-07-31T00:00:00",
          "2021-08-30T00:00:00",
          "2021-09-01T00:00:00",
          "2021-10-01T00:00:00",
          "2021-10-02T00:00:00",
          "2021-10-03T00:00:00",
          "2021-10-04T00:00:00",
          "2021-10-26T00:00:00",
          "2021-10-28T00:00:00",
          "2021-10-29T00:00:00",
          "2022-02-09T00:00:00",
          "2022-02-11T00:00:00",
          "2022-02-12T00:00:00",
          "2022-02-13T00:00:00"
         ],
         "xaxis": "x",
         "y": [
          258,
          225,
          208,
          208,
          208,
          208,
          133,
          133,
          126,
          126,
          118,
          109,
          137,
          138,
          138,
          122,
          122,
          120,
          193,
          193,
          157,
          157,
          147,
          147,
          147,
          141,
          143,
          135,
          135,
          135,
          108,
          108,
          108,
          108,
          95,
          95,
          95,
          95,
          95,
          63,
          63,
          63,
          62,
          65,
          69,
          69,
          65,
          65,
          65,
          65,
          54,
          54,
          54,
          60,
          60,
          60,
          59,
          59,
          46,
          48,
          45,
          45,
          45,
          45,
          45,
          34,
          38,
          38,
          38,
          38,
          37,
          37,
          37,
          30,
          30,
          30,
          30,
          25,
          25,
          25,
          25,
          27,
          27,
          28,
          28,
          28,
          28,
          25,
          25,
          25,
          26,
          26,
          24,
          24,
          24,
          21,
          21,
          21,
          21,
          16,
          16,
          16,
          14,
          14,
          14,
          14,
          16,
          16,
          16,
          16,
          14,
          14,
          14,
          14,
          14,
          14,
          14,
          14,
          11,
          11,
          10,
          10,
          10,
          10,
          8,
          8,
          8,
          8,
          8,
          8,
          8
         ],
         "yaxis": "y"
        }
       ],
       "layout": {
        "hovermode": "x",
        "legend": {
         "title": {
          "text": "MainPlayer"
         },
         "tracegroupgap": 0
        },
        "margin": {
         "t": 60
        },
        "template": {
         "data": {
          "bar": [
           {
            "error_x": {
             "color": "#2a3f5f"
            },
            "error_y": {
             "color": "#2a3f5f"
            },
            "marker": {
             "line": {
              "color": "#E5ECF6",
              "width": 0.5
             },
             "pattern": {
              "fillmode": "overlay",
              "size": 10,
              "solidity": 0.2
             }
            },
            "type": "bar"
           }
          ],
          "barpolar": [
           {
            "marker": {
             "line": {
              "color": "#E5ECF6",
              "width": 0.5
             },
             "pattern": {
              "fillmode": "overlay",
              "size": 10,
              "solidity": 0.2
             }
            },
            "type": "barpolar"
           }
          ],
          "carpet": [
           {
            "aaxis": {
             "endlinecolor": "#2a3f5f",
             "gridcolor": "white",
             "linecolor": "white",
             "minorgridcolor": "white",
             "startlinecolor": "#2a3f5f"
            },
            "baxis": {
             "endlinecolor": "#2a3f5f",
             "gridcolor": "white",
             "linecolor": "white",
             "minorgridcolor": "white",
             "startlinecolor": "#2a3f5f"
            },
            "type": "carpet"
           }
          ],
          "choropleth": [
           {
            "colorbar": {
             "outlinewidth": 0,
             "ticks": ""
            },
            "type": "choropleth"
           }
          ],
          "contour": [
           {
            "colorbar": {
             "outlinewidth": 0,
             "ticks": ""
            },
            "colorscale": [
             [
              0,
              "#0d0887"
             ],
             [
              0.1111111111111111,
              "#46039f"
             ],
             [
              0.2222222222222222,
              "#7201a8"
             ],
             [
              0.3333333333333333,
              "#9c179e"
             ],
             [
              0.4444444444444444,
              "#bd3786"
             ],
             [
              0.5555555555555556,
              "#d8576b"
             ],
             [
              0.6666666666666666,
              "#ed7953"
             ],
             [
              0.7777777777777778,
              "#fb9f3a"
             ],
             [
              0.8888888888888888,
              "#fdca26"
             ],
             [
              1,
              "#f0f921"
             ]
            ],
            "type": "contour"
           }
          ],
          "contourcarpet": [
           {
            "colorbar": {
             "outlinewidth": 0,
             "ticks": ""
            },
            "type": "contourcarpet"
           }
          ],
          "heatmap": [
           {
            "colorbar": {
             "outlinewidth": 0,
             "ticks": ""
            },
            "colorscale": [
             [
              0,
              "#0d0887"
             ],
             [
              0.1111111111111111,
              "#46039f"
             ],
             [
              0.2222222222222222,
              "#7201a8"
             ],
             [
              0.3333333333333333,
              "#9c179e"
             ],
             [
              0.4444444444444444,
              "#bd3786"
             ],
             [
              0.5555555555555556,
              "#d8576b"
             ],
             [
              0.6666666666666666,
              "#ed7953"
             ],
             [
              0.7777777777777778,
              "#fb9f3a"
             ],
             [
              0.8888888888888888,
              "#fdca26"
             ],
             [
              1,
              "#f0f921"
             ]
            ],
            "type": "heatmap"
           }
          ],
          "heatmapgl": [
           {
            "colorbar": {
             "outlinewidth": 0,
             "ticks": ""
            },
            "colorscale": [
             [
              0,
              "#0d0887"
             ],
             [
              0.1111111111111111,
              "#46039f"
             ],
             [
              0.2222222222222222,
              "#7201a8"
             ],
             [
              0.3333333333333333,
              "#9c179e"
             ],
             [
              0.4444444444444444,
              "#bd3786"
             ],
             [
              0.5555555555555556,
              "#d8576b"
             ],
             [
              0.6666666666666666,
              "#ed7953"
             ],
             [
              0.7777777777777778,
              "#fb9f3a"
             ],
             [
              0.8888888888888888,
              "#fdca26"
             ],
             [
              1,
              "#f0f921"
             ]
            ],
            "type": "heatmapgl"
           }
          ],
          "histogram": [
           {
            "marker": {
             "pattern": {
              "fillmode": "overlay",
              "size": 10,
              "solidity": 0.2
             }
            },
            "type": "histogram"
           }
          ],
          "histogram2d": [
           {
            "colorbar": {
             "outlinewidth": 0,
             "ticks": ""
            },
            "colorscale": [
             [
              0,
              "#0d0887"
             ],
             [
              0.1111111111111111,
              "#46039f"
             ],
             [
              0.2222222222222222,
              "#7201a8"
             ],
             [
              0.3333333333333333,
              "#9c179e"
             ],
             [
              0.4444444444444444,
              "#bd3786"
             ],
             [
              0.5555555555555556,
              "#d8576b"
             ],
             [
              0.6666666666666666,
              "#ed7953"
             ],
             [
              0.7777777777777778,
              "#fb9f3a"
             ],
             [
              0.8888888888888888,
              "#fdca26"
             ],
             [
              1,
              "#f0f921"
             ]
            ],
            "type": "histogram2d"
           }
          ],
          "histogram2dcontour": [
           {
            "colorbar": {
             "outlinewidth": 0,
             "ticks": ""
            },
            "colorscale": [
             [
              0,
              "#0d0887"
             ],
             [
              0.1111111111111111,
              "#46039f"
             ],
             [
              0.2222222222222222,
              "#7201a8"
             ],
             [
              0.3333333333333333,
              "#9c179e"
             ],
             [
              0.4444444444444444,
              "#bd3786"
             ],
             [
              0.5555555555555556,
              "#d8576b"
             ],
             [
              0.6666666666666666,
              "#ed7953"
             ],
             [
              0.7777777777777778,
              "#fb9f3a"
             ],
             [
              0.8888888888888888,
              "#fdca26"
             ],
             [
              1,
              "#f0f921"
             ]
            ],
            "type": "histogram2dcontour"
           }
          ],
          "mesh3d": [
           {
            "colorbar": {
             "outlinewidth": 0,
             "ticks": ""
            },
            "type": "mesh3d"
           }
          ],
          "parcoords": [
           {
            "line": {
             "colorbar": {
              "outlinewidth": 0,
              "ticks": ""
             }
            },
            "type": "parcoords"
           }
          ],
          "pie": [
           {
            "automargin": true,
            "type": "pie"
           }
          ],
          "scatter": [
           {
            "fillpattern": {
             "fillmode": "overlay",
             "size": 10,
             "solidity": 0.2
            },
            "type": "scatter"
           }
          ],
          "scatter3d": [
           {
            "line": {
             "colorbar": {
              "outlinewidth": 0,
              "ticks": ""
             }
            },
            "marker": {
             "colorbar": {
              "outlinewidth": 0,
              "ticks": ""
             }
            },
            "type": "scatter3d"
           }
          ],
          "scattercarpet": [
           {
            "marker": {
             "colorbar": {
              "outlinewidth": 0,
              "ticks": ""
             }
            },
            "type": "scattercarpet"
           }
          ],
          "scattergeo": [
           {
            "marker": {
             "colorbar": {
              "outlinewidth": 0,
              "ticks": ""
             }
            },
            "type": "scattergeo"
           }
          ],
          "scattergl": [
           {
            "marker": {
             "colorbar": {
              "outlinewidth": 0,
              "ticks": ""
             }
            },
            "type": "scattergl"
           }
          ],
          "scattermapbox": [
           {
            "marker": {
             "colorbar": {
              "outlinewidth": 0,
              "ticks": ""
             }
            },
            "type": "scattermapbox"
           }
          ],
          "scatterpolar": [
           {
            "marker": {
             "colorbar": {
              "outlinewidth": 0,
              "ticks": ""
             }
            },
            "type": "scatterpolar"
           }
          ],
          "scatterpolargl": [
           {
            "marker": {
             "colorbar": {
              "outlinewidth": 0,
              "ticks": ""
             }
            },
            "type": "scatterpolargl"
           }
          ],
          "scatterternary": [
           {
            "marker": {
             "colorbar": {
              "outlinewidth": 0,
              "ticks": ""
             }
            },
            "type": "scatterternary"
           }
          ],
          "surface": [
           {
            "colorbar": {
             "outlinewidth": 0,
             "ticks": ""
            },
            "colorscale": [
             [
              0,
              "#0d0887"
             ],
             [
              0.1111111111111111,
              "#46039f"
             ],
             [
              0.2222222222222222,
              "#7201a8"
             ],
             [
              0.3333333333333333,
              "#9c179e"
             ],
             [
              0.4444444444444444,
              "#bd3786"
             ],
             [
              0.5555555555555556,
              "#d8576b"
             ],
             [
              0.6666666666666666,
              "#ed7953"
             ],
             [
              0.7777777777777778,
              "#fb9f3a"
             ],
             [
              0.8888888888888888,
              "#fdca26"
             ],
             [
              1,
              "#f0f921"
             ]
            ],
            "type": "surface"
           }
          ],
          "table": [
           {
            "cells": {
             "fill": {
              "color": "#EBF0F8"
             },
             "line": {
              "color": "white"
             }
            },
            "header": {
             "fill": {
              "color": "#C8D4E3"
             },
             "line": {
              "color": "white"
             }
            },
            "type": "table"
           }
          ]
         },
         "layout": {
          "annotationdefaults": {
           "arrowcolor": "#2a3f5f",
           "arrowhead": 0,
           "arrowwidth": 1
          },
          "autotypenumbers": "strict",
          "coloraxis": {
           "colorbar": {
            "outlinewidth": 0,
            "ticks": ""
           }
          },
          "colorscale": {
           "diverging": [
            [
             0,
             "#8e0152"
            ],
            [
             0.1,
             "#c51b7d"
            ],
            [
             0.2,
             "#de77ae"
            ],
            [
             0.3,
             "#f1b6da"
            ],
            [
             0.4,
             "#fde0ef"
            ],
            [
             0.5,
             "#f7f7f7"
            ],
            [
             0.6,
             "#e6f5d0"
            ],
            [
             0.7,
             "#b8e186"
            ],
            [
             0.8,
             "#7fbc41"
            ],
            [
             0.9,
             "#4d9221"
            ],
            [
             1,
             "#276419"
            ]
           ],
           "sequential": [
            [
             0,
             "#0d0887"
            ],
            [
             0.1111111111111111,
             "#46039f"
            ],
            [
             0.2222222222222222,
             "#7201a8"
            ],
            [
             0.3333333333333333,
             "#9c179e"
            ],
            [
             0.4444444444444444,
             "#bd3786"
            ],
            [
             0.5555555555555556,
             "#d8576b"
            ],
            [
             0.6666666666666666,
             "#ed7953"
            ],
            [
             0.7777777777777778,
             "#fb9f3a"
            ],
            [
             0.8888888888888888,
             "#fdca26"
            ],
            [
             1,
             "#f0f921"
            ]
           ],
           "sequentialminus": [
            [
             0,
             "#0d0887"
            ],
            [
             0.1111111111111111,
             "#46039f"
            ],
            [
             0.2222222222222222,
             "#7201a8"
            ],
            [
             0.3333333333333333,
             "#9c179e"
            ],
            [
             0.4444444444444444,
             "#bd3786"
            ],
            [
             0.5555555555555556,
             "#d8576b"
            ],
            [
             0.6666666666666666,
             "#ed7953"
            ],
            [
             0.7777777777777778,
             "#fb9f3a"
            ],
            [
             0.8888888888888888,
             "#fdca26"
            ],
            [
             1,
             "#f0f921"
            ]
           ]
          },
          "colorway": [
           "#636efa",
           "#EF553B",
           "#00cc96",
           "#ab63fa",
           "#FFA15A",
           "#19d3f3",
           "#FF6692",
           "#B6E880",
           "#FF97FF",
           "#FECB52"
          ],
          "font": {
           "color": "#2a3f5f"
          },
          "geo": {
           "bgcolor": "white",
           "lakecolor": "white",
           "landcolor": "#E5ECF6",
           "showlakes": true,
           "showland": true,
           "subunitcolor": "white"
          },
          "hoverlabel": {
           "align": "left"
          },
          "hovermode": "closest",
          "mapbox": {
           "style": "light"
          },
          "paper_bgcolor": "white",
          "plot_bgcolor": "#E5ECF6",
          "polar": {
           "angularaxis": {
            "gridcolor": "white",
            "linecolor": "white",
            "ticks": ""
           },
           "bgcolor": "#E5ECF6",
           "radialaxis": {
            "gridcolor": "white",
            "linecolor": "white",
            "ticks": ""
           }
          },
          "scene": {
           "xaxis": {
            "backgroundcolor": "#E5ECF6",
            "gridcolor": "white",
            "gridwidth": 2,
            "linecolor": "white",
            "showbackground": true,
            "ticks": "",
            "zerolinecolor": "white"
           },
           "yaxis": {
            "backgroundcolor": "#E5ECF6",
            "gridcolor": "white",
            "gridwidth": 2,
            "linecolor": "white",
            "showbackground": true,
            "ticks": "",
            "zerolinecolor": "white"
           },
           "zaxis": {
            "backgroundcolor": "#E5ECF6",
            "gridcolor": "white",
            "gridwidth": 2,
            "linecolor": "white",
            "showbackground": true,
            "ticks": "",
            "zerolinecolor": "white"
           }
          },
          "shapedefaults": {
           "line": {
            "color": "#2a3f5f"
           }
          },
          "ternary": {
           "aaxis": {
            "gridcolor": "white",
            "linecolor": "white",
            "ticks": ""
           },
           "baxis": {
            "gridcolor": "white",
            "linecolor": "white",
            "ticks": ""
           },
           "bgcolor": "#E5ECF6",
           "caxis": {
            "gridcolor": "white",
            "linecolor": "white",
            "ticks": ""
           }
          },
          "title": {
           "x": 0.05
          },
          "xaxis": {
           "automargin": true,
           "gridcolor": "white",
           "linecolor": "white",
           "ticks": "",
           "title": {
            "standoff": 15
           },
           "zerolinecolor": "white",
           "zerolinewidth": 2
          },
          "yaxis": {
           "automargin": true,
           "gridcolor": "white",
           "linecolor": "white",
           "ticks": "",
           "title": {
            "standoff": 15
           },
           "zerolinecolor": "white",
           "zerolinewidth": 2
          }
         }
        },
        "xaxis": {
         "anchor": "y",
         "domain": [
          0,
          1
         ],
         "title": {
          "text": "Date"
         }
        },
        "yaxis": {
         "anchor": "x",
         "domain": [
          0,
          1
         ],
         "title": {
          "text": "Rank"
         }
        }
       }
      }
     },
     "metadata": {},
     "output_type": "display_data"
    },
    {
     "name": "stdout",
     "output_type": "stream",
     "text": [
      "The players have faced each other 3 times\n",
      "Player Rublev A. has won 3 out of 3\n",
      "Player Ruud C. has won 0 out of 3\n"
     ]
    },
    {
     "data": {
      "application/vnd.plotly.v1+json": {
       "config": {
        "plotlyServerURL": "https://plot.ly"
       },
       "data": [
        {
         "alignmentgroup": "True",
         "customdata": [
          [
           500,
           2
          ],
          [
           500,
           6
          ],
          [
           2000,
           4
          ]
         ],
         "hovertemplate": "Winner=Rublev A.<br>Type=%{x}<br>count=%{y}<br>Tournament=%{text}<br>SeriesPoints=%{customdata[0]}<br>RoundDraw=%{customdata[1]}<extra></extra>",
         "legendgroup": "Rublev A.",
         "marker": {
          "color": "#636efa",
          "pattern": {
           "shape": ""
          }
         },
         "name": "Rublev A.",
         "offsetgroup": "Rublev A.",
         "orientation": "v",
         "showlegend": true,
         "text": [
          "German Tennis Championships",
          "German Tennis Championships",
          "Australian Open"
         ],
         "textposition": "auto",
         "type": "bar",
         "x": [
          "Outdoor_Clay",
          "Outdoor_Clay",
          "Outdoor_Hard"
         ],
         "xaxis": "x",
         "y": [
          1,
          1,
          1
         ],
         "yaxis": "y"
        }
       ],
       "layout": {
        "barmode": "relative",
        "legend": {
         "title": {
          "text": "Winner"
         },
         "tracegroupgap": 0
        },
        "margin": {
         "t": 60
        },
        "template": {
         "data": {
          "bar": [
           {
            "error_x": {
             "color": "#2a3f5f"
            },
            "error_y": {
             "color": "#2a3f5f"
            },
            "marker": {
             "line": {
              "color": "#E5ECF6",
              "width": 0.5
             },
             "pattern": {
              "fillmode": "overlay",
              "size": 10,
              "solidity": 0.2
             }
            },
            "type": "bar"
           }
          ],
          "barpolar": [
           {
            "marker": {
             "line": {
              "color": "#E5ECF6",
              "width": 0.5
             },
             "pattern": {
              "fillmode": "overlay",
              "size": 10,
              "solidity": 0.2
             }
            },
            "type": "barpolar"
           }
          ],
          "carpet": [
           {
            "aaxis": {
             "endlinecolor": "#2a3f5f",
             "gridcolor": "white",
             "linecolor": "white",
             "minorgridcolor": "white",
             "startlinecolor": "#2a3f5f"
            },
            "baxis": {
             "endlinecolor": "#2a3f5f",
             "gridcolor": "white",
             "linecolor": "white",
             "minorgridcolor": "white",
             "startlinecolor": "#2a3f5f"
            },
            "type": "carpet"
           }
          ],
          "choropleth": [
           {
            "colorbar": {
             "outlinewidth": 0,
             "ticks": ""
            },
            "type": "choropleth"
           }
          ],
          "contour": [
           {
            "colorbar": {
             "outlinewidth": 0,
             "ticks": ""
            },
            "colorscale": [
             [
              0,
              "#0d0887"
             ],
             [
              0.1111111111111111,
              "#46039f"
             ],
             [
              0.2222222222222222,
              "#7201a8"
             ],
             [
              0.3333333333333333,
              "#9c179e"
             ],
             [
              0.4444444444444444,
              "#bd3786"
             ],
             [
              0.5555555555555556,
              "#d8576b"
             ],
             [
              0.6666666666666666,
              "#ed7953"
             ],
             [
              0.7777777777777778,
              "#fb9f3a"
             ],
             [
              0.8888888888888888,
              "#fdca26"
             ],
             [
              1,
              "#f0f921"
             ]
            ],
            "type": "contour"
           }
          ],
          "contourcarpet": [
           {
            "colorbar": {
             "outlinewidth": 0,
             "ticks": ""
            },
            "type": "contourcarpet"
           }
          ],
          "heatmap": [
           {
            "colorbar": {
             "outlinewidth": 0,
             "ticks": ""
            },
            "colorscale": [
             [
              0,
              "#0d0887"
             ],
             [
              0.1111111111111111,
              "#46039f"
             ],
             [
              0.2222222222222222,
              "#7201a8"
             ],
             [
              0.3333333333333333,
              "#9c179e"
             ],
             [
              0.4444444444444444,
              "#bd3786"
             ],
             [
              0.5555555555555556,
              "#d8576b"
             ],
             [
              0.6666666666666666,
              "#ed7953"
             ],
             [
              0.7777777777777778,
              "#fb9f3a"
             ],
             [
              0.8888888888888888,
              "#fdca26"
             ],
             [
              1,
              "#f0f921"
             ]
            ],
            "type": "heatmap"
           }
          ],
          "heatmapgl": [
           {
            "colorbar": {
             "outlinewidth": 0,
             "ticks": ""
            },
            "colorscale": [
             [
              0,
              "#0d0887"
             ],
             [
              0.1111111111111111,
              "#46039f"
             ],
             [
              0.2222222222222222,
              "#7201a8"
             ],
             [
              0.3333333333333333,
              "#9c179e"
             ],
             [
              0.4444444444444444,
              "#bd3786"
             ],
             [
              0.5555555555555556,
              "#d8576b"
             ],
             [
              0.6666666666666666,
              "#ed7953"
             ],
             [
              0.7777777777777778,
              "#fb9f3a"
             ],
             [
              0.8888888888888888,
              "#fdca26"
             ],
             [
              1,
              "#f0f921"
             ]
            ],
            "type": "heatmapgl"
           }
          ],
          "histogram": [
           {
            "marker": {
             "pattern": {
              "fillmode": "overlay",
              "size": 10,
              "solidity": 0.2
             }
            },
            "type": "histogram"
           }
          ],
          "histogram2d": [
           {
            "colorbar": {
             "outlinewidth": 0,
             "ticks": ""
            },
            "colorscale": [
             [
              0,
              "#0d0887"
             ],
             [
              0.1111111111111111,
              "#46039f"
             ],
             [
              0.2222222222222222,
              "#7201a8"
             ],
             [
              0.3333333333333333,
              "#9c179e"
             ],
             [
              0.4444444444444444,
              "#bd3786"
             ],
             [
              0.5555555555555556,
              "#d8576b"
             ],
             [
              0.6666666666666666,
              "#ed7953"
             ],
             [
              0.7777777777777778,
              "#fb9f3a"
             ],
             [
              0.8888888888888888,
              "#fdca26"
             ],
             [
              1,
              "#f0f921"
             ]
            ],
            "type": "histogram2d"
           }
          ],
          "histogram2dcontour": [
           {
            "colorbar": {
             "outlinewidth": 0,
             "ticks": ""
            },
            "colorscale": [
             [
              0,
              "#0d0887"
             ],
             [
              0.1111111111111111,
              "#46039f"
             ],
             [
              0.2222222222222222,
              "#7201a8"
             ],
             [
              0.3333333333333333,
              "#9c179e"
             ],
             [
              0.4444444444444444,
              "#bd3786"
             ],
             [
              0.5555555555555556,
              "#d8576b"
             ],
             [
              0.6666666666666666,
              "#ed7953"
             ],
             [
              0.7777777777777778,
              "#fb9f3a"
             ],
             [
              0.8888888888888888,
              "#fdca26"
             ],
             [
              1,
              "#f0f921"
             ]
            ],
            "type": "histogram2dcontour"
           }
          ],
          "mesh3d": [
           {
            "colorbar": {
             "outlinewidth": 0,
             "ticks": ""
            },
            "type": "mesh3d"
           }
          ],
          "parcoords": [
           {
            "line": {
             "colorbar": {
              "outlinewidth": 0,
              "ticks": ""
             }
            },
            "type": "parcoords"
           }
          ],
          "pie": [
           {
            "automargin": true,
            "type": "pie"
           }
          ],
          "scatter": [
           {
            "fillpattern": {
             "fillmode": "overlay",
             "size": 10,
             "solidity": 0.2
            },
            "type": "scatter"
           }
          ],
          "scatter3d": [
           {
            "line": {
             "colorbar": {
              "outlinewidth": 0,
              "ticks": ""
             }
            },
            "marker": {
             "colorbar": {
              "outlinewidth": 0,
              "ticks": ""
             }
            },
            "type": "scatter3d"
           }
          ],
          "scattercarpet": [
           {
            "marker": {
             "colorbar": {
              "outlinewidth": 0,
              "ticks": ""
             }
            },
            "type": "scattercarpet"
           }
          ],
          "scattergeo": [
           {
            "marker": {
             "colorbar": {
              "outlinewidth": 0,
              "ticks": ""
             }
            },
            "type": "scattergeo"
           }
          ],
          "scattergl": [
           {
            "marker": {
             "colorbar": {
              "outlinewidth": 0,
              "ticks": ""
             }
            },
            "type": "scattergl"
           }
          ],
          "scattermapbox": [
           {
            "marker": {
             "colorbar": {
              "outlinewidth": 0,
              "ticks": ""
             }
            },
            "type": "scattermapbox"
           }
          ],
          "scatterpolar": [
           {
            "marker": {
             "colorbar": {
              "outlinewidth": 0,
              "ticks": ""
             }
            },
            "type": "scatterpolar"
           }
          ],
          "scatterpolargl": [
           {
            "marker": {
             "colorbar": {
              "outlinewidth": 0,
              "ticks": ""
             }
            },
            "type": "scatterpolargl"
           }
          ],
          "scatterternary": [
           {
            "marker": {
             "colorbar": {
              "outlinewidth": 0,
              "ticks": ""
             }
            },
            "type": "scatterternary"
           }
          ],
          "surface": [
           {
            "colorbar": {
             "outlinewidth": 0,
             "ticks": ""
            },
            "colorscale": [
             [
              0,
              "#0d0887"
             ],
             [
              0.1111111111111111,
              "#46039f"
             ],
             [
              0.2222222222222222,
              "#7201a8"
             ],
             [
              0.3333333333333333,
              "#9c179e"
             ],
             [
              0.4444444444444444,
              "#bd3786"
             ],
             [
              0.5555555555555556,
              "#d8576b"
             ],
             [
              0.6666666666666666,
              "#ed7953"
             ],
             [
              0.7777777777777778,
              "#fb9f3a"
             ],
             [
              0.8888888888888888,
              "#fdca26"
             ],
             [
              1,
              "#f0f921"
             ]
            ],
            "type": "surface"
           }
          ],
          "table": [
           {
            "cells": {
             "fill": {
              "color": "#EBF0F8"
             },
             "line": {
              "color": "white"
             }
            },
            "header": {
             "fill": {
              "color": "#C8D4E3"
             },
             "line": {
              "color": "white"
             }
            },
            "type": "table"
           }
          ]
         },
         "layout": {
          "annotationdefaults": {
           "arrowcolor": "#2a3f5f",
           "arrowhead": 0,
           "arrowwidth": 1
          },
          "autotypenumbers": "strict",
          "coloraxis": {
           "colorbar": {
            "outlinewidth": 0,
            "ticks": ""
           }
          },
          "colorscale": {
           "diverging": [
            [
             0,
             "#8e0152"
            ],
            [
             0.1,
             "#c51b7d"
            ],
            [
             0.2,
             "#de77ae"
            ],
            [
             0.3,
             "#f1b6da"
            ],
            [
             0.4,
             "#fde0ef"
            ],
            [
             0.5,
             "#f7f7f7"
            ],
            [
             0.6,
             "#e6f5d0"
            ],
            [
             0.7,
             "#b8e186"
            ],
            [
             0.8,
             "#7fbc41"
            ],
            [
             0.9,
             "#4d9221"
            ],
            [
             1,
             "#276419"
            ]
           ],
           "sequential": [
            [
             0,
             "#0d0887"
            ],
            [
             0.1111111111111111,
             "#46039f"
            ],
            [
             0.2222222222222222,
             "#7201a8"
            ],
            [
             0.3333333333333333,
             "#9c179e"
            ],
            [
             0.4444444444444444,
             "#bd3786"
            ],
            [
             0.5555555555555556,
             "#d8576b"
            ],
            [
             0.6666666666666666,
             "#ed7953"
            ],
            [
             0.7777777777777778,
             "#fb9f3a"
            ],
            [
             0.8888888888888888,
             "#fdca26"
            ],
            [
             1,
             "#f0f921"
            ]
           ],
           "sequentialminus": [
            [
             0,
             "#0d0887"
            ],
            [
             0.1111111111111111,
             "#46039f"
            ],
            [
             0.2222222222222222,
             "#7201a8"
            ],
            [
             0.3333333333333333,
             "#9c179e"
            ],
            [
             0.4444444444444444,
             "#bd3786"
            ],
            [
             0.5555555555555556,
             "#d8576b"
            ],
            [
             0.6666666666666666,
             "#ed7953"
            ],
            [
             0.7777777777777778,
             "#fb9f3a"
            ],
            [
             0.8888888888888888,
             "#fdca26"
            ],
            [
             1,
             "#f0f921"
            ]
           ]
          },
          "colorway": [
           "#636efa",
           "#EF553B",
           "#00cc96",
           "#ab63fa",
           "#FFA15A",
           "#19d3f3",
           "#FF6692",
           "#B6E880",
           "#FF97FF",
           "#FECB52"
          ],
          "font": {
           "color": "#2a3f5f"
          },
          "geo": {
           "bgcolor": "white",
           "lakecolor": "white",
           "landcolor": "#E5ECF6",
           "showlakes": true,
           "showland": true,
           "subunitcolor": "white"
          },
          "hoverlabel": {
           "align": "left"
          },
          "hovermode": "closest",
          "mapbox": {
           "style": "light"
          },
          "paper_bgcolor": "white",
          "plot_bgcolor": "#E5ECF6",
          "polar": {
           "angularaxis": {
            "gridcolor": "white",
            "linecolor": "white",
            "ticks": ""
           },
           "bgcolor": "#E5ECF6",
           "radialaxis": {
            "gridcolor": "white",
            "linecolor": "white",
            "ticks": ""
           }
          },
          "scene": {
           "xaxis": {
            "backgroundcolor": "#E5ECF6",
            "gridcolor": "white",
            "gridwidth": 2,
            "linecolor": "white",
            "showbackground": true,
            "ticks": "",
            "zerolinecolor": "white"
           },
           "yaxis": {
            "backgroundcolor": "#E5ECF6",
            "gridcolor": "white",
            "gridwidth": 2,
            "linecolor": "white",
            "showbackground": true,
            "ticks": "",
            "zerolinecolor": "white"
           },
           "zaxis": {
            "backgroundcolor": "#E5ECF6",
            "gridcolor": "white",
            "gridwidth": 2,
            "linecolor": "white",
            "showbackground": true,
            "ticks": "",
            "zerolinecolor": "white"
           }
          },
          "shapedefaults": {
           "line": {
            "color": "#2a3f5f"
           }
          },
          "ternary": {
           "aaxis": {
            "gridcolor": "white",
            "linecolor": "white",
            "ticks": ""
           },
           "baxis": {
            "gridcolor": "white",
            "linecolor": "white",
            "ticks": ""
           },
           "bgcolor": "#E5ECF6",
           "caxis": {
            "gridcolor": "white",
            "linecolor": "white",
            "ticks": ""
           }
          },
          "title": {
           "x": 0.05
          },
          "xaxis": {
           "automargin": true,
           "gridcolor": "white",
           "linecolor": "white",
           "ticks": "",
           "title": {
            "standoff": 15
           },
           "zerolinecolor": "white",
           "zerolinewidth": 2
          },
          "yaxis": {
           "automargin": true,
           "gridcolor": "white",
           "linecolor": "white",
           "ticks": "",
           "title": {
            "standoff": 15
           },
           "zerolinecolor": "white",
           "zerolinewidth": 2
          }
         }
        },
        "xaxis": {
         "anchor": "y",
         "domain": [
          0,
          1
         ],
         "title": {
          "text": "Type"
         }
        },
        "yaxis": {
         "anchor": "x",
         "domain": [
          0,
          1
         ],
         "title": {
          "text": "count"
         }
        }
       }
      }
     },
     "metadata": {},
     "output_type": "display_data"
    }
   ],
   "source": [
    "plot = win_loss_ratio(tennis_clean,name_p1)\n",
    "plot.show()\n",
    "\n",
    "plot = tournament_performance(tennis_clean,name_p1)\n",
    "plot.show()\n",
    "\n",
    "plot = win_loss_ratio(tennis_clean,name_p2)\n",
    "plot.show()\n",
    "\n",
    "plot = tournament_performance(tennis_clean,name_p2)\n",
    "plot.show()\n",
    "\n",
    "plot = rank_evol(tennis_clean,name_p1,name_p2)\n",
    "plot.show()\n",
    "\n",
    "historical_h2h(tennis_clean,name_p1,name_p2)"
   ]
  },
  {
   "cell_type": "markdown",
   "metadata": {},
   "source": [
    "#### Picking Match  to Predict"
   ]
  },
  {
   "cell_type": "markdown",
   "metadata": {},
   "source": [
    "Add data about game to predict"
   ]
  },
  {
   "cell_type": "code",
   "execution_count": null,
   "metadata": {},
   "outputs": [],
   "source": [
    "def prepare_game_to_predict(name_p1,name_p2,rank_p1,rank_p2,tournament_date,tournament_points,tournament_phase,tournament_surface):\n",
    "    columns = ['Date','Winner','Loser','WRank','LRank','SeriesPoints','RoundDraw','Type']\n",
    "    inputs_match = [tournament_date,name_p1,name_p2,rank_p1,rank_p2,tournament_points,tournament_phase,tournament_surface]\n",
    "    df_input_match = pd.DataFrame([inputs_match],columns=columns)\n",
    "    return df_input_match"
   ]
  },
  {
   "cell_type": "code",
   "execution_count": 1209,
   "metadata": {},
   "outputs": [
    {
     "data": {
      "text/html": [
       "<div>\n",
       "<style scoped>\n",
       "    .dataframe tbody tr th:only-of-type {\n",
       "        vertical-align: middle;\n",
       "    }\n",
       "\n",
       "    .dataframe tbody tr th {\n",
       "        vertical-align: top;\n",
       "    }\n",
       "\n",
       "    .dataframe thead th {\n",
       "        text-align: right;\n",
       "    }\n",
       "</style>\n",
       "<table border=\"1\" class=\"dataframe\">\n",
       "  <thead>\n",
       "    <tr style=\"text-align: right;\">\n",
       "      <th></th>\n",
       "      <th>Date</th>\n",
       "      <th>Winner</th>\n",
       "      <th>Loser</th>\n",
       "      <th>WRank</th>\n",
       "      <th>LRank</th>\n",
       "      <th>SeriesPoints</th>\n",
       "      <th>RoundDraw</th>\n",
       "      <th>Type</th>\n",
       "    </tr>\n",
       "  </thead>\n",
       "  <tbody>\n",
       "    <tr>\n",
       "      <th>0</th>\n",
       "      <td>2022-07-24</td>\n",
       "      <td>Rublev A.</td>\n",
       "      <td>Ruud C.</td>\n",
       "      <td>10</td>\n",
       "      <td>12</td>\n",
       "      <td>500</td>\n",
       "      <td>7</td>\n",
       "      <td>Outdoor_Clay</td>\n",
       "    </tr>\n",
       "  </tbody>\n",
       "</table>\n",
       "</div>"
      ],
      "text/plain": [
       "        Date     Winner    Loser  WRank  LRank  SeriesPoints  RoundDraw  \\\n",
       "0 2022-07-24  Rublev A.  Ruud C.     10     12           500          7   \n",
       "\n",
       "           Type  \n",
       "0  Outdoor_Clay  "
      ]
     },
     "execution_count": 1209,
     "metadata": {},
     "output_type": "execute_result"
    }
   ],
   "source": [
    "# name_p1,rank_p1 = 'Goffin D.', 62\n",
    "# name_p2,rank_p2 = 'Simon G.', 175\n",
    "\n",
    "name_p1,rank_p1 = 'Rublev A.',10\n",
    "name_p2,rank_p2 = 'Ruud C.',12\n",
    "\n",
    "\n",
    "# name_p1,rank_p1 = 'Alcaraz C.', 6\n",
    "# name_p2,rank_p2 = 'Khachanov K.', 27\n",
    "\n",
    "# name_p1,rank_p1 = 'Alcaraz C.', 6\n",
    "# name_p2,rank_p2 = 'Musetti L.', 30\n",
    "\n",
    "tournament_date = '2022-07-24'\n",
    "tournament_points = 500\n",
    "tournament_phase = 7\n",
    "tournament_surface = 'Outdoor_Clay'\n",
    "\n",
    "tournament_date = pd.to_datetime(tournament_date,format='%Y-%m-%d')\n",
    "\n",
    "\n",
    "game_to_predict = prepare_game_to_predict(name_p1,name_p2,rank_p1,rank_p2,tournament_date,tournament_points,tournament_phase,tournament_surface)\n",
    "game_to_predict"
   ]
  },
  {
   "cell_type": "markdown",
   "metadata": {},
   "source": [
    "Add data about game to predict"
   ]
  },
  {
   "cell_type": "markdown",
   "metadata": {},
   "source": [
    "Filter for player 1 matches"
   ]
  },
  {
   "cell_type": "code",
   "execution_count": 1210,
   "metadata": {},
   "outputs": [],
   "source": [
    "matches_player = tennis_clean[(tennis_clean['H2H'].str.contains(name_p1)) | (tennis_clean['H2H'].str.contains(name_p2))]"
   ]
  },
  {
   "cell_type": "code",
   "execution_count": 1211,
   "metadata": {},
   "outputs": [],
   "source": [
    "matches = pd.concat([matches_player,game_to_predict])\n",
    "matches = matches.reset_index(drop=True)\n",
    "matches = matches.reset_index()"
   ]
  },
  {
   "cell_type": "markdown",
   "metadata": {},
   "source": [
    "#### Feature Selection"
   ]
  },
  {
   "cell_type": "markdown",
   "metadata": {},
   "source": [
    "Prepare Features"
   ]
  },
  {
   "cell_type": "code",
   "execution_count": 1212,
   "metadata": {},
   "outputs": [],
   "source": [
    "def prep_features(df,p1_name,p2_name):\n",
    "    df['Old'] = (pd.to_datetime('today') - df['Date']).dt.days\n",
    "    type_dummy = pd.get_dummies(df['Type'])\n",
    "\n",
    "    opponents =  pd.DataFrame(np.where((df['Winner']==p1_name)|(df['Winner']==p2_name),df['Loser'],df['Winner']),columns=['Opponent'])\n",
    "    opponents_dummy = pd.get_dummies(opponents['Opponent'])\n",
    "\n",
    "    features = ['WRank','LRank','SeriesPoints','RoundDraw']\n",
    "    scl = StandardScaler()\n",
    "    matches_scaled = scl.fit_transform(df[features])\n",
    "    matches_scaled_df = pd.DataFrame(matches_scaled, columns=features)\n",
    "\n",
    "    goal = pd.DataFrame(np.where((df['Winner']==p1_name)|(df['Winner']==p2_name),1,0),columns=['Winner'])\n",
    "\n",
    "    final_df = pd.concat([matches_scaled_df,type_dummy,goal,opponents_dummy,df['index']],axis=1)\n",
    "\n",
    "    return final_df"
   ]
  },
  {
   "cell_type": "code",
   "execution_count": 1213,
   "metadata": {},
   "outputs": [],
   "source": [
    "matches_prepared = prep_features(matches,name_p1,name_p2)"
   ]
  },
  {
   "cell_type": "markdown",
   "metadata": {},
   "source": [
    "Save prepared data for the predicted match"
   ]
  },
  {
   "cell_type": "code",
   "execution_count": 1214,
   "metadata": {},
   "outputs": [],
   "source": [
    "match_to_predict = pd.DataFrame(matches_prepared.iloc[-1]).T\n",
    "match_to_predict\n",
    "\n",
    "# Create feature variable\n",
    "X_to_predict = match_to_predict.drop('Winner', axis=1)\n",
    "\n",
    "# Create target variable\n",
    "y_to_predict = match_to_predict['Winner']"
   ]
  },
  {
   "cell_type": "markdown",
   "metadata": {},
   "source": [
    "Train-Test Splitting"
   ]
  },
  {
   "cell_type": "code",
   "execution_count": 1215,
   "metadata": {},
   "outputs": [],
   "source": [
    "matches_ready = matches_prepared.iloc[0:-1]\n",
    "matches_ready\n",
    "\n",
    "# Create feature variable\n",
    "X = matches_ready.drop('Winner', axis=1)\n",
    "\n",
    "# Create target variable\n",
    "y = matches_ready['Winner']"
   ]
  },
  {
   "cell_type": "code",
   "execution_count": 1216,
   "metadata": {},
   "outputs": [
    {
     "name": "stdout",
     "output_type": "stream",
     "text": [
      "Total Set Size: 335\n",
      "Training Set Size: 201\n",
      "Test Set Size: 134\n"
     ]
    }
   ],
   "source": [
    "# Create training and testing sets\n",
    "X_train, X_test, y_train, y_test = train_test_split(X, y, train_size=0.6,random_state=10)\n",
    "\n",
    "print(f'Total Set Size: {len(y)}')\n",
    "print(f'Training Set Size: {len(X_train)}')\n",
    "print(f'Test Set Size: {len(X_test)}')\n"
   ]
  },
  {
   "cell_type": "code",
   "execution_count": 1217,
   "metadata": {},
   "outputs": [],
   "source": [
    "def predictive_model(model,X_train,y_train,X_test,y_test):\n",
    "    \n",
    "    # Fit to the training data\n",
    "    model.fit(X_train,y_train)\n",
    "\n",
    "    # Compute accuracy\n",
    "    accuracy = model.score(X_test,y_test)\n",
    "    print(f'Accuracy: {accuracy:.0%}')\n",
    "\n",
    "    # Predict the labels of the test set\n",
    "    y_pred = model.predict(X_test)\n",
    "\n",
    "    precision = precision_score(y_test,y_pred)\n",
    "    recall = recall_score(y_test,y_pred)\n",
    "    print(f'Precision: {precision:.0%}')\n",
    "    print(f'Recall: {recall:.0%}')\n",
    "\n",
    "    # Generate the probabilities\n",
    "    y_pred_prob = model.predict_proba(X_test)[:, 1]\n",
    "\n",
    "    auc = roc_auc_score(y_test, y_pred_prob)\n",
    "    f1_score_val = f1_score(y_test,y_pred)\n",
    "    print(f'AUC: {auc:.0%}')\n",
    "    print(f'F1 Score: {f1_score_val:.0%}')\n",
    "\n",
    "    # Calculate the roc metrics\n",
    "    fpr, tpr, thresholds = roc_curve(y_test, y_pred_prob)\n",
    "\n",
    "    # Plot the ROC curve\n",
    "    plt.plot(fpr,tpr)\n",
    "\n",
    "    # Add labels and diagonal line\n",
    "    plt.xlabel(\"False Positive Rate\")\n",
    "    plt.ylabel(\"True Positive Rate\")\n",
    "    plt.plot([0, 1], [0, 1], \"k--\")\n",
    "    plt.show()\n",
    "\n",
    "    return [accuracy,precision,recall,auc,f1_score_val], y_pred"
   ]
  },
  {
   "cell_type": "code",
   "execution_count": 1218,
   "metadata": {},
   "outputs": [],
   "source": [
    "results = {}\n",
    "predictions = {}"
   ]
  },
  {
   "cell_type": "markdown",
   "metadata": {},
   "source": [
    "Logistic Regression"
   ]
  },
  {
   "cell_type": "code",
   "execution_count": 1219,
   "metadata": {},
   "outputs": [
    {
     "name": "stdout",
     "output_type": "stream",
     "text": [
      "Accuracy: 60%\n",
      "Precision: 63%\n",
      "Recall: 88%\n",
      "AUC: 45%\n",
      "F1 Score: 73%\n"
     ]
    },
    {
     "name": "stderr",
     "output_type": "stream",
     "text": [
      "c:\\Users\\Mariana Branco\\AppData\\Local\\Programs\\Python\\Python39\\lib\\site-packages\\sklearn\\linear_model\\_logistic.py:444: ConvergenceWarning:\n",
      "\n",
      "lbfgs failed to converge (status=1):\n",
      "STOP: TOTAL NO. of ITERATIONS REACHED LIMIT.\n",
      "\n",
      "Increase the number of iterations (max_iter) or scale the data as shown in:\n",
      "    https://scikit-learn.org/stable/modules/preprocessing.html\n",
      "Please also refer to the documentation for alternative solver options:\n",
      "    https://scikit-learn.org/stable/modules/linear_model.html#logistic-regression\n",
      "\n"
     ]
    },
    {
     "data": {
      "image/png": "[encoded data removed]",
      "text/plain": [
       "<Figure size 432x288 with 1 Axes>"
      ]
     },
     "metadata": {
      "needs_background": "light"
     },
     "output_type": "display_data"
    }
   ],
   "source": [
    "# Instantiate the classifier\n",
    "clf = LogisticRegression()\n",
    "\n",
    "scores, y_pred = predictive_model(clf,X_train,y_train,X_test,y_test)\n",
    "results['LogisticRegression'] = scores\n",
    "predictions['LogisticRegression'] = y_pred"
   ]
  },
  {
   "cell_type": "markdown",
   "metadata": {},
   "source": [
    "Random Forest Classifier"
   ]
  },
  {
   "cell_type": "code",
   "execution_count": 1220,
   "metadata": {},
   "outputs": [
    {
     "name": "stdout",
     "output_type": "stream",
     "text": [
      "Accuracy: 67%\n",
      "Precision: 67%\n",
      "Recall: 93%\n",
      "AUC: 56%\n",
      "F1 Score: 78%\n"
     ]
    },
    {
     "data": {
      "image/png": "[encoded data removed]",
      "text/plain": [
       "<Figure size 432x288 with 1 Axes>"
      ]
     },
     "metadata": {
      "needs_background": "light"
     },
     "output_type": "display_data"
    }
   ],
   "source": [
    "# Instantiate the classifier\n",
    "clf = RandomForestClassifier()\n",
    "scores, y_pred = predictive_model(clf,X_train,y_train,X_test,y_test)\n",
    "results['RandomForestClassifier'] = scores\n",
    "predictions['RandomForestClassifier'] = y_pred\n"
   ]
  },
  {
   "cell_type": "code",
   "execution_count": 1221,
   "metadata": {},
   "outputs": [
    {
     "name": "stdout",
     "output_type": "stream",
     "text": [
      "Accuracy: 57%\n",
      "Precision: 64%\n",
      "Recall: 73%\n",
      "AUC: 51%\n",
      "F1 Score: 68%\n"
     ]
    },
    {
     "data": {
      "image/png": "[encoded data removed]",
      "text/plain": [
       "<Figure size 432x288 with 1 Axes>"
      ]
     },
     "metadata": {
      "needs_background": "light"
     },
     "output_type": "display_data"
    }
   ],
   "source": [
    "# Instantiate the classifier\n",
    "clf = DecisionTreeClassifier()\n",
    "\n",
    "scores, y_pred = predictive_model(clf,X_train,y_train,X_test,y_test)\n",
    "results['DecisionTreeClassifier'] = scores\n",
    "predictions['DecisionTreeClassifier'] = y_pred\n"
   ]
  },
  {
   "cell_type": "code",
   "execution_count": 1222,
   "metadata": {},
   "outputs": [
    {
     "data": {
      "text/html": [
       "<div>\n",
       "<style scoped>\n",
       "    .dataframe tbody tr th:only-of-type {\n",
       "        vertical-align: middle;\n",
       "    }\n",
       "\n",
       "    .dataframe tbody tr th {\n",
       "        vertical-align: top;\n",
       "    }\n",
       "\n",
       "    .dataframe thead th {\n",
       "        text-align: right;\n",
       "    }\n",
       "</style>\n",
       "<table border=\"1\" class=\"dataframe\">\n",
       "  <thead>\n",
       "    <tr style=\"text-align: right;\">\n",
       "      <th></th>\n",
       "      <th>model</th>\n",
       "      <th>accuracy</th>\n",
       "      <th>precision</th>\n",
       "      <th>recall</th>\n",
       "      <th>auc</th>\n",
       "      <th>f1_score</th>\n",
       "    </tr>\n",
       "  </thead>\n",
       "  <tbody>\n",
       "    <tr>\n",
       "      <th>0</th>\n",
       "      <td>LogisticRegression</td>\n",
       "      <td>0.597015</td>\n",
       "      <td>0.627119</td>\n",
       "      <td>0.880952</td>\n",
       "      <td>0.450952</td>\n",
       "      <td>0.732673</td>\n",
       "    </tr>\n",
       "    <tr>\n",
       "      <th>1</th>\n",
       "      <td>RandomForestClassifier</td>\n",
       "      <td>0.671642</td>\n",
       "      <td>0.672414</td>\n",
       "      <td>0.928571</td>\n",
       "      <td>0.558810</td>\n",
       "      <td>0.780000</td>\n",
       "    </tr>\n",
       "    <tr>\n",
       "      <th>2</th>\n",
       "      <td>DecisionTreeClassifier</td>\n",
       "      <td>0.567164</td>\n",
       "      <td>0.635417</td>\n",
       "      <td>0.726190</td>\n",
       "      <td>0.513095</td>\n",
       "      <td>0.677778</td>\n",
       "    </tr>\n",
       "  </tbody>\n",
       "</table>\n",
       "</div>"
      ],
      "text/plain": [
       "                    model  accuracy  precision    recall       auc  f1_score\n",
       "0      LogisticRegression  0.597015   0.627119  0.880952  0.450952  0.732673\n",
       "1  RandomForestClassifier  0.671642   0.672414  0.928571  0.558810  0.780000\n",
       "2  DecisionTreeClassifier  0.567164   0.635417  0.726190  0.513095  0.677778"
      ]
     },
     "execution_count": 1222,
     "metadata": {},
     "output_type": "execute_result"
    }
   ],
   "source": [
    "df_results = pd.DataFrame.from_dict(results,columns=['accuracy','precision','recall','auc','f1_score'],orient='index').reset_index().rename(columns={'index':'model'})\n",
    "df_results"
   ]
  },
  {
   "cell_type": "code",
   "execution_count": 1223,
   "metadata": {},
   "outputs": [
    {
     "data": {
      "text/html": [
       "<div>\n",
       "<style scoped>\n",
       "    .dataframe tbody tr th:only-of-type {\n",
       "        vertical-align: middle;\n",
       "    }\n",
       "\n",
       "    .dataframe tbody tr th {\n",
       "        vertical-align: top;\n",
       "    }\n",
       "\n",
       "    .dataframe thead th {\n",
       "        text-align: right;\n",
       "    }\n",
       "</style>\n",
       "<table border=\"1\" class=\"dataframe\">\n",
       "  <thead>\n",
       "    <tr style=\"text-align: right;\">\n",
       "      <th></th>\n",
       "      <th>index_test</th>\n",
       "      <th>LogisticRegression</th>\n",
       "      <th>RandomForestClassifier</th>\n",
       "      <th>DecisionTreeClassifier</th>\n",
       "    </tr>\n",
       "  </thead>\n",
       "  <tbody>\n",
       "    <tr>\n",
       "      <th>0</th>\n",
       "      <td>0</td>\n",
       "      <td>1</td>\n",
       "      <td>1</td>\n",
       "      <td>1</td>\n",
       "    </tr>\n",
       "    <tr>\n",
       "      <th>1</th>\n",
       "      <td>1</td>\n",
       "      <td>0</td>\n",
       "      <td>1</td>\n",
       "      <td>1</td>\n",
       "    </tr>\n",
       "    <tr>\n",
       "      <th>2</th>\n",
       "      <td>2</td>\n",
       "      <td>0</td>\n",
       "      <td>1</td>\n",
       "      <td>1</td>\n",
       "    </tr>\n",
       "    <tr>\n",
       "      <th>3</th>\n",
       "      <td>3</td>\n",
       "      <td>1</td>\n",
       "      <td>1</td>\n",
       "      <td>1</td>\n",
       "    </tr>\n",
       "    <tr>\n",
       "      <th>4</th>\n",
       "      <td>4</td>\n",
       "      <td>1</td>\n",
       "      <td>1</td>\n",
       "      <td>1</td>\n",
       "    </tr>\n",
       "  </tbody>\n",
       "</table>\n",
       "</div>"
      ],
      "text/plain": [
       "   index_test  LogisticRegression  RandomForestClassifier  \\\n",
       "0           0                   1                       1   \n",
       "1           1                   0                       1   \n",
       "2           2                   0                       1   \n",
       "3           3                   1                       1   \n",
       "4           4                   1                       1   \n",
       "\n",
       "   DecisionTreeClassifier  \n",
       "0                       1  \n",
       "1                       1  \n",
       "2                       1  \n",
       "3                       1  \n",
       "4                       1  "
      ]
     },
     "execution_count": 1223,
     "metadata": {},
     "output_type": "execute_result"
    }
   ],
   "source": [
    "df_predictions = pd.DataFrame.from_dict(predictions,orient='columns')\n",
    "df_predictions = df_predictions.reset_index().rename(columns={'index':'index_test'})\n",
    "df_predictions.head()"
   ]
  },
  {
   "cell_type": "code",
   "execution_count": 1224,
   "metadata": {},
   "outputs": [
    {
     "data": {
      "text/html": [
       "<div>\n",
       "<style scoped>\n",
       "    .dataframe tbody tr th:only-of-type {\n",
       "        vertical-align: middle;\n",
       "    }\n",
       "\n",
       "    .dataframe tbody tr th {\n",
       "        vertical-align: top;\n",
       "    }\n",
       "\n",
       "    .dataframe thead th {\n",
       "        text-align: right;\n",
       "    }\n",
       "</style>\n",
       "<table border=\"1\" class=\"dataframe\">\n",
       "  <thead>\n",
       "    <tr style=\"text-align: right;\">\n",
       "      <th></th>\n",
       "      <th>index</th>\n",
       "      <th>index_test</th>\n",
       "      <th>LogisticRegression</th>\n",
       "      <th>RandomForestClassifier</th>\n",
       "      <th>DecisionTreeClassifier</th>\n",
       "      <th>ATP</th>\n",
       "      <th>Date</th>\n",
       "      <th>Tournament</th>\n",
       "      <th>Winner</th>\n",
       "      <th>Loser</th>\n",
       "      <th>...</th>\n",
       "      <th>Wsets</th>\n",
       "      <th>Lsets</th>\n",
       "      <th>Best of</th>\n",
       "      <th>SeriesPoints</th>\n",
       "      <th>RoundDraw</th>\n",
       "      <th>Type</th>\n",
       "      <th>Year</th>\n",
       "      <th>H2H</th>\n",
       "      <th>QualityWin</th>\n",
       "      <th>Old</th>\n",
       "    </tr>\n",
       "  </thead>\n",
       "  <tbody>\n",
       "    <tr>\n",
       "      <th>26</th>\n",
       "      <td>37</td>\n",
       "      <td>37</td>\n",
       "      <td>1</td>\n",
       "      <td>1</td>\n",
       "      <td>1</td>\n",
       "      <td>13.0</td>\n",
       "      <td>2015-02-17</td>\n",
       "      <td>Delray Beach Open</td>\n",
       "      <td>Rublev A.</td>\n",
       "      <td>Sela D.</td>\n",
       "      <td>...</td>\n",
       "      <td>2.0</td>\n",
       "      <td>1.0</td>\n",
       "      <td>3.0</td>\n",
       "      <td>250</td>\n",
       "      <td>1</td>\n",
       "      <td>Outdoor_Hard</td>\n",
       "      <td>2015.0</td>\n",
       "      <td>Rublev A._Sela D.</td>\n",
       "      <td>1.0</td>\n",
       "      <td>2777</td>\n",
       "    </tr>\n",
       "    <tr>\n",
       "      <th>54</th>\n",
       "      <td>38</td>\n",
       "      <td>38</td>\n",
       "      <td>1</td>\n",
       "      <td>1</td>\n",
       "      <td>1</td>\n",
       "      <td>27.0</td>\n",
       "      <td>2015-04-28</td>\n",
       "      <td>Istanbul Open</td>\n",
       "      <td>Rublev A.</td>\n",
       "      <td>Dzumhur D.</td>\n",
       "      <td>...</td>\n",
       "      <td>2.0</td>\n",
       "      <td>0.0</td>\n",
       "      <td>3.0</td>\n",
       "      <td>250</td>\n",
       "      <td>1</td>\n",
       "      <td>Outdoor_Clay</td>\n",
       "      <td>2015.0</td>\n",
       "      <td>Dzumhur D._Rublev A.</td>\n",
       "      <td>2.0</td>\n",
       "      <td>2707</td>\n",
       "    </tr>\n",
       "    <tr>\n",
       "      <th>53</th>\n",
       "      <td>75</td>\n",
       "      <td>75</td>\n",
       "      <td>1</td>\n",
       "      <td>1</td>\n",
       "      <td>1</td>\n",
       "      <td>52.0</td>\n",
       "      <td>2015-09-01</td>\n",
       "      <td>US Open</td>\n",
       "      <td>Anderson K.</td>\n",
       "      <td>Rublev A.</td>\n",
       "      <td>...</td>\n",
       "      <td>3.0</td>\n",
       "      <td>1.0</td>\n",
       "      <td>5.0</td>\n",
       "      <td>2000</td>\n",
       "      <td>1</td>\n",
       "      <td>Outdoor_Hard</td>\n",
       "      <td>2015.0</td>\n",
       "      <td>Anderson K._Rublev A.</td>\n",
       "      <td>3.0</td>\n",
       "      <td>2581</td>\n",
       "    </tr>\n",
       "    <tr>\n",
       "      <th>4</th>\n",
       "      <td>43</td>\n",
       "      <td>43</td>\n",
       "      <td>1</td>\n",
       "      <td>1</td>\n",
       "      <td>0</td>\n",
       "      <td>60.0</td>\n",
       "      <td>2015-10-20</td>\n",
       "      <td>Kremlin Cup</td>\n",
       "      <td>Kukushkin M.</td>\n",
       "      <td>Rublev A.</td>\n",
       "      <td>...</td>\n",
       "      <td>2.0</td>\n",
       "      <td>0.0</td>\n",
       "      <td>3.0</td>\n",
       "      <td>250</td>\n",
       "      <td>1</td>\n",
       "      <td>Indoor_Hard</td>\n",
       "      <td>2015.0</td>\n",
       "      <td>Kukushkin M._Rublev A.</td>\n",
       "      <td>2.0</td>\n",
       "      <td>2532</td>\n",
       "    </tr>\n",
       "    <tr>\n",
       "      <th>21</th>\n",
       "      <td>108</td>\n",
       "      <td>108</td>\n",
       "      <td>0</td>\n",
       "      <td>0</td>\n",
       "      <td>1</td>\n",
       "      <td>64.0</td>\n",
       "      <td>2015-10-28</td>\n",
       "      <td>Valencia Open 500</td>\n",
       "      <td>Rublev A.</td>\n",
       "      <td>Granollers M.</td>\n",
       "      <td>...</td>\n",
       "      <td>2.0</td>\n",
       "      <td>0.0</td>\n",
       "      <td>3.0</td>\n",
       "      <td>500</td>\n",
       "      <td>1</td>\n",
       "      <td>Indoor_Hard</td>\n",
       "      <td>2015.0</td>\n",
       "      <td>Granollers M._Rublev A.</td>\n",
       "      <td>1.0</td>\n",
       "      <td>2524</td>\n",
       "    </tr>\n",
       "    <tr>\n",
       "      <th>15</th>\n",
       "      <td>34</td>\n",
       "      <td>34</td>\n",
       "      <td>1</td>\n",
       "      <td>1</td>\n",
       "      <td>1</td>\n",
       "      <td>27.0</td>\n",
       "      <td>2016-04-25</td>\n",
       "      <td>Istanbul Open</td>\n",
       "      <td>Sela D.</td>\n",
       "      <td>Rublev A.</td>\n",
       "      <td>...</td>\n",
       "      <td>2.0</td>\n",
       "      <td>0.0</td>\n",
       "      <td>3.0</td>\n",
       "      <td>250</td>\n",
       "      <td>1</td>\n",
       "      <td>Outdoor_Clay</td>\n",
       "      <td>2016.0</td>\n",
       "      <td>Rublev A._Sela D.</td>\n",
       "      <td>2.0</td>\n",
       "      <td>2344</td>\n",
       "    </tr>\n",
       "    <tr>\n",
       "      <th>35</th>\n",
       "      <td>35</td>\n",
       "      <td>35</td>\n",
       "      <td>1</td>\n",
       "      <td>1</td>\n",
       "      <td>1</td>\n",
       "      <td>54.0</td>\n",
       "      <td>2016-09-21</td>\n",
       "      <td>St. Petersburg Open</td>\n",
       "      <td>Rublev A.</td>\n",
       "      <td>Kukushkin M.</td>\n",
       "      <td>...</td>\n",
       "      <td>1.0</td>\n",
       "      <td>0.0</td>\n",
       "      <td>3.0</td>\n",
       "      <td>250</td>\n",
       "      <td>1</td>\n",
       "      <td>Indoor_Hard</td>\n",
       "      <td>2016.0</td>\n",
       "      <td>Kukushkin M._Rublev A.</td>\n",
       "      <td>1.0</td>\n",
       "      <td>2195</td>\n",
       "    </tr>\n",
       "    <tr>\n",
       "      <th>30</th>\n",
       "      <td>36</td>\n",
       "      <td>36</td>\n",
       "      <td>1</td>\n",
       "      <td>1</td>\n",
       "      <td>1</td>\n",
       "      <td>55.0</td>\n",
       "      <td>2016-09-28</td>\n",
       "      <td>Chengdu Open</td>\n",
       "      <td>Troicki V.</td>\n",
       "      <td>Ruud C.</td>\n",
       "      <td>...</td>\n",
       "      <td>2.0</td>\n",
       "      <td>0.0</td>\n",
       "      <td>3.0</td>\n",
       "      <td>250</td>\n",
       "      <td>1</td>\n",
       "      <td>Outdoor_Hard</td>\n",
       "      <td>2016.0</td>\n",
       "      <td>Ruud C._Troicki V.</td>\n",
       "      <td>2.0</td>\n",
       "      <td>2188</td>\n",
       "    </tr>\n",
       "    <tr>\n",
       "      <th>1</th>\n",
       "      <td>26</td>\n",
       "      <td>26</td>\n",
       "      <td>1</td>\n",
       "      <td>0</td>\n",
       "      <td>0</td>\n",
       "      <td>2.0</td>\n",
       "      <td>2017-01-03</td>\n",
       "      <td>Chennai Open</td>\n",
       "      <td>Olivo R.</td>\n",
       "      <td>Ruud C.</td>\n",
       "      <td>...</td>\n",
       "      <td>2.0</td>\n",
       "      <td>0.0</td>\n",
       "      <td>3.0</td>\n",
       "      <td>250</td>\n",
       "      <td>1</td>\n",
       "      <td>Outdoor_Hard</td>\n",
       "      <td>2017.0</td>\n",
       "      <td>Olivo R._Ruud C.</td>\n",
       "      <td>1.0</td>\n",
       "      <td>2091</td>\n",
       "    </tr>\n",
       "    <tr>\n",
       "      <th>32</th>\n",
       "      <td>100</td>\n",
       "      <td>100</td>\n",
       "      <td>1</td>\n",
       "      <td>1</td>\n",
       "      <td>1</td>\n",
       "      <td>15.0</td>\n",
       "      <td>2017-02-20</td>\n",
       "      <td>Rio Open</td>\n",
       "      <td>Ruud C.</td>\n",
       "      <td>Dutra Silva R.</td>\n",
       "      <td>...</td>\n",
       "      <td>2.0</td>\n",
       "      <td>0.0</td>\n",
       "      <td>3.0</td>\n",
       "      <td>500</td>\n",
       "      <td>1</td>\n",
       "      <td>Outdoor_Clay</td>\n",
       "      <td>2017.0</td>\n",
       "      <td>Dutra Silva R._Ruud C.</td>\n",
       "      <td>2.0</td>\n",
       "      <td>2043</td>\n",
       "    </tr>\n",
       "    <tr>\n",
       "      <th>13</th>\n",
       "      <td>27</td>\n",
       "      <td>27</td>\n",
       "      <td>1</td>\n",
       "      <td>1</td>\n",
       "      <td>0</td>\n",
       "      <td>14.0</td>\n",
       "      <td>2017-02-21</td>\n",
       "      <td>Open 13</td>\n",
       "      <td>Marchenko I.</td>\n",
       "      <td>Rublev A.</td>\n",
       "      <td>...</td>\n",
       "      <td>2.0</td>\n",
       "      <td>0.0</td>\n",
       "      <td>3.0</td>\n",
       "      <td>250</td>\n",
       "      <td>1</td>\n",
       "      <td>Indoor_Hard</td>\n",
       "      <td>2017.0</td>\n",
       "      <td>Marchenko I._Rublev A.</td>\n",
       "      <td>2.0</td>\n",
       "      <td>2042</td>\n",
       "    </tr>\n",
       "    <tr>\n",
       "      <th>41</th>\n",
       "      <td>29</td>\n",
       "      <td>29</td>\n",
       "      <td>1</td>\n",
       "      <td>1</td>\n",
       "      <td>1</td>\n",
       "      <td>28.0</td>\n",
       "      <td>2017-05-02</td>\n",
       "      <td>BMW Open</td>\n",
       "      <td>Kohlschreiber P.</td>\n",
       "      <td>Ruud C.</td>\n",
       "      <td>...</td>\n",
       "      <td>2.0</td>\n",
       "      <td>0.0</td>\n",
       "      <td>3.0</td>\n",
       "      <td>250</td>\n",
       "      <td>1</td>\n",
       "      <td>Outdoor_Clay</td>\n",
       "      <td>2017.0</td>\n",
       "      <td>Kohlschreiber P._Ruud C.</td>\n",
       "      <td>2.0</td>\n",
       "      <td>1972</td>\n",
       "    </tr>\n",
       "    <tr>\n",
       "      <th>14</th>\n",
       "      <td>102</td>\n",
       "      <td>102</td>\n",
       "      <td>1</td>\n",
       "      <td>1</td>\n",
       "      <td>0</td>\n",
       "      <td>36.0</td>\n",
       "      <td>2017-06-19</td>\n",
       "      <td>Gerry Weber Open</td>\n",
       "      <td>Rublev A.</td>\n",
       "      <td>Ramos-Vinolas A.</td>\n",
       "      <td>...</td>\n",
       "      <td>2.0</td>\n",
       "      <td>1.0</td>\n",
       "      <td>3.0</td>\n",
       "      <td>500</td>\n",
       "      <td>1</td>\n",
       "      <td>Outdoor_Grass</td>\n",
       "      <td>2017.0</td>\n",
       "      <td>Ramos-Vinolas A._Rublev A.</td>\n",
       "      <td>1.0</td>\n",
       "      <td>1924</td>\n",
       "    </tr>\n",
       "    <tr>\n",
       "      <th>44</th>\n",
       "      <td>104</td>\n",
       "      <td>104</td>\n",
       "      <td>1</td>\n",
       "      <td>1</td>\n",
       "      <td>1</td>\n",
       "      <td>49.0</td>\n",
       "      <td>2017-07-31</td>\n",
       "      <td>Citi Open</td>\n",
       "      <td>Paul T.</td>\n",
       "      <td>Ruud C.</td>\n",
       "      <td>...</td>\n",
       "      <td>1.0</td>\n",
       "      <td>1.0</td>\n",
       "      <td>3.0</td>\n",
       "      <td>500</td>\n",
       "      <td>1</td>\n",
       "      <td>Outdoor_Hard</td>\n",
       "      <td>2017.0</td>\n",
       "      <td>Paul T._Ruud C.</td>\n",
       "      <td>1.0</td>\n",
       "      <td>1882</td>\n",
       "    </tr>\n",
       "    <tr>\n",
       "      <th>0</th>\n",
       "      <td>105</td>\n",
       "      <td>105</td>\n",
       "      <td>1</td>\n",
       "      <td>1</td>\n",
       "      <td>1</td>\n",
       "      <td>58.0</td>\n",
       "      <td>2017-10-03</td>\n",
       "      <td>China Open</td>\n",
       "      <td>Rublev A.</td>\n",
       "      <td>Sock J.</td>\n",
       "      <td>...</td>\n",
       "      <td>2.0</td>\n",
       "      <td>1.0</td>\n",
       "      <td>3.0</td>\n",
       "      <td>500</td>\n",
       "      <td>1</td>\n",
       "      <td>Outdoor_Hard</td>\n",
       "      <td>2017.0</td>\n",
       "      <td>Rublev A._Sock J.</td>\n",
       "      <td>1.0</td>\n",
       "      <td>1818</td>\n",
       "    </tr>\n",
       "    <tr>\n",
       "      <th>48</th>\n",
       "      <td>106</td>\n",
       "      <td>106</td>\n",
       "      <td>1</td>\n",
       "      <td>0</td>\n",
       "      <td>1</td>\n",
       "      <td>65.0</td>\n",
       "      <td>2017-10-24</td>\n",
       "      <td>Erste Bank Open</td>\n",
       "      <td>Thiem D.</td>\n",
       "      <td>Rublev A.</td>\n",
       "      <td>...</td>\n",
       "      <td>2.0</td>\n",
       "      <td>0.0</td>\n",
       "      <td>3.0</td>\n",
       "      <td>500</td>\n",
       "      <td>1</td>\n",
       "      <td>Indoor_Hard</td>\n",
       "      <td>2017.0</td>\n",
       "      <td>Rublev A._Thiem D.</td>\n",
       "      <td>2.0</td>\n",
       "      <td>1797</td>\n",
       "    </tr>\n",
       "    <tr>\n",
       "      <th>36</th>\n",
       "      <td>19</td>\n",
       "      <td>19</td>\n",
       "      <td>1</td>\n",
       "      <td>0</td>\n",
       "      <td>0</td>\n",
       "      <td>4.0</td>\n",
       "      <td>2018-01-09</td>\n",
       "      <td>ASB Classic</td>\n",
       "      <td>Haase R.</td>\n",
       "      <td>Ruud C.</td>\n",
       "      <td>...</td>\n",
       "      <td>2.0</td>\n",
       "      <td>1.0</td>\n",
       "      <td>3.0</td>\n",
       "      <td>250</td>\n",
       "      <td>1</td>\n",
       "      <td>Outdoor_Hard</td>\n",
       "      <td>2018.0</td>\n",
       "      <td>Haase R._Ruud C.</td>\n",
       "      <td>2.0</td>\n",
       "      <td>1720</td>\n",
       "    </tr>\n",
       "    <tr>\n",
       "      <th>47</th>\n",
       "      <td>21</td>\n",
       "      <td>21</td>\n",
       "      <td>1</td>\n",
       "      <td>1</td>\n",
       "      <td>1</td>\n",
       "      <td>8.0</td>\n",
       "      <td>2018-02-05</td>\n",
       "      <td>Ecuador Open</td>\n",
       "      <td>Ruud C.</td>\n",
       "      <td>Berlocq C.</td>\n",
       "      <td>...</td>\n",
       "      <td>2.0</td>\n",
       "      <td>0.0</td>\n",
       "      <td>3.0</td>\n",
       "      <td>250</td>\n",
       "      <td>1</td>\n",
       "      <td>Outdoor_Clay</td>\n",
       "      <td>2018.0</td>\n",
       "      <td>Berlocq C._Ruud C.</td>\n",
       "      <td>2.0</td>\n",
       "      <td>1693</td>\n",
       "    </tr>\n",
       "    <tr>\n",
       "      <th>40</th>\n",
       "      <td>20</td>\n",
       "      <td>20</td>\n",
       "      <td>0</td>\n",
       "      <td>1</td>\n",
       "      <td>1</td>\n",
       "      <td>7.0</td>\n",
       "      <td>2018-02-05</td>\n",
       "      <td>Open Sud de France</td>\n",
       "      <td>Rublev A.</td>\n",
       "      <td>Garcia-Lopez G.</td>\n",
       "      <td>...</td>\n",
       "      <td>2.0</td>\n",
       "      <td>0.0</td>\n",
       "      <td>3.0</td>\n",
       "      <td>250</td>\n",
       "      <td>1</td>\n",
       "      <td>Indoor_Hard</td>\n",
       "      <td>2018.0</td>\n",
       "      <td>Garcia-Lopez G._Rublev A.</td>\n",
       "      <td>2.0</td>\n",
       "      <td>1693</td>\n",
       "    </tr>\n",
       "    <tr>\n",
       "      <th>50</th>\n",
       "      <td>97</td>\n",
       "      <td>97</td>\n",
       "      <td>1</td>\n",
       "      <td>1</td>\n",
       "      <td>1</td>\n",
       "      <td>46.0</td>\n",
       "      <td>2018-07-23</td>\n",
       "      <td>German Tennis Championships</td>\n",
       "      <td>Schwartzman D.</td>\n",
       "      <td>Ruud C.</td>\n",
       "      <td>...</td>\n",
       "      <td>2.0</td>\n",
       "      <td>1.0</td>\n",
       "      <td>3.0</td>\n",
       "      <td>500</td>\n",
       "      <td>1</td>\n",
       "      <td>Outdoor_Clay</td>\n",
       "      <td>2018.0</td>\n",
       "      <td>Ruud C._Schwartzman D.</td>\n",
       "      <td>1.0</td>\n",
       "      <td>1525</td>\n",
       "    </tr>\n",
       "    <tr>\n",
       "      <th>46</th>\n",
       "      <td>69</td>\n",
       "      <td>69</td>\n",
       "      <td>1</td>\n",
       "      <td>1</td>\n",
       "      <td>1</td>\n",
       "      <td>53.0</td>\n",
       "      <td>2018-08-27</td>\n",
       "      <td>US Open</td>\n",
       "      <td>Pella G.</td>\n",
       "      <td>Ruud C.</td>\n",
       "      <td>...</td>\n",
       "      <td>3.0</td>\n",
       "      <td>0.0</td>\n",
       "      <td>5.0</td>\n",
       "      <td>2000</td>\n",
       "      <td>1</td>\n",
       "      <td>Outdoor_Hard</td>\n",
       "      <td>2018.0</td>\n",
       "      <td>Pella G._Ruud C.</td>\n",
       "      <td>3.0</td>\n",
       "      <td>1490</td>\n",
       "    </tr>\n",
       "    <tr>\n",
       "      <th>38</th>\n",
       "      <td>70</td>\n",
       "      <td>70</td>\n",
       "      <td>1</td>\n",
       "      <td>1</td>\n",
       "      <td>1</td>\n",
       "      <td>53.0</td>\n",
       "      <td>2018-08-27</td>\n",
       "      <td>US Open</td>\n",
       "      <td>Chardy J.</td>\n",
       "      <td>Rublev A.</td>\n",
       "      <td>...</td>\n",
       "      <td>3.0</td>\n",
       "      <td>1.0</td>\n",
       "      <td>5.0</td>\n",
       "      <td>2000</td>\n",
       "      <td>1</td>\n",
       "      <td>Outdoor_Hard</td>\n",
       "      <td>2018.0</td>\n",
       "      <td>Chardy J._Rublev A.</td>\n",
       "      <td>2.0</td>\n",
       "      <td>1490</td>\n",
       "    </tr>\n",
       "    <tr>\n",
       "      <th>9</th>\n",
       "      <td>24</td>\n",
       "      <td>24</td>\n",
       "      <td>1</td>\n",
       "      <td>1</td>\n",
       "      <td>0</td>\n",
       "      <td>55.0</td>\n",
       "      <td>2018-09-18</td>\n",
       "      <td>St. Petersburg Open</td>\n",
       "      <td>Struff J.L.</td>\n",
       "      <td>Rublev A.</td>\n",
       "      <td>...</td>\n",
       "      <td>2.0</td>\n",
       "      <td>0.0</td>\n",
       "      <td>3.0</td>\n",
       "      <td>250</td>\n",
       "      <td>1</td>\n",
       "      <td>Indoor_Hard</td>\n",
       "      <td>2018.0</td>\n",
       "      <td>Rublev A._Struff J.L.</td>\n",
       "      <td>2.0</td>\n",
       "      <td>1468</td>\n",
       "    </tr>\n",
       "    <tr>\n",
       "      <th>24</th>\n",
       "      <td>98</td>\n",
       "      <td>98</td>\n",
       "      <td>0</td>\n",
       "      <td>1</td>\n",
       "      <td>1</td>\n",
       "      <td>58.0</td>\n",
       "      <td>2018-10-02</td>\n",
       "      <td>China Open</td>\n",
       "      <td>Rublev A.</td>\n",
       "      <td>Sousa J.</td>\n",
       "      <td>...</td>\n",
       "      <td>2.0</td>\n",
       "      <td>0.0</td>\n",
       "      <td>3.0</td>\n",
       "      <td>500</td>\n",
       "      <td>1</td>\n",
       "      <td>Outdoor_Hard</td>\n",
       "      <td>2018.0</td>\n",
       "      <td>Rublev A._Sousa J.</td>\n",
       "      <td>1.0</td>\n",
       "      <td>1454</td>\n",
       "    </tr>\n",
       "    <tr>\n",
       "      <th>22</th>\n",
       "      <td>25</td>\n",
       "      <td>25</td>\n",
       "      <td>1</td>\n",
       "      <td>1</td>\n",
       "      <td>1</td>\n",
       "      <td>62.0</td>\n",
       "      <td>2018-10-16</td>\n",
       "      <td>Kremlin Cup</td>\n",
       "      <td>Kyrgios N.</td>\n",
       "      <td>Rublev A.</td>\n",
       "      <td>...</td>\n",
       "      <td>2.0</td>\n",
       "      <td>1.0</td>\n",
       "      <td>3.0</td>\n",
       "      <td>250</td>\n",
       "      <td>1</td>\n",
       "      <td>Indoor_Hard</td>\n",
       "      <td>2018.0</td>\n",
       "      <td>Kyrgios N._Rublev A.</td>\n",
       "      <td>1.0</td>\n",
       "      <td>1440</td>\n",
       "    </tr>\n",
       "    <tr>\n",
       "      <th>39</th>\n",
       "      <td>5</td>\n",
       "      <td>5</td>\n",
       "      <td>1</td>\n",
       "      <td>1</td>\n",
       "      <td>1</td>\n",
       "      <td>5.0</td>\n",
       "      <td>2019-01-08</td>\n",
       "      <td>Sydney International</td>\n",
       "      <td>Rublev A.</td>\n",
       "      <td>Pouille L.</td>\n",
       "      <td>...</td>\n",
       "      <td>2.0</td>\n",
       "      <td>0.0</td>\n",
       "      <td>3.0</td>\n",
       "      <td>250</td>\n",
       "      <td>1</td>\n",
       "      <td>Outdoor_Hard</td>\n",
       "      <td>2019.0</td>\n",
       "      <td>Pouille L._Rublev A.</td>\n",
       "      <td>2.0</td>\n",
       "      <td>1356</td>\n",
       "    </tr>\n",
       "    <tr>\n",
       "      <th>11</th>\n",
       "      <td>130</td>\n",
       "      <td>130</td>\n",
       "      <td>0</td>\n",
       "      <td>1</td>\n",
       "      <td>0</td>\n",
       "      <td>5.0</td>\n",
       "      <td>2019-01-09</td>\n",
       "      <td>Sydney International</td>\n",
       "      <td>Nishioka Y.</td>\n",
       "      <td>Rublev A.</td>\n",
       "      <td>...</td>\n",
       "      <td>2.0</td>\n",
       "      <td>0.0</td>\n",
       "      <td>3.0</td>\n",
       "      <td>250</td>\n",
       "      <td>2</td>\n",
       "      <td>Outdoor_Hard</td>\n",
       "      <td>2019.0</td>\n",
       "      <td>Nishioka Y._Rublev A.</td>\n",
       "      <td>2.0</td>\n",
       "      <td>1355</td>\n",
       "    </tr>\n",
       "    <tr>\n",
       "      <th>45</th>\n",
       "      <td>60</td>\n",
       "      <td>60</td>\n",
       "      <td>1</td>\n",
       "      <td>1</td>\n",
       "      <td>0</td>\n",
       "      <td>6.0</td>\n",
       "      <td>2019-01-14</td>\n",
       "      <td>Australian Open</td>\n",
       "      <td>Mcdonald M.</td>\n",
       "      <td>Rublev A.</td>\n",
       "      <td>...</td>\n",
       "      <td>3.0</td>\n",
       "      <td>1.0</td>\n",
       "      <td>5.0</td>\n",
       "      <td>2000</td>\n",
       "      <td>1</td>\n",
       "      <td>Outdoor_Hard</td>\n",
       "      <td>2019.0</td>\n",
       "      <td>Mcdonald M._Rublev A.</td>\n",
       "      <td>2.0</td>\n",
       "      <td>1350</td>\n",
       "    </tr>\n",
       "    <tr>\n",
       "      <th>19</th>\n",
       "      <td>6</td>\n",
       "      <td>6</td>\n",
       "      <td>1</td>\n",
       "      <td>0</td>\n",
       "      <td>0</td>\n",
       "      <td>14.0</td>\n",
       "      <td>2019-02-19</td>\n",
       "      <td>Open 13</td>\n",
       "      <td>Rublev A.</td>\n",
       "      <td>Tsonga J.W.</td>\n",
       "      <td>...</td>\n",
       "      <td>2.0</td>\n",
       "      <td>1.0</td>\n",
       "      <td>3.0</td>\n",
       "      <td>250</td>\n",
       "      <td>1</td>\n",
       "      <td>Indoor_Hard</td>\n",
       "      <td>2019.0</td>\n",
       "      <td>Rublev A._Tsonga J.W.</td>\n",
       "      <td>2.0</td>\n",
       "      <td>1314</td>\n",
       "    </tr>\n",
       "    <tr>\n",
       "      <th>5</th>\n",
       "      <td>88</td>\n",
       "      <td>88</td>\n",
       "      <td>0</td>\n",
       "      <td>0</td>\n",
       "      <td>0</td>\n",
       "      <td>15.0</td>\n",
       "      <td>2019-02-19</td>\n",
       "      <td>Rio Open</td>\n",
       "      <td>Ruud C.</td>\n",
       "      <td>Berlocq C.</td>\n",
       "      <td>...</td>\n",
       "      <td>2.0</td>\n",
       "      <td>0.0</td>\n",
       "      <td>3.0</td>\n",
       "      <td>500</td>\n",
       "      <td>1</td>\n",
       "      <td>Outdoor_Clay</td>\n",
       "      <td>2019.0</td>\n",
       "      <td>Berlocq C._Ruud C.</td>\n",
       "      <td>1.0</td>\n",
       "      <td>1314</td>\n",
       "    </tr>\n",
       "    <tr>\n",
       "      <th>27</th>\n",
       "      <td>131</td>\n",
       "      <td>131</td>\n",
       "      <td>0</td>\n",
       "      <td>1</td>\n",
       "      <td>0</td>\n",
       "      <td>14.0</td>\n",
       "      <td>2019-02-21</td>\n",
       "      <td>Open 13</td>\n",
       "      <td>Rublev A.</td>\n",
       "      <td>Berrettini M.</td>\n",
       "      <td>...</td>\n",
       "      <td>2.0</td>\n",
       "      <td>0.0</td>\n",
       "      <td>3.0</td>\n",
       "      <td>250</td>\n",
       "      <td>2</td>\n",
       "      <td>Indoor_Hard</td>\n",
       "      <td>2019.0</td>\n",
       "      <td>Berrettini M._Rublev A.</td>\n",
       "      <td>2.0</td>\n",
       "      <td>1312</td>\n",
       "    </tr>\n",
       "    <tr>\n",
       "      <th>37</th>\n",
       "      <td>61</td>\n",
       "      <td>61</td>\n",
       "      <td>1</td>\n",
       "      <td>1</td>\n",
       "      <td>1</td>\n",
       "      <td>32.0</td>\n",
       "      <td>2019-05-26</td>\n",
       "      <td>French Open</td>\n",
       "      <td>Ruud C.</td>\n",
       "      <td>Gulbis E.</td>\n",
       "      <td>...</td>\n",
       "      <td>3.0</td>\n",
       "      <td>0.0</td>\n",
       "      <td>5.0</td>\n",
       "      <td>2000</td>\n",
       "      <td>1</td>\n",
       "      <td>Outdoor_Clay</td>\n",
       "      <td>2019.0</td>\n",
       "      <td>Gulbis E._Ruud C.</td>\n",
       "      <td>3.0</td>\n",
       "      <td>1218</td>\n",
       "    </tr>\n",
       "    <tr>\n",
       "      <th>31</th>\n",
       "      <td>10</td>\n",
       "      <td>10</td>\n",
       "      <td>1</td>\n",
       "      <td>1</td>\n",
       "      <td>1</td>\n",
       "      <td>42.0</td>\n",
       "      <td>2019-07-16</td>\n",
       "      <td>Croatia Open</td>\n",
       "      <td>Rublev A.</td>\n",
       "      <td>Haase R.</td>\n",
       "      <td>...</td>\n",
       "      <td>2.0</td>\n",
       "      <td>0.0</td>\n",
       "      <td>3.0</td>\n",
       "      <td>250</td>\n",
       "      <td>1</td>\n",
       "      <td>Outdoor_Clay</td>\n",
       "      <td>2019.0</td>\n",
       "      <td>Haase R._Rublev A.</td>\n",
       "      <td>1.0</td>\n",
       "      <td>1167</td>\n",
       "    </tr>\n",
       "    <tr>\n",
       "      <th>16</th>\n",
       "      <td>65</td>\n",
       "      <td>65</td>\n",
       "      <td>1</td>\n",
       "      <td>1</td>\n",
       "      <td>1</td>\n",
       "      <td>52.0</td>\n",
       "      <td>2019-08-27</td>\n",
       "      <td>US Open</td>\n",
       "      <td>Struff J.L.</td>\n",
       "      <td>Ruud C.</td>\n",
       "      <td>...</td>\n",
       "      <td>3.0</td>\n",
       "      <td>0.0</td>\n",
       "      <td>5.0</td>\n",
       "      <td>2000</td>\n",
       "      <td>1</td>\n",
       "      <td>Outdoor_Hard</td>\n",
       "      <td>2019.0</td>\n",
       "      <td>Ruud C._Struff J.L.</td>\n",
       "      <td>3.0</td>\n",
       "      <td>1125</td>\n",
       "    </tr>\n",
       "    <tr>\n",
       "      <th>20</th>\n",
       "      <td>64</td>\n",
       "      <td>64</td>\n",
       "      <td>1</td>\n",
       "      <td>1</td>\n",
       "      <td>0</td>\n",
       "      <td>52.0</td>\n",
       "      <td>2019-08-27</td>\n",
       "      <td>US Open</td>\n",
       "      <td>Rublev A.</td>\n",
       "      <td>Tsitsipas S.</td>\n",
       "      <td>...</td>\n",
       "      <td>3.0</td>\n",
       "      <td>1.0</td>\n",
       "      <td>5.0</td>\n",
       "      <td>2000</td>\n",
       "      <td>1</td>\n",
       "      <td>Outdoor_Hard</td>\n",
       "      <td>2019.0</td>\n",
       "      <td>Rublev A._Tsitsipas S.</td>\n",
       "      <td>3.0</td>\n",
       "      <td>1125</td>\n",
       "    </tr>\n",
       "    <tr>\n",
       "      <th>34</th>\n",
       "      <td>92</td>\n",
       "      <td>92</td>\n",
       "      <td>1</td>\n",
       "      <td>1</td>\n",
       "      <td>1</td>\n",
       "      <td>57.0</td>\n",
       "      <td>2019-09-30</td>\n",
       "      <td>China Open</td>\n",
       "      <td>Rublev A.</td>\n",
       "      <td>Dimitrov G.</td>\n",
       "      <td>...</td>\n",
       "      <td>2.0</td>\n",
       "      <td>0.0</td>\n",
       "      <td>3.0</td>\n",
       "      <td>500</td>\n",
       "      <td>1</td>\n",
       "      <td>Outdoor_Hard</td>\n",
       "      <td>2019.0</td>\n",
       "      <td>Dimitrov G._Rublev A.</td>\n",
       "      <td>2.0</td>\n",
       "      <td>1091</td>\n",
       "    </tr>\n",
       "    <tr>\n",
       "      <th>2</th>\n",
       "      <td>1</td>\n",
       "      <td>1</td>\n",
       "      <td>0</td>\n",
       "      <td>1</td>\n",
       "      <td>1</td>\n",
       "      <td>3.0</td>\n",
       "      <td>2020-01-13</td>\n",
       "      <td>Adelaide International</td>\n",
       "      <td>Humbert U.</td>\n",
       "      <td>Ruud C.</td>\n",
       "      <td>...</td>\n",
       "      <td>2.0</td>\n",
       "      <td>1.0</td>\n",
       "      <td>3.0</td>\n",
       "      <td>250</td>\n",
       "      <td>1</td>\n",
       "      <td>Outdoor_Hard</td>\n",
       "      <td>2020.0</td>\n",
       "      <td>Humbert U._Ruud C.</td>\n",
       "      <td>2.0</td>\n",
       "      <td>986</td>\n",
       "    </tr>\n",
       "    <tr>\n",
       "      <th>7</th>\n",
       "      <td>126</td>\n",
       "      <td>126</td>\n",
       "      <td>1</td>\n",
       "      <td>1</td>\n",
       "      <td>1</td>\n",
       "      <td>16.0</td>\n",
       "      <td>2020-02-26</td>\n",
       "      <td>Chile Open</td>\n",
       "      <td>Ruud C.</td>\n",
       "      <td>Tabilo A.</td>\n",
       "      <td>...</td>\n",
       "      <td>2.0</td>\n",
       "      <td>0.0</td>\n",
       "      <td>3.0</td>\n",
       "      <td>250</td>\n",
       "      <td>2</td>\n",
       "      <td>Indoor_Clay</td>\n",
       "      <td>2020.0</td>\n",
       "      <td>Ruud C._Tabilo A.</td>\n",
       "      <td>2.0</td>\n",
       "      <td>942</td>\n",
       "    </tr>\n",
       "    <tr>\n",
       "      <th>17</th>\n",
       "      <td>56</td>\n",
       "      <td>56</td>\n",
       "      <td>1</td>\n",
       "      <td>1</td>\n",
       "      <td>0</td>\n",
       "      <td>19.0</td>\n",
       "      <td>2020-09-01</td>\n",
       "      <td>US Open</td>\n",
       "      <td>Ruud C.</td>\n",
       "      <td>Mcdonald M.</td>\n",
       "      <td>...</td>\n",
       "      <td>3.0</td>\n",
       "      <td>2.0</td>\n",
       "      <td>5.0</td>\n",
       "      <td>2000</td>\n",
       "      <td>1</td>\n",
       "      <td>Outdoor_Hard</td>\n",
       "      <td>2020.0</td>\n",
       "      <td>Mcdonald M._Ruud C.</td>\n",
       "      <td>2.0</td>\n",
       "      <td>754</td>\n",
       "    </tr>\n",
       "    <tr>\n",
       "      <th>18</th>\n",
       "      <td>57</td>\n",
       "      <td>57</td>\n",
       "      <td>1</td>\n",
       "      <td>1</td>\n",
       "      <td>1</td>\n",
       "      <td>19.0</td>\n",
       "      <td>2020-09-01</td>\n",
       "      <td>US Open</td>\n",
       "      <td>Rublev A.</td>\n",
       "      <td>Chardy J.</td>\n",
       "      <td>...</td>\n",
       "      <td>3.0</td>\n",
       "      <td>0.0</td>\n",
       "      <td>5.0</td>\n",
       "      <td>2000</td>\n",
       "      <td>1</td>\n",
       "      <td>Outdoor_Hard</td>\n",
       "      <td>2020.0</td>\n",
       "      <td>Chardy J._Rublev A.</td>\n",
       "      <td>2.0</td>\n",
       "      <td>754</td>\n",
       "    </tr>\n",
       "    <tr>\n",
       "      <th>52</th>\n",
       "      <td>58</td>\n",
       "      <td>58</td>\n",
       "      <td>1</td>\n",
       "      <td>1</td>\n",
       "      <td>1</td>\n",
       "      <td>22.0</td>\n",
       "      <td>2020-09-28</td>\n",
       "      <td>French Open</td>\n",
       "      <td>Ruud C.</td>\n",
       "      <td>Sugita Y.</td>\n",
       "      <td>...</td>\n",
       "      <td>3.0</td>\n",
       "      <td>0.0</td>\n",
       "      <td>5.0</td>\n",
       "      <td>2000</td>\n",
       "      <td>1</td>\n",
       "      <td>Outdoor_Clay</td>\n",
       "      <td>2020.0</td>\n",
       "      <td>Ruud C._Sugita Y.</td>\n",
       "      <td>3.0</td>\n",
       "      <td>727</td>\n",
       "    </tr>\n",
       "    <tr>\n",
       "      <th>25</th>\n",
       "      <td>59</td>\n",
       "      <td>59</td>\n",
       "      <td>1</td>\n",
       "      <td>1</td>\n",
       "      <td>1</td>\n",
       "      <td>22.0</td>\n",
       "      <td>2020-09-29</td>\n",
       "      <td>French Open</td>\n",
       "      <td>Rublev A.</td>\n",
       "      <td>Querrey S.</td>\n",
       "      <td>...</td>\n",
       "      <td>3.0</td>\n",
       "      <td>2.0</td>\n",
       "      <td>5.0</td>\n",
       "      <td>2000</td>\n",
       "      <td>1</td>\n",
       "      <td>Outdoor_Clay</td>\n",
       "      <td>2020.0</td>\n",
       "      <td>Querrey S._Rublev A.</td>\n",
       "      <td>2.0</td>\n",
       "      <td>726</td>\n",
       "    </tr>\n",
       "    <tr>\n",
       "      <th>33</th>\n",
       "      <td>127</td>\n",
       "      <td>127</td>\n",
       "      <td>1</td>\n",
       "      <td>1</td>\n",
       "      <td>1</td>\n",
       "      <td>24.0</td>\n",
       "      <td>2020-10-15</td>\n",
       "      <td>Forte Village Sardegna Open</td>\n",
       "      <td>Hanfmann Y.</td>\n",
       "      <td>Ruud C.</td>\n",
       "      <td>...</td>\n",
       "      <td>2.0</td>\n",
       "      <td>0.0</td>\n",
       "      <td>3.0</td>\n",
       "      <td>250</td>\n",
       "      <td>2</td>\n",
       "      <td>Outdoor_Clay</td>\n",
       "      <td>2020.0</td>\n",
       "      <td>Hanfmann Y._Ruud C.</td>\n",
       "      <td>2.0</td>\n",
       "      <td>710</td>\n",
       "    </tr>\n",
       "    <tr>\n",
       "      <th>42</th>\n",
       "      <td>87</td>\n",
       "      <td>87</td>\n",
       "      <td>1</td>\n",
       "      <td>1</td>\n",
       "      <td>1</td>\n",
       "      <td>29.0</td>\n",
       "      <td>2020-10-28</td>\n",
       "      <td>Erste Bank Open</td>\n",
       "      <td>Sinner J.</td>\n",
       "      <td>Ruud C.</td>\n",
       "      <td>...</td>\n",
       "      <td>2.0</td>\n",
       "      <td>0.0</td>\n",
       "      <td>3.0</td>\n",
       "      <td>500</td>\n",
       "      <td>1</td>\n",
       "      <td>Indoor_Hard</td>\n",
       "      <td>2020.0</td>\n",
       "      <td>Ruud C._Sinner J.</td>\n",
       "      <td>2.0</td>\n",
       "      <td>697</td>\n",
       "    </tr>\n",
       "    <tr>\n",
       "      <th>12</th>\n",
       "      <td>47</td>\n",
       "      <td>47</td>\n",
       "      <td>1</td>\n",
       "      <td>0</td>\n",
       "      <td>0</td>\n",
       "      <td>5.0</td>\n",
       "      <td>2021-02-09</td>\n",
       "      <td>Australian Open</td>\n",
       "      <td>Ruud C.</td>\n",
       "      <td>Thompson J.</td>\n",
       "      <td>...</td>\n",
       "      <td>2.0</td>\n",
       "      <td>0.0</td>\n",
       "      <td>5.0</td>\n",
       "      <td>2000</td>\n",
       "      <td>1</td>\n",
       "      <td>Outdoor_Hard</td>\n",
       "      <td>2021.0</td>\n",
       "      <td>Ruud C._Thompson J.</td>\n",
       "      <td>1.0</td>\n",
       "      <td>593</td>\n",
       "    </tr>\n",
       "    <tr>\n",
       "      <th>28</th>\n",
       "      <td>111</td>\n",
       "      <td>111</td>\n",
       "      <td>1</td>\n",
       "      <td>1</td>\n",
       "      <td>0</td>\n",
       "      <td>11.0</td>\n",
       "      <td>2021-03-10</td>\n",
       "      <td>Qatar Exxon Mobil Open</td>\n",
       "      <td>Rublev A.</td>\n",
       "      <td>Gasquet R.</td>\n",
       "      <td>...</td>\n",
       "      <td>NaN</td>\n",
       "      <td>NaN</td>\n",
       "      <td>3.0</td>\n",
       "      <td>250</td>\n",
       "      <td>2</td>\n",
       "      <td>Outdoor_Hard</td>\n",
       "      <td>2021.0</td>\n",
       "      <td>Gasquet R._Rublev A.</td>\n",
       "      <td>1.0</td>\n",
       "      <td>564</td>\n",
       "    </tr>\n",
       "    <tr>\n",
       "      <th>49</th>\n",
       "      <td>78</td>\n",
       "      <td>78</td>\n",
       "      <td>1</td>\n",
       "      <td>1</td>\n",
       "      <td>1</td>\n",
       "      <td>14.0</td>\n",
       "      <td>2021-03-17</td>\n",
       "      <td>Abierto Mexicano</td>\n",
       "      <td>Ruud C.</td>\n",
       "      <td>Galan D.E.</td>\n",
       "      <td>...</td>\n",
       "      <td>2.0</td>\n",
       "      <td>0.0</td>\n",
       "      <td>3.0</td>\n",
       "      <td>500</td>\n",
       "      <td>1</td>\n",
       "      <td>Outdoor_Hard</td>\n",
       "      <td>2021.0</td>\n",
       "      <td>Galan D.E._Ruud C.</td>\n",
       "      <td>1.0</td>\n",
       "      <td>557</td>\n",
       "    </tr>\n",
       "    <tr>\n",
       "      <th>10</th>\n",
       "      <td>113</td>\n",
       "      <td>113</td>\n",
       "      <td>1</td>\n",
       "      <td>1</td>\n",
       "      <td>1</td>\n",
       "      <td>23.0</td>\n",
       "      <td>2021-04-28</td>\n",
       "      <td>BMW Open</td>\n",
       "      <td>Ruud C.</td>\n",
       "      <td>Cuevas P.</td>\n",
       "      <td>...</td>\n",
       "      <td>2.0</td>\n",
       "      <td>0.0</td>\n",
       "      <td>3.0</td>\n",
       "      <td>250</td>\n",
       "      <td>2</td>\n",
       "      <td>Outdoor_Clay</td>\n",
       "      <td>2021.0</td>\n",
       "      <td>Cuevas P._Ruud C.</td>\n",
       "      <td>1.0</td>\n",
       "      <td>515</td>\n",
       "    </tr>\n",
       "    <tr>\n",
       "      <th>29</th>\n",
       "      <td>114</td>\n",
       "      <td>114</td>\n",
       "      <td>1</td>\n",
       "      <td>0</td>\n",
       "      <td>1</td>\n",
       "      <td>26.0</td>\n",
       "      <td>2021-05-19</td>\n",
       "      <td>Geneva Open</td>\n",
       "      <td>Ruud C.</td>\n",
       "      <td>Sandgren T.</td>\n",
       "      <td>...</td>\n",
       "      <td>2.0</td>\n",
       "      <td>0.0</td>\n",
       "      <td>3.0</td>\n",
       "      <td>250</td>\n",
       "      <td>2</td>\n",
       "      <td>Outdoor_Clay</td>\n",
       "      <td>2021.0</td>\n",
       "      <td>Ruud C._Sandgren T.</td>\n",
       "      <td>2.0</td>\n",
       "      <td>494</td>\n",
       "    </tr>\n",
       "    <tr>\n",
       "      <th>51</th>\n",
       "      <td>49</td>\n",
       "      <td>49</td>\n",
       "      <td>1</td>\n",
       "      <td>1</td>\n",
       "      <td>0</td>\n",
       "      <td>30.0</td>\n",
       "      <td>2021-06-01</td>\n",
       "      <td>French Open</td>\n",
       "      <td>Struff J.L.</td>\n",
       "      <td>Rublev A.</td>\n",
       "      <td>...</td>\n",
       "      <td>3.0</td>\n",
       "      <td>2.0</td>\n",
       "      <td>5.0</td>\n",
       "      <td>2000</td>\n",
       "      <td>1</td>\n",
       "      <td>Outdoor_Clay</td>\n",
       "      <td>2021.0</td>\n",
       "      <td>Rublev A._Struff J.L.</td>\n",
       "      <td>3.0</td>\n",
       "      <td>481</td>\n",
       "    </tr>\n",
       "    <tr>\n",
       "      <th>8</th>\n",
       "      <td>52</td>\n",
       "      <td>52</td>\n",
       "      <td>1</td>\n",
       "      <td>1</td>\n",
       "      <td>1</td>\n",
       "      <td>49.0</td>\n",
       "      <td>2021-08-30</td>\n",
       "      <td>US Open</td>\n",
       "      <td>Rublev A.</td>\n",
       "      <td>Karlovic I.</td>\n",
       "      <td>...</td>\n",
       "      <td>3.0</td>\n",
       "      <td>0.0</td>\n",
       "      <td>5.0</td>\n",
       "      <td>2000</td>\n",
       "      <td>1</td>\n",
       "      <td>Outdoor_Hard</td>\n",
       "      <td>2021.0</td>\n",
       "      <td>Karlovic I._Rublev A.</td>\n",
       "      <td>3.0</td>\n",
       "      <td>391</td>\n",
       "    </tr>\n",
       "    <tr>\n",
       "      <th>3</th>\n",
       "      <td>119</td>\n",
       "      <td>119</td>\n",
       "      <td>1</td>\n",
       "      <td>1</td>\n",
       "      <td>1</td>\n",
       "      <td>52.0</td>\n",
       "      <td>2021-09-30</td>\n",
       "      <td>San Diego Open</td>\n",
       "      <td>Rublev A.</td>\n",
       "      <td>Nakashima B.</td>\n",
       "      <td>...</td>\n",
       "      <td>2.0</td>\n",
       "      <td>0.0</td>\n",
       "      <td>3.0</td>\n",
       "      <td>250</td>\n",
       "      <td>2</td>\n",
       "      <td>Outdoor_Hard</td>\n",
       "      <td>2021.0</td>\n",
       "      <td>Nakashima B._Rublev A.</td>\n",
       "      <td>2.0</td>\n",
       "      <td>360</td>\n",
       "    </tr>\n",
       "    <tr>\n",
       "      <th>6</th>\n",
       "      <td>121</td>\n",
       "      <td>121</td>\n",
       "      <td>1</td>\n",
       "      <td>1</td>\n",
       "      <td>1</td>\n",
       "      <td>56.0</td>\n",
       "      <td>2021-10-21</td>\n",
       "      <td>Kremlin Cup</td>\n",
       "      <td>Mannarino A.</td>\n",
       "      <td>Rublev A.</td>\n",
       "      <td>...</td>\n",
       "      <td>2.0</td>\n",
       "      <td>1.0</td>\n",
       "      <td>3.0</td>\n",
       "      <td>250</td>\n",
       "      <td>2</td>\n",
       "      <td>Indoor_Hard</td>\n",
       "      <td>2021.0</td>\n",
       "      <td>Mannarino A._Rublev A.</td>\n",
       "      <td>1.0</td>\n",
       "      <td>339</td>\n",
       "    </tr>\n",
       "    <tr>\n",
       "      <th>23</th>\n",
       "      <td>80</td>\n",
       "      <td>80</td>\n",
       "      <td>1</td>\n",
       "      <td>1</td>\n",
       "      <td>1</td>\n",
       "      <td>58.0</td>\n",
       "      <td>2021-10-26</td>\n",
       "      <td>Vienna Open</td>\n",
       "      <td>Ruud C.</td>\n",
       "      <td>Harris L.</td>\n",
       "      <td>...</td>\n",
       "      <td>2.0</td>\n",
       "      <td>0.0</td>\n",
       "      <td>3.0</td>\n",
       "      <td>500</td>\n",
       "      <td>1</td>\n",
       "      <td>Indoor_Hard</td>\n",
       "      <td>2021.0</td>\n",
       "      <td>Harris L._Ruud C.</td>\n",
       "      <td>2.0</td>\n",
       "      <td>334</td>\n",
       "    </tr>\n",
       "    <tr>\n",
       "      <th>43</th>\n",
       "      <td>76</td>\n",
       "      <td>76</td>\n",
       "      <td>1</td>\n",
       "      <td>1</td>\n",
       "      <td>1</td>\n",
       "      <td>11.0</td>\n",
       "      <td>2022-02-08</td>\n",
       "      <td>ABN AMRO World Tennis Tournament</td>\n",
       "      <td>Rublev A.</td>\n",
       "      <td>Laaksonen H.</td>\n",
       "      <td>...</td>\n",
       "      <td>2.0</td>\n",
       "      <td>0.0</td>\n",
       "      <td>3.0</td>\n",
       "      <td>500</td>\n",
       "      <td>1</td>\n",
       "      <td>Indoor_Hard</td>\n",
       "      <td>2022.0</td>\n",
       "      <td>Laaksonen H._Rublev A.</td>\n",
       "      <td>2.0</td>\n",
       "      <td>229</td>\n",
       "    </tr>\n",
       "  </tbody>\n",
       "</table>\n",
       "<p>55 rows × 22 columns</p>\n",
       "</div>"
      ],
      "text/plain": [
       "    index  index_test  LogisticRegression  RandomForestClassifier  \\\n",
       "26     37          37                   1                       1   \n",
       "54     38          38                   1                       1   \n",
       "53     75          75                   1                       1   \n",
       "4      43          43                   1                       1   \n",
       "21    108         108                   0                       0   \n",
       "15     34          34                   1                       1   \n",
       "35     35          35                   1                       1   \n",
       "30     36          36                   1                       1   \n",
       "1      26          26                   1                       0   \n",
       "32    100         100                   1                       1   \n",
       "13     27          27                   1                       1   \n",
       "41     29          29                   1                       1   \n",
       "14    102         102                   1                       1   \n",
       "44    104         104                   1                       1   \n",
       "0     105         105                   1                       1   \n",
       "48    106         106                   1                       0   \n",
       "36     19          19                   1                       0   \n",
       "47     21          21                   1                       1   \n",
       "40     20          20                   0                       1   \n",
       "50     97          97                   1                       1   \n",
       "46     69          69                   1                       1   \n",
       "38     70          70                   1                       1   \n",
       "9      24          24                   1                       1   \n",
       "24     98          98                   0                       1   \n",
       "22     25          25                   1                       1   \n",
       "39      5           5                   1                       1   \n",
       "11    130         130                   0                       1   \n",
       "45     60          60                   1                       1   \n",
       "19      6           6                   1                       0   \n",
       "5      88          88                   0                       0   \n",
       "27    131         131                   0                       1   \n",
       "37     61          61                   1                       1   \n",
       "31     10          10                   1                       1   \n",
       "16     65          65                   1                       1   \n",
       "20     64          64                   1                       1   \n",
       "34     92          92                   1                       1   \n",
       "2       1           1                   0                       1   \n",
       "7     126         126                   1                       1   \n",
       "17     56          56                   1                       1   \n",
       "18     57          57                   1                       1   \n",
       "52     58          58                   1                       1   \n",
       "25     59          59                   1                       1   \n",
       "33    127         127                   1                       1   \n",
       "42     87          87                   1                       1   \n",
       "12     47          47                   1                       0   \n",
       "28    111         111                   1                       1   \n",
       "49     78          78                   1                       1   \n",
       "10    113         113                   1                       1   \n",
       "29    114         114                   1                       0   \n",
       "51     49          49                   1                       1   \n",
       "8      52          52                   1                       1   \n",
       "3     119         119                   1                       1   \n",
       "6     121         121                   1                       1   \n",
       "23     80          80                   1                       1   \n",
       "43     76          76                   1                       1   \n",
       "\n",
       "    DecisionTreeClassifier   ATP       Date                        Tournament  \\\n",
       "26                       1  13.0 2015-02-17                 Delray Beach Open   \n",
       "54                       1  27.0 2015-04-28                     Istanbul Open   \n",
       "53                       1  52.0 2015-09-01                           US Open   \n",
       "4                        0  60.0 2015-10-20                       Kremlin Cup   \n",
       "21                       1  64.0 2015-10-28                 Valencia Open 500   \n",
       "15                       1  27.0 2016-04-25                     Istanbul Open   \n",
       "35                       1  54.0 2016-09-21               St. Petersburg Open   \n",
       "30                       1  55.0 2016-09-28                      Chengdu Open   \n",
       "1                        0   2.0 2017-01-03                      Chennai Open   \n",
       "32                       1  15.0 2017-02-20                          Rio Open   \n",
       "13                       0  14.0 2017-02-21                           Open 13   \n",
       "41                       1  28.0 2017-05-02                          BMW Open   \n",
       "14                       0  36.0 2017-06-19                  Gerry Weber Open   \n",
       "44                       1  49.0 2017-07-31                         Citi Open   \n",
       "0                        1  58.0 2017-10-03                        China Open   \n",
       "48                       1  65.0 2017-10-24                   Erste Bank Open   \n",
       "36                       0   4.0 2018-01-09                       ASB Classic   \n",
       "47                       1   8.0 2018-02-05                      Ecuador Open   \n",
       "40                       1   7.0 2018-02-05                Open Sud de France   \n",
       "50                       1  46.0 2018-07-23       German Tennis Championships   \n",
       "46                       1  53.0 2018-08-27                           US Open   \n",
       "38                       1  53.0 2018-08-27                           US Open   \n",
       "9                        0  55.0 2018-09-18               St. Petersburg Open   \n",
       "24                       1  58.0 2018-10-02                        China Open   \n",
       "22                       1  62.0 2018-10-16                       Kremlin Cup   \n",
       "39                       1   5.0 2019-01-08              Sydney International   \n",
       "11                       0   5.0 2019-01-09              Sydney International   \n",
       "45                       0   6.0 2019-01-14                   Australian Open   \n",
       "19                       0  14.0 2019-02-19                           Open 13   \n",
       "5                        0  15.0 2019-02-19                          Rio Open   \n",
       "27                       0  14.0 2019-02-21                           Open 13   \n",
       "37                       1  32.0 2019-05-26                       French Open   \n",
       "31                       1  42.0 2019-07-16                      Croatia Open   \n",
       "16                       1  52.0 2019-08-27                           US Open   \n",
       "20                       0  52.0 2019-08-27                           US Open   \n",
       "34                       1  57.0 2019-09-30                        China Open   \n",
       "2                        1   3.0 2020-01-13            Adelaide International   \n",
       "7                        1  16.0 2020-02-26                        Chile Open   \n",
       "17                       0  19.0 2020-09-01                           US Open   \n",
       "18                       1  19.0 2020-09-01                           US Open   \n",
       "52                       1  22.0 2020-09-28                       French Open   \n",
       "25                       1  22.0 2020-09-29                       French Open   \n",
       "33                       1  24.0 2020-10-15       Forte Village Sardegna Open   \n",
       "42                       1  29.0 2020-10-28                   Erste Bank Open   \n",
       "12                       0   5.0 2021-02-09                   Australian Open   \n",
       "28                       0  11.0 2021-03-10            Qatar Exxon Mobil Open   \n",
       "49                       1  14.0 2021-03-17                  Abierto Mexicano   \n",
       "10                       1  23.0 2021-04-28                          BMW Open   \n",
       "29                       1  26.0 2021-05-19                       Geneva Open   \n",
       "51                       0  30.0 2021-06-01                       French Open   \n",
       "8                        1  49.0 2021-08-30                           US Open   \n",
       "3                        1  52.0 2021-09-30                    San Diego Open   \n",
       "6                        1  56.0 2021-10-21                       Kremlin Cup   \n",
       "23                       1  58.0 2021-10-26                       Vienna Open   \n",
       "43                       1  11.0 2022-02-08  ABN AMRO World Tennis Tournament   \n",
       "\n",
       "              Winner             Loser  ...  Wsets  Lsets  Best of  \\\n",
       "26         Rublev A.           Sela D.  ...    2.0    1.0      3.0   \n",
       "54         Rublev A.        Dzumhur D.  ...    2.0    0.0      3.0   \n",
       "53       Anderson K.         Rublev A.  ...    3.0    1.0      5.0   \n",
       "4       Kukushkin M.         Rublev A.  ...    2.0    0.0      3.0   \n",
       "21         Rublev A.     Granollers M.  ...    2.0    0.0      3.0   \n",
       "15           Sela D.         Rublev A.  ...    2.0    0.0      3.0   \n",
       "35         Rublev A.      Kukushkin M.  ...    1.0    0.0      3.0   \n",
       "30        Troicki V.           Ruud C.  ...    2.0    0.0      3.0   \n",
       "1           Olivo R.           Ruud C.  ...    2.0    0.0      3.0   \n",
       "32           Ruud C.    Dutra Silva R.  ...    2.0    0.0      3.0   \n",
       "13      Marchenko I.         Rublev A.  ...    2.0    0.0      3.0   \n",
       "41  Kohlschreiber P.           Ruud C.  ...    2.0    0.0      3.0   \n",
       "14         Rublev A.  Ramos-Vinolas A.  ...    2.0    1.0      3.0   \n",
       "44           Paul T.           Ruud C.  ...    1.0    1.0      3.0   \n",
       "0          Rublev A.           Sock J.  ...    2.0    1.0      3.0   \n",
       "48          Thiem D.         Rublev A.  ...    2.0    0.0      3.0   \n",
       "36          Haase R.           Ruud C.  ...    2.0    1.0      3.0   \n",
       "47           Ruud C.        Berlocq C.  ...    2.0    0.0      3.0   \n",
       "40         Rublev A.   Garcia-Lopez G.  ...    2.0    0.0      3.0   \n",
       "50    Schwartzman D.           Ruud C.  ...    2.0    1.0      3.0   \n",
       "46          Pella G.           Ruud C.  ...    3.0    0.0      5.0   \n",
       "38         Chardy J.         Rublev A.  ...    3.0    1.0      5.0   \n",
       "9        Struff J.L.         Rublev A.  ...    2.0    0.0      3.0   \n",
       "24         Rublev A.          Sousa J.  ...    2.0    0.0      3.0   \n",
       "22        Kyrgios N.         Rublev A.  ...    2.0    1.0      3.0   \n",
       "39         Rublev A.        Pouille L.  ...    2.0    0.0      3.0   \n",
       "11       Nishioka Y.         Rublev A.  ...    2.0    0.0      3.0   \n",
       "45       Mcdonald M.         Rublev A.  ...    3.0    1.0      5.0   \n",
       "19         Rublev A.       Tsonga J.W.  ...    2.0    1.0      3.0   \n",
       "5            Ruud C.        Berlocq C.  ...    2.0    0.0      3.0   \n",
       "27         Rublev A.     Berrettini M.  ...    2.0    0.0      3.0   \n",
       "37           Ruud C.         Gulbis E.  ...    3.0    0.0      5.0   \n",
       "31         Rublev A.          Haase R.  ...    2.0    0.0      3.0   \n",
       "16       Struff J.L.           Ruud C.  ...    3.0    0.0      5.0   \n",
       "20         Rublev A.      Tsitsipas S.  ...    3.0    1.0      5.0   \n",
       "34         Rublev A.       Dimitrov G.  ...    2.0    0.0      3.0   \n",
       "2         Humbert U.           Ruud C.  ...    2.0    1.0      3.0   \n",
       "7            Ruud C.         Tabilo A.  ...    2.0    0.0      3.0   \n",
       "17           Ruud C.       Mcdonald M.  ...    3.0    2.0      5.0   \n",
       "18         Rublev A.         Chardy J.  ...    3.0    0.0      5.0   \n",
       "52           Ruud C.         Sugita Y.  ...    3.0    0.0      5.0   \n",
       "25         Rublev A.        Querrey S.  ...    3.0    2.0      5.0   \n",
       "33       Hanfmann Y.           Ruud C.  ...    2.0    0.0      3.0   \n",
       "42         Sinner J.           Ruud C.  ...    2.0    0.0      3.0   \n",
       "12           Ruud C.       Thompson J.  ...    2.0    0.0      5.0   \n",
       "28         Rublev A.        Gasquet R.  ...    NaN    NaN      3.0   \n",
       "49           Ruud C.        Galan D.E.  ...    2.0    0.0      3.0   \n",
       "10           Ruud C.         Cuevas P.  ...    2.0    0.0      3.0   \n",
       "29           Ruud C.       Sandgren T.  ...    2.0    0.0      3.0   \n",
       "51       Struff J.L.         Rublev A.  ...    3.0    2.0      5.0   \n",
       "8          Rublev A.       Karlovic I.  ...    3.0    0.0      5.0   \n",
       "3          Rublev A.      Nakashima B.  ...    2.0    0.0      3.0   \n",
       "6       Mannarino A.         Rublev A.  ...    2.0    1.0      3.0   \n",
       "23           Ruud C.         Harris L.  ...    2.0    0.0      3.0   \n",
       "43         Rublev A.      Laaksonen H.  ...    2.0    0.0      3.0   \n",
       "\n",
       "    SeriesPoints  RoundDraw           Type    Year  \\\n",
       "26           250          1   Outdoor_Hard  2015.0   \n",
       "54           250          1   Outdoor_Clay  2015.0   \n",
       "53          2000          1   Outdoor_Hard  2015.0   \n",
       "4            250          1    Indoor_Hard  2015.0   \n",
       "21           500          1    Indoor_Hard  2015.0   \n",
       "15           250          1   Outdoor_Clay  2016.0   \n",
       "35           250          1    Indoor_Hard  2016.0   \n",
       "30           250          1   Outdoor_Hard  2016.0   \n",
       "1            250          1   Outdoor_Hard  2017.0   \n",
       "32           500          1   Outdoor_Clay  2017.0   \n",
       "13           250          1    Indoor_Hard  2017.0   \n",
       "41           250          1   Outdoor_Clay  2017.0   \n",
       "14           500          1  Outdoor_Grass  2017.0   \n",
       "44           500          1   Outdoor_Hard  2017.0   \n",
       "0            500          1   Outdoor_Hard  2017.0   \n",
       "48           500          1    Indoor_Hard  2017.0   \n",
       "36           250          1   Outdoor_Hard  2018.0   \n",
       "47           250          1   Outdoor_Clay  2018.0   \n",
       "40           250          1    Indoor_Hard  2018.0   \n",
       "50           500          1   Outdoor_Clay  2018.0   \n",
       "46          2000          1   Outdoor_Hard  2018.0   \n",
       "38          2000          1   Outdoor_Hard  2018.0   \n",
       "9            250          1    Indoor_Hard  2018.0   \n",
       "24           500          1   Outdoor_Hard  2018.0   \n",
       "22           250          1    Indoor_Hard  2018.0   \n",
       "39           250          1   Outdoor_Hard  2019.0   \n",
       "11           250          2   Outdoor_Hard  2019.0   \n",
       "45          2000          1   Outdoor_Hard  2019.0   \n",
       "19           250          1    Indoor_Hard  2019.0   \n",
       "5            500          1   Outdoor_Clay  2019.0   \n",
       "27           250          2    Indoor_Hard  2019.0   \n",
       "37          2000          1   Outdoor_Clay  2019.0   \n",
       "31           250          1   Outdoor_Clay  2019.0   \n",
       "16          2000          1   Outdoor_Hard  2019.0   \n",
       "20          2000          1   Outdoor_Hard  2019.0   \n",
       "34           500          1   Outdoor_Hard  2019.0   \n",
       "2            250          1   Outdoor_Hard  2020.0   \n",
       "7            250          2    Indoor_Clay  2020.0   \n",
       "17          2000          1   Outdoor_Hard  2020.0   \n",
       "18          2000          1   Outdoor_Hard  2020.0   \n",
       "52          2000          1   Outdoor_Clay  2020.0   \n",
       "25          2000          1   Outdoor_Clay  2020.0   \n",
       "33           250          2   Outdoor_Clay  2020.0   \n",
       "42           500          1    Indoor_Hard  2020.0   \n",
       "12          2000          1   Outdoor_Hard  2021.0   \n",
       "28           250          2   Outdoor_Hard  2021.0   \n",
       "49           500          1   Outdoor_Hard  2021.0   \n",
       "10           250          2   Outdoor_Clay  2021.0   \n",
       "29           250          2   Outdoor_Clay  2021.0   \n",
       "51          2000          1   Outdoor_Clay  2021.0   \n",
       "8           2000          1   Outdoor_Hard  2021.0   \n",
       "3            250          2   Outdoor_Hard  2021.0   \n",
       "6            250          2    Indoor_Hard  2021.0   \n",
       "23           500          1    Indoor_Hard  2021.0   \n",
       "43           500          1    Indoor_Hard  2022.0   \n",
       "\n",
       "                           H2H  QualityWin   Old  \n",
       "26           Rublev A._Sela D.         1.0  2777  \n",
       "54        Dzumhur D._Rublev A.         2.0  2707  \n",
       "53       Anderson K._Rublev A.         3.0  2581  \n",
       "4       Kukushkin M._Rublev A.         2.0  2532  \n",
       "21     Granollers M._Rublev A.         1.0  2524  \n",
       "15           Rublev A._Sela D.         2.0  2344  \n",
       "35      Kukushkin M._Rublev A.         1.0  2195  \n",
       "30          Ruud C._Troicki V.         2.0  2188  \n",
       "1             Olivo R._Ruud C.         1.0  2091  \n",
       "32      Dutra Silva R._Ruud C.         2.0  2043  \n",
       "13      Marchenko I._Rublev A.         2.0  2042  \n",
       "41    Kohlschreiber P._Ruud C.         2.0  1972  \n",
       "14  Ramos-Vinolas A._Rublev A.         1.0  1924  \n",
       "44             Paul T._Ruud C.         1.0  1882  \n",
       "0            Rublev A._Sock J.         1.0  1818  \n",
       "48          Rublev A._Thiem D.         2.0  1797  \n",
       "36            Haase R._Ruud C.         2.0  1720  \n",
       "47          Berlocq C._Ruud C.         2.0  1693  \n",
       "40   Garcia-Lopez G._Rublev A.         2.0  1693  \n",
       "50      Ruud C._Schwartzman D.         1.0  1525  \n",
       "46            Pella G._Ruud C.         3.0  1490  \n",
       "38         Chardy J._Rublev A.         2.0  1490  \n",
       "9        Rublev A._Struff J.L.         2.0  1468  \n",
       "24          Rublev A._Sousa J.         1.0  1454  \n",
       "22        Kyrgios N._Rublev A.         1.0  1440  \n",
       "39        Pouille L._Rublev A.         2.0  1356  \n",
       "11       Nishioka Y._Rublev A.         2.0  1355  \n",
       "45       Mcdonald M._Rublev A.         2.0  1350  \n",
       "19       Rublev A._Tsonga J.W.         2.0  1314  \n",
       "5           Berlocq C._Ruud C.         1.0  1314  \n",
       "27     Berrettini M._Rublev A.         2.0  1312  \n",
       "37           Gulbis E._Ruud C.         3.0  1218  \n",
       "31          Haase R._Rublev A.         1.0  1167  \n",
       "16         Ruud C._Struff J.L.         3.0  1125  \n",
       "20      Rublev A._Tsitsipas S.         3.0  1125  \n",
       "34       Dimitrov G._Rublev A.         2.0  1091  \n",
       "2           Humbert U._Ruud C.         2.0   986  \n",
       "7            Ruud C._Tabilo A.         2.0   942  \n",
       "17         Mcdonald M._Ruud C.         2.0   754  \n",
       "18         Chardy J._Rublev A.         2.0   754  \n",
       "52           Ruud C._Sugita Y.         3.0   727  \n",
       "25        Querrey S._Rublev A.         2.0   726  \n",
       "33         Hanfmann Y._Ruud C.         2.0   710  \n",
       "42           Ruud C._Sinner J.         2.0   697  \n",
       "12         Ruud C._Thompson J.         1.0   593  \n",
       "28        Gasquet R._Rublev A.         1.0   564  \n",
       "49          Galan D.E._Ruud C.         1.0   557  \n",
       "10           Cuevas P._Ruud C.         1.0   515  \n",
       "29         Ruud C._Sandgren T.         2.0   494  \n",
       "51       Rublev A._Struff J.L.         3.0   481  \n",
       "8        Karlovic I._Rublev A.         3.0   391  \n",
       "3       Nakashima B._Rublev A.         2.0   360  \n",
       "6       Mannarino A._Rublev A.         1.0   339  \n",
       "23           Harris L._Ruud C.         2.0   334  \n",
       "43      Laaksonen H._Rublev A.         2.0   229  \n",
       "\n",
       "[55 rows x 22 columns]"
      ]
     },
     "execution_count": 1224,
     "metadata": {},
     "output_type": "execute_result"
    }
   ],
   "source": [
    "x_test_aux = X_test.reset_index().rename(columns={'level_0':'index_test'})[['index','index_test']]\n",
    "aux = x_test_aux.merge(df_predictions,on='index_test')\n",
    "predicted_results = aux.merge(matches,on='index')\n",
    "predicted_results.sort_values(by='Date')"
   ]
  },
  {
   "cell_type": "code",
   "execution_count": 1225,
   "metadata": {},
   "outputs": [],
   "source": [
    "def predictive_model_simple(model,X_train,y_train,X_test,y_test):\n",
    "    \n",
    "    # Fit to the training data\n",
    "    model.fit(X_train,y_train)\n",
    "\n",
    "    # Compute accuracy\n",
    "    accuracy = model.score(X_test,y_test)\n",
    "\n",
    "    # Predict the labels of the test set\n",
    "    y_pred = model.predict(X_test)\n",
    "\n",
    "\n",
    "    return y_pred"
   ]
  },
  {
   "cell_type": "code",
   "execution_count": 1227,
   "metadata": {},
   "outputs": [
    {
     "data": {
      "text/html": [
       "<div>\n",
       "<style scoped>\n",
       "    .dataframe tbody tr th:only-of-type {\n",
       "        vertical-align: middle;\n",
       "    }\n",
       "\n",
       "    .dataframe tbody tr th {\n",
       "        vertical-align: top;\n",
       "    }\n",
       "\n",
       "    .dataframe thead th {\n",
       "        text-align: right;\n",
       "    }\n",
       "</style>\n",
       "<table border=\"1\" class=\"dataframe\">\n",
       "  <thead>\n",
       "    <tr style=\"text-align: right;\">\n",
       "      <th></th>\n",
       "      <th>ATP</th>\n",
       "      <th>Date</th>\n",
       "      <th>Tournament</th>\n",
       "      <th>Winner</th>\n",
       "      <th>Loser</th>\n",
       "      <th>WRank</th>\n",
       "      <th>LRank</th>\n",
       "      <th>Wsets</th>\n",
       "      <th>Lsets</th>\n",
       "      <th>Best of</th>\n",
       "      <th>SeriesPoints</th>\n",
       "      <th>RoundDraw</th>\n",
       "      <th>Type</th>\n",
       "      <th>Year</th>\n",
       "      <th>H2H</th>\n",
       "      <th>QualityWin</th>\n",
       "    </tr>\n",
       "  </thead>\n",
       "  <tbody>\n",
       "    <tr>\n",
       "      <th>18714</th>\n",
       "      <td>45</td>\n",
       "      <td>2019-07-24</td>\n",
       "      <td>German Tennis Championships</td>\n",
       "      <td>Rublev A.</td>\n",
       "      <td>Ruud C.</td>\n",
       "      <td>78.0</td>\n",
       "      <td>69.0</td>\n",
       "      <td>2.0</td>\n",
       "      <td>1.0</td>\n",
       "      <td>3</td>\n",
       "      <td>500</td>\n",
       "      <td>2</td>\n",
       "      <td>Outdoor_Clay</td>\n",
       "      <td>2019</td>\n",
       "      <td>Rublev A._Ruud C.</td>\n",
       "      <td>2.0</td>\n",
       "    </tr>\n",
       "    <tr>\n",
       "      <th>23898</th>\n",
       "      <td>21</td>\n",
       "      <td>2020-09-26</td>\n",
       "      <td>German Tennis Championships</td>\n",
       "      <td>Rublev A.</td>\n",
       "      <td>Ruud C.</td>\n",
       "      <td>14.0</td>\n",
       "      <td>30.0</td>\n",
       "      <td>2.0</td>\n",
       "      <td>0.0</td>\n",
       "      <td>3</td>\n",
       "      <td>500</td>\n",
       "      <td>6</td>\n",
       "      <td>Outdoor_Clay</td>\n",
       "      <td>2020</td>\n",
       "      <td>Rublev A._Ruud C.</td>\n",
       "      <td>2.0</td>\n",
       "    </tr>\n",
       "    <tr>\n",
       "      <th>26189</th>\n",
       "      <td>5</td>\n",
       "      <td>2021-02-15</td>\n",
       "      <td>Australian Open</td>\n",
       "      <td>Rublev A.</td>\n",
       "      <td>Ruud C.</td>\n",
       "      <td>8.0</td>\n",
       "      <td>28.0</td>\n",
       "      <td>2.0</td>\n",
       "      <td>0.0</td>\n",
       "      <td>5</td>\n",
       "      <td>2000</td>\n",
       "      <td>4</td>\n",
       "      <td>Outdoor_Hard</td>\n",
       "      <td>2021</td>\n",
       "      <td>Rublev A._Ruud C.</td>\n",
       "      <td>1.0</td>\n",
       "    </tr>\n",
       "  </tbody>\n",
       "</table>\n",
       "</div>"
      ],
      "text/plain": [
       "       ATP       Date                   Tournament     Winner    Loser  WRank  \\\n",
       "18714   45 2019-07-24  German Tennis Championships  Rublev A.  Ruud C.   78.0   \n",
       "23898   21 2020-09-26  German Tennis Championships  Rublev A.  Ruud C.   14.0   \n",
       "26189    5 2021-02-15              Australian Open  Rublev A.  Ruud C.    8.0   \n",
       "\n",
       "       LRank  Wsets  Lsets  Best of  SeriesPoints  RoundDraw          Type  \\\n",
       "18714   69.0    2.0    1.0        3           500          2  Outdoor_Clay   \n",
       "23898   30.0    2.0    0.0        3           500          6  Outdoor_Clay   \n",
       "26189   28.0    2.0    0.0        5          2000          4  Outdoor_Hard   \n",
       "\n",
       "       Year                H2H  QualityWin  \n",
       "18714  2019  Rublev A._Ruud C.         2.0  \n",
       "23898  2020  Rublev A._Ruud C.         2.0  \n",
       "26189  2021  Rublev A._Ruud C.         1.0  "
      ]
     },
     "execution_count": 1227,
     "metadata": {},
     "output_type": "execute_result"
    }
   ],
   "source": [
    "tennis_clean[(tennis_clean['H2H'].str.contains(name_p1)) & (tennis_clean['H2H'].str.contains(name_p2))]"
   ]
  },
  {
   "cell_type": "code",
   "execution_count": 1228,
   "metadata": {},
   "outputs": [
    {
     "name": "stdout",
     "output_type": "stream",
     "text": [
      "        Date     Winner    Loser  WRank  LRank  SeriesPoints  RoundDraw  \\\n",
      "0 2022-07-24  Rublev A.  Ruud C.     10     12           500          7   \n",
      "\n",
      "           Type  \n",
      "0  Outdoor_Clay  \n",
      "\n",
      "Rublev A. is going to WIN the match!\n"
     ]
    }
   ],
   "source": [
    "# Instantiate the classifier\n",
    "clf = RandomForestClassifier()\n",
    "y_pred = predictive_model_simple(clf,X,y,X_to_predict,y_to_predict)\n",
    "\n",
    "print(game_to_predict)\n",
    "print()\n",
    "if y_pred == 1:\n",
    "    print(f'{name_p1} is going to WIN the match!')\n",
    "else:\n",
    "    print(f'{name_p1} is going to LOSE the match!')\n"
   ]
  }
 ],
 "metadata": {
  "kernelspec": {
   "display_name": "Python 3.9.7 64-bit",
   "language": "python",
   "name": "python3"
  },
  "language_info": {
   "codemirror_mode": {
    "name": "ipython",
    "version": 3
   },
   "file_extension": ".py",
   "mimetype": "text/x-python",
   "name": "python",
   "nbconvert_exporter": "python",
   "pygments_lexer": "ipython3",
   "version": "3.9.7"
  },
  "orig_nbformat": 4,
  "vscode": {
   "interpreter": {
    "hash": "cea03c0e7d686fb8c78d13379d39470891162a4c98d39b3286604f172655fa95"
   }
  }
 },
 "nbformat": 4,
 "nbformat_minor": 2
}
