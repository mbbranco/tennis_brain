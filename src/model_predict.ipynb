{
 "cells": [
  {
   "cell_type": "code",
   "execution_count": 121,
   "metadata": {},
   "outputs": [],
   "source": [
    "from sklearn.model_selection import GridSearchCV, cross_val_score, train_test_split\n",
    "from sklearn.neighbors import KNeighborsClassifier\n",
    "from sklearn.preprocessing import StandardScaler, LabelEncoder\n",
    "\n",
    "# Import scores\n",
    "from sklearn.metrics import precision_score\n",
    "from sklearn.metrics import recall_score\n",
    "from sklearn.metrics import roc_curve\n",
    "from sklearn.metrics import roc_auc_score\n",
    "from sklearn.metrics import f1_score\n",
    "\n",
    "\n",
    "# Import classifiers3\n",
    "from sklearn.ensemble import RandomForestClassifier\n",
    "from sklearn.linear_model import LogisticRegression, RidgeClassifier\n",
    "from sklearn.tree import DecisionTreeClassifier\n",
    "from sklearn.svm import SVC\n",
    "\n",
    "import pandas as pd\n",
    "import numpy as np\n",
    "from datetime import datetime,date\n",
    "import seaborn as sns\n",
    "import matplotlib.pyplot as plt\n",
    "\n",
    "from data_prep_db import data_import_db_simple,select_by_name\n",
    "\n",
    "import warnings\n",
    "warnings.filterwarnings(\"ignore\")"
   ]
  },
  {
   "cell_type": "markdown",
   "metadata": {},
   "source": [
    "# Importing Data"
   ]
  },
  {
   "cell_type": "code",
   "execution_count": 74,
   "metadata": {},
   "outputs": [],
   "source": [
    "### LOADING DATA\n",
    "db_loc = r'tennis_atp.db'\n",
    "\n",
    "sql = \"\"\"SELECT * FROM MATCHES WHERE tourney_level NOT IN ('C','S','F','D','P','PM','I','E','J','T')\n",
    "    AND tourney_name NOT LIKE '%Olympics%'\n",
    "    AND tourney_name NOT LIKE '%Cup%'\n",
    "    AND tourney_name NOT LIKE '%Finals%';\"\"\"\n",
    "\n",
    "round_map = {'RR':7,'R128':6,'R64':5,'R32':4,'R16':3,'QF':2,'SF':1,'F':0}\n",
    "points_map = {'A':250,'M':1000,'G':2000}\n",
    "# transform matches and return view\n",
    "df_matches = data_import_db_simple(db_loc,sql)\n",
    "df_matches['tourney_date'] = pd.to_datetime(df_matches['tourney_date'],format='%Y%m%d')\n",
    "df_matches['tourney_points'] = df_matches['tourney_level'].map(points_map).fillna(0)\n",
    "df_matches['round_level'] = df_matches['round'].map(round_map).fillna(7)\n",
    "    \n",
    "# read players and create view\n",
    "df_players = data_import_db_simple(db_loc,\"SELECT * FROM PLAYERS;\")\n",
    "df_players['name'] = df_players['name_first'] + \" \" + df_players['name_last']\n",
    "df_players['dob'] = pd.to_datetime(df_players['dob'],format='%Y%m%d',errors='coerce')\n",
    "\n",
    "# read rankings and create view\n",
    "df_rankings = data_import_db_simple(db_loc,\"SELECT * FROM RANKINGS;\")\n",
    "df_rankings['ranking_date'] = pd.to_datetime(df_rankings['ranking_date'],format='%Y%m%d')\n"
   ]
  },
  {
   "cell_type": "code",
   "execution_count": 3,
   "metadata": {},
   "outputs": [],
   "source": [
    "tourns_dict = {}\n",
    "for i, row in df_matches.groupby(['tourney_name','surface','tourney_points','best_of','draw_size']):\n",
    "    key = i[0]\n",
    "    dates = row['tourney_date'].to_list()\n",
    "    values = list(i[1:])\n",
    "    keys = ['surface','tourney_points','best_of','draw_size','tourney_dates']\n",
    "    values.append(dates)\n",
    "    zip_val = dict(zip(keys,values))\n",
    "    tourns_dict[key] = zip_val\n",
    "    tourns_dict[key]"
   ]
  },
  {
   "cell_type": "code",
   "execution_count": 4,
   "metadata": {},
   "outputs": [],
   "source": [
    "players_dict = {}\n",
    "for i, row in df_players.groupby(['player_id']):\n",
    "    name = row['name'].iloc[0]\n",
    "    players_dict[name] = row.to_dict('records')[0]"
   ]
  },
  {
   "cell_type": "markdown",
   "metadata": {},
   "source": [
    "# Preparing Data"
   ]
  },
  {
   "cell_type": "code",
   "execution_count": 6,
   "metadata": {},
   "outputs": [],
   "source": [
    "# select variables to keep\n",
    "matches = df_matches.copy()\n",
    "\n",
    "# get data for all matches available\n",
    "matches['order'] = np.where(matches['winner_rank']<matches['loser_rank'],'p1','p2')\n",
    "matches['winner_id_final'] = matches['winner_id']\n",
    "\n",
    "matches = matches[['id','order','winner_id_final',\n",
    "    'tourney_name','tourney_date','round_level','surface','tourney_points','best_of','draw_size',\n",
    "    'winner_id', 'winner_hand', 'winner_ht', 'winner_ioc', 'winner_age','winner_rank',\n",
    "    'loser_id', 'loser_hand','loser_ht', 'loser_ioc', 'loser_age','loser_rank', \n",
    "    # 'best_of', 'minutes', \n",
    "    # 'w_ace', 'w_df', 'w_svpt', 'w_1stIn', 'w_1stWon', 'w_2ndWon','w_SvGms', 'w_bpSaved', 'w_bpFaced',\n",
    "    # 'l_ace', 'l_df', 'l_svpt','l_1stIn', 'l_1stWon', 'l_2ndWon', 'l_SvGms', 'l_bpSaved', 'l_bpFaced',\n",
    "    # 'winner_rank_points', 'loser_rank_points',\n",
    "    ]]"
   ]
  },
  {
   "cell_type": "code",
   "execution_count": 7,
   "metadata": {},
   "outputs": [],
   "source": [
    "hand_map = {'R':0,'L':1,'U':-1}\n",
    "surface_map = {'Hard':0,'Clay':1,'Grass':2,'Carpet':4}\n",
    "\n",
    "losers_ioc = matches['loser_ioc']\n",
    "winners_ioc = matches['winner_ioc']\n",
    "all_countries = pd.concat([losers_ioc,winners_ioc])\n",
    "all_countries = all_countries.unique()\n",
    "\n",
    "le = LabelEncoder()\n",
    "a = le.fit_transform(all_countries)\n",
    "countries_map = {}\n",
    "countries_map = dict(zip(all_countries,a))\n",
    "\n",
    "\n",
    "matches['winner_hand'] = matches['winner_hand'].map(hand_map).fillna(-1)\n",
    "matches['loser_hand'] = matches['loser_hand'].map(hand_map).fillna(-1)\n",
    "matches['surface'] = matches['surface'].map(surface_map).fillna(-1)\n",
    "\n",
    "# matches['winner_entry'] = np.where(matches['winner_entry'].isna(),1,0)\n",
    "# matches['loser_entry'] = np.where(matches['loser_entry'].isna(),1,0)\n",
    "\n",
    "matches['loser_ioc'] = matches['loser_ioc'].map(countries_map).fillna(-1)\n",
    "matches['winner_ioc'] = matches['winner_ioc'].map(countries_map).fillna(-1)"
   ]
  },
  {
   "cell_type": "code",
   "execution_count": 8,
   "metadata": {},
   "outputs": [],
   "source": [
    "vars_feats = ['id','order','winner_id_final','tourney_name','tourney_date','round_level','surface','tourney_points','best_of','draw_size']\n",
    "\n",
    "players_data = matches.melt(id_vars=vars_feats)\n",
    "\n",
    "\n",
    "players_data[['winner_loser','col_name']] = players_data['variable'].str.split(\"_\",expand=True,n=1)\n",
    "\n",
    "players_data['col_name'] = np.where(players_data['col_name'].isna(),players_data['winner_loser'],players_data['col_name'])\n",
    "\n",
    "cond_1 = (players_data['winner_loser']=='winner') & (players_data['order']=='p1')\n",
    "cond_2 = (players_data['winner_loser']=='loser') & (players_data['order']=='p2')\n",
    "\n",
    "players_data['final_name'] = np.where(cond_1|cond_2,'p1_' + players_data['col_name'],'p2_' + players_data['col_name'])\n",
    "\n",
    "vars_feats = [v for v in vars_feats if v!='order']\n",
    "model_basis = players_data.pivot_table(index=vars_feats,columns='final_name',values='value').reset_index()\n",
    "\n",
    "model_basis['result'] = np.where(model_basis['winner_id_final']==model_basis['p1_id'],1,0)"
   ]
  },
  {
   "cell_type": "code",
   "execution_count": 218,
   "metadata": {},
   "outputs": [
    {
     "name": "stdout",
     "output_type": "stream",
     "text": [
      "ini 128018\n",
      "fim 117990\n"
     ]
    }
   ],
   "source": [
    "all_players_id = players_data[players_data['variable'].isin(['winner_id','loser_id'])]['value'].unique()\n",
    "\n",
    "# calculate kpis\n",
    "kpis = pd.DataFrame()\n",
    "for p_id in all_players_id:\n",
    "    cond = (model_basis['p1_id']==p_id) | (model_basis['p2_id']==p_id)\n",
    "    games_for_p = model_basis[cond].copy()\n",
    "\n",
    "    games_for_p['win'] = np.where(games_for_p['winner_id_final']==p_id,1,0)\n",
    "    games_for_p['loss'] = np.where(games_for_p['winner_id_final']!=p_id,1,0)\n",
    "    games_for_p = games_for_p.sort_values(by=['tourney_date','round_level'])\n",
    "    \n",
    "    gp = games_for_p.groupby(['id','tourney_date']).agg({'win':'sum','loss':'sum'}).reset_index()\n",
    "\n",
    "    gp['win_loss_ratio_start'] = np.where(gp['loss'].cumsum()==0,np.nan,gp['win'].cumsum()/gp['loss'].cumsum())\n",
    "\n",
    "    gp['win_last_10'] = gp['win'].rolling(10).sum()\n",
    "    gp['loss_last_10'] = gp['loss'].rolling(10).sum()\n",
    "\n",
    "    gp['win_loss_ratio_last_10'] = np.where(gp['loss_last_10']==0,np.nan,gp['win_last_10']/gp['loss_last_10'])\n",
    "\n",
    "    gp['win_perc'] = gp['win'].cumsum()/(gp['loss'].cumsum()+gp['win'].cumsum())\n",
    "    gp['win_perc_last_10'] = gp['win_last_10']/(gp['win_last_10']+gp['loss_last_10'])\n",
    "\n",
    "\n",
    "    gp['player_id'] = p_id\n",
    "    gp = gp.rename(columns={'id':'match_id','tourney_date':'match_date'})\n",
    "\n",
    "    kpis = pd.concat([gp,kpis])\n",
    "\n",
    "\n",
    "print(f'ini {kpis.shape[0]}')\n",
    "kpis = kpis.dropna()\n",
    "print(f'fim {kpis.shape[0]}')\n",
    "\n",
    "# join kpis with model_basis\n",
    "model = model_basis.drop(columns=['winner_id_final']).copy()\n",
    "\n",
    "kpis_d = kpis.drop(columns=['match_date'])\n",
    "\n",
    "kpis_p1 = kpis_d.copy()\n",
    "kpis_p1.columns = [\"p1_\" + k for k in kpis_p1.columns]\n",
    "\n",
    "kpis_p2 = kpis_d.copy()\n",
    "kpis_p2.columns = [\"p2_\" + k for k in kpis_p2.columns]\n",
    "\n",
    "model = model.merge(kpis_p1,left_on=['p1_id','id'], right_on=['p1_player_id','p1_match_id'],how='left')\n",
    "model = model.merge(kpis_p2,left_on=['p2_id','id'],right_on=['p2_player_id','p2_match_id'],how='left')\n",
    "\n",
    "model = model.dropna()\n",
    "\n",
    "model = model.drop(columns=['p1_player_id','p2_player_id','p1_match_id','p2_match_id','p1_win','p2_win',\n",
    "                            'p1_loss','p2_loss','p1_win_last_10','p2_win_last_10','p1_loss_last_10','p2_loss_last_10'])"
   ]
  },
  {
   "cell_type": "markdown",
   "metadata": {},
   "source": [
    "# Loading Needed Functions"
   ]
  },
  {
   "cell_type": "code",
   "execution_count": 389,
   "metadata": {},
   "outputs": [],
   "source": [
    "class TennisPredModel():\n",
    "\n",
    "    def __init__(self,dataset):\n",
    "        self.dataset = dataset\n",
    "    \n",
    "    def split_model(self,train_size_val=0.8,random_state_val=10):\n",
    "        match_to_predict = pd.DataFrame(self.dataset.iloc[-1]).T\n",
    "        matches_ready = self.dataset.iloc[0:-1]\n",
    "\n",
    "        def create_feature_target_var(df):\n",
    "            # Create feature variable\n",
    "            X = df.drop('result', axis=1)\n",
    "            # Create target variable\n",
    "            y = df['result']\n",
    "            return X,y\n",
    "        \n",
    "        X_to_predict,y_to_predict = create_feature_target_var(match_to_predict)\n",
    "        X,y = create_feature_target_var(matches_ready)\n",
    "\n",
    "        # Create training and testing sets\n",
    "        X_train, X_test, y_train, y_test = train_test_split(X, y, train_size=train_size_val,random_state=random_state_val)\n",
    "\n",
    "        return X, y, X_train, X_test, y_train, y_test, X_to_predict, y_to_predict\n",
    "\n",
    "\n",
    "    def hyperparameter_tuning(self,name,X_train,y_train):\n",
    "        if name=='LogisticRegression':\n",
    "            # Logistic Regression Classifier\n",
    "            param_grid = {'C': [0.001, 0.01, 0.1, 1, 10, 100, 1000] }\n",
    "            model = LogisticRegression()\n",
    "            log_cv = GridSearchCV(model, param_grid, cv=5)\n",
    "            log_cv.fit(X_train, y_train)\n",
    "            model = LogisticRegression(log_cv.best_params_)\n",
    "            print(f'model {model}: {log_cv.best_params_}')\n",
    "\n",
    "        elif name =='KNN':\n",
    "            # KNN - Neighrest Neighbor \n",
    "            param_grid = {'n_neighbors': np.arange(1,50),\n",
    "                          'algorithm':('auto','ball_tree','kd_tree','brute')}\n",
    "            knn = KNeighborsClassifier()\n",
    "            knn_cv = GridSearchCV(knn, param_grid, cv=5)\n",
    "            knn_cv.fit(X_train, y_train)\n",
    "            model = KNeighborsClassifier(knn_cv.best_params_)\n",
    "            print(f'model {model}: {knn_cv.best_params_}')\n",
    "        \n",
    "        elif name == 'RandomForestClassifier':\n",
    "            param_grid = {\n",
    "                'n_estimators': [25,50],\n",
    "                'max_features': ['sqrt','log2'],\n",
    "                'max_depth': [3,6,9],\n",
    "                'max_leaf_nodes': [3,6,9],\n",
    "            }\n",
    "\n",
    "            rfc = RandomForestClassifier()\n",
    "            cv = GridSearchCV(rfc, param_grid, cv = 5)\n",
    "            cv.fit(X_train, y_train)\n",
    "            model = RandomForestClassifier(**cv.best_params_)\n",
    "            print(f'model {model}: {cv.best_params_}')\n",
    "\n",
    "        elif name == 'DecisionTreeClassifier':\n",
    "            param_grid = {\n",
    "                'criterion': ['gini','entropy'],\n",
    "                'splitter': ['best','random'],\n",
    "                'max_depth': [50,60,70,80],\n",
    "            }\n",
    "\n",
    "            dtc = DecisionTreeClassifier()\n",
    "            cv = GridSearchCV(dtc, param_grid, cv = 5)\n",
    "            cv.fit(X_train, y_train)\n",
    "            model = DecisionTreeClassifier(**cv.best_params_)\n",
    "            print(f'model {model}: {cv.best_params_}')\n",
    "    \n",
    "    def predictive_model(self,model,X_train,y_train,X_test,y_test):\n",
    "        # Fit to the training data\n",
    "        model.fit(X_train,y_train)\n",
    "\n",
    "        # Compute accuracy\n",
    "        accuracy = model.score(X_test,y_test)\n",
    "        # print(f'Accuracy: {accuracy:.0%}')\n",
    "\n",
    "        # Predict the labels of the test set\n",
    "        y_pred = model.predict(X_test)\n",
    "\n",
    "        precision = precision_score(y_test,y_pred)\n",
    "        recall = recall_score(y_test,y_pred)\n",
    "        # print(f'Precision: {precision:.0%}')\n",
    "        # print(f'Recall: {recall:.0%}')\n",
    "\n",
    "        # Generate the probabilities\n",
    "        y_pred_prob = model.predict_proba(X_test)[:, 1]\n",
    "\n",
    "        auc = roc_auc_score(y_test, y_pred_prob)\n",
    "        f1_score_val = f1_score(y_test,y_pred)\n",
    "        # print(f'AUC: {auc:.0%}')\n",
    "        # print(f'F1 Score: {f1_score_val:.0%}')\n",
    "\n",
    "        # # Calculate the roc metrics\n",
    "        # fpr, tpr, thresholds = roc_curve(y_test, y_pred_prob)\n",
    "\n",
    "        # # Plot the ROC curve\n",
    "        # plt.plot(fpr,tpr)\n",
    "\n",
    "        # # Add labels and diagonal line\n",
    "        # plt.xlabel(\"False Positive Rate\")\n",
    "        # plt.ylabel(\"True Positive Rate\")\n",
    "        # plt.plot([0, 1], [0, 1], \"k--\")\n",
    "        # plt.show()\n",
    "\n",
    "        return [accuracy,precision,recall,auc,f1_score_val], y_pred\n",
    "\n",
    "    def pick_best_model(self,X_train,y_train,X_test,y_test):\n",
    "        #LogisticRegression, KNN não fazem fit\n",
    "        classifiers = [RandomForestClassifier(),DecisionTreeClassifier()]\n",
    "        classifiers_names = ['RandomForestClassifier','DecisionTreeClassifier']\n",
    "\n",
    "        # classifiers = classifiers[2:3]\n",
    "        # classifiers_names = classifiers_names[2:3]\n",
    "        dict_classifiers = dict(zip(classifiers_names, classifiers))\n",
    "        \n",
    "        results = {}\n",
    "        predictions = {}\n",
    "        best_score = 0\n",
    "        best_model = \"\"\n",
    "        for name, clf in dict_classifiers.items():\n",
    "            print(f'Predicting using {name}')\n",
    "            self.hyperparameter_tuning(name, X_train, y_train)\n",
    "            scores, y_pred = self.predictive_model(clf, X_train, y_train, X_test, y_test)\n",
    "            \n",
    "            results[name] = scores\n",
    "            predictions[name] = y_pred\n",
    "            preci = scores[1]\n",
    "            recall = scores[2]\n",
    "            score = preci * recall\n",
    "            print(f'{name} score is {score:.4f} | Precision {preci:.2f} | Recall {recall:.2f}')\n",
    "            if score >= best_score:\n",
    "                best_score = score\n",
    "                best_model = name\n",
    "            print(f'Current Best model {best_model}\\n')\n",
    "\n",
    "        model_selected = dict_classifiers[name]\n",
    "        print(f'Model Selected: {best_model} with score {best_score:.4f}\\n')\n",
    "        \n",
    "        return model_selected,best_model,preci,recall\n",
    "\n",
    "    def predictive_model_apply(self,model,X,y,X_to_predict):\n",
    "        # Fit to the training data\n",
    "\n",
    "        model.fit(X,y)\n",
    "        self.model = model\n",
    "\n",
    "        # Predict the labels of the test set\n",
    "        y_pred = model.predict(X_to_predict)\n",
    "\n",
    "        prob = model.predict_proba(X_to_predict)[:][0]\n",
    "        feat_imp =  model.feature_importances_\n",
    "\n",
    "        # Sort the feature importances from greatest to least using the sorted indices\n",
    "        sorted_indices = feat_imp.argsort()[::-1]\n",
    "        sorted_feature_names = list(self.dataset.columns[sorted_indices])\n",
    "        sorted_importances = list(feat_imp[sorted_indices])\n",
    "        feat_imp_dict = dict(zip(sorted_feature_names,sorted_importances))\n",
    "\n",
    "        return y_pred,prob,feat_imp_dict"
   ]
  },
  {
   "cell_type": "code",
   "execution_count": 401,
   "metadata": {},
   "outputs": [],
   "source": [
    "def prep_model(model,p1,p2,tournament):\n",
    "\n",
    "    model_date = model[model['tourney_date']<=tournament['tourney_date']].copy()\n",
    "\n",
    "    # add data for predicting match        \n",
    "    all_feats = ['id',\n",
    "                    'tourney_name','tourney_date','round_level','surface','tourney_points','best_of','draw_size',\n",
    "                    'p1_id', 'p1_ioc', 'p1_rank', 'p1_age', 'p1_hand', 'p1_ht', 'p1_win_loss_ratio_last_10',\n",
    "                    'p1_win_loss_ratio_start','p1_win_perc','p1_win_perc_last_10',\n",
    "                    'p2_id','p2_ioc', 'p2_rank', 'p2_age', 'p2_hand', 'p2_ht','p2_win_loss_ratio_last_10',\n",
    "                    'p2_win_loss_ratio_start','p2_win_perc','p2_win_perc_last_10']\n",
    "\n",
    "    match_id = model_date['id'].max()+1\n",
    "    list_input = [match_id,\n",
    "                    tournament['tourney_name'], tournament['tourney_date'], tournament['round_level'],\n",
    "                    tournament['surface'],tournament['tourney_points'], tournament['best_of'],tournament['draw_size'],\n",
    "                    p1['player_id'],p1['ioc'],p1['last_rank'],p1['age'],p1['hand'],p1['height'],\n",
    "                    p1['win_loss_ratio_last_10'],p1['win_loss_ratio_start'],p1['win_perc'],p1['win_perc_last_10'],\n",
    "                    p2['player_id'],p2['ioc'],p2['last_rank'],p2['age'],p2['hand'],p2['height'],\n",
    "                    p2['win_loss_ratio_last_10'],p2['win_loss_ratio_start'],p2['win_perc'],p2['win_perc_last_10']\n",
    "                    ]\n",
    "\n",
    "\n",
    "    input_match = pd.DataFrame([list_input],columns=all_feats)\n",
    "\n",
    "    input_match['p1_hand'] = input_match['p1_hand'].map(hand_map).fillna(-1)\n",
    "    input_match['p2_hand'] = input_match['p2_hand'].map(hand_map).fillna(-1)\n",
    "    input_match['surface'] = input_match['surface'].map(surface_map).fillna(-1)\n",
    "    input_match['p1_ioc'] = input_match['p1_ioc'].map(countries_map).fillna(-1)\n",
    "    input_match['p2_ioc'] = input_match['p2_ioc'].map(countries_map).fillna(-1)\n",
    "    input_match['result'] = 0 \n",
    "    \n",
    "    model_to_predict = pd.concat([model_date,input_match])\n",
    "\n",
    "    model_to_predict = model_to_predict\n",
    "    model_to_predict = model_to_predict.set_index('id')\n",
    "\n",
    "    model_to_predict['time_since'] = (datetime.now() - pd.to_datetime(model_to_predict['tourney_date'],format='%Y-%m-%d')).dt.days\n",
    "\n",
    "    cond_1 = model_to_predict['p1_id']==p1['player_id']\n",
    "    cond_2 = model_to_predict['p2_id']==p2['player_id']\n",
    "\n",
    "    cond_3 = model_to_predict['p1_id']==p2['player_id']\n",
    "    cond_4 = model_to_predict['p2_id']==p1['player_id']\n",
    "\n",
    "    model_to_predict['h2h'] = np.where((cond_1)&(cond_2),1,\n",
    "                                np.where((cond_3)&(cond_4),1,0))\n",
    "    \n",
    "    return model_to_predict\n",
    "\n",
    "def scale_model(model):\n",
    "    new_dataset = model.copy()\n",
    "    new_dataset = new_dataset.drop(columns=['tourney_date'])\n",
    "\n",
    "    # encoding using one hot encoder\n",
    "    cols_ohe = ['surface']\n",
    "    one_hot_encoded_data = pd.get_dummies(new_dataset[cols_ohe], columns = cols_ohe) \n",
    "    one_hot_encoded_data = one_hot_encoded_data.astype(int)\n",
    "\n",
    "    cols_le = ['tourney_name']\n",
    "    le = LabelEncoder()\n",
    "    tourn_encoded = le.fit_transform(new_dataset['tourney_name'])\n",
    "    new_dataset['tourney_name'] = tourn_encoded\n",
    "\n",
    "    ini = new_dataset.shape[0]\n",
    "    new_dataset = new_dataset.dropna()\n",
    "    fim = new_dataset.shape[0]\n",
    "    # print(f'Dropped: {fim-ini}|{(fim-ini)/ini:.2%}')\n",
    "\n",
    "    result = new_dataset['result'].copy()\n",
    "    new_dataset = new_dataset.drop(columns=['result'])\n",
    "    new_dataset = new_dataset.drop(columns=cols_ohe)\n",
    "    # new_dataset = new_dataset.drop(columns=cols_le)\n",
    "\n",
    "    cols_to_scale = new_dataset.columns\n",
    "\n",
    "    scl = StandardScaler()\n",
    "    matches_scaled = scl.fit_transform(new_dataset)\n",
    "\n",
    "\n",
    "    df_scaled = pd.DataFrame(matches_scaled,columns=cols_to_scale,index=new_dataset.index)\n",
    "\n",
    "    model_scaled = pd.concat([result,one_hot_encoded_data,df_scaled],axis=1)\n",
    "\n",
    "    ini = model_scaled.shape[0]\n",
    "    model_scaled = model_scaled.dropna()\n",
    "    fim = model_scaled.shape[0]\n",
    "    \n",
    "    return model_scaled\n",
    "\n",
    "\n",
    "def main_model(model,name_a,name_b,tournament_name,tournament_date,round_level,df_rankings,kpis,tourns_dict):\n",
    "    pa = players_dict[name_a]\n",
    "    pb = players_dict[name_b]\n",
    "\n",
    "    tournament = tourns_dict[tournament_name]\n",
    "    tournament['tourney_date'] = tournament_date\n",
    "    tournament['round_level'] = round_level\n",
    "    tournament['tourney_name'] = tournament_name\n",
    "\n",
    "    rankings_date = df_rankings[df_rankings['ranking_date']<=tournament_date].copy()\n",
    "\n",
    "    last_rank_date = rankings_date.groupby(['player'])['ranking_date'].max().reset_index()\n",
    "    last_rank = rankings_date.merge(last_rank_date,on=['player','ranking_date'],how='inner')\n",
    "\n",
    "    pa['last_rank'] = last_rank[last_rank['player']==pa['player_id']]['rank'].iloc[0]\n",
    "    pb['last_rank'] = last_rank[last_rank['player']==pb['player_id']]['rank'].iloc[0]\n",
    "\n",
    "    if pa['last_rank']<pb['last_rank']:\n",
    "        p1 = pa\n",
    "        p2 = pb\n",
    "    else:\n",
    "        p2 = pa\n",
    "        p1 = pb\n",
    "\n",
    "    p1['age'] = int((tournament_date-p1['dob']).days)//365\n",
    "    p2['age'] = int((tournament_date-p2['dob']).days)//365\n",
    "\n",
    "    p1_kpis = kpis[kpis['player_id']==p1['player_id']].sort_values(by='match_id')\n",
    "    p1_kpis = p1_kpis.iloc[-1][['win_loss_ratio_start','win_loss_ratio_last_10','win_perc','win_perc_last_10']]\n",
    "    p1.update(p1_kpis.to_dict())\n",
    "\n",
    "    p2_kpis = kpis[kpis['player_id']==p2['player_id']].sort_values(by='match_id')\n",
    "    p2_kpis = p2_kpis.iloc[-1][['win_loss_ratio_start','win_loss_ratio_last_10','win_perc','win_perc_last_10']]\n",
    "    p2.update(p2_kpis.to_dict())\n",
    "\n",
    "    model_to_predict = prep_model(model,p1,p2,tournament)\n",
    "    model_scaled = scale_model(model_to_predict)\n",
    "\n",
    "    return p1,p2,model_to_predict, model_scaled"
   ]
  },
  {
   "cell_type": "code",
   "execution_count": 572,
   "metadata": {},
   "outputs": [],
   "source": [
    "## PLOTTING INFO\n",
    "\n",
    "import plotly.express as px\n",
    "\n",
    "def rank_evol(df_rankings,p1,p2,n_years=None):\n",
    "    ranks = df_rankings[df_rankings['player'].isin([p1['player_id'],p2['player_id']])]\n",
    "\n",
    "    if n_years == None:\n",
    "        first_date = ranks.groupby(['player'])['ranking_date'].min().max()\n",
    "    else:\n",
    "        start_date = ranks.groupby(['player'])['ranking_date'].max().min()\n",
    "        first_date = pd.to_datetime(start_date) - pd.DateOffset(years=n_years)\n",
    "        first_date = str(first_date)\n",
    "\n",
    "    ranks = ranks[ranks['ranking_date']>=first_date]\n",
    "    ranks = ranks.sort_values(by='ranking_date')\n",
    "\n",
    "    names = {p1['player_id']:p1['name'],p2['player_id']:p2['name']}\n",
    "\n",
    "    ranks['player_name'] = ranks['player'].map(names)\n",
    "\n",
    "    color_player_map = {p1['name']:'seagreen',p2['name']:'tomato'}\n",
    "\n",
    "    plot = px.line(data_frame=ranks,x='ranking_date',y='rank',color='player_name',title='Rank Evolution',color_discrete_map=color_player_map)\n",
    "    plot.update_traces(mode=\"markers+lines\", hovertemplate=None)\n",
    "    plot.update_layout(hovermode=\"x\")\n",
    "    plot.update_yaxes(autorange=\"reversed\")\n",
    "    \n",
    "    return plot\n",
    "\n",
    "\n",
    "def win_loss_ratio(kpis,p1,p2,period='wl_start',n_years=None):\n",
    "    kpis_players = kpis[kpis['player_id'].isin([p1['player_id'],p2['player_id']])]\n",
    "\n",
    "    if n_years == None:\n",
    "        first_date = kpis_players.groupby(['player_id'])['match_date'].min().max()\n",
    "    else:\n",
    "        start_date = kpis_players.groupby(['player_id'])['match_date'].max().min()\n",
    "        first_date = pd.to_datetime(start_date) - pd.DateOffset(years=n_years)\n",
    "        first_date = str(first_date)\n",
    "\n",
    "    kpis_players = kpis_players[kpis_players['match_date']>=first_date]\n",
    "    kpis_players = kpis_players.sort_values(by='match_date')\n",
    "\n",
    "    names = {p1['player_id']:p1['name'],p2['player_id']:p2['name']}\n",
    "\n",
    "    if period =='wl_start':\n",
    "        kpi_to_use = 'win_loss_ratio_start'\n",
    "        title_name = 'W/L Ratio Start'\n",
    "    elif period == 'wl_last_10':\n",
    "        kpi_to_use = 'win_loss_ratio_last_10'\n",
    "        title_name = 'W/L Ratio Last 10 Matches'\n",
    "    elif period == 'perc_start':\n",
    "        kpi_to_use = 'win_perc'\n",
    "        title_name = 'Win % Start'\n",
    "    elif period == 'perc_last_10':\n",
    "        kpi_to_use = 'win_perc_last_10'\n",
    "        title_name = 'Win % Last 10 Matches'\n",
    "\n",
    "    kpis_players['player_name'] = kpis_players['player_id'].map(names)\n",
    "\n",
    "    color_player_map = {p1['name']:'seagreen',p2['name']:'tomato'}\n",
    "\n",
    "    plot = px.line(data_frame=kpis_players,x='match_date',y=kpi_to_use,color='player_name',title=title_name,color_discrete_map=color_player_map)\n",
    "    plot.update_traces(mode=\"markers+lines\", hovertemplate=None)\n",
    "    plot.update_layout(hovermode=\"x\")\n",
    "    \n",
    "    return plot\n",
    "\n",
    "\n",
    "def tournament_performance(player,matches,n_years=None):\n",
    "    matches_p = matches[(matches['winner_id']==player['player_id'])|(matches['loser_id']==player['player_id'])]\n",
    "    matches_p['win'] = np.where(matches_p['winner_id']==player['player_id'],1,0)\n",
    "\n",
    "    if n_years != None:\n",
    "        first_date = pd.to_datetime(matches['tourney_date'].max()) - pd.DateOffset(years=n_years)\n",
    "        first_date = str(first_date)\n",
    "        matches_p = matches_p[matches_p['tourney_date']>=first_date]\n",
    "\n",
    "    matches_p['tourney_year'] = matches_p['tourney_date'].dt.year\n",
    "    idx = matches_p.groupby(['tourney_year','tourney_name','tourney_points','surface'])['round_level'].idxmin()\n",
    "    last_rounds = matches_p.loc[idx].sort_values(by='tourney_date')\n",
    "\n",
    "    zz = {v: k for k, v in round_map.items()}\n",
    "    last_rounds['round'] = last_rounds['round_level'].map(zz)\n",
    "\n",
    "    last_rounds['last_round'] = np.where((last_rounds['round_level']==0)&(last_rounds['win']==1),'🏆Winner',last_rounds['round'])\n",
    "    last_rounds['last_round'] = np.where((last_rounds['round_level']==0)&(last_rounds['win']!=1),'🥈Runner-Up',last_rounds['last_round'])\n",
    "\n",
    "\n",
    "    last_rounds['round_level'] = 7 - last_rounds['round_level']\n",
    "    last_rounds['tourney_date'] = last_rounds['tourney_date'].dt.date\n",
    "\n",
    "    z = {v: k for k, v in surface_map.items()}\n",
    "    last_rounds['surface'] = last_rounds['surface'].map(z)\n",
    "\n",
    "    color_mapping = {'Clay':'#FFA15A','Grass':'#00CC96','Hard':'#636EFA','Carpet':'#AB63FA'}\n",
    "\n",
    "    plot = px.bar(data_frame=last_rounds,x='tourney_date',y='round_level',color='surface',\n",
    "                    title=f\"Tournament Performance for {player['name']}\",text='last_round',\\\n",
    "                    hover_data={'tourney_name':True,'tourney_points':True},color_discrete_map=color_mapping)\n",
    "\n",
    "    plot.update_xaxes(type='category')\n",
    "    plot.update_xaxes(categoryorder='category ascending') \n",
    "    plot.add_hline(y=7, line_width=3, line_dash=\"dash\", line_color=\"gold\")\n",
    "    \n",
    "    return plot,matches_p\n",
    "\n",
    "\n",
    "def get_final_result(p1,p2,result,probability,feat_importance,plot_show=True):\n",
    "    p1_rank = p1['last_rank']\n",
    "    p2_rank = p2['last_rank']\n",
    "\n",
    "    if result[0] == 1:\n",
    "        # ganhou quem tem ranking mais alto\n",
    "        if p1_rank < p2_rank:\n",
    "            winner = p1\n",
    "        else:\n",
    "            winner = p2\n",
    "    else:\n",
    "        # ganhou quem tem ranking mais baixo\n",
    "        if p1_rank < p2_rank:\n",
    "            winner = p2\n",
    "        else:\n",
    "            winner = p1\n",
    "\n",
    "    winner_name = winner['name']\n",
    "    if winner == p1:\n",
    "        loser_name = p2['name']\n",
    "    else:\n",
    "        loser_name = p1['name']\n",
    "\n",
    "\n",
    "    probability_result = probability[int(result[0])]\n",
    "\n",
    "    text = f'WINNER: {winner_name} | LOSER: {loser_name} | Probability: {probability_result:.2%}!'\n",
    "    print(text)\n",
    "\n",
    "    if plot_show==True:\n",
    "\n",
    "        # Create a bar plot of the feature importances\n",
    "        vals = list(feat_importance.values())[0:10]\n",
    "        features = list(feat_importance.keys())[0:10]\n",
    "\n",
    "        z = px.bar(x=vals,y=features,text=vals,title=\"Feature Importances\",text_auto=\".1%\")\n",
    "    \n",
    "\n",
    "        a,matches_p1 = tournament_performance(p1,matches,2)\n",
    "        b,matches_p2 = tournament_performance(p2,matches,2)\n",
    "        c = win_loss_ratio(kpis,p1,p2,'wl_start',2)\n",
    "        d = win_loss_ratio(kpis,p1,p2,'wl_last_10',2)\n",
    "        e = win_loss_ratio(kpis,p1,p2,'perc_start',2)\n",
    "        f = win_loss_ratio(kpis,p1,p2,'perc_last_10',2)\n",
    "        g = rank_evol(df_rankings,p1,p2,2)\n",
    "\n",
    "        graphs = []\n",
    "        graphs = [z,a,b,c,d,e,f,g]\n",
    "\n",
    "        for p in graphs:\n",
    "            p.show()\n",
    "\n",
    "    return winner_name,loser_name,probability_result"
   ]
  },
  {
   "cell_type": "markdown",
   "metadata": {},
   "source": [
    "# Predicting Model"
   ]
  },
  {
   "cell_type": "code",
   "execution_count": 574,
   "metadata": {},
   "outputs": [
    {
     "data": {
      "text/html": [
       "<div>\n",
       "<style scoped>\n",
       "    .dataframe tbody tr th:only-of-type {\n",
       "        vertical-align: middle;\n",
       "    }\n",
       "\n",
       "    .dataframe tbody tr th {\n",
       "        vertical-align: top;\n",
       "    }\n",
       "\n",
       "    .dataframe thead th {\n",
       "        text-align: right;\n",
       "    }\n",
       "</style>\n",
       "<table border=\"1\" class=\"dataframe\">\n",
       "  <thead>\n",
       "    <tr style=\"text-align: right;\">\n",
       "      <th></th>\n",
       "      <th>ranking_date</th>\n",
       "      <th>rank</th>\n",
       "      <th>player</th>\n",
       "      <th>points</th>\n",
       "      <th>id_x</th>\n",
       "      <th>player_id</th>\n",
       "      <th>name_first</th>\n",
       "      <th>name_last</th>\n",
       "      <th>hand</th>\n",
       "      <th>dob</th>\n",
       "      <th>ioc</th>\n",
       "      <th>height</th>\n",
       "      <th>wikidata_id</th>\n",
       "      <th>id_y</th>\n",
       "      <th>name</th>\n",
       "    </tr>\n",
       "  </thead>\n",
       "  <tbody>\n",
       "    <tr>\n",
       "      <th>0</th>\n",
       "      <td>2023-12-25</td>\n",
       "      <td>1</td>\n",
       "      <td>104925</td>\n",
       "      <td>11245.0</td>\n",
       "      <td>1246507</td>\n",
       "      <td>104925</td>\n",
       "      <td>Novak</td>\n",
       "      <td>Djokovic</td>\n",
       "      <td>R</td>\n",
       "      <td>1987-05-22</td>\n",
       "      <td>SRB</td>\n",
       "      <td>188.0</td>\n",
       "      <td>Q5812</td>\n",
       "      <td>4919</td>\n",
       "      <td>Novak Djokovic</td>\n",
       "    </tr>\n",
       "    <tr>\n",
       "      <th>1</th>\n",
       "      <td>2023-12-25</td>\n",
       "      <td>2</td>\n",
       "      <td>207989</td>\n",
       "      <td>8855.0</td>\n",
       "      <td>1246508</td>\n",
       "      <td>207989</td>\n",
       "      <td>Carlos</td>\n",
       "      <td>Alcaraz</td>\n",
       "      <td>R</td>\n",
       "      <td>2003-05-05</td>\n",
       "      <td>ESP</td>\n",
       "      <td>185.0</td>\n",
       "      <td>Q85518537</td>\n",
       "      <td>60092</td>\n",
       "      <td>Carlos Alcaraz</td>\n",
       "    </tr>\n",
       "    <tr>\n",
       "      <th>2</th>\n",
       "      <td>2023-12-25</td>\n",
       "      <td>3</td>\n",
       "      <td>106421</td>\n",
       "      <td>7600.0</td>\n",
       "      <td>1246509</td>\n",
       "      <td>106421</td>\n",
       "      <td>Daniil</td>\n",
       "      <td>Medvedev</td>\n",
       "      <td>R</td>\n",
       "      <td>1996-02-11</td>\n",
       "      <td>RUS</td>\n",
       "      <td>198.0</td>\n",
       "      <td>Q21622022</td>\n",
       "      <td>6406</td>\n",
       "      <td>Daniil Medvedev</td>\n",
       "    </tr>\n",
       "    <tr>\n",
       "      <th>3</th>\n",
       "      <td>2023-12-25</td>\n",
       "      <td>4</td>\n",
       "      <td>206173</td>\n",
       "      <td>6490.0</td>\n",
       "      <td>1246510</td>\n",
       "      <td>206173</td>\n",
       "      <td>Jannik</td>\n",
       "      <td>Sinner</td>\n",
       "      <td>R</td>\n",
       "      <td>2001-08-16</td>\n",
       "      <td>ITA</td>\n",
       "      <td>188.0</td>\n",
       "      <td>Q54812588</td>\n",
       "      <td>58276</td>\n",
       "      <td>Jannik Sinner</td>\n",
       "    </tr>\n",
       "    <tr>\n",
       "      <th>4</th>\n",
       "      <td>2023-12-25</td>\n",
       "      <td>5</td>\n",
       "      <td>126094</td>\n",
       "      <td>4805.0</td>\n",
       "      <td>1246511</td>\n",
       "      <td>126094</td>\n",
       "      <td>Andrey</td>\n",
       "      <td>Rublev</td>\n",
       "      <td>R</td>\n",
       "      <td>1997-10-20</td>\n",
       "      <td>RUS</td>\n",
       "      <td>188.0</td>\n",
       "      <td>Q17373391</td>\n",
       "      <td>26078</td>\n",
       "      <td>Andrey Rublev</td>\n",
       "    </tr>\n",
       "    <tr>\n",
       "      <th>5</th>\n",
       "      <td>2023-12-25</td>\n",
       "      <td>6</td>\n",
       "      <td>126774</td>\n",
       "      <td>4235.0</td>\n",
       "      <td>1246512</td>\n",
       "      <td>126774</td>\n",
       "      <td>Stefanos</td>\n",
       "      <td>Tsitsipas</td>\n",
       "      <td>R</td>\n",
       "      <td>1998-08-12</td>\n",
       "      <td>GRE</td>\n",
       "      <td>193.0</td>\n",
       "      <td>Q24450982</td>\n",
       "      <td>26758</td>\n",
       "      <td>Stefanos Tsitsipas</td>\n",
       "    </tr>\n",
       "    <tr>\n",
       "      <th>6</th>\n",
       "      <td>2023-12-25</td>\n",
       "      <td>7</td>\n",
       "      <td>100644</td>\n",
       "      <td>3985.0</td>\n",
       "      <td>1246513</td>\n",
       "      <td>100644</td>\n",
       "      <td>Alexander</td>\n",
       "      <td>Zverev</td>\n",
       "      <td>R</td>\n",
       "      <td>1997-04-20</td>\n",
       "      <td>GER</td>\n",
       "      <td>198.0</td>\n",
       "      <td>Q13990552</td>\n",
       "      <td>643</td>\n",
       "      <td>Alexander Zverev</td>\n",
       "    </tr>\n",
       "    <tr>\n",
       "      <th>7</th>\n",
       "      <td>2023-12-25</td>\n",
       "      <td>8</td>\n",
       "      <td>208029</td>\n",
       "      <td>3660.0</td>\n",
       "      <td>1246514</td>\n",
       "      <td>208029</td>\n",
       "      <td>Holger</td>\n",
       "      <td>Rune</td>\n",
       "      <td>R</td>\n",
       "      <td>2003-04-29</td>\n",
       "      <td>DEN</td>\n",
       "      <td>185.0</td>\n",
       "      <td>None</td>\n",
       "      <td>60132</td>\n",
       "      <td>Holger Rune</td>\n",
       "    </tr>\n",
       "    <tr>\n",
       "      <th>8</th>\n",
       "      <td>2023-12-25</td>\n",
       "      <td>9</td>\n",
       "      <td>128034</td>\n",
       "      <td>3245.0</td>\n",
       "      <td>1246515</td>\n",
       "      <td>128034</td>\n",
       "      <td>Hubert</td>\n",
       "      <td>Hurkacz</td>\n",
       "      <td>R</td>\n",
       "      <td>1997-02-11</td>\n",
       "      <td>POL</td>\n",
       "      <td>196.0</td>\n",
       "      <td>Q18927958</td>\n",
       "      <td>28018</td>\n",
       "      <td>Hubert Hurkacz</td>\n",
       "    </tr>\n",
       "    <tr>\n",
       "      <th>9</th>\n",
       "      <td>2023-12-25</td>\n",
       "      <td>10</td>\n",
       "      <td>126203</td>\n",
       "      <td>3100.0</td>\n",
       "      <td>1246516</td>\n",
       "      <td>126203</td>\n",
       "      <td>Taylor</td>\n",
       "      <td>Fritz</td>\n",
       "      <td>R</td>\n",
       "      <td>1997-10-28</td>\n",
       "      <td>USA</td>\n",
       "      <td>193.0</td>\n",
       "      <td>Q17660516</td>\n",
       "      <td>26187</td>\n",
       "      <td>Taylor Fritz</td>\n",
       "    </tr>\n",
       "    <tr>\n",
       "      <th>10</th>\n",
       "      <td>2023-12-25</td>\n",
       "      <td>11</td>\n",
       "      <td>134770</td>\n",
       "      <td>2825.0</td>\n",
       "      <td>1246517</td>\n",
       "      <td>134770</td>\n",
       "      <td>Casper</td>\n",
       "      <td>Ruud</td>\n",
       "      <td>R</td>\n",
       "      <td>1998-12-22</td>\n",
       "      <td>NOR</td>\n",
       "      <td>183.0</td>\n",
       "      <td>Q18810082</td>\n",
       "      <td>34754</td>\n",
       "      <td>Casper Ruud</td>\n",
       "    </tr>\n",
       "    <tr>\n",
       "      <th>11</th>\n",
       "      <td>2023-12-25</td>\n",
       "      <td>12</td>\n",
       "      <td>200282</td>\n",
       "      <td>2740.0</td>\n",
       "      <td>1246518</td>\n",
       "      <td>200282</td>\n",
       "      <td>Alex</td>\n",
       "      <td>De Minaur</td>\n",
       "      <td>R</td>\n",
       "      <td>1999-02-17</td>\n",
       "      <td>AUS</td>\n",
       "      <td>183.0</td>\n",
       "      <td>Q22958938</td>\n",
       "      <td>52385</td>\n",
       "      <td>Alex De Minaur</td>\n",
       "    </tr>\n",
       "    <tr>\n",
       "      <th>12</th>\n",
       "      <td>2023-12-25</td>\n",
       "      <td>13</td>\n",
       "      <td>126205</td>\n",
       "      <td>2665.0</td>\n",
       "      <td>1246519</td>\n",
       "      <td>126205</td>\n",
       "      <td>Tommy</td>\n",
       "      <td>Paul</td>\n",
       "      <td>R</td>\n",
       "      <td>1997-05-17</td>\n",
       "      <td>USA</td>\n",
       "      <td>185.0</td>\n",
       "      <td>Q20050871</td>\n",
       "      <td>26189</td>\n",
       "      <td>Tommy Paul</td>\n",
       "    </tr>\n",
       "    <tr>\n",
       "      <th>13</th>\n",
       "      <td>2023-12-25</td>\n",
       "      <td>14</td>\n",
       "      <td>105777</td>\n",
       "      <td>2570.0</td>\n",
       "      <td>1246520</td>\n",
       "      <td>105777</td>\n",
       "      <td>Grigor</td>\n",
       "      <td>Dimitrov</td>\n",
       "      <td>R</td>\n",
       "      <td>1991-05-16</td>\n",
       "      <td>BUL</td>\n",
       "      <td>188.0</td>\n",
       "      <td>Q337681</td>\n",
       "      <td>5762</td>\n",
       "      <td>Grigor Dimitrov</td>\n",
       "    </tr>\n",
       "    <tr>\n",
       "      <th>14</th>\n",
       "      <td>2023-12-25</td>\n",
       "      <td>15</td>\n",
       "      <td>111575</td>\n",
       "      <td>2520.0</td>\n",
       "      <td>1246521</td>\n",
       "      <td>111575</td>\n",
       "      <td>Karen</td>\n",
       "      <td>Khachanov</td>\n",
       "      <td>R</td>\n",
       "      <td>1996-05-21</td>\n",
       "      <td>RUS</td>\n",
       "      <td>198.0</td>\n",
       "      <td>Q16568576</td>\n",
       "      <td>11559</td>\n",
       "      <td>Karen Khachanov</td>\n",
       "    </tr>\n",
       "    <tr>\n",
       "      <th>15</th>\n",
       "      <td>2023-12-25</td>\n",
       "      <td>16</td>\n",
       "      <td>126207</td>\n",
       "      <td>2310.0</td>\n",
       "      <td>1246522</td>\n",
       "      <td>126207</td>\n",
       "      <td>Frances</td>\n",
       "      <td>Tiafoe</td>\n",
       "      <td>R</td>\n",
       "      <td>1998-01-20</td>\n",
       "      <td>USA</td>\n",
       "      <td>188.0</td>\n",
       "      <td>Q17305299</td>\n",
       "      <td>26191</td>\n",
       "      <td>Frances Tiafoe</td>\n",
       "    </tr>\n",
       "    <tr>\n",
       "      <th>16</th>\n",
       "      <td>2023-12-25</td>\n",
       "      <td>17</td>\n",
       "      <td>210097</td>\n",
       "      <td>2145.0</td>\n",
       "      <td>1246523</td>\n",
       "      <td>210097</td>\n",
       "      <td>Ben</td>\n",
       "      <td>Shelton</td>\n",
       "      <td>L</td>\n",
       "      <td>2002-10-09</td>\n",
       "      <td>USA</td>\n",
       "      <td>NaN</td>\n",
       "      <td>Q108532383</td>\n",
       "      <td>62200</td>\n",
       "      <td>Ben Shelton</td>\n",
       "    </tr>\n",
       "    <tr>\n",
       "      <th>17</th>\n",
       "      <td>2023-12-25</td>\n",
       "      <td>18</td>\n",
       "      <td>111815</td>\n",
       "      <td>1940.0</td>\n",
       "      <td>1246524</td>\n",
       "      <td>111815</td>\n",
       "      <td>Cameron</td>\n",
       "      <td>Norrie</td>\n",
       "      <td>L</td>\n",
       "      <td>1995-08-23</td>\n",
       "      <td>GBR</td>\n",
       "      <td>188.0</td>\n",
       "      <td>Q23668736</td>\n",
       "      <td>11799</td>\n",
       "      <td>Cameron Norrie</td>\n",
       "    </tr>\n",
       "    <tr>\n",
       "      <th>18</th>\n",
       "      <td>2023-12-25</td>\n",
       "      <td>19</td>\n",
       "      <td>111797</td>\n",
       "      <td>1810.0</td>\n",
       "      <td>1246525</td>\n",
       "      <td>111797</td>\n",
       "      <td>Nicolas</td>\n",
       "      <td>Jarry</td>\n",
       "      <td>R</td>\n",
       "      <td>1995-10-11</td>\n",
       "      <td>CHI</td>\n",
       "      <td>198.0</td>\n",
       "      <td>Q16466282</td>\n",
       "      <td>11781</td>\n",
       "      <td>Nicolas Jarry</td>\n",
       "    </tr>\n",
       "    <tr>\n",
       "      <th>19</th>\n",
       "      <td>2023-12-25</td>\n",
       "      <td>20</td>\n",
       "      <td>200005</td>\n",
       "      <td>1765.0</td>\n",
       "      <td>1246526</td>\n",
       "      <td>200005</td>\n",
       "      <td>Ugo</td>\n",
       "      <td>Humbert</td>\n",
       "      <td>L</td>\n",
       "      <td>1998-06-26</td>\n",
       "      <td>FRA</td>\n",
       "      <td>188.0</td>\n",
       "      <td>Q54007306</td>\n",
       "      <td>52108</td>\n",
       "      <td>Ugo Humbert</td>\n",
       "    </tr>\n",
       "    <tr>\n",
       "      <th>20</th>\n",
       "      <td>2023-12-25</td>\n",
       "      <td>21</td>\n",
       "      <td>202103</td>\n",
       "      <td>1760.0</td>\n",
       "      <td>1246527</td>\n",
       "      <td>202103</td>\n",
       "      <td>Francisco</td>\n",
       "      <td>Cerundolo</td>\n",
       "      <td>R</td>\n",
       "      <td>1998-08-13</td>\n",
       "      <td>ARG</td>\n",
       "      <td>185.0</td>\n",
       "      <td>Q61709770</td>\n",
       "      <td>54206</td>\n",
       "      <td>Francisco Cerundolo</td>\n",
       "    </tr>\n",
       "    <tr>\n",
       "      <th>21</th>\n",
       "      <td>2023-12-25</td>\n",
       "      <td>22</td>\n",
       "      <td>105173</td>\n",
       "      <td>1755.0</td>\n",
       "      <td>1246528</td>\n",
       "      <td>105173</td>\n",
       "      <td>Adrian</td>\n",
       "      <td>Mannarino</td>\n",
       "      <td>L</td>\n",
       "      <td>1988-06-29</td>\n",
       "      <td>FRA</td>\n",
       "      <td>183.0</td>\n",
       "      <td>Q373522</td>\n",
       "      <td>5165</td>\n",
       "      <td>Adrian Mannarino</td>\n",
       "    </tr>\n",
       "    <tr>\n",
       "      <th>22</th>\n",
       "      <td>2023-12-25</td>\n",
       "      <td>23</td>\n",
       "      <td>134868</td>\n",
       "      <td>1640.0</td>\n",
       "      <td>1246529</td>\n",
       "      <td>134868</td>\n",
       "      <td>Tallon</td>\n",
       "      <td>Griekspoor</td>\n",
       "      <td>R</td>\n",
       "      <td>1996-07-02</td>\n",
       "      <td>NED</td>\n",
       "      <td>188.0</td>\n",
       "      <td>Q28777443</td>\n",
       "      <td>34852</td>\n",
       "      <td>Tallon Griekspoor</td>\n",
       "    </tr>\n",
       "    <tr>\n",
       "      <th>23</th>\n",
       "      <td>2023-12-25</td>\n",
       "      <td>24</td>\n",
       "      <td>200624</td>\n",
       "      <td>1530.0</td>\n",
       "      <td>1246530</td>\n",
       "      <td>200624</td>\n",
       "      <td>Sebastian</td>\n",
       "      <td>Korda</td>\n",
       "      <td>R</td>\n",
       "      <td>2000-07-05</td>\n",
       "      <td>USA</td>\n",
       "      <td>196.0</td>\n",
       "      <td>Q47500285</td>\n",
       "      <td>52727</td>\n",
       "      <td>Sebastian Korda</td>\n",
       "    </tr>\n",
       "    <tr>\n",
       "      <th>24</th>\n",
       "      <td>2023-12-25</td>\n",
       "      <td>25</td>\n",
       "      <td>105526</td>\n",
       "      <td>1522.0</td>\n",
       "      <td>1246531</td>\n",
       "      <td>105526</td>\n",
       "      <td>Jan Lennard</td>\n",
       "      <td>Struff</td>\n",
       "      <td>R</td>\n",
       "      <td>1990-04-25</td>\n",
       "      <td>GER</td>\n",
       "      <td>193.0</td>\n",
       "      <td>Q1681537</td>\n",
       "      <td>5514</td>\n",
       "      <td>Jan Lennard Struff</td>\n",
       "    </tr>\n",
       "    <tr>\n",
       "      <th>25</th>\n",
       "      <td>2023-12-25</td>\n",
       "      <td>26</td>\n",
       "      <td>200221</td>\n",
       "      <td>1495.0</td>\n",
       "      <td>1246532</td>\n",
       "      <td>200221</td>\n",
       "      <td>Alejandro</td>\n",
       "      <td>Davidovich Fokina</td>\n",
       "      <td>R</td>\n",
       "      <td>1999-06-05</td>\n",
       "      <td>ESP</td>\n",
       "      <td>183.0</td>\n",
       "      <td>Q33084529</td>\n",
       "      <td>52324</td>\n",
       "      <td>Alejandro Davidovich Fokina</td>\n",
       "    </tr>\n",
       "    <tr>\n",
       "      <th>26</th>\n",
       "      <td>2023-12-25</td>\n",
       "      <td>27</td>\n",
       "      <td>207518</td>\n",
       "      <td>1470.0</td>\n",
       "      <td>1246533</td>\n",
       "      <td>207518</td>\n",
       "      <td>Lorenzo</td>\n",
       "      <td>Musetti</td>\n",
       "      <td>R</td>\n",
       "      <td>2002-03-03</td>\n",
       "      <td>ITA</td>\n",
       "      <td>185.0</td>\n",
       "      <td>Q54813043</td>\n",
       "      <td>59621</td>\n",
       "      <td>Lorenzo Musetti</td>\n",
       "    </tr>\n",
       "    <tr>\n",
       "      <th>27</th>\n",
       "      <td>2023-12-25</td>\n",
       "      <td>28</td>\n",
       "      <td>202104</td>\n",
       "      <td>1435.0</td>\n",
       "      <td>1246534</td>\n",
       "      <td>202104</td>\n",
       "      <td>Sebastian</td>\n",
       "      <td>Baez</td>\n",
       "      <td>R</td>\n",
       "      <td>2000-12-28</td>\n",
       "      <td>ARG</td>\n",
       "      <td>170.0</td>\n",
       "      <td>Q47396310</td>\n",
       "      <td>54207</td>\n",
       "      <td>Sebastian Baez</td>\n",
       "    </tr>\n",
       "    <tr>\n",
       "      <th>28</th>\n",
       "      <td>2023-12-25</td>\n",
       "      <td>29</td>\n",
       "      <td>200000</td>\n",
       "      <td>1425.0</td>\n",
       "      <td>1246535</td>\n",
       "      <td>200000</td>\n",
       "      <td>Felix</td>\n",
       "      <td>Auger Aliassime</td>\n",
       "      <td>R</td>\n",
       "      <td>2000-08-08</td>\n",
       "      <td>CAN</td>\n",
       "      <td>193.0</td>\n",
       "      <td>Q20752045</td>\n",
       "      <td>52103</td>\n",
       "      <td>Felix Auger Aliassime</td>\n",
       "    </tr>\n",
       "    <tr>\n",
       "      <th>29</th>\n",
       "      <td>2023-12-25</td>\n",
       "      <td>30</td>\n",
       "      <td>144869</td>\n",
       "      <td>1375.0</td>\n",
       "      <td>1246536</td>\n",
       "      <td>144869</td>\n",
       "      <td>Tomas Martin</td>\n",
       "      <td>Etcheverry</td>\n",
       "      <td>R</td>\n",
       "      <td>1999-07-18</td>\n",
       "      <td>ARG</td>\n",
       "      <td>196.0</td>\n",
       "      <td>Q104728520</td>\n",
       "      <td>44852</td>\n",
       "      <td>Tomas Martin Etcheverry</td>\n",
       "    </tr>\n",
       "    <tr>\n",
       "      <th>30</th>\n",
       "      <td>2023-12-25</td>\n",
       "      <td>31</td>\n",
       "      <td>208103</td>\n",
       "      <td>1372.0</td>\n",
       "      <td>1246537</td>\n",
       "      <td>208103</td>\n",
       "      <td>Jiri</td>\n",
       "      <td>Lehecka</td>\n",
       "      <td>R</td>\n",
       "      <td>2001-11-08</td>\n",
       "      <td>CZE</td>\n",
       "      <td>185.0</td>\n",
       "      <td>Q61415365</td>\n",
       "      <td>60206</td>\n",
       "      <td>Jiri Lehecka</td>\n",
       "    </tr>\n",
       "    <tr>\n",
       "      <th>31</th>\n",
       "      <td>2023-12-25</td>\n",
       "      <td>32</td>\n",
       "      <td>122330</td>\n",
       "      <td>1369.0</td>\n",
       "      <td>1246538</td>\n",
       "      <td>122330</td>\n",
       "      <td>Alexander</td>\n",
       "      <td>Bublik</td>\n",
       "      <td>R</td>\n",
       "      <td>1997-06-17</td>\n",
       "      <td>KAZ</td>\n",
       "      <td>196.0</td>\n",
       "      <td>Q23678983</td>\n",
       "      <td>22314</td>\n",
       "      <td>Alexander Bublik</td>\n",
       "    </tr>\n",
       "    <tr>\n",
       "      <th>32</th>\n",
       "      <td>2023-12-25</td>\n",
       "      <td>33</td>\n",
       "      <td>111513</td>\n",
       "      <td>1285.0</td>\n",
       "      <td>1246539</td>\n",
       "      <td>111513</td>\n",
       "      <td>Laslo</td>\n",
       "      <td>Djere</td>\n",
       "      <td>R</td>\n",
       "      <td>1995-06-02</td>\n",
       "      <td>SRB</td>\n",
       "      <td>188.0</td>\n",
       "      <td>Q18098061</td>\n",
       "      <td>11497</td>\n",
       "      <td>Laslo Djere</td>\n",
       "    </tr>\n",
       "    <tr>\n",
       "      <th>33</th>\n",
       "      <td>2023-12-25</td>\n",
       "      <td>34</td>\n",
       "      <td>111153</td>\n",
       "      <td>1235.0</td>\n",
       "      <td>1246540</td>\n",
       "      <td>111153</td>\n",
       "      <td>Christopher</td>\n",
       "      <td>Eubanks</td>\n",
       "      <td>R</td>\n",
       "      <td>1996-05-05</td>\n",
       "      <td>USA</td>\n",
       "      <td>201.0</td>\n",
       "      <td>Q24817523</td>\n",
       "      <td>11138</td>\n",
       "      <td>Christopher Eubanks</td>\n",
       "    </tr>\n",
       "    <tr>\n",
       "      <th>34</th>\n",
       "      <td>2023-12-25</td>\n",
       "      <td>35</td>\n",
       "      <td>106234</td>\n",
       "      <td>1193.0</td>\n",
       "      <td>1246541</td>\n",
       "      <td>106234</td>\n",
       "      <td>Aslan</td>\n",
       "      <td>Karatsev</td>\n",
       "      <td>R</td>\n",
       "      <td>1993-09-04</td>\n",
       "      <td>RUS</td>\n",
       "      <td>185.0</td>\n",
       "      <td>Q18546813</td>\n",
       "      <td>6219</td>\n",
       "      <td>Aslan Karatsev</td>\n",
       "    </tr>\n",
       "    <tr>\n",
       "      <th>35</th>\n",
       "      <td>2023-12-25</td>\n",
       "      <td>36</td>\n",
       "      <td>209950</td>\n",
       "      <td>1158.0</td>\n",
       "      <td>1246542</td>\n",
       "      <td>209950</td>\n",
       "      <td>Arthur</td>\n",
       "      <td>Fils</td>\n",
       "      <td>R</td>\n",
       "      <td>2004-06-12</td>\n",
       "      <td>FRA</td>\n",
       "      <td>185.0</td>\n",
       "      <td>Q107207693</td>\n",
       "      <td>62053</td>\n",
       "      <td>Arthur Fils</td>\n",
       "    </tr>\n",
       "    <tr>\n",
       "      <th>36</th>\n",
       "      <td>2023-12-25</td>\n",
       "      <td>37</td>\n",
       "      <td>106432</td>\n",
       "      <td>1135.0</td>\n",
       "      <td>1246543</td>\n",
       "      <td>106432</td>\n",
       "      <td>Borna</td>\n",
       "      <td>Coric</td>\n",
       "      <td>R</td>\n",
       "      <td>1996-11-14</td>\n",
       "      <td>CRO</td>\n",
       "      <td>188.0</td>\n",
       "      <td>Q14905846</td>\n",
       "      <td>6417</td>\n",
       "      <td>Borna Coric</td>\n",
       "    </tr>\n",
       "    <tr>\n",
       "      <th>37</th>\n",
       "      <td>2023-12-25</td>\n",
       "      <td>38</td>\n",
       "      <td>105554</td>\n",
       "      <td>1131.0</td>\n",
       "      <td>1246544</td>\n",
       "      <td>105554</td>\n",
       "      <td>Daniel</td>\n",
       "      <td>Evans</td>\n",
       "      <td>R</td>\n",
       "      <td>1990-05-23</td>\n",
       "      <td>GBR</td>\n",
       "      <td>175.0</td>\n",
       "      <td>Q4847264</td>\n",
       "      <td>5542</td>\n",
       "      <td>Daniel Evans</td>\n",
       "    </tr>\n",
       "    <tr>\n",
       "      <th>38</th>\n",
       "      <td>2023-12-25</td>\n",
       "      <td>39</td>\n",
       "      <td>126128</td>\n",
       "      <td>1122.0</td>\n",
       "      <td>1246545</td>\n",
       "      <td>126128</td>\n",
       "      <td>Roman</td>\n",
       "      <td>Safiullin</td>\n",
       "      <td>R</td>\n",
       "      <td>1997-08-07</td>\n",
       "      <td>RUS</td>\n",
       "      <td>185.0</td>\n",
       "      <td>Q18637944</td>\n",
       "      <td>26112</td>\n",
       "      <td>Roman Safiullin</td>\n",
       "    </tr>\n",
       "    <tr>\n",
       "      <th>39</th>\n",
       "      <td>2023-12-25</td>\n",
       "      <td>40</td>\n",
       "      <td>200615</td>\n",
       "      <td>1084.0</td>\n",
       "      <td>1246546</td>\n",
       "      <td>200615</td>\n",
       "      <td>Alexei</td>\n",
       "      <td>Popyrin</td>\n",
       "      <td>R</td>\n",
       "      <td>1999-08-05</td>\n",
       "      <td>AUS</td>\n",
       "      <td>196.0</td>\n",
       "      <td>Q30143529</td>\n",
       "      <td>52718</td>\n",
       "      <td>Alexei Popyrin</td>\n",
       "    </tr>\n",
       "    <tr>\n",
       "      <th>40</th>\n",
       "      <td>2023-12-25</td>\n",
       "      <td>41</td>\n",
       "      <td>111456</td>\n",
       "      <td>1055.0</td>\n",
       "      <td>1246547</td>\n",
       "      <td>111456</td>\n",
       "      <td>Mackenzie</td>\n",
       "      <td>Mcdonald</td>\n",
       "      <td>R</td>\n",
       "      <td>1995-04-16</td>\n",
       "      <td>USA</td>\n",
       "      <td>178.0</td>\n",
       "      <td>Q14657983</td>\n",
       "      <td>11440</td>\n",
       "      <td>Mackenzie Mcdonald</td>\n",
       "    </tr>\n",
       "    <tr>\n",
       "      <th>41</th>\n",
       "      <td>2023-12-25</td>\n",
       "      <td>42</td>\n",
       "      <td>104918</td>\n",
       "      <td>1050.0</td>\n",
       "      <td>1246548</td>\n",
       "      <td>104918</td>\n",
       "      <td>Andy</td>\n",
       "      <td>Murray</td>\n",
       "      <td>R</td>\n",
       "      <td>1987-05-15</td>\n",
       "      <td>GBR</td>\n",
       "      <td>190.0</td>\n",
       "      <td>Q10125</td>\n",
       "      <td>4912</td>\n",
       "      <td>Andy Murray</td>\n",
       "    </tr>\n",
       "    <tr>\n",
       "      <th>42</th>\n",
       "      <td>2023-12-25</td>\n",
       "      <td>43</td>\n",
       "      <td>124116</td>\n",
       "      <td>1048.0</td>\n",
       "      <td>1246549</td>\n",
       "      <td>124116</td>\n",
       "      <td>Sebastian</td>\n",
       "      <td>Ofner</td>\n",
       "      <td>R</td>\n",
       "      <td>1996-05-12</td>\n",
       "      <td>AUT</td>\n",
       "      <td>191.0</td>\n",
       "      <td>Q31171456</td>\n",
       "      <td>24100</td>\n",
       "      <td>Sebastian Ofner</td>\n",
       "    </tr>\n",
       "    <tr>\n",
       "      <th>43</th>\n",
       "      <td>2023-12-25</td>\n",
       "      <td>44</td>\n",
       "      <td>208286</td>\n",
       "      <td>1021.0</td>\n",
       "      <td>1246550</td>\n",
       "      <td>208286</td>\n",
       "      <td>Matteo</td>\n",
       "      <td>Arnaldi</td>\n",
       "      <td>R</td>\n",
       "      <td>2001-02-22</td>\n",
       "      <td>ITA</td>\n",
       "      <td>183.0</td>\n",
       "      <td>None</td>\n",
       "      <td>60389</td>\n",
       "      <td>Matteo Arnaldi</td>\n",
       "    </tr>\n",
       "    <tr>\n",
       "      <th>44</th>\n",
       "      <td>2023-12-25</td>\n",
       "      <td>45</td>\n",
       "      <td>126845</td>\n",
       "      <td>1012.0</td>\n",
       "      <td>1246551</td>\n",
       "      <td>126845</td>\n",
       "      <td>Max</td>\n",
       "      <td>Purcell</td>\n",
       "      <td>R</td>\n",
       "      <td>1998-04-03</td>\n",
       "      <td>AUS</td>\n",
       "      <td>185.0</td>\n",
       "      <td>Q26130049</td>\n",
       "      <td>26829</td>\n",
       "      <td>Max Purcell</td>\n",
       "    </tr>\n",
       "    <tr>\n",
       "      <th>45</th>\n",
       "      <td>2023-12-25</td>\n",
       "      <td>46</td>\n",
       "      <td>132283</td>\n",
       "      <td>990.0</td>\n",
       "      <td>1246552</td>\n",
       "      <td>132283</td>\n",
       "      <td>Lorenzo</td>\n",
       "      <td>Sonego</td>\n",
       "      <td>R</td>\n",
       "      <td>1995-05-11</td>\n",
       "      <td>ITA</td>\n",
       "      <td>191.0</td>\n",
       "      <td>Q24061220</td>\n",
       "      <td>32267</td>\n",
       "      <td>Lorenzo Sonego</td>\n",
       "    </tr>\n",
       "    <tr>\n",
       "      <th>46</th>\n",
       "      <td>2023-12-25</td>\n",
       "      <td>47</td>\n",
       "      <td>106415</td>\n",
       "      <td>955.0</td>\n",
       "      <td>1246553</td>\n",
       "      <td>106415</td>\n",
       "      <td>Yoshihito</td>\n",
       "      <td>Nishioka</td>\n",
       "      <td>L</td>\n",
       "      <td>1995-09-27</td>\n",
       "      <td>JPN</td>\n",
       "      <td>170.0</td>\n",
       "      <td>Q16735453</td>\n",
       "      <td>6400</td>\n",
       "      <td>Yoshihito Nishioka</td>\n",
       "    </tr>\n",
       "    <tr>\n",
       "      <th>47</th>\n",
       "      <td>2023-12-25</td>\n",
       "      <td>48</td>\n",
       "      <td>207686</td>\n",
       "      <td>947.0</td>\n",
       "      <td>1246554</td>\n",
       "      <td>207686</td>\n",
       "      <td>Alexander</td>\n",
       "      <td>Shevchenko</td>\n",
       "      <td>R</td>\n",
       "      <td>2000-11-29</td>\n",
       "      <td>RUS</td>\n",
       "      <td>NaN</td>\n",
       "      <td>None</td>\n",
       "      <td>59789</td>\n",
       "      <td>Alexander Shevchenko</td>\n",
       "    </tr>\n",
       "    <tr>\n",
       "      <th>48</th>\n",
       "      <td>2023-12-25</td>\n",
       "      <td>49</td>\n",
       "      <td>104527</td>\n",
       "      <td>942.0</td>\n",
       "      <td>1246555</td>\n",
       "      <td>104527</td>\n",
       "      <td>Stan</td>\n",
       "      <td>Wawrinka</td>\n",
       "      <td>R</td>\n",
       "      <td>1985-03-28</td>\n",
       "      <td>SUI</td>\n",
       "      <td>183.0</td>\n",
       "      <td>Q193661</td>\n",
       "      <td>4525</td>\n",
       "      <td>Stan Wawrinka</td>\n",
       "    </tr>\n",
       "    <tr>\n",
       "      <th>49</th>\n",
       "      <td>2023-12-25</td>\n",
       "      <td>50</td>\n",
       "      <td>122298</td>\n",
       "      <td>930.0</td>\n",
       "      <td>1246556</td>\n",
       "      <td>122298</td>\n",
       "      <td>Botic</td>\n",
       "      <td>Van De Zandschulp</td>\n",
       "      <td>R</td>\n",
       "      <td>1995-10-04</td>\n",
       "      <td>NED</td>\n",
       "      <td>188.0</td>\n",
       "      <td>Q28038578</td>\n",
       "      <td>22282</td>\n",
       "      <td>Botic Van De Zandschulp</td>\n",
       "    </tr>\n",
       "  </tbody>\n",
       "</table>\n",
       "</div>"
      ],
      "text/plain": [
       "   ranking_date  rank  player   points     id_x  player_id    name_first  \\\n",
       "0    2023-12-25     1  104925  11245.0  1246507     104925         Novak   \n",
       "1    2023-12-25     2  207989   8855.0  1246508     207989        Carlos   \n",
       "2    2023-12-25     3  106421   7600.0  1246509     106421        Daniil   \n",
       "3    2023-12-25     4  206173   6490.0  1246510     206173        Jannik   \n",
       "4    2023-12-25     5  126094   4805.0  1246511     126094        Andrey   \n",
       "5    2023-12-25     6  126774   4235.0  1246512     126774      Stefanos   \n",
       "6    2023-12-25     7  100644   3985.0  1246513     100644     Alexander   \n",
       "7    2023-12-25     8  208029   3660.0  1246514     208029        Holger   \n",
       "8    2023-12-25     9  128034   3245.0  1246515     128034        Hubert   \n",
       "9    2023-12-25    10  126203   3100.0  1246516     126203        Taylor   \n",
       "10   2023-12-25    11  134770   2825.0  1246517     134770        Casper   \n",
       "11   2023-12-25    12  200282   2740.0  1246518     200282          Alex   \n",
       "12   2023-12-25    13  126205   2665.0  1246519     126205         Tommy   \n",
       "13   2023-12-25    14  105777   2570.0  1246520     105777        Grigor   \n",
       "14   2023-12-25    15  111575   2520.0  1246521     111575         Karen   \n",
       "15   2023-12-25    16  126207   2310.0  1246522     126207       Frances   \n",
       "16   2023-12-25    17  210097   2145.0  1246523     210097           Ben   \n",
       "17   2023-12-25    18  111815   1940.0  1246524     111815       Cameron   \n",
       "18   2023-12-25    19  111797   1810.0  1246525     111797       Nicolas   \n",
       "19   2023-12-25    20  200005   1765.0  1246526     200005           Ugo   \n",
       "20   2023-12-25    21  202103   1760.0  1246527     202103     Francisco   \n",
       "21   2023-12-25    22  105173   1755.0  1246528     105173        Adrian   \n",
       "22   2023-12-25    23  134868   1640.0  1246529     134868        Tallon   \n",
       "23   2023-12-25    24  200624   1530.0  1246530     200624     Sebastian   \n",
       "24   2023-12-25    25  105526   1522.0  1246531     105526   Jan Lennard   \n",
       "25   2023-12-25    26  200221   1495.0  1246532     200221     Alejandro   \n",
       "26   2023-12-25    27  207518   1470.0  1246533     207518       Lorenzo   \n",
       "27   2023-12-25    28  202104   1435.0  1246534     202104     Sebastian   \n",
       "28   2023-12-25    29  200000   1425.0  1246535     200000         Felix   \n",
       "29   2023-12-25    30  144869   1375.0  1246536     144869  Tomas Martin   \n",
       "30   2023-12-25    31  208103   1372.0  1246537     208103          Jiri   \n",
       "31   2023-12-25    32  122330   1369.0  1246538     122330     Alexander   \n",
       "32   2023-12-25    33  111513   1285.0  1246539     111513         Laslo   \n",
       "33   2023-12-25    34  111153   1235.0  1246540     111153   Christopher   \n",
       "34   2023-12-25    35  106234   1193.0  1246541     106234         Aslan   \n",
       "35   2023-12-25    36  209950   1158.0  1246542     209950        Arthur   \n",
       "36   2023-12-25    37  106432   1135.0  1246543     106432         Borna   \n",
       "37   2023-12-25    38  105554   1131.0  1246544     105554        Daniel   \n",
       "38   2023-12-25    39  126128   1122.0  1246545     126128         Roman   \n",
       "39   2023-12-25    40  200615   1084.0  1246546     200615        Alexei   \n",
       "40   2023-12-25    41  111456   1055.0  1246547     111456     Mackenzie   \n",
       "41   2023-12-25    42  104918   1050.0  1246548     104918          Andy   \n",
       "42   2023-12-25    43  124116   1048.0  1246549     124116     Sebastian   \n",
       "43   2023-12-25    44  208286   1021.0  1246550     208286        Matteo   \n",
       "44   2023-12-25    45  126845   1012.0  1246551     126845           Max   \n",
       "45   2023-12-25    46  132283    990.0  1246552     132283       Lorenzo   \n",
       "46   2023-12-25    47  106415    955.0  1246553     106415     Yoshihito   \n",
       "47   2023-12-25    48  207686    947.0  1246554     207686     Alexander   \n",
       "48   2023-12-25    49  104527    942.0  1246555     104527          Stan   \n",
       "49   2023-12-25    50  122298    930.0  1246556     122298         Botic   \n",
       "\n",
       "            name_last hand        dob  ioc  height wikidata_id   id_y  \\\n",
       "0            Djokovic    R 1987-05-22  SRB   188.0       Q5812   4919   \n",
       "1             Alcaraz    R 2003-05-05  ESP   185.0   Q85518537  60092   \n",
       "2            Medvedev    R 1996-02-11  RUS   198.0   Q21622022   6406   \n",
       "3              Sinner    R 2001-08-16  ITA   188.0   Q54812588  58276   \n",
       "4              Rublev    R 1997-10-20  RUS   188.0   Q17373391  26078   \n",
       "5           Tsitsipas    R 1998-08-12  GRE   193.0   Q24450982  26758   \n",
       "6              Zverev    R 1997-04-20  GER   198.0   Q13990552    643   \n",
       "7                Rune    R 2003-04-29  DEN   185.0        None  60132   \n",
       "8             Hurkacz    R 1997-02-11  POL   196.0   Q18927958  28018   \n",
       "9               Fritz    R 1997-10-28  USA   193.0   Q17660516  26187   \n",
       "10               Ruud    R 1998-12-22  NOR   183.0   Q18810082  34754   \n",
       "11          De Minaur    R 1999-02-17  AUS   183.0   Q22958938  52385   \n",
       "12               Paul    R 1997-05-17  USA   185.0   Q20050871  26189   \n",
       "13           Dimitrov    R 1991-05-16  BUL   188.0     Q337681   5762   \n",
       "14          Khachanov    R 1996-05-21  RUS   198.0   Q16568576  11559   \n",
       "15             Tiafoe    R 1998-01-20  USA   188.0   Q17305299  26191   \n",
       "16            Shelton    L 2002-10-09  USA     NaN  Q108532383  62200   \n",
       "17             Norrie    L 1995-08-23  GBR   188.0   Q23668736  11799   \n",
       "18              Jarry    R 1995-10-11  CHI   198.0   Q16466282  11781   \n",
       "19            Humbert    L 1998-06-26  FRA   188.0   Q54007306  52108   \n",
       "20          Cerundolo    R 1998-08-13  ARG   185.0   Q61709770  54206   \n",
       "21          Mannarino    L 1988-06-29  FRA   183.0     Q373522   5165   \n",
       "22         Griekspoor    R 1996-07-02  NED   188.0   Q28777443  34852   \n",
       "23              Korda    R 2000-07-05  USA   196.0   Q47500285  52727   \n",
       "24             Struff    R 1990-04-25  GER   193.0    Q1681537   5514   \n",
       "25  Davidovich Fokina    R 1999-06-05  ESP   183.0   Q33084529  52324   \n",
       "26            Musetti    R 2002-03-03  ITA   185.0   Q54813043  59621   \n",
       "27               Baez    R 2000-12-28  ARG   170.0   Q47396310  54207   \n",
       "28    Auger Aliassime    R 2000-08-08  CAN   193.0   Q20752045  52103   \n",
       "29         Etcheverry    R 1999-07-18  ARG   196.0  Q104728520  44852   \n",
       "30            Lehecka    R 2001-11-08  CZE   185.0   Q61415365  60206   \n",
       "31             Bublik    R 1997-06-17  KAZ   196.0   Q23678983  22314   \n",
       "32              Djere    R 1995-06-02  SRB   188.0   Q18098061  11497   \n",
       "33            Eubanks    R 1996-05-05  USA   201.0   Q24817523  11138   \n",
       "34           Karatsev    R 1993-09-04  RUS   185.0   Q18546813   6219   \n",
       "35               Fils    R 2004-06-12  FRA   185.0  Q107207693  62053   \n",
       "36              Coric    R 1996-11-14  CRO   188.0   Q14905846   6417   \n",
       "37              Evans    R 1990-05-23  GBR   175.0    Q4847264   5542   \n",
       "38          Safiullin    R 1997-08-07  RUS   185.0   Q18637944  26112   \n",
       "39            Popyrin    R 1999-08-05  AUS   196.0   Q30143529  52718   \n",
       "40           Mcdonald    R 1995-04-16  USA   178.0   Q14657983  11440   \n",
       "41             Murray    R 1987-05-15  GBR   190.0      Q10125   4912   \n",
       "42              Ofner    R 1996-05-12  AUT   191.0   Q31171456  24100   \n",
       "43            Arnaldi    R 2001-02-22  ITA   183.0        None  60389   \n",
       "44            Purcell    R 1998-04-03  AUS   185.0   Q26130049  26829   \n",
       "45             Sonego    R 1995-05-11  ITA   191.0   Q24061220  32267   \n",
       "46           Nishioka    L 1995-09-27  JPN   170.0   Q16735453   6400   \n",
       "47         Shevchenko    R 2000-11-29  RUS     NaN        None  59789   \n",
       "48           Wawrinka    R 1985-03-28  SUI   183.0     Q193661   4525   \n",
       "49  Van De Zandschulp    R 1995-10-04  NED   188.0   Q28038578  22282   \n",
       "\n",
       "                           name  \n",
       "0                Novak Djokovic  \n",
       "1                Carlos Alcaraz  \n",
       "2               Daniil Medvedev  \n",
       "3                 Jannik Sinner  \n",
       "4                 Andrey Rublev  \n",
       "5            Stefanos Tsitsipas  \n",
       "6              Alexander Zverev  \n",
       "7                   Holger Rune  \n",
       "8                Hubert Hurkacz  \n",
       "9                  Taylor Fritz  \n",
       "10                  Casper Ruud  \n",
       "11               Alex De Minaur  \n",
       "12                   Tommy Paul  \n",
       "13              Grigor Dimitrov  \n",
       "14              Karen Khachanov  \n",
       "15               Frances Tiafoe  \n",
       "16                  Ben Shelton  \n",
       "17               Cameron Norrie  \n",
       "18                Nicolas Jarry  \n",
       "19                  Ugo Humbert  \n",
       "20          Francisco Cerundolo  \n",
       "21             Adrian Mannarino  \n",
       "22            Tallon Griekspoor  \n",
       "23              Sebastian Korda  \n",
       "24           Jan Lennard Struff  \n",
       "25  Alejandro Davidovich Fokina  \n",
       "26              Lorenzo Musetti  \n",
       "27               Sebastian Baez  \n",
       "28        Felix Auger Aliassime  \n",
       "29      Tomas Martin Etcheverry  \n",
       "30                 Jiri Lehecka  \n",
       "31             Alexander Bublik  \n",
       "32                  Laslo Djere  \n",
       "33          Christopher Eubanks  \n",
       "34               Aslan Karatsev  \n",
       "35                  Arthur Fils  \n",
       "36                  Borna Coric  \n",
       "37                 Daniel Evans  \n",
       "38              Roman Safiullin  \n",
       "39               Alexei Popyrin  \n",
       "40           Mackenzie Mcdonald  \n",
       "41                  Andy Murray  \n",
       "42              Sebastian Ofner  \n",
       "43               Matteo Arnaldi  \n",
       "44                  Max Purcell  \n",
       "45               Lorenzo Sonego  \n",
       "46           Yoshihito Nishioka  \n",
       "47         Alexander Shevchenko  \n",
       "48                Stan Wawrinka  \n",
       "49      Botic Van De Zandschulp  "
      ]
     },
     "execution_count": 574,
     "metadata": {},
     "output_type": "execute_result"
    }
   ],
   "source": [
    "get_last_ranking = df_rankings[df_rankings['ranking_date']==df_rankings['ranking_date'].max()]\n",
    "get_top_50 = get_last_ranking[get_last_ranking['rank']<=50]\n",
    "get_top_50 = get_top_50.merge(df_players,left_on='player',right_on='player_id')\n",
    "get_top_50"
   ]
  },
  {
   "cell_type": "markdown",
   "metadata": {},
   "source": [
    "### Define Inputs Here!!!"
   ]
  },
  {
   "cell_type": "code",
   "execution_count": 575,
   "metadata": {},
   "outputs": [],
   "source": [
    "# Define inputs\n",
    "name_a = 'Carlos Alcaraz'\n",
    "name_b = 'Felix Auger Aliassime'\n",
    "tournament_name = 'Roland Garros'\n",
    "tournament_date = pd.to_datetime('2024-04-05',format='%Y-%m-%d')\n",
    "round_level = 0"
   ]
  },
  {
   "cell_type": "code",
   "execution_count": 576,
   "metadata": {},
   "outputs": [
    {
     "name": "stdout",
     "output_type": "stream",
     "text": [
      "Data model and features ready\n",
      "WINNER: Felix Auger Aliassime | LOSER: Carlos Alcaraz | Probability: 54.54%!\n"
     ]
    },
    {
     "data": {
      "application/vnd.plotly.v1+json": {
       "config": {
        "plotlyServerURL": "https://plot.ly"
       },
       "data": [
        {
         "alignmentgroup": "True",
         "hovertemplate": "x=%{x}<br>y=%{y}<br>text=%{text}<extra></extra>",
         "legendgroup": "",
         "marker": {
          "color": "#636efa",
          "pattern": {
           "shape": ""
          }
         },
         "name": "",
         "offsetgroup": "",
         "orientation": "h",
         "showlegend": false,
         "text": [
          0.24150092178638163,
          0.21980609705629633,
          0.18119749363115248,
          0.1782274926338742,
          0.042134338296015844,
          0.03740107134150498,
          0.03156973562088712,
          0.03061868294353725,
          0.026098053341459773,
          0.00509190540587617
         ],
         "textposition": "auto",
         "texttemplate": "%{x:.1%}",
         "type": "bar",
         "x": [
          0.24150092178638163,
          0.21980609705629633,
          0.18119749363115248,
          0.1782274926338742,
          0.042134338296015844,
          0.03740107134150498,
          0.03156973562088712,
          0.03061868294353725,
          0.026098053341459773,
          0.00509190540587617
         ],
         "xaxis": "x",
         "y": [
          "p1_win_perc",
          "p1_win_loss_ratio_start",
          "p2_win_perc",
          "p2_win_loss_ratio_start",
          "p1_ioc",
          "p1_win_perc_last_10",
          "p2_win_loss_ratio_last_10",
          "p1_win_loss_ratio_last_10",
          "p2_rank",
          "p2_ioc"
         ],
         "yaxis": "y"
        }
       ],
       "layout": {
        "barmode": "relative",
        "legend": {
         "tracegroupgap": 0
        },
        "template": {
         "data": {
          "bar": [
           {
            "error_x": {
             "color": "#2a3f5f"
            },
            "error_y": {
             "color": "#2a3f5f"
            },
            "marker": {
             "line": {
              "color": "#E5ECF6",
              "width": 0.5
             },
             "pattern": {
              "fillmode": "overlay",
              "size": 10,
              "solidity": 0.2
             }
            },
            "type": "bar"
           }
          ],
          "barpolar": [
           {
            "marker": {
             "line": {
              "color": "#E5ECF6",
              "width": 0.5
             },
             "pattern": {
              "fillmode": "overlay",
              "size": 10,
              "solidity": 0.2
             }
            },
            "type": "barpolar"
           }
          ],
          "carpet": [
           {
            "aaxis": {
             "endlinecolor": "#2a3f5f",
             "gridcolor": "white",
             "linecolor": "white",
             "minorgridcolor": "white",
             "startlinecolor": "#2a3f5f"
            },
            "baxis": {
             "endlinecolor": "#2a3f5f",
             "gridcolor": "white",
             "linecolor": "white",
             "minorgridcolor": "white",
             "startlinecolor": "#2a3f5f"
            },
            "type": "carpet"
           }
          ],
          "choropleth": [
           {
            "colorbar": {
             "outlinewidth": 0,
             "ticks": ""
            },
            "type": "choropleth"
           }
          ],
          "contour": [
           {
            "colorbar": {
             "outlinewidth": 0,
             "ticks": ""
            },
            "colorscale": [
             [
              0,
              "#0d0887"
             ],
             [
              0.1111111111111111,
              "#46039f"
             ],
             [
              0.2222222222222222,
              "#7201a8"
             ],
             [
              0.3333333333333333,
              "#9c179e"
             ],
             [
              0.4444444444444444,
              "#bd3786"
             ],
             [
              0.5555555555555556,
              "#d8576b"
             ],
             [
              0.6666666666666666,
              "#ed7953"
             ],
             [
              0.7777777777777778,
              "#fb9f3a"
             ],
             [
              0.8888888888888888,
              "#fdca26"
             ],
             [
              1,
              "#f0f921"
             ]
            ],
            "type": "contour"
           }
          ],
          "contourcarpet": [
           {
            "colorbar": {
             "outlinewidth": 0,
             "ticks": ""
            },
            "type": "contourcarpet"
           }
          ],
          "heatmap": [
           {
            "colorbar": {
             "outlinewidth": 0,
             "ticks": ""
            },
            "colorscale": [
             [
              0,
              "#0d0887"
             ],
             [
              0.1111111111111111,
              "#46039f"
             ],
             [
              0.2222222222222222,
              "#7201a8"
             ],
             [
              0.3333333333333333,
              "#9c179e"
             ],
             [
              0.4444444444444444,
              "#bd3786"
             ],
             [
              0.5555555555555556,
              "#d8576b"
             ],
             [
              0.6666666666666666,
              "#ed7953"
             ],
             [
              0.7777777777777778,
              "#fb9f3a"
             ],
             [
              0.8888888888888888,
              "#fdca26"
             ],
             [
              1,
              "#f0f921"
             ]
            ],
            "type": "heatmap"
           }
          ],
          "heatmapgl": [
           {
            "colorbar": {
             "outlinewidth": 0,
             "ticks": ""
            },
            "colorscale": [
             [
              0,
              "#0d0887"
             ],
             [
              0.1111111111111111,
              "#46039f"
             ],
             [
              0.2222222222222222,
              "#7201a8"
             ],
             [
              0.3333333333333333,
              "#9c179e"
             ],
             [
              0.4444444444444444,
              "#bd3786"
             ],
             [
              0.5555555555555556,
              "#d8576b"
             ],
             [
              0.6666666666666666,
              "#ed7953"
             ],
             [
              0.7777777777777778,
              "#fb9f3a"
             ],
             [
              0.8888888888888888,
              "#fdca26"
             ],
             [
              1,
              "#f0f921"
             ]
            ],
            "type": "heatmapgl"
           }
          ],
          "histogram": [
           {
            "marker": {
             "pattern": {
              "fillmode": "overlay",
              "size": 10,
              "solidity": 0.2
             }
            },
            "type": "histogram"
           }
          ],
          "histogram2d": [
           {
            "colorbar": {
             "outlinewidth": 0,
             "ticks": ""
            },
            "colorscale": [
             [
              0,
              "#0d0887"
             ],
             [
              0.1111111111111111,
              "#46039f"
             ],
             [
              0.2222222222222222,
              "#7201a8"
             ],
             [
              0.3333333333333333,
              "#9c179e"
             ],
             [
              0.4444444444444444,
              "#bd3786"
             ],
             [
              0.5555555555555556,
              "#d8576b"
             ],
             [
              0.6666666666666666,
              "#ed7953"
             ],
             [
              0.7777777777777778,
              "#fb9f3a"
             ],
             [
              0.8888888888888888,
              "#fdca26"
             ],
             [
              1,
              "#f0f921"
             ]
            ],
            "type": "histogram2d"
           }
          ],
          "histogram2dcontour": [
           {
            "colorbar": {
             "outlinewidth": 0,
             "ticks": ""
            },
            "colorscale": [
             [
              0,
              "#0d0887"
             ],
             [
              0.1111111111111111,
              "#46039f"
             ],
             [
              0.2222222222222222,
              "#7201a8"
             ],
             [
              0.3333333333333333,
              "#9c179e"
             ],
             [
              0.4444444444444444,
              "#bd3786"
             ],
             [
              0.5555555555555556,
              "#d8576b"
             ],
             [
              0.6666666666666666,
              "#ed7953"
             ],
             [
              0.7777777777777778,
              "#fb9f3a"
             ],
             [
              0.8888888888888888,
              "#fdca26"
             ],
             [
              1,
              "#f0f921"
             ]
            ],
            "type": "histogram2dcontour"
           }
          ],
          "mesh3d": [
           {
            "colorbar": {
             "outlinewidth": 0,
             "ticks": ""
            },
            "type": "mesh3d"
           }
          ],
          "parcoords": [
           {
            "line": {
             "colorbar": {
              "outlinewidth": 0,
              "ticks": ""
             }
            },
            "type": "parcoords"
           }
          ],
          "pie": [
           {
            "automargin": true,
            "type": "pie"
           }
          ],
          "scatter": [
           {
            "fillpattern": {
             "fillmode": "overlay",
             "size": 10,
             "solidity": 0.2
            },
            "type": "scatter"
           }
          ],
          "scatter3d": [
           {
            "line": {
             "colorbar": {
              "outlinewidth": 0,
              "ticks": ""
             }
            },
            "marker": {
             "colorbar": {
              "outlinewidth": 0,
              "ticks": ""
             }
            },
            "type": "scatter3d"
           }
          ],
          "scattercarpet": [
           {
            "marker": {
             "colorbar": {
              "outlinewidth": 0,
              "ticks": ""
             }
            },
            "type": "scattercarpet"
           }
          ],
          "scattergeo": [
           {
            "marker": {
             "colorbar": {
              "outlinewidth": 0,
              "ticks": ""
             }
            },
            "type": "scattergeo"
           }
          ],
          "scattergl": [
           {
            "marker": {
             "colorbar": {
              "outlinewidth": 0,
              "ticks": ""
             }
            },
            "type": "scattergl"
           }
          ],
          "scattermapbox": [
           {
            "marker": {
             "colorbar": {
              "outlinewidth": 0,
              "ticks": ""
             }
            },
            "type": "scattermapbox"
           }
          ],
          "scatterpolar": [
           {
            "marker": {
             "colorbar": {
              "outlinewidth": 0,
              "ticks": ""
             }
            },
            "type": "scatterpolar"
           }
          ],
          "scatterpolargl": [
           {
            "marker": {
             "colorbar": {
              "outlinewidth": 0,
              "ticks": ""
             }
            },
            "type": "scatterpolargl"
           }
          ],
          "scatterternary": [
           {
            "marker": {
             "colorbar": {
              "outlinewidth": 0,
              "ticks": ""
             }
            },
            "type": "scatterternary"
           }
          ],
          "surface": [
           {
            "colorbar": {
             "outlinewidth": 0,
             "ticks": ""
            },
            "colorscale": [
             [
              0,
              "#0d0887"
             ],
             [
              0.1111111111111111,
              "#46039f"
             ],
             [
              0.2222222222222222,
              "#7201a8"
             ],
             [
              0.3333333333333333,
              "#9c179e"
             ],
             [
              0.4444444444444444,
              "#bd3786"
             ],
             [
              0.5555555555555556,
              "#d8576b"
             ],
             [
              0.6666666666666666,
              "#ed7953"
             ],
             [
              0.7777777777777778,
              "#fb9f3a"
             ],
             [
              0.8888888888888888,
              "#fdca26"
             ],
             [
              1,
              "#f0f921"
             ]
            ],
            "type": "surface"
           }
          ],
          "table": [
           {
            "cells": {
             "fill": {
              "color": "#EBF0F8"
             },
             "line": {
              "color": "white"
             }
            },
            "header": {
             "fill": {
              "color": "#C8D4E3"
             },
             "line": {
              "color": "white"
             }
            },
            "type": "table"
           }
          ]
         },
         "layout": {
          "annotationdefaults": {
           "arrowcolor": "#2a3f5f",
           "arrowhead": 0,
           "arrowwidth": 1
          },
          "autotypenumbers": "strict",
          "coloraxis": {
           "colorbar": {
            "outlinewidth": 0,
            "ticks": ""
           }
          },
          "colorscale": {
           "diverging": [
            [
             0,
             "#8e0152"
            ],
            [
             0.1,
             "#c51b7d"
            ],
            [
             0.2,
             "#de77ae"
            ],
            [
             0.3,
             "#f1b6da"
            ],
            [
             0.4,
             "#fde0ef"
            ],
            [
             0.5,
             "#f7f7f7"
            ],
            [
             0.6,
             "#e6f5d0"
            ],
            [
             0.7,
             "#b8e186"
            ],
            [
             0.8,
             "#7fbc41"
            ],
            [
             0.9,
             "#4d9221"
            ],
            [
             1,
             "#276419"
            ]
           ],
           "sequential": [
            [
             0,
             "#0d0887"
            ],
            [
             0.1111111111111111,
             "#46039f"
            ],
            [
             0.2222222222222222,
             "#7201a8"
            ],
            [
             0.3333333333333333,
             "#9c179e"
            ],
            [
             0.4444444444444444,
             "#bd3786"
            ],
            [
             0.5555555555555556,
             "#d8576b"
            ],
            [
             0.6666666666666666,
             "#ed7953"
            ],
            [
             0.7777777777777778,
             "#fb9f3a"
            ],
            [
             0.8888888888888888,
             "#fdca26"
            ],
            [
             1,
             "#f0f921"
            ]
           ],
           "sequentialminus": [
            [
             0,
             "#0d0887"
            ],
            [
             0.1111111111111111,
             "#46039f"
            ],
            [
             0.2222222222222222,
             "#7201a8"
            ],
            [
             0.3333333333333333,
             "#9c179e"
            ],
            [
             0.4444444444444444,
             "#bd3786"
            ],
            [
             0.5555555555555556,
             "#d8576b"
            ],
            [
             0.6666666666666666,
             "#ed7953"
            ],
            [
             0.7777777777777778,
             "#fb9f3a"
            ],
            [
             0.8888888888888888,
             "#fdca26"
            ],
            [
             1,
             "#f0f921"
            ]
           ]
          },
          "colorway": [
           "#636efa",
           "#EF553B",
           "#00cc96",
           "#ab63fa",
           "#FFA15A",
           "#19d3f3",
           "#FF6692",
           "#B6E880",
           "#FF97FF",
           "#FECB52"
          ],
          "font": {
           "color": "#2a3f5f"
          },
          "geo": {
           "bgcolor": "white",
           "lakecolor": "white",
           "landcolor": "#E5ECF6",
           "showlakes": true,
           "showland": true,
           "subunitcolor": "white"
          },
          "hoverlabel": {
           "align": "left"
          },
          "hovermode": "closest",
          "mapbox": {
           "style": "light"
          },
          "paper_bgcolor": "white",
          "plot_bgcolor": "#E5ECF6",
          "polar": {
           "angularaxis": {
            "gridcolor": "white",
            "linecolor": "white",
            "ticks": ""
           },
           "bgcolor": "#E5ECF6",
           "radialaxis": {
            "gridcolor": "white",
            "linecolor": "white",
            "ticks": ""
           }
          },
          "scene": {
           "xaxis": {
            "backgroundcolor": "#E5ECF6",
            "gridcolor": "white",
            "gridwidth": 2,
            "linecolor": "white",
            "showbackground": true,
            "ticks": "",
            "zerolinecolor": "white"
           },
           "yaxis": {
            "backgroundcolor": "#E5ECF6",
            "gridcolor": "white",
            "gridwidth": 2,
            "linecolor": "white",
            "showbackground": true,
            "ticks": "",
            "zerolinecolor": "white"
           },
           "zaxis": {
            "backgroundcolor": "#E5ECF6",
            "gridcolor": "white",
            "gridwidth": 2,
            "linecolor": "white",
            "showbackground": true,
            "ticks": "",
            "zerolinecolor": "white"
           }
          },
          "shapedefaults": {
           "line": {
            "color": "#2a3f5f"
           }
          },
          "ternary": {
           "aaxis": {
            "gridcolor": "white",
            "linecolor": "white",
            "ticks": ""
           },
           "baxis": {
            "gridcolor": "white",
            "linecolor": "white",
            "ticks": ""
           },
           "bgcolor": "#E5ECF6",
           "caxis": {
            "gridcolor": "white",
            "linecolor": "white",
            "ticks": ""
           }
          },
          "title": {
           "x": 0.05
          },
          "xaxis": {
           "automargin": true,
           "gridcolor": "white",
           "linecolor": "white",
           "ticks": "",
           "title": {
            "standoff": 15
           },
           "zerolinecolor": "white",
           "zerolinewidth": 2
          },
          "yaxis": {
           "automargin": true,
           "gridcolor": "white",
           "linecolor": "white",
           "ticks": "",
           "title": {
            "standoff": 15
           },
           "zerolinecolor": "white",
           "zerolinewidth": 2
          }
         }
        },
        "title": {
         "text": "Feature Importances"
        },
        "xaxis": {
         "anchor": "y",
         "domain": [
          0,
          1
         ],
         "title": {
          "text": "x"
         }
        },
        "yaxis": {
         "anchor": "x",
         "domain": [
          0,
          1
         ],
         "title": {
          "text": "y"
         }
        }
       }
      }
     },
     "metadata": {},
     "output_type": "display_data"
    },
    {
     "data": {
      "application/vnd.plotly.v1+json": {
       "config": {
        "plotlyServerURL": "https://plot.ly"
       },
       "data": [
        {
         "alignmentgroup": "True",
         "customdata": [
          [
           "Australian Open",
           2000
          ],
          [
           "Indian Wells Masters",
           1000
          ],
          [
           "Miami Masters",
           1000
          ],
          [
           "Canada Masters",
           1000
          ],
          [
           "Cincinnati Masters",
           1000
          ],
          [
           "Us Open",
           2000
          ],
          [
           "Astana",
           250
          ],
          [
           "Basel",
           250
          ],
          [
           "Paris Masters",
           1000
          ],
          [
           "Indian Wells Masters",
           1000
          ],
          [
           "Miami Masters",
           1000
          ],
          [
           "Canada Masters",
           1000
          ],
          [
           "Cincinnati Masters",
           1000
          ],
          [
           "Us Open",
           2000
          ],
          [
           "Beijing",
           250
          ],
          [
           "Shanghai Masters",
           1000
          ],
          [
           "Paris Masters",
           1000
          ]
         ],
         "hovertemplate": "surface=Hard<br>tourney_date=%{x}<br>round_level=%{y}<br>last_round=%{text}<br>tourney_name=%{customdata[0]}<br>tourney_points=%{customdata[1]}<extra></extra>",
         "legendgroup": "Hard",
         "marker": {
          "color": "#636EFA",
          "pattern": {
           "shape": ""
          }
         },
         "name": "Hard",
         "offsetgroup": "Hard",
         "orientation": "v",
         "showlegend": true,
         "text": [
          "R32",
          "SF",
          "🏆Winner",
          "R32",
          "QF",
          "🏆Winner",
          "R32",
          "SF",
          "QF",
          "🏆Winner",
          "SF",
          "QF",
          "🥈Runner-Up",
          "SF",
          "SF",
          "R16",
          "R32"
         ],
         "textposition": "auto",
         "type": "bar",
         "x": [
          "2022-01-17",
          "2022-03-07",
          "2022-03-21",
          "2022-08-08",
          "2022-08-15",
          "2022-08-29",
          "2022-10-03",
          "2022-10-24",
          "2022-10-31",
          "2023-03-06",
          "2023-03-20",
          "2023-08-07",
          "2023-08-14",
          "2023-08-28",
          "2023-09-27",
          "2023-10-02",
          "2023-10-30"
         ],
         "xaxis": "x",
         "y": [
          3,
          6,
          7,
          3,
          5,
          7,
          3,
          6,
          5,
          7,
          6,
          5,
          7,
          6,
          6,
          4,
          3
         ],
         "yaxis": "y"
        },
        {
         "alignmentgroup": "True",
         "customdata": [
          [
           "Rio de Janeiro",
           250
          ],
          [
           "Monte Carlo Masters",
           1000
          ],
          [
           "Barcelona",
           250
          ],
          [
           "Madrid Masters",
           1000
          ],
          [
           "Roland Garros",
           2000
          ],
          [
           "Hamburg",
           250
          ],
          [
           "Umag",
           250
          ],
          [
           "Buenos Aires",
           250
          ],
          [
           "Rio De Janeiro",
           250
          ],
          [
           "Barcelona",
           250
          ],
          [
           "Madrid Masters",
           1000
          ],
          [
           "Rome Masters",
           1000
          ],
          [
           "Roland Garros",
           2000
          ]
         ],
         "hovertemplate": "surface=Clay<br>tourney_date=%{x}<br>round_level=%{y}<br>last_round=%{text}<br>tourney_name=%{customdata[0]}<br>tourney_points=%{customdata[1]}<extra></extra>",
         "legendgroup": "Clay",
         "marker": {
          "color": "#FFA15A",
          "pattern": {
           "shape": ""
          }
         },
         "name": "Clay",
         "offsetgroup": "Clay",
         "orientation": "v",
         "showlegend": true,
         "text": [
          "🏆Winner",
          "R32",
          "🏆Winner",
          "🏆Winner",
          "QF",
          "🥈Runner-Up",
          "🥈Runner-Up",
          "🏆Winner",
          "🥈Runner-Up",
          "🏆Winner",
          "🏆Winner",
          "R32",
          "SF"
         ],
         "textposition": "auto",
         "type": "bar",
         "x": [
          "2022-02-14",
          "2022-04-11",
          "2022-04-18",
          "2022-05-02",
          "2022-05-23",
          "2022-07-18",
          "2022-07-25",
          "2023-02-13",
          "2023-02-20",
          "2023-04-17",
          "2023-04-24",
          "2023-05-08",
          "2023-05-29"
         ],
         "xaxis": "x",
         "y": [
          7,
          3,
          7,
          7,
          5,
          7,
          7,
          7,
          7,
          7,
          7,
          3,
          6
         ],
         "yaxis": "y"
        },
        {
         "alignmentgroup": "True",
         "customdata": [
          [
           "Wimbledon",
           2000
          ],
          [
           "Queen's Club",
           250
          ],
          [
           "Wimbledon",
           2000
          ]
         ],
         "hovertemplate": "surface=Grass<br>tourney_date=%{x}<br>round_level=%{y}<br>last_round=%{text}<br>tourney_name=%{customdata[0]}<br>tourney_points=%{customdata[1]}<extra></extra>",
         "legendgroup": "Grass",
         "marker": {
          "color": "#00CC96",
          "pattern": {
           "shape": ""
          }
         },
         "name": "Grass",
         "offsetgroup": "Grass",
         "orientation": "v",
         "showlegend": true,
         "text": [
          "R16",
          "🏆Winner",
          "🏆Winner"
         ],
         "textposition": "auto",
         "type": "bar",
         "x": [
          "2022-06-27",
          "2023-06-19",
          "2023-07-03"
         ],
         "xaxis": "x",
         "y": [
          4,
          7,
          7
         ],
         "yaxis": "y"
        }
       ],
       "layout": {
        "barmode": "relative",
        "legend": {
         "title": {
          "text": "surface"
         },
         "tracegroupgap": 0
        },
        "shapes": [
         {
          "line": {
           "color": "gold",
           "dash": "dash",
           "width": 3
          },
          "type": "line",
          "x0": 0,
          "x1": 1,
          "xref": "x domain",
          "y0": 7,
          "y1": 7,
          "yref": "y"
         }
        ],
        "template": {
         "data": {
          "bar": [
           {
            "error_x": {
             "color": "#2a3f5f"
            },
            "error_y": {
             "color": "#2a3f5f"
            },
            "marker": {
             "line": {
              "color": "#E5ECF6",
              "width": 0.5
             },
             "pattern": {
              "fillmode": "overlay",
              "size": 10,
              "solidity": 0.2
             }
            },
            "type": "bar"
           }
          ],
          "barpolar": [
           {
            "marker": {
             "line": {
              "color": "#E5ECF6",
              "width": 0.5
             },
             "pattern": {
              "fillmode": "overlay",
              "size": 10,
              "solidity": 0.2
             }
            },
            "type": "barpolar"
           }
          ],
          "carpet": [
           {
            "aaxis": {
             "endlinecolor": "#2a3f5f",
             "gridcolor": "white",
             "linecolor": "white",
             "minorgridcolor": "white",
             "startlinecolor": "#2a3f5f"
            },
            "baxis": {
             "endlinecolor": "#2a3f5f",
             "gridcolor": "white",
             "linecolor": "white",
             "minorgridcolor": "white",
             "startlinecolor": "#2a3f5f"
            },
            "type": "carpet"
           }
          ],
          "choropleth": [
           {
            "colorbar": {
             "outlinewidth": 0,
             "ticks": ""
            },
            "type": "choropleth"
           }
          ],
          "contour": [
           {
            "colorbar": {
             "outlinewidth": 0,
             "ticks": ""
            },
            "colorscale": [
             [
              0,
              "#0d0887"
             ],
             [
              0.1111111111111111,
              "#46039f"
             ],
             [
              0.2222222222222222,
              "#7201a8"
             ],
             [
              0.3333333333333333,
              "#9c179e"
             ],
             [
              0.4444444444444444,
              "#bd3786"
             ],
             [
              0.5555555555555556,
              "#d8576b"
             ],
             [
              0.6666666666666666,
              "#ed7953"
             ],
             [
              0.7777777777777778,
              "#fb9f3a"
             ],
             [
              0.8888888888888888,
              "#fdca26"
             ],
             [
              1,
              "#f0f921"
             ]
            ],
            "type": "contour"
           }
          ],
          "contourcarpet": [
           {
            "colorbar": {
             "outlinewidth": 0,
             "ticks": ""
            },
            "type": "contourcarpet"
           }
          ],
          "heatmap": [
           {
            "colorbar": {
             "outlinewidth": 0,
             "ticks": ""
            },
            "colorscale": [
             [
              0,
              "#0d0887"
             ],
             [
              0.1111111111111111,
              "#46039f"
             ],
             [
              0.2222222222222222,
              "#7201a8"
             ],
             [
              0.3333333333333333,
              "#9c179e"
             ],
             [
              0.4444444444444444,
              "#bd3786"
             ],
             [
              0.5555555555555556,
              "#d8576b"
             ],
             [
              0.6666666666666666,
              "#ed7953"
             ],
             [
              0.7777777777777778,
              "#fb9f3a"
             ],
             [
              0.8888888888888888,
              "#fdca26"
             ],
             [
              1,
              "#f0f921"
             ]
            ],
            "type": "heatmap"
           }
          ],
          "heatmapgl": [
           {
            "colorbar": {
             "outlinewidth": 0,
             "ticks": ""
            },
            "colorscale": [
             [
              0,
              "#0d0887"
             ],
             [
              0.1111111111111111,
              "#46039f"
             ],
             [
              0.2222222222222222,
              "#7201a8"
             ],
             [
              0.3333333333333333,
              "#9c179e"
             ],
             [
              0.4444444444444444,
              "#bd3786"
             ],
             [
              0.5555555555555556,
              "#d8576b"
             ],
             [
              0.6666666666666666,
              "#ed7953"
             ],
             [
              0.7777777777777778,
              "#fb9f3a"
             ],
             [
              0.8888888888888888,
              "#fdca26"
             ],
             [
              1,
              "#f0f921"
             ]
            ],
            "type": "heatmapgl"
           }
          ],
          "histogram": [
           {
            "marker": {
             "pattern": {
              "fillmode": "overlay",
              "size": 10,
              "solidity": 0.2
             }
            },
            "type": "histogram"
           }
          ],
          "histogram2d": [
           {
            "colorbar": {
             "outlinewidth": 0,
             "ticks": ""
            },
            "colorscale": [
             [
              0,
              "#0d0887"
             ],
             [
              0.1111111111111111,
              "#46039f"
             ],
             [
              0.2222222222222222,
              "#7201a8"
             ],
             [
              0.3333333333333333,
              "#9c179e"
             ],
             [
              0.4444444444444444,
              "#bd3786"
             ],
             [
              0.5555555555555556,
              "#d8576b"
             ],
             [
              0.6666666666666666,
              "#ed7953"
             ],
             [
              0.7777777777777778,
              "#fb9f3a"
             ],
             [
              0.8888888888888888,
              "#fdca26"
             ],
             [
              1,
              "#f0f921"
             ]
            ],
            "type": "histogram2d"
           }
          ],
          "histogram2dcontour": [
           {
            "colorbar": {
             "outlinewidth": 0,
             "ticks": ""
            },
            "colorscale": [
             [
              0,
              "#0d0887"
             ],
             [
              0.1111111111111111,
              "#46039f"
             ],
             [
              0.2222222222222222,
              "#7201a8"
             ],
             [
              0.3333333333333333,
              "#9c179e"
             ],
             [
              0.4444444444444444,
              "#bd3786"
             ],
             [
              0.5555555555555556,
              "#d8576b"
             ],
             [
              0.6666666666666666,
              "#ed7953"
             ],
             [
              0.7777777777777778,
              "#fb9f3a"
             ],
             [
              0.8888888888888888,
              "#fdca26"
             ],
             [
              1,
              "#f0f921"
             ]
            ],
            "type": "histogram2dcontour"
           }
          ],
          "mesh3d": [
           {
            "colorbar": {
             "outlinewidth": 0,
             "ticks": ""
            },
            "type": "mesh3d"
           }
          ],
          "parcoords": [
           {
            "line": {
             "colorbar": {
              "outlinewidth": 0,
              "ticks": ""
             }
            },
            "type": "parcoords"
           }
          ],
          "pie": [
           {
            "automargin": true,
            "type": "pie"
           }
          ],
          "scatter": [
           {
            "fillpattern": {
             "fillmode": "overlay",
             "size": 10,
             "solidity": 0.2
            },
            "type": "scatter"
           }
          ],
          "scatter3d": [
           {
            "line": {
             "colorbar": {
              "outlinewidth": 0,
              "ticks": ""
             }
            },
            "marker": {
             "colorbar": {
              "outlinewidth": 0,
              "ticks": ""
             }
            },
            "type": "scatter3d"
           }
          ],
          "scattercarpet": [
           {
            "marker": {
             "colorbar": {
              "outlinewidth": 0,
              "ticks": ""
             }
            },
            "type": "scattercarpet"
           }
          ],
          "scattergeo": [
           {
            "marker": {
             "colorbar": {
              "outlinewidth": 0,
              "ticks": ""
             }
            },
            "type": "scattergeo"
           }
          ],
          "scattergl": [
           {
            "marker": {
             "colorbar": {
              "outlinewidth": 0,
              "ticks": ""
             }
            },
            "type": "scattergl"
           }
          ],
          "scattermapbox": [
           {
            "marker": {
             "colorbar": {
              "outlinewidth": 0,
              "ticks": ""
             }
            },
            "type": "scattermapbox"
           }
          ],
          "scatterpolar": [
           {
            "marker": {
             "colorbar": {
              "outlinewidth": 0,
              "ticks": ""
             }
            },
            "type": "scatterpolar"
           }
          ],
          "scatterpolargl": [
           {
            "marker": {
             "colorbar": {
              "outlinewidth": 0,
              "ticks": ""
             }
            },
            "type": "scatterpolargl"
           }
          ],
          "scatterternary": [
           {
            "marker": {
             "colorbar": {
              "outlinewidth": 0,
              "ticks": ""
             }
            },
            "type": "scatterternary"
           }
          ],
          "surface": [
           {
            "colorbar": {
             "outlinewidth": 0,
             "ticks": ""
            },
            "colorscale": [
             [
              0,
              "#0d0887"
             ],
             [
              0.1111111111111111,
              "#46039f"
             ],
             [
              0.2222222222222222,
              "#7201a8"
             ],
             [
              0.3333333333333333,
              "#9c179e"
             ],
             [
              0.4444444444444444,
              "#bd3786"
             ],
             [
              0.5555555555555556,
              "#d8576b"
             ],
             [
              0.6666666666666666,
              "#ed7953"
             ],
             [
              0.7777777777777778,
              "#fb9f3a"
             ],
             [
              0.8888888888888888,
              "#fdca26"
             ],
             [
              1,
              "#f0f921"
             ]
            ],
            "type": "surface"
           }
          ],
          "table": [
           {
            "cells": {
             "fill": {
              "color": "#EBF0F8"
             },
             "line": {
              "color": "white"
             }
            },
            "header": {
             "fill": {
              "color": "#C8D4E3"
             },
             "line": {
              "color": "white"
             }
            },
            "type": "table"
           }
          ]
         },
         "layout": {
          "annotationdefaults": {
           "arrowcolor": "#2a3f5f",
           "arrowhead": 0,
           "arrowwidth": 1
          },
          "autotypenumbers": "strict",
          "coloraxis": {
           "colorbar": {
            "outlinewidth": 0,
            "ticks": ""
           }
          },
          "colorscale": {
           "diverging": [
            [
             0,
             "#8e0152"
            ],
            [
             0.1,
             "#c51b7d"
            ],
            [
             0.2,
             "#de77ae"
            ],
            [
             0.3,
             "#f1b6da"
            ],
            [
             0.4,
             "#fde0ef"
            ],
            [
             0.5,
             "#f7f7f7"
            ],
            [
             0.6,
             "#e6f5d0"
            ],
            [
             0.7,
             "#b8e186"
            ],
            [
             0.8,
             "#7fbc41"
            ],
            [
             0.9,
             "#4d9221"
            ],
            [
             1,
             "#276419"
            ]
           ],
           "sequential": [
            [
             0,
             "#0d0887"
            ],
            [
             0.1111111111111111,
             "#46039f"
            ],
            [
             0.2222222222222222,
             "#7201a8"
            ],
            [
             0.3333333333333333,
             "#9c179e"
            ],
            [
             0.4444444444444444,
             "#bd3786"
            ],
            [
             0.5555555555555556,
             "#d8576b"
            ],
            [
             0.6666666666666666,
             "#ed7953"
            ],
            [
             0.7777777777777778,
             "#fb9f3a"
            ],
            [
             0.8888888888888888,
             "#fdca26"
            ],
            [
             1,
             "#f0f921"
            ]
           ],
           "sequentialminus": [
            [
             0,
             "#0d0887"
            ],
            [
             0.1111111111111111,
             "#46039f"
            ],
            [
             0.2222222222222222,
             "#7201a8"
            ],
            [
             0.3333333333333333,
             "#9c179e"
            ],
            [
             0.4444444444444444,
             "#bd3786"
            ],
            [
             0.5555555555555556,
             "#d8576b"
            ],
            [
             0.6666666666666666,
             "#ed7953"
            ],
            [
             0.7777777777777778,
             "#fb9f3a"
            ],
            [
             0.8888888888888888,
             "#fdca26"
            ],
            [
             1,
             "#f0f921"
            ]
           ]
          },
          "colorway": [
           "#636efa",
           "#EF553B",
           "#00cc96",
           "#ab63fa",
           "#FFA15A",
           "#19d3f3",
           "#FF6692",
           "#B6E880",
           "#FF97FF",
           "#FECB52"
          ],
          "font": {
           "color": "#2a3f5f"
          },
          "geo": {
           "bgcolor": "white",
           "lakecolor": "white",
           "landcolor": "#E5ECF6",
           "showlakes": true,
           "showland": true,
           "subunitcolor": "white"
          },
          "hoverlabel": {
           "align": "left"
          },
          "hovermode": "closest",
          "mapbox": {
           "style": "light"
          },
          "paper_bgcolor": "white",
          "plot_bgcolor": "#E5ECF6",
          "polar": {
           "angularaxis": {
            "gridcolor": "white",
            "linecolor": "white",
            "ticks": ""
           },
           "bgcolor": "#E5ECF6",
           "radialaxis": {
            "gridcolor": "white",
            "linecolor": "white",
            "ticks": ""
           }
          },
          "scene": {
           "xaxis": {
            "backgroundcolor": "#E5ECF6",
            "gridcolor": "white",
            "gridwidth": 2,
            "linecolor": "white",
            "showbackground": true,
            "ticks": "",
            "zerolinecolor": "white"
           },
           "yaxis": {
            "backgroundcolor": "#E5ECF6",
            "gridcolor": "white",
            "gridwidth": 2,
            "linecolor": "white",
            "showbackground": true,
            "ticks": "",
            "zerolinecolor": "white"
           },
           "zaxis": {
            "backgroundcolor": "#E5ECF6",
            "gridcolor": "white",
            "gridwidth": 2,
            "linecolor": "white",
            "showbackground": true,
            "ticks": "",
            "zerolinecolor": "white"
           }
          },
          "shapedefaults": {
           "line": {
            "color": "#2a3f5f"
           }
          },
          "ternary": {
           "aaxis": {
            "gridcolor": "white",
            "linecolor": "white",
            "ticks": ""
           },
           "baxis": {
            "gridcolor": "white",
            "linecolor": "white",
            "ticks": ""
           },
           "bgcolor": "#E5ECF6",
           "caxis": {
            "gridcolor": "white",
            "linecolor": "white",
            "ticks": ""
           }
          },
          "title": {
           "x": 0.05
          },
          "xaxis": {
           "automargin": true,
           "gridcolor": "white",
           "linecolor": "white",
           "ticks": "",
           "title": {
            "standoff": 15
           },
           "zerolinecolor": "white",
           "zerolinewidth": 2
          },
          "yaxis": {
           "automargin": true,
           "gridcolor": "white",
           "linecolor": "white",
           "ticks": "",
           "title": {
            "standoff": 15
           },
           "zerolinecolor": "white",
           "zerolinewidth": 2
          }
         }
        },
        "title": {
         "text": "Tournament Performance for Carlos Alcaraz"
        },
        "xaxis": {
         "anchor": "y",
         "categoryorder": "category ascending",
         "domain": [
          0,
          1
         ],
         "title": {
          "text": "tourney_date"
         },
         "type": "category"
        },
        "yaxis": {
         "anchor": "x",
         "domain": [
          0,
          1
         ],
         "title": {
          "text": "round_level"
         }
        }
       }
      }
     },
     "metadata": {},
     "output_type": "display_data"
    },
    {
     "data": {
      "application/vnd.plotly.v1+json": {
       "config": {
        "plotlyServerURL": "https://plot.ly"
       },
       "data": [
        {
         "alignmentgroup": "True",
         "customdata": [
          [
           "Stockholm",
           250
          ],
          [
           "Australian Open",
           2000
          ],
          [
           "Rotterdam",
           250
          ],
          [
           "Marseille",
           250
          ],
          [
           "Indian Wells Masters",
           1000
          ],
          [
           "Miami Masters",
           1000
          ],
          [
           "Los Cabos",
           250
          ],
          [
           "Canada Masters",
           1000
          ],
          [
           "Cincinnati Masters",
           1000
          ],
          [
           "Us Open",
           2000
          ],
          [
           "Astana",
           250
          ],
          [
           "Florence",
           250
          ],
          [
           "Antwerp",
           250
          ],
          [
           "Basel",
           250
          ],
          [
           "Paris Masters",
           1000
          ],
          [
           "Adelaide 1",
           250
          ],
          [
           "Australian Open",
           2000
          ],
          [
           "Rotterdam",
           250
          ],
          [
           "Doha",
           250
          ],
          [
           "Dubai",
           250
          ],
          [
           "Indian Wells Masters",
           1000
          ],
          [
           "Miami Masters",
           1000
          ],
          [
           "Washington",
           250
          ],
          [
           "Canada Masters",
           1000
          ],
          [
           "Cincinnati Masters",
           1000
          ],
          [
           "Us Open",
           2000
          ],
          [
           "Beijing",
           250
          ],
          [
           "Shanghai Masters",
           1000
          ],
          [
           "Tokyo",
           250
          ],
          [
           "Basel",
           250
          ],
          [
           "Paris Masters",
           1000
          ]
         ],
         "hovertemplate": "surface=Hard<br>tourney_date=%{x}<br>round_level=%{y}<br>last_round=%{text}<br>tourney_name=%{customdata[0]}<br>tourney_points=%{customdata[1]}<extra></extra>",
         "legendgroup": "Hard",
         "marker": {
          "color": "#636EFA",
          "pattern": {
           "shape": ""
          }
         },
         "name": "Hard",
         "offsetgroup": "Hard",
         "orientation": "v",
         "showlegend": true,
         "text": [
          "SF",
          "QF",
          "🏆Winner",
          "🥈Runner-Up",
          "R64",
          "R64",
          "SF",
          "QF",
          "QF",
          "R64",
          "R32",
          "🏆Winner",
          "🏆Winner",
          "🏆Winner",
          "SF",
          "R32",
          "R16",
          "QF",
          "SF",
          "R16",
          "QF",
          "R32",
          "R32",
          "R64",
          "R32",
          "R128",
          "R32",
          "R64",
          "QF",
          "🏆Winner",
          "R32"
         ],
         "textposition": "auto",
         "type": "bar",
         "x": [
          "2021-11-08",
          "2022-01-17",
          "2022-02-07",
          "2022-02-14",
          "2022-03-07",
          "2022-03-21",
          "2022-08-01",
          "2022-08-08",
          "2022-08-15",
          "2022-08-29",
          "2022-10-03",
          "2022-10-10",
          "2022-10-17",
          "2022-10-24",
          "2022-10-31",
          "2023-01-02",
          "2023-01-16",
          "2023-02-13",
          "2023-02-20",
          "2023-02-27",
          "2023-03-06",
          "2023-03-20",
          "2023-07-31",
          "2023-08-07",
          "2023-08-14",
          "2023-08-28",
          "2023-09-27",
          "2023-10-02",
          "2023-10-16",
          "2023-10-23",
          "2023-10-30"
         ],
         "xaxis": "x",
         "y": [
          6,
          5,
          7,
          7,
          2,
          2,
          6,
          5,
          5,
          2,
          3,
          7,
          7,
          7,
          6,
          3,
          4,
          5,
          6,
          4,
          5,
          3,
          3,
          2,
          3,
          1,
          3,
          2,
          5,
          7,
          3
         ],
         "yaxis": "y"
        },
        {
         "alignmentgroup": "True",
         "customdata": [
          [
           "Marrakech",
           250
          ],
          [
           "Monte Carlo Masters",
           1000
          ],
          [
           "Barcelona",
           250
          ],
          [
           "Estoril",
           250
          ],
          [
           "Madrid Masters",
           1000
          ],
          [
           "Rome Masters",
           1000
          ],
          [
           "Roland Garros",
           2000
          ],
          [
           "Madrid Masters",
           1000
          ],
          [
           "Rome Masters",
           1000
          ],
          [
           "Lyon",
           250
          ],
          [
           "Roland Garros",
           2000
          ]
         ],
         "hovertemplate": "surface=Clay<br>tourney_date=%{x}<br>round_level=%{y}<br>last_round=%{text}<br>tourney_name=%{customdata[0]}<br>tourney_points=%{customdata[1]}<extra></extra>",
         "legendgroup": "Clay",
         "marker": {
          "color": "#FFA15A",
          "pattern": {
           "shape": ""
          }
         },
         "name": "Clay",
         "offsetgroup": "Clay",
         "orientation": "v",
         "showlegend": true,
         "text": [
          "R16",
          "R32",
          "QF",
          "QF",
          "QF",
          "QF",
          "R16",
          "R64",
          "R64",
          "QF",
          "R128"
         ],
         "textposition": "auto",
         "type": "bar",
         "x": [
          "2022-04-04",
          "2022-04-11",
          "2022-04-18",
          "2022-04-25",
          "2022-05-02",
          "2022-05-09",
          "2022-05-23",
          "2023-04-24",
          "2023-05-08",
          "2023-05-22",
          "2023-05-29"
         ],
         "xaxis": "x",
         "y": [
          4,
          3,
          5,
          5,
          5,
          5,
          4,
          2,
          2,
          5,
          1
         ],
         "yaxis": "y"
        },
        {
         "alignmentgroup": "True",
         "customdata": [
          [
           "s Hertogenbosch",
           250
          ],
          [
           "Halle",
           250
          ],
          [
           "Wimbledon",
           2000
          ],
          [
           "Newport",
           250
          ],
          [
           "Wimbledon",
           2000
          ]
         ],
         "hovertemplate": "surface=Grass<br>tourney_date=%{x}<br>round_level=%{y}<br>last_round=%{text}<br>tourney_name=%{customdata[0]}<br>tourney_points=%{customdata[1]}<extra></extra>",
         "legendgroup": "Grass",
         "marker": {
          "color": "#00CC96",
          "pattern": {
           "shape": ""
          }
         },
         "name": "Grass",
         "offsetgroup": "Grass",
         "orientation": "v",
         "showlegend": true,
         "text": [
          "SF",
          "QF",
          "R128",
          "R16",
          "R128"
         ],
         "textposition": "auto",
         "type": "bar",
         "x": [
          "2022-06-06",
          "2022-06-13",
          "2022-06-27",
          "2022-07-11",
          "2023-07-03"
         ],
         "xaxis": "x",
         "y": [
          6,
          5,
          1,
          4,
          1
         ],
         "yaxis": "y"
        }
       ],
       "layout": {
        "barmode": "relative",
        "legend": {
         "title": {
          "text": "surface"
         },
         "tracegroupgap": 0
        },
        "shapes": [
         {
          "line": {
           "color": "gold",
           "dash": "dash",
           "width": 3
          },
          "type": "line",
          "x0": 0,
          "x1": 1,
          "xref": "x domain",
          "y0": 7,
          "y1": 7,
          "yref": "y"
         }
        ],
        "template": {
         "data": {
          "bar": [
           {
            "error_x": {
             "color": "#2a3f5f"
            },
            "error_y": {
             "color": "#2a3f5f"
            },
            "marker": {
             "line": {
              "color": "#E5ECF6",
              "width": 0.5
             },
             "pattern": {
              "fillmode": "overlay",
              "size": 10,
              "solidity": 0.2
             }
            },
            "type": "bar"
           }
          ],
          "barpolar": [
           {
            "marker": {
             "line": {
              "color": "#E5ECF6",
              "width": 0.5
             },
             "pattern": {
              "fillmode": "overlay",
              "size": 10,
              "solidity": 0.2
             }
            },
            "type": "barpolar"
           }
          ],
          "carpet": [
           {
            "aaxis": {
             "endlinecolor": "#2a3f5f",
             "gridcolor": "white",
             "linecolor": "white",
             "minorgridcolor": "white",
             "startlinecolor": "#2a3f5f"
            },
            "baxis": {
             "endlinecolor": "#2a3f5f",
             "gridcolor": "white",
             "linecolor": "white",
             "minorgridcolor": "white",
             "startlinecolor": "#2a3f5f"
            },
            "type": "carpet"
           }
          ],
          "choropleth": [
           {
            "colorbar": {
             "outlinewidth": 0,
             "ticks": ""
            },
            "type": "choropleth"
           }
          ],
          "contour": [
           {
            "colorbar": {
             "outlinewidth": 0,
             "ticks": ""
            },
            "colorscale": [
             [
              0,
              "#0d0887"
             ],
             [
              0.1111111111111111,
              "#46039f"
             ],
             [
              0.2222222222222222,
              "#7201a8"
             ],
             [
              0.3333333333333333,
              "#9c179e"
             ],
             [
              0.4444444444444444,
              "#bd3786"
             ],
             [
              0.5555555555555556,
              "#d8576b"
             ],
             [
              0.6666666666666666,
              "#ed7953"
             ],
             [
              0.7777777777777778,
              "#fb9f3a"
             ],
             [
              0.8888888888888888,
              "#fdca26"
             ],
             [
              1,
              "#f0f921"
             ]
            ],
            "type": "contour"
           }
          ],
          "contourcarpet": [
           {
            "colorbar": {
             "outlinewidth": 0,
             "ticks": ""
            },
            "type": "contourcarpet"
           }
          ],
          "heatmap": [
           {
            "colorbar": {
             "outlinewidth": 0,
             "ticks": ""
            },
            "colorscale": [
             [
              0,
              "#0d0887"
             ],
             [
              0.1111111111111111,
              "#46039f"
             ],
             [
              0.2222222222222222,
              "#7201a8"
             ],
             [
              0.3333333333333333,
              "#9c179e"
             ],
             [
              0.4444444444444444,
              "#bd3786"
             ],
             [
              0.5555555555555556,
              "#d8576b"
             ],
             [
              0.6666666666666666,
              "#ed7953"
             ],
             [
              0.7777777777777778,
              "#fb9f3a"
             ],
             [
              0.8888888888888888,
              "#fdca26"
             ],
             [
              1,
              "#f0f921"
             ]
            ],
            "type": "heatmap"
           }
          ],
          "heatmapgl": [
           {
            "colorbar": {
             "outlinewidth": 0,
             "ticks": ""
            },
            "colorscale": [
             [
              0,
              "#0d0887"
             ],
             [
              0.1111111111111111,
              "#46039f"
             ],
             [
              0.2222222222222222,
              "#7201a8"
             ],
             [
              0.3333333333333333,
              "#9c179e"
             ],
             [
              0.4444444444444444,
              "#bd3786"
             ],
             [
              0.5555555555555556,
              "#d8576b"
             ],
             [
              0.6666666666666666,
              "#ed7953"
             ],
             [
              0.7777777777777778,
              "#fb9f3a"
             ],
             [
              0.8888888888888888,
              "#fdca26"
             ],
             [
              1,
              "#f0f921"
             ]
            ],
            "type": "heatmapgl"
           }
          ],
          "histogram": [
           {
            "marker": {
             "pattern": {
              "fillmode": "overlay",
              "size": 10,
              "solidity": 0.2
             }
            },
            "type": "histogram"
           }
          ],
          "histogram2d": [
           {
            "colorbar": {
             "outlinewidth": 0,
             "ticks": ""
            },
            "colorscale": [
             [
              0,
              "#0d0887"
             ],
             [
              0.1111111111111111,
              "#46039f"
             ],
             [
              0.2222222222222222,
              "#7201a8"
             ],
             [
              0.3333333333333333,
              "#9c179e"
             ],
             [
              0.4444444444444444,
              "#bd3786"
             ],
             [
              0.5555555555555556,
              "#d8576b"
             ],
             [
              0.6666666666666666,
              "#ed7953"
             ],
             [
              0.7777777777777778,
              "#fb9f3a"
             ],
             [
              0.8888888888888888,
              "#fdca26"
             ],
             [
              1,
              "#f0f921"
             ]
            ],
            "type": "histogram2d"
           }
          ],
          "histogram2dcontour": [
           {
            "colorbar": {
             "outlinewidth": 0,
             "ticks": ""
            },
            "colorscale": [
             [
              0,
              "#0d0887"
             ],
             [
              0.1111111111111111,
              "#46039f"
             ],
             [
              0.2222222222222222,
              "#7201a8"
             ],
             [
              0.3333333333333333,
              "#9c179e"
             ],
             [
              0.4444444444444444,
              "#bd3786"
             ],
             [
              0.5555555555555556,
              "#d8576b"
             ],
             [
              0.6666666666666666,
              "#ed7953"
             ],
             [
              0.7777777777777778,
              "#fb9f3a"
             ],
             [
              0.8888888888888888,
              "#fdca26"
             ],
             [
              1,
              "#f0f921"
             ]
            ],
            "type": "histogram2dcontour"
           }
          ],
          "mesh3d": [
           {
            "colorbar": {
             "outlinewidth": 0,
             "ticks": ""
            },
            "type": "mesh3d"
           }
          ],
          "parcoords": [
           {
            "line": {
             "colorbar": {
              "outlinewidth": 0,
              "ticks": ""
             }
            },
            "type": "parcoords"
           }
          ],
          "pie": [
           {
            "automargin": true,
            "type": "pie"
           }
          ],
          "scatter": [
           {
            "fillpattern": {
             "fillmode": "overlay",
             "size": 10,
             "solidity": 0.2
            },
            "type": "scatter"
           }
          ],
          "scatter3d": [
           {
            "line": {
             "colorbar": {
              "outlinewidth": 0,
              "ticks": ""
             }
            },
            "marker": {
             "colorbar": {
              "outlinewidth": 0,
              "ticks": ""
             }
            },
            "type": "scatter3d"
           }
          ],
          "scattercarpet": [
           {
            "marker": {
             "colorbar": {
              "outlinewidth": 0,
              "ticks": ""
             }
            },
            "type": "scattercarpet"
           }
          ],
          "scattergeo": [
           {
            "marker": {
             "colorbar": {
              "outlinewidth": 0,
              "ticks": ""
             }
            },
            "type": "scattergeo"
           }
          ],
          "scattergl": [
           {
            "marker": {
             "colorbar": {
              "outlinewidth": 0,
              "ticks": ""
             }
            },
            "type": "scattergl"
           }
          ],
          "scattermapbox": [
           {
            "marker": {
             "colorbar": {
              "outlinewidth": 0,
              "ticks": ""
             }
            },
            "type": "scattermapbox"
           }
          ],
          "scatterpolar": [
           {
            "marker": {
             "colorbar": {
              "outlinewidth": 0,
              "ticks": ""
             }
            },
            "type": "scatterpolar"
           }
          ],
          "scatterpolargl": [
           {
            "marker": {
             "colorbar": {
              "outlinewidth": 0,
              "ticks": ""
             }
            },
            "type": "scatterpolargl"
           }
          ],
          "scatterternary": [
           {
            "marker": {
             "colorbar": {
              "outlinewidth": 0,
              "ticks": ""
             }
            },
            "type": "scatterternary"
           }
          ],
          "surface": [
           {
            "colorbar": {
             "outlinewidth": 0,
             "ticks": ""
            },
            "colorscale": [
             [
              0,
              "#0d0887"
             ],
             [
              0.1111111111111111,
              "#46039f"
             ],
             [
              0.2222222222222222,
              "#7201a8"
             ],
             [
              0.3333333333333333,
              "#9c179e"
             ],
             [
              0.4444444444444444,
              "#bd3786"
             ],
             [
              0.5555555555555556,
              "#d8576b"
             ],
             [
              0.6666666666666666,
              "#ed7953"
             ],
             [
              0.7777777777777778,
              "#fb9f3a"
             ],
             [
              0.8888888888888888,
              "#fdca26"
             ],
             [
              1,
              "#f0f921"
             ]
            ],
            "type": "surface"
           }
          ],
          "table": [
           {
            "cells": {
             "fill": {
              "color": "#EBF0F8"
             },
             "line": {
              "color": "white"
             }
            },
            "header": {
             "fill": {
              "color": "#C8D4E3"
             },
             "line": {
              "color": "white"
             }
            },
            "type": "table"
           }
          ]
         },
         "layout": {
          "annotationdefaults": {
           "arrowcolor": "#2a3f5f",
           "arrowhead": 0,
           "arrowwidth": 1
          },
          "autotypenumbers": "strict",
          "coloraxis": {
           "colorbar": {
            "outlinewidth": 0,
            "ticks": ""
           }
          },
          "colorscale": {
           "diverging": [
            [
             0,
             "#8e0152"
            ],
            [
             0.1,
             "#c51b7d"
            ],
            [
             0.2,
             "#de77ae"
            ],
            [
             0.3,
             "#f1b6da"
            ],
            [
             0.4,
             "#fde0ef"
            ],
            [
             0.5,
             "#f7f7f7"
            ],
            [
             0.6,
             "#e6f5d0"
            ],
            [
             0.7,
             "#b8e186"
            ],
            [
             0.8,
             "#7fbc41"
            ],
            [
             0.9,
             "#4d9221"
            ],
            [
             1,
             "#276419"
            ]
           ],
           "sequential": [
            [
             0,
             "#0d0887"
            ],
            [
             0.1111111111111111,
             "#46039f"
            ],
            [
             0.2222222222222222,
             "#7201a8"
            ],
            [
             0.3333333333333333,
             "#9c179e"
            ],
            [
             0.4444444444444444,
             "#bd3786"
            ],
            [
             0.5555555555555556,
             "#d8576b"
            ],
            [
             0.6666666666666666,
             "#ed7953"
            ],
            [
             0.7777777777777778,
             "#fb9f3a"
            ],
            [
             0.8888888888888888,
             "#fdca26"
            ],
            [
             1,
             "#f0f921"
            ]
           ],
           "sequentialminus": [
            [
             0,
             "#0d0887"
            ],
            [
             0.1111111111111111,
             "#46039f"
            ],
            [
             0.2222222222222222,
             "#7201a8"
            ],
            [
             0.3333333333333333,
             "#9c179e"
            ],
            [
             0.4444444444444444,
             "#bd3786"
            ],
            [
             0.5555555555555556,
             "#d8576b"
            ],
            [
             0.6666666666666666,
             "#ed7953"
            ],
            [
             0.7777777777777778,
             "#fb9f3a"
            ],
            [
             0.8888888888888888,
             "#fdca26"
            ],
            [
             1,
             "#f0f921"
            ]
           ]
          },
          "colorway": [
           "#636efa",
           "#EF553B",
           "#00cc96",
           "#ab63fa",
           "#FFA15A",
           "#19d3f3",
           "#FF6692",
           "#B6E880",
           "#FF97FF",
           "#FECB52"
          ],
          "font": {
           "color": "#2a3f5f"
          },
          "geo": {
           "bgcolor": "white",
           "lakecolor": "white",
           "landcolor": "#E5ECF6",
           "showlakes": true,
           "showland": true,
           "subunitcolor": "white"
          },
          "hoverlabel": {
           "align": "left"
          },
          "hovermode": "closest",
          "mapbox": {
           "style": "light"
          },
          "paper_bgcolor": "white",
          "plot_bgcolor": "#E5ECF6",
          "polar": {
           "angularaxis": {
            "gridcolor": "white",
            "linecolor": "white",
            "ticks": ""
           },
           "bgcolor": "#E5ECF6",
           "radialaxis": {
            "gridcolor": "white",
            "linecolor": "white",
            "ticks": ""
           }
          },
          "scene": {
           "xaxis": {
            "backgroundcolor": "#E5ECF6",
            "gridcolor": "white",
            "gridwidth": 2,
            "linecolor": "white",
            "showbackground": true,
            "ticks": "",
            "zerolinecolor": "white"
           },
           "yaxis": {
            "backgroundcolor": "#E5ECF6",
            "gridcolor": "white",
            "gridwidth": 2,
            "linecolor": "white",
            "showbackground": true,
            "ticks": "",
            "zerolinecolor": "white"
           },
           "zaxis": {
            "backgroundcolor": "#E5ECF6",
            "gridcolor": "white",
            "gridwidth": 2,
            "linecolor": "white",
            "showbackground": true,
            "ticks": "",
            "zerolinecolor": "white"
           }
          },
          "shapedefaults": {
           "line": {
            "color": "#2a3f5f"
           }
          },
          "ternary": {
           "aaxis": {
            "gridcolor": "white",
            "linecolor": "white",
            "ticks": ""
           },
           "baxis": {
            "gridcolor": "white",
            "linecolor": "white",
            "ticks": ""
           },
           "bgcolor": "#E5ECF6",
           "caxis": {
            "gridcolor": "white",
            "linecolor": "white",
            "ticks": ""
           }
          },
          "title": {
           "x": 0.05
          },
          "xaxis": {
           "automargin": true,
           "gridcolor": "white",
           "linecolor": "white",
           "ticks": "",
           "title": {
            "standoff": 15
           },
           "zerolinecolor": "white",
           "zerolinewidth": 2
          },
          "yaxis": {
           "automargin": true,
           "gridcolor": "white",
           "linecolor": "white",
           "ticks": "",
           "title": {
            "standoff": 15
           },
           "zerolinecolor": "white",
           "zerolinewidth": 2
          }
         }
        },
        "title": {
         "text": "Tournament Performance for Felix Auger Aliassime"
        },
        "xaxis": {
         "anchor": "y",
         "categoryorder": "category ascending",
         "domain": [
          0,
          1
         ],
         "title": {
          "text": "tourney_date"
         },
         "type": "category"
        },
        "yaxis": {
         "anchor": "x",
         "domain": [
          0,
          1
         ],
         "title": {
          "text": "round_level"
         }
        }
       }
      }
     },
     "metadata": {},
     "output_type": "display_data"
    },
    {
     "data": {
      "application/vnd.plotly.v1+json": {
       "config": {
        "plotlyServerURL": "https://plot.ly"
       },
       "data": [
        {
         "legendgroup": "Carlos Alcaraz",
         "line": {
          "color": "seagreen",
          "dash": "solid"
         },
         "marker": {
          "symbol": "circle"
         },
         "mode": "markers+lines",
         "name": "Carlos Alcaraz",
         "orientation": "v",
         "showlegend": true,
         "type": "scatter",
         "x": [
          "2021-11-01T00:00:00",
          "2022-01-17T00:00:00",
          "2022-01-17T00:00:00",
          "2022-01-17T00:00:00",
          "2022-02-14T00:00:00",
          "2022-02-14T00:00:00",
          "2022-02-14T00:00:00",
          "2022-02-14T00:00:00",
          "2022-02-14T00:00:00",
          "2022-03-07T00:00:00",
          "2022-03-07T00:00:00",
          "2022-03-07T00:00:00",
          "2022-03-07T00:00:00",
          "2022-03-07T00:00:00",
          "2022-03-21T00:00:00",
          "2022-03-21T00:00:00",
          "2022-03-21T00:00:00",
          "2022-03-21T00:00:00",
          "2022-03-21T00:00:00",
          "2022-04-11T00:00:00",
          "2022-04-18T00:00:00",
          "2022-04-18T00:00:00",
          "2022-04-18T00:00:00",
          "2022-04-18T00:00:00",
          "2022-04-18T00:00:00",
          "2022-05-02T00:00:00",
          "2022-05-02T00:00:00",
          "2022-05-02T00:00:00",
          "2022-05-02T00:00:00",
          "2022-05-23T00:00:00",
          "2022-06-27T00:00:00",
          "2022-06-27T00:00:00",
          "2022-06-27T00:00:00",
          "2022-06-27T00:00:00",
          "2022-07-18T00:00:00",
          "2022-07-18T00:00:00",
          "2022-07-18T00:00:00",
          "2022-07-18T00:00:00",
          "2022-07-18T00:00:00",
          "2022-07-25T00:00:00",
          "2022-07-25T00:00:00",
          "2022-07-25T00:00:00",
          "2022-07-25T00:00:00",
          "2022-08-08T00:00:00",
          "2022-08-15T00:00:00",
          "2022-08-15T00:00:00",
          "2022-08-15T00:00:00",
          "2022-08-29T00:00:00",
          "2022-08-29T00:00:00",
          "2022-08-29T00:00:00",
          "2022-08-29T00:00:00",
          "2022-08-29T00:00:00",
          "2022-08-29T00:00:00",
          "2022-08-29T00:00:00",
          "2022-10-03T00:00:00",
          "2022-10-24T00:00:00",
          "2022-10-24T00:00:00",
          "2022-10-24T00:00:00",
          "2022-10-24T00:00:00",
          "2022-10-31T00:00:00",
          "2022-10-31T00:00:00",
          "2022-10-31T00:00:00",
          "2023-02-13T00:00:00",
          "2023-02-13T00:00:00",
          "2023-02-13T00:00:00",
          "2023-02-13T00:00:00",
          "2023-02-20T00:00:00",
          "2023-02-20T00:00:00",
          "2023-02-20T00:00:00",
          "2023-02-20T00:00:00",
          "2023-02-20T00:00:00",
          "2023-03-06T00:00:00",
          "2023-03-06T00:00:00",
          "2023-03-06T00:00:00",
          "2023-03-06T00:00:00",
          "2023-03-06T00:00:00",
          "2023-03-20T00:00:00",
          "2023-03-20T00:00:00",
          "2023-03-20T00:00:00",
          "2023-03-20T00:00:00",
          "2023-03-20T00:00:00",
          "2023-04-17T00:00:00",
          "2023-04-17T00:00:00",
          "2023-04-17T00:00:00",
          "2023-04-17T00:00:00",
          "2023-04-17T00:00:00",
          "2023-05-08T00:00:00",
          "2023-05-08T00:00:00",
          "2023-05-29T00:00:00",
          "2023-05-29T00:00:00",
          "2023-05-29T00:00:00",
          "2023-05-29T00:00:00",
          "2023-05-29T00:00:00",
          "2023-05-29T00:00:00",
          "2023-06-19T00:00:00",
          "2023-06-19T00:00:00",
          "2023-06-19T00:00:00",
          "2023-06-19T00:00:00",
          "2023-06-19T00:00:00",
          "2023-07-03T00:00:00",
          "2023-07-03T00:00:00",
          "2023-07-03T00:00:00",
          "2023-07-03T00:00:00",
          "2023-08-07T00:00:00",
          "2023-08-07T00:00:00",
          "2023-08-07T00:00:00",
          "2023-08-14T00:00:00",
          "2023-08-14T00:00:00",
          "2023-08-14T00:00:00",
          "2023-08-14T00:00:00",
          "2023-08-14T00:00:00",
          "2023-08-28T00:00:00",
          "2023-08-28T00:00:00",
          "2023-08-28T00:00:00",
          "2023-08-28T00:00:00",
          "2023-08-28T00:00:00",
          "2023-08-28T00:00:00",
          "2023-09-27T00:00:00",
          "2023-09-27T00:00:00",
          "2023-09-27T00:00:00",
          "2023-09-27T00:00:00",
          "2023-10-02T00:00:00",
          "2023-10-02T00:00:00",
          "2023-10-02T00:00:00",
          "2023-10-30T00:00:00"
         ],
         "xaxis": "x",
         "y": [
          1.5,
          1.5789473684210527,
          1.6666666666666667,
          1.6111111111111112,
          1.8421052631578947,
          1.7894736842105263,
          1.736842105263158,
          1.6842105263157894,
          1.631578947368421,
          1.8,
          1.75,
          1.9,
          1.85,
          1.95,
          2,
          2.05,
          2.1,
          2.15,
          2.2,
          2.142857142857143,
          2.380952380952381,
          2.2857142857142856,
          2.238095238095238,
          2.1904761904761907,
          2.3333333333333335,
          2.5238095238095237,
          2.4761904761904763,
          2.5714285714285716,
          2.4285714285714284,
          2.6818181818181817,
          2.6956521739130435,
          2.727272727272727,
          2.772727272727273,
          2.8181818181818183,
          2.75,
          2.7083333333333335,
          2.6666666666666665,
          2.625,
          2.5833333333333335,
          2.72,
          2.68,
          2.64,
          2.76,
          2.6538461538461537,
          2.5555555555555554,
          2.5925925925925926,
          2.6296296296296298,
          2.888888888888889,
          2.8518518518518516,
          2.814814814814815,
          2.7777777777777777,
          2.740740740740741,
          2.7037037037037037,
          2.6666666666666665,
          2.7857142857142856,
          2.7241379310344827,
          2.689655172413793,
          2.7586206896551726,
          2.793103448275862,
          2.7333333333333334,
          2.7666666666666666,
          2.7,
          2.9,
          2.8333333333333335,
          2.8,
          2.8666666666666667,
          2.903225806451613,
          2.806451612903226,
          2.838709677419355,
          2.870967741935484,
          2.935483870967742,
          3,
          3.032258064516129,
          3.064516129032258,
          3.096774193548387,
          2.967741935483871,
          3.0625,
          3.09375,
          3.125,
          3.15625,
          3.03125,
          3.1875,
          3.21875,
          3.28125,
          3.3125,
          3.25,
          3.393939393939394,
          3.4242424242424243,
          3.4545454545454546,
          3.484848484848485,
          3.515151515151515,
          3.5454545454545454,
          3.5757575757575757,
          3.4705882352941178,
          3.5294117647058822,
          3.5,
          3.5588235294117645,
          3.588235294117647,
          3.6176470588235294,
          3.735294117647059,
          3.7058823529411766,
          3.6470588235294117,
          3.676470588235294,
          3.7142857142857144,
          3.7714285714285714,
          3.742857142857143,
          3.6666666666666665,
          3.75,
          3.7777777777777777,
          3.7222222222222223,
          3.6944444444444446,
          3.861111111111111,
          3.888888888888889,
          3.8055555555555554,
          3.810810810810811,
          3.8333333333333335,
          3.9166666666666665,
          3.763157894736842,
          3.789473684210526,
          3.736842105263158,
          3.710526315789474,
          3.7435897435897436,
          3.717948717948718,
          3.6923076923076925,
          3.65
         ],
         "yaxis": "y"
        },
        {
         "legendgroup": "Felix Auger Aliassime",
         "line": {
          "color": "tomato",
          "dash": "solid"
         },
         "marker": {
          "symbol": "circle"
         },
         "mode": "markers+lines",
         "name": "Felix Auger Aliassime",
         "orientation": "v",
         "showlegend": true,
         "type": "scatter",
         "x": [
          "2021-11-01T00:00:00",
          "2021-11-01T00:00:00",
          "2021-11-08T00:00:00",
          "2021-11-08T00:00:00",
          "2021-11-08T00:00:00",
          "2022-01-17T00:00:00",
          "2022-01-17T00:00:00",
          "2022-01-17T00:00:00",
          "2022-01-17T00:00:00",
          "2022-01-17T00:00:00",
          "2022-02-07T00:00:00",
          "2022-02-07T00:00:00",
          "2022-02-07T00:00:00",
          "2022-02-07T00:00:00",
          "2022-02-07T00:00:00",
          "2022-02-14T00:00:00",
          "2022-02-14T00:00:00",
          "2022-02-14T00:00:00",
          "2022-02-14T00:00:00",
          "2022-03-07T00:00:00",
          "2022-03-21T00:00:00",
          "2022-04-04T00:00:00",
          "2022-04-04T00:00:00",
          "2022-04-11T00:00:00",
          "2022-04-18T00:00:00",
          "2022-04-18T00:00:00",
          "2022-04-18T00:00:00",
          "2022-04-25T00:00:00",
          "2022-04-25T00:00:00",
          "2022-05-02T00:00:00",
          "2022-05-02T00:00:00",
          "2022-05-02T00:00:00",
          "2022-05-09T00:00:00",
          "2022-05-09T00:00:00",
          "2022-05-09T00:00:00",
          "2022-05-23T00:00:00",
          "2022-05-23T00:00:00",
          "2022-05-23T00:00:00",
          "2022-05-23T00:00:00",
          "2022-06-06T00:00:00",
          "2022-06-06T00:00:00",
          "2022-06-06T00:00:00",
          "2022-06-13T00:00:00",
          "2022-06-13T00:00:00",
          "2022-06-13T00:00:00",
          "2022-06-27T00:00:00",
          "2022-07-11T00:00:00",
          "2022-08-01T00:00:00",
          "2022-08-01T00:00:00",
          "2022-08-01T00:00:00",
          "2022-08-08T00:00:00",
          "2022-08-08T00:00:00",
          "2022-08-08T00:00:00",
          "2022-08-15T00:00:00",
          "2022-08-15T00:00:00",
          "2022-08-15T00:00:00",
          "2022-08-29T00:00:00",
          "2022-08-29T00:00:00",
          "2022-10-03T00:00:00",
          "2022-10-10T00:00:00",
          "2022-10-10T00:00:00",
          "2022-10-10T00:00:00",
          "2022-10-10T00:00:00",
          "2022-10-17T00:00:00",
          "2022-10-17T00:00:00",
          "2022-10-17T00:00:00",
          "2022-10-17T00:00:00",
          "2022-10-24T00:00:00",
          "2022-10-31T00:00:00",
          "2022-10-31T00:00:00",
          "2022-10-31T00:00:00",
          "2022-10-31T00:00:00",
          "2023-01-02T00:00:00",
          "2023-01-16T00:00:00",
          "2023-01-16T00:00:00",
          "2023-01-16T00:00:00",
          "2023-01-16T00:00:00",
          "2023-02-13T00:00:00",
          "2023-02-13T00:00:00",
          "2023-02-13T00:00:00",
          "2023-02-20T00:00:00",
          "2023-02-20T00:00:00",
          "2023-02-20T00:00:00",
          "2023-02-27T00:00:00",
          "2023-02-27T00:00:00",
          "2023-03-06T00:00:00",
          "2023-03-06T00:00:00",
          "2023-03-06T00:00:00",
          "2023-03-06T00:00:00",
          "2023-03-20T00:00:00",
          "2023-03-20T00:00:00",
          "2023-04-24T00:00:00",
          "2023-05-08T00:00:00",
          "2023-05-22T00:00:00",
          "2023-05-22T00:00:00",
          "2023-05-29T00:00:00",
          "2023-07-03T00:00:00",
          "2023-07-31T00:00:00",
          "2023-08-07T00:00:00",
          "2023-08-14T00:00:00",
          "2023-08-14T00:00:00",
          "2023-08-28T00:00:00",
          "2023-09-27T00:00:00",
          "2023-10-02T00:00:00",
          "2023-10-16T00:00:00",
          "2023-10-16T00:00:00",
          "2023-10-16T00:00:00",
          "2023-10-23T00:00:00",
          "2023-10-23T00:00:00",
          "2023-10-23T00:00:00",
          "2023-10-23T00:00:00",
          "2023-10-23T00:00:00",
          "2023-10-30T00:00:00",
          "2023-10-30T00:00:00"
         ],
         "xaxis": "x",
         "y": [
          1.34,
          1.3673469387755102,
          1.3,
          1.3220338983050848,
          1.305084745762712,
          1.4782608695652173,
          1.463768115942029,
          1.4714285714285715,
          1.4492753623188406,
          1.4927536231884058,
          1.4857142857142858,
          1.5,
          1.5142857142857142,
          1.5285714285714285,
          1.542857142857143,
          1.5633802816901408,
          1.5492957746478873,
          1.5352112676056338,
          1.5211267605633803,
          1.5416666666666667,
          1.5205479452054795,
          1.5135135135135136,
          1.5,
          1.4933333333333334,
          1.5,
          1.486842105263158,
          1.4736842105263157,
          1.4935064935064934,
          1.4805194805194806,
          1.4743589743589745,
          1.5,
          1.4871794871794872,
          1.4936708860759493,
          1.481012658227848,
          1.5063291139240507,
          1.5316455696202531,
          1.5443037974683544,
          1.525,
          1.518987341772152,
          1.5061728395061729,
          1.5185185185185186,
          1.5308641975308641,
          1.5121951219512195,
          1.524390243902439,
          1.5365853658536586,
          1.5180722891566265,
          1.5,
          1.4823529411764707,
          1.4941176470588236,
          1.5058823529411764,
          1.4883720930232558,
          1.5,
          1.5116279069767442,
          1.4942528735632183,
          1.5172413793103448,
          1.5057471264367817,
          1.528735632183908,
          1.5113636363636365,
          1.4943820224719102,
          1.5393258426966292,
          1.5280898876404494,
          1.5168539325842696,
          1.5056179775280898,
          1.5842696629213484,
          1.5730337078651686,
          1.5617977528089888,
          1.550561797752809,
          1.595505617977528,
          1.6222222222222222,
          1.6333333333333333,
          1.6444444444444444,
          1.6555555555555554,
          1.6373626373626373,
          1.6483516483516483,
          1.6521739130434783,
          1.6593406593406594,
          1.6703296703296704,
          1.6451612903225807,
          1.6344086021505377,
          1.6559139784946237,
          1.648936170212766,
          1.6382978723404256,
          1.6595744680851063,
          1.6421052631578947,
          1.6526315789473685,
          1.6666666666666667,
          1.65625,
          1.6458333333333333,
          1.6354166666666667,
          1.6597938144329898,
          1.6494845360824741,
          1.6428571428571428,
          1.6262626262626263,
          1.62,
          1.61,
          1.603960396039604,
          1.588235294117647,
          1.5728155339805825,
          1.5576923076923077,
          1.542857142857143,
          1.5523809523809524,
          1.5377358490566038,
          1.5233644859813085,
          1.5092592592592593,
          1.5137614678899083,
          1.5045871559633028,
          1.4954128440366972,
          1.5229357798165137,
          1.5321100917431192,
          1.5412844036697249,
          1.5504587155963303,
          1.5596330275229358,
          1.5454545454545454,
          1.5545454545454545
         ],
         "yaxis": "y"
        }
       ],
       "layout": {
        "hovermode": "x",
        "legend": {
         "title": {
          "text": "player_name"
         },
         "tracegroupgap": 0
        },
        "template": {
         "data": {
          "bar": [
           {
            "error_x": {
             "color": "#2a3f5f"
            },
            "error_y": {
             "color": "#2a3f5f"
            },
            "marker": {
             "line": {
              "color": "#E5ECF6",
              "width": 0.5
             },
             "pattern": {
              "fillmode": "overlay",
              "size": 10,
              "solidity": 0.2
             }
            },
            "type": "bar"
           }
          ],
          "barpolar": [
           {
            "marker": {
             "line": {
              "color": "#E5ECF6",
              "width": 0.5
             },
             "pattern": {
              "fillmode": "overlay",
              "size": 10,
              "solidity": 0.2
             }
            },
            "type": "barpolar"
           }
          ],
          "carpet": [
           {
            "aaxis": {
             "endlinecolor": "#2a3f5f",
             "gridcolor": "white",
             "linecolor": "white",
             "minorgridcolor": "white",
             "startlinecolor": "#2a3f5f"
            },
            "baxis": {
             "endlinecolor": "#2a3f5f",
             "gridcolor": "white",
             "linecolor": "white",
             "minorgridcolor": "white",
             "startlinecolor": "#2a3f5f"
            },
            "type": "carpet"
           }
          ],
          "choropleth": [
           {
            "colorbar": {
             "outlinewidth": 0,
             "ticks": ""
            },
            "type": "choropleth"
           }
          ],
          "contour": [
           {
            "colorbar": {
             "outlinewidth": 0,
             "ticks": ""
            },
            "colorscale": [
             [
              0,
              "#0d0887"
             ],
             [
              0.1111111111111111,
              "#46039f"
             ],
             [
              0.2222222222222222,
              "#7201a8"
             ],
             [
              0.3333333333333333,
              "#9c179e"
             ],
             [
              0.4444444444444444,
              "#bd3786"
             ],
             [
              0.5555555555555556,
              "#d8576b"
             ],
             [
              0.6666666666666666,
              "#ed7953"
             ],
             [
              0.7777777777777778,
              "#fb9f3a"
             ],
             [
              0.8888888888888888,
              "#fdca26"
             ],
             [
              1,
              "#f0f921"
             ]
            ],
            "type": "contour"
           }
          ],
          "contourcarpet": [
           {
            "colorbar": {
             "outlinewidth": 0,
             "ticks": ""
            },
            "type": "contourcarpet"
           }
          ],
          "heatmap": [
           {
            "colorbar": {
             "outlinewidth": 0,
             "ticks": ""
            },
            "colorscale": [
             [
              0,
              "#0d0887"
             ],
             [
              0.1111111111111111,
              "#46039f"
             ],
             [
              0.2222222222222222,
              "#7201a8"
             ],
             [
              0.3333333333333333,
              "#9c179e"
             ],
             [
              0.4444444444444444,
              "#bd3786"
             ],
             [
              0.5555555555555556,
              "#d8576b"
             ],
             [
              0.6666666666666666,
              "#ed7953"
             ],
             [
              0.7777777777777778,
              "#fb9f3a"
             ],
             [
              0.8888888888888888,
              "#fdca26"
             ],
             [
              1,
              "#f0f921"
             ]
            ],
            "type": "heatmap"
           }
          ],
          "heatmapgl": [
           {
            "colorbar": {
             "outlinewidth": 0,
             "ticks": ""
            },
            "colorscale": [
             [
              0,
              "#0d0887"
             ],
             [
              0.1111111111111111,
              "#46039f"
             ],
             [
              0.2222222222222222,
              "#7201a8"
             ],
             [
              0.3333333333333333,
              "#9c179e"
             ],
             [
              0.4444444444444444,
              "#bd3786"
             ],
             [
              0.5555555555555556,
              "#d8576b"
             ],
             [
              0.6666666666666666,
              "#ed7953"
             ],
             [
              0.7777777777777778,
              "#fb9f3a"
             ],
             [
              0.8888888888888888,
              "#fdca26"
             ],
             [
              1,
              "#f0f921"
             ]
            ],
            "type": "heatmapgl"
           }
          ],
          "histogram": [
           {
            "marker": {
             "pattern": {
              "fillmode": "overlay",
              "size": 10,
              "solidity": 0.2
             }
            },
            "type": "histogram"
           }
          ],
          "histogram2d": [
           {
            "colorbar": {
             "outlinewidth": 0,
             "ticks": ""
            },
            "colorscale": [
             [
              0,
              "#0d0887"
             ],
             [
              0.1111111111111111,
              "#46039f"
             ],
             [
              0.2222222222222222,
              "#7201a8"
             ],
             [
              0.3333333333333333,
              "#9c179e"
             ],
             [
              0.4444444444444444,
              "#bd3786"
             ],
             [
              0.5555555555555556,
              "#d8576b"
             ],
             [
              0.6666666666666666,
              "#ed7953"
             ],
             [
              0.7777777777777778,
              "#fb9f3a"
             ],
             [
              0.8888888888888888,
              "#fdca26"
             ],
             [
              1,
              "#f0f921"
             ]
            ],
            "type": "histogram2d"
           }
          ],
          "histogram2dcontour": [
           {
            "colorbar": {
             "outlinewidth": 0,
             "ticks": ""
            },
            "colorscale": [
             [
              0,
              "#0d0887"
             ],
             [
              0.1111111111111111,
              "#46039f"
             ],
             [
              0.2222222222222222,
              "#7201a8"
             ],
             [
              0.3333333333333333,
              "#9c179e"
             ],
             [
              0.4444444444444444,
              "#bd3786"
             ],
             [
              0.5555555555555556,
              "#d8576b"
             ],
             [
              0.6666666666666666,
              "#ed7953"
             ],
             [
              0.7777777777777778,
              "#fb9f3a"
             ],
             [
              0.8888888888888888,
              "#fdca26"
             ],
             [
              1,
              "#f0f921"
             ]
            ],
            "type": "histogram2dcontour"
           }
          ],
          "mesh3d": [
           {
            "colorbar": {
             "outlinewidth": 0,
             "ticks": ""
            },
            "type": "mesh3d"
           }
          ],
          "parcoords": [
           {
            "line": {
             "colorbar": {
              "outlinewidth": 0,
              "ticks": ""
             }
            },
            "type": "parcoords"
           }
          ],
          "pie": [
           {
            "automargin": true,
            "type": "pie"
           }
          ],
          "scatter": [
           {
            "fillpattern": {
             "fillmode": "overlay",
             "size": 10,
             "solidity": 0.2
            },
            "type": "scatter"
           }
          ],
          "scatter3d": [
           {
            "line": {
             "colorbar": {
              "outlinewidth": 0,
              "ticks": ""
             }
            },
            "marker": {
             "colorbar": {
              "outlinewidth": 0,
              "ticks": ""
             }
            },
            "type": "scatter3d"
           }
          ],
          "scattercarpet": [
           {
            "marker": {
             "colorbar": {
              "outlinewidth": 0,
              "ticks": ""
             }
            },
            "type": "scattercarpet"
           }
          ],
          "scattergeo": [
           {
            "marker": {
             "colorbar": {
              "outlinewidth": 0,
              "ticks": ""
             }
            },
            "type": "scattergeo"
           }
          ],
          "scattergl": [
           {
            "marker": {
             "colorbar": {
              "outlinewidth": 0,
              "ticks": ""
             }
            },
            "type": "scattergl"
           }
          ],
          "scattermapbox": [
           {
            "marker": {
             "colorbar": {
              "outlinewidth": 0,
              "ticks": ""
             }
            },
            "type": "scattermapbox"
           }
          ],
          "scatterpolar": [
           {
            "marker": {
             "colorbar": {
              "outlinewidth": 0,
              "ticks": ""
             }
            },
            "type": "scatterpolar"
           }
          ],
          "scatterpolargl": [
           {
            "marker": {
             "colorbar": {
              "outlinewidth": 0,
              "ticks": ""
             }
            },
            "type": "scatterpolargl"
           }
          ],
          "scatterternary": [
           {
            "marker": {
             "colorbar": {
              "outlinewidth": 0,
              "ticks": ""
             }
            },
            "type": "scatterternary"
           }
          ],
          "surface": [
           {
            "colorbar": {
             "outlinewidth": 0,
             "ticks": ""
            },
            "colorscale": [
             [
              0,
              "#0d0887"
             ],
             [
              0.1111111111111111,
              "#46039f"
             ],
             [
              0.2222222222222222,
              "#7201a8"
             ],
             [
              0.3333333333333333,
              "#9c179e"
             ],
             [
              0.4444444444444444,
              "#bd3786"
             ],
             [
              0.5555555555555556,
              "#d8576b"
             ],
             [
              0.6666666666666666,
              "#ed7953"
             ],
             [
              0.7777777777777778,
              "#fb9f3a"
             ],
             [
              0.8888888888888888,
              "#fdca26"
             ],
             [
              1,
              "#f0f921"
             ]
            ],
            "type": "surface"
           }
          ],
          "table": [
           {
            "cells": {
             "fill": {
              "color": "#EBF0F8"
             },
             "line": {
              "color": "white"
             }
            },
            "header": {
             "fill": {
              "color": "#C8D4E3"
             },
             "line": {
              "color": "white"
             }
            },
            "type": "table"
           }
          ]
         },
         "layout": {
          "annotationdefaults": {
           "arrowcolor": "#2a3f5f",
           "arrowhead": 0,
           "arrowwidth": 1
          },
          "autotypenumbers": "strict",
          "coloraxis": {
           "colorbar": {
            "outlinewidth": 0,
            "ticks": ""
           }
          },
          "colorscale": {
           "diverging": [
            [
             0,
             "#8e0152"
            ],
            [
             0.1,
             "#c51b7d"
            ],
            [
             0.2,
             "#de77ae"
            ],
            [
             0.3,
             "#f1b6da"
            ],
            [
             0.4,
             "#fde0ef"
            ],
            [
             0.5,
             "#f7f7f7"
            ],
            [
             0.6,
             "#e6f5d0"
            ],
            [
             0.7,
             "#b8e186"
            ],
            [
             0.8,
             "#7fbc41"
            ],
            [
             0.9,
             "#4d9221"
            ],
            [
             1,
             "#276419"
            ]
           ],
           "sequential": [
            [
             0,
             "#0d0887"
            ],
            [
             0.1111111111111111,
             "#46039f"
            ],
            [
             0.2222222222222222,
             "#7201a8"
            ],
            [
             0.3333333333333333,
             "#9c179e"
            ],
            [
             0.4444444444444444,
             "#bd3786"
            ],
            [
             0.5555555555555556,
             "#d8576b"
            ],
            [
             0.6666666666666666,
             "#ed7953"
            ],
            [
             0.7777777777777778,
             "#fb9f3a"
            ],
            [
             0.8888888888888888,
             "#fdca26"
            ],
            [
             1,
             "#f0f921"
            ]
           ],
           "sequentialminus": [
            [
             0,
             "#0d0887"
            ],
            [
             0.1111111111111111,
             "#46039f"
            ],
            [
             0.2222222222222222,
             "#7201a8"
            ],
            [
             0.3333333333333333,
             "#9c179e"
            ],
            [
             0.4444444444444444,
             "#bd3786"
            ],
            [
             0.5555555555555556,
             "#d8576b"
            ],
            [
             0.6666666666666666,
             "#ed7953"
            ],
            [
             0.7777777777777778,
             "#fb9f3a"
            ],
            [
             0.8888888888888888,
             "#fdca26"
            ],
            [
             1,
             "#f0f921"
            ]
           ]
          },
          "colorway": [
           "#636efa",
           "#EF553B",
           "#00cc96",
           "#ab63fa",
           "#FFA15A",
           "#19d3f3",
           "#FF6692",
           "#B6E880",
           "#FF97FF",
           "#FECB52"
          ],
          "font": {
           "color": "#2a3f5f"
          },
          "geo": {
           "bgcolor": "white",
           "lakecolor": "white",
           "landcolor": "#E5ECF6",
           "showlakes": true,
           "showland": true,
           "subunitcolor": "white"
          },
          "hoverlabel": {
           "align": "left"
          },
          "hovermode": "closest",
          "mapbox": {
           "style": "light"
          },
          "paper_bgcolor": "white",
          "plot_bgcolor": "#E5ECF6",
          "polar": {
           "angularaxis": {
            "gridcolor": "white",
            "linecolor": "white",
            "ticks": ""
           },
           "bgcolor": "#E5ECF6",
           "radialaxis": {
            "gridcolor": "white",
            "linecolor": "white",
            "ticks": ""
           }
          },
          "scene": {
           "xaxis": {
            "backgroundcolor": "#E5ECF6",
            "gridcolor": "white",
            "gridwidth": 2,
            "linecolor": "white",
            "showbackground": true,
            "ticks": "",
            "zerolinecolor": "white"
           },
           "yaxis": {
            "backgroundcolor": "#E5ECF6",
            "gridcolor": "white",
            "gridwidth": 2,
            "linecolor": "white",
            "showbackground": true,
            "ticks": "",
            "zerolinecolor": "white"
           },
           "zaxis": {
            "backgroundcolor": "#E5ECF6",
            "gridcolor": "white",
            "gridwidth": 2,
            "linecolor": "white",
            "showbackground": true,
            "ticks": "",
            "zerolinecolor": "white"
           }
          },
          "shapedefaults": {
           "line": {
            "color": "#2a3f5f"
           }
          },
          "ternary": {
           "aaxis": {
            "gridcolor": "white",
            "linecolor": "white",
            "ticks": ""
           },
           "baxis": {
            "gridcolor": "white",
            "linecolor": "white",
            "ticks": ""
           },
           "bgcolor": "#E5ECF6",
           "caxis": {
            "gridcolor": "white",
            "linecolor": "white",
            "ticks": ""
           }
          },
          "title": {
           "x": 0.05
          },
          "xaxis": {
           "automargin": true,
           "gridcolor": "white",
           "linecolor": "white",
           "ticks": "",
           "title": {
            "standoff": 15
           },
           "zerolinecolor": "white",
           "zerolinewidth": 2
          },
          "yaxis": {
           "automargin": true,
           "gridcolor": "white",
           "linecolor": "white",
           "ticks": "",
           "title": {
            "standoff": 15
           },
           "zerolinecolor": "white",
           "zerolinewidth": 2
          }
         }
        },
        "title": {
         "text": "W/L Ratio Start"
        },
        "xaxis": {
         "anchor": "y",
         "domain": [
          0,
          1
         ],
         "title": {
          "text": "match_date"
         }
        },
        "yaxis": {
         "anchor": "x",
         "domain": [
          0,
          1
         ],
         "title": {
          "text": "win_loss_ratio_start"
         }
        }
       }
      }
     },
     "metadata": {},
     "output_type": "display_data"
    },
    {
     "data": {
      "application/vnd.plotly.v1+json": {
       "config": {
        "plotlyServerURL": "https://plot.ly"
       },
       "data": [
        {
         "legendgroup": "Carlos Alcaraz",
         "line": {
          "color": "seagreen",
          "dash": "solid"
         },
         "marker": {
          "symbol": "circle"
         },
         "mode": "markers+lines",
         "name": "Carlos Alcaraz",
         "orientation": "v",
         "showlegend": true,
         "type": "scatter",
         "x": [
          "2021-11-01T00:00:00",
          "2022-01-17T00:00:00",
          "2022-01-17T00:00:00",
          "2022-01-17T00:00:00",
          "2022-02-14T00:00:00",
          "2022-02-14T00:00:00",
          "2022-02-14T00:00:00",
          "2022-02-14T00:00:00",
          "2022-02-14T00:00:00",
          "2022-03-07T00:00:00",
          "2022-03-07T00:00:00",
          "2022-03-07T00:00:00",
          "2022-03-07T00:00:00",
          "2022-03-07T00:00:00",
          "2022-03-21T00:00:00",
          "2022-03-21T00:00:00",
          "2022-03-21T00:00:00",
          "2022-03-21T00:00:00",
          "2022-03-21T00:00:00",
          "2022-04-11T00:00:00",
          "2022-04-18T00:00:00",
          "2022-04-18T00:00:00",
          "2022-04-18T00:00:00",
          "2022-04-18T00:00:00",
          "2022-04-18T00:00:00",
          "2022-05-02T00:00:00",
          "2022-05-02T00:00:00",
          "2022-05-02T00:00:00",
          "2022-05-02T00:00:00",
          "2022-05-23T00:00:00",
          "2022-06-27T00:00:00",
          "2022-06-27T00:00:00",
          "2022-06-27T00:00:00",
          "2022-06-27T00:00:00",
          "2022-07-18T00:00:00",
          "2022-07-18T00:00:00",
          "2022-07-18T00:00:00",
          "2022-07-18T00:00:00",
          "2022-07-18T00:00:00",
          "2022-07-25T00:00:00",
          "2022-07-25T00:00:00",
          "2022-07-25T00:00:00",
          "2022-07-25T00:00:00",
          "2022-08-08T00:00:00",
          "2022-08-15T00:00:00",
          "2022-08-15T00:00:00",
          "2022-08-15T00:00:00",
          "2022-08-29T00:00:00",
          "2022-08-29T00:00:00",
          "2022-08-29T00:00:00",
          "2022-08-29T00:00:00",
          "2022-08-29T00:00:00",
          "2022-08-29T00:00:00",
          "2022-08-29T00:00:00",
          "2022-10-03T00:00:00",
          "2022-10-24T00:00:00",
          "2022-10-24T00:00:00",
          "2022-10-24T00:00:00",
          "2022-10-24T00:00:00",
          "2022-10-31T00:00:00",
          "2022-10-31T00:00:00",
          "2022-10-31T00:00:00",
          "2023-02-13T00:00:00",
          "2023-02-13T00:00:00",
          "2023-02-13T00:00:00",
          "2023-02-13T00:00:00",
          "2023-02-20T00:00:00",
          "2023-02-20T00:00:00",
          "2023-02-20T00:00:00",
          "2023-02-20T00:00:00",
          "2023-02-20T00:00:00",
          "2023-03-06T00:00:00",
          "2023-03-06T00:00:00",
          "2023-03-06T00:00:00",
          "2023-03-06T00:00:00",
          "2023-03-06T00:00:00",
          "2023-03-20T00:00:00",
          "2023-03-20T00:00:00",
          "2023-03-20T00:00:00",
          "2023-03-20T00:00:00",
          "2023-03-20T00:00:00",
          "2023-04-17T00:00:00",
          "2023-04-17T00:00:00",
          "2023-04-17T00:00:00",
          "2023-04-17T00:00:00",
          "2023-04-17T00:00:00",
          "2023-05-08T00:00:00",
          "2023-05-08T00:00:00",
          "2023-05-29T00:00:00",
          "2023-05-29T00:00:00",
          "2023-05-29T00:00:00",
          "2023-05-29T00:00:00",
          "2023-05-29T00:00:00",
          "2023-05-29T00:00:00",
          "2023-06-19T00:00:00",
          "2023-06-19T00:00:00",
          "2023-06-19T00:00:00",
          "2023-06-19T00:00:00",
          "2023-06-19T00:00:00",
          "2023-07-03T00:00:00",
          "2023-07-03T00:00:00",
          "2023-07-03T00:00:00",
          "2023-07-03T00:00:00",
          "2023-08-07T00:00:00",
          "2023-08-07T00:00:00",
          "2023-08-07T00:00:00",
          "2023-08-14T00:00:00",
          "2023-08-14T00:00:00",
          "2023-08-14T00:00:00",
          "2023-08-14T00:00:00",
          "2023-08-14T00:00:00",
          "2023-08-28T00:00:00",
          "2023-08-28T00:00:00",
          "2023-08-28T00:00:00",
          "2023-08-28T00:00:00",
          "2023-08-28T00:00:00",
          "2023-08-28T00:00:00",
          "2023-09-27T00:00:00",
          "2023-09-27T00:00:00",
          "2023-09-27T00:00:00",
          "2023-09-27T00:00:00",
          "2023-10-02T00:00:00",
          "2023-10-02T00:00:00",
          "2023-10-02T00:00:00",
          "2023-10-30T00:00:00"
         ],
         "xaxis": "x",
         "y": [
          1.5,
          2.3333333333333335,
          2.3333333333333335,
          1.5,
          4,
          4,
          4,
          2.3333333333333335,
          2.3333333333333335,
          4,
          2.3333333333333335,
          4,
          4,
          9,
          9,
          9,
          9,
          9,
          9,
          9,
          9,
          9,
          9,
          9,
          9,
          9,
          9,
          9,
          9,
          9,
          4,
          9,
          9,
          9,
          2.3333333333333335,
          2.3333333333333335,
          2.3333333333333335,
          2.3333333333333335,
          2.3333333333333335,
          2.3333333333333335,
          2.3333333333333335,
          2.3333333333333335,
          2.3333333333333335,
          2.3333333333333335,
          2.3333333333333335,
          2.3333333333333335,
          2.3333333333333335,
          9,
          4,
          4,
          4,
          4,
          2.3333333333333335,
          2.3333333333333335,
          9,
          4,
          4,
          4,
          4,
          2.3333333333333335,
          2.3333333333333335,
          2.3333333333333335,
          9,
          2.3333333333333335,
          2.3333333333333335,
          4,
          9,
          4,
          4,
          4,
          9,
          9,
          9,
          9,
          9,
          9,
          9,
          9,
          9,
          9,
          9,
          9,
          9,
          9,
          9,
          9,
          9,
          9,
          9,
          9,
          9,
          9,
          9,
          4,
          4,
          4,
          9,
          9,
          9,
          9,
          9,
          9,
          9,
          9,
          9,
          9,
          4,
          4,
          4,
          4,
          4,
          9,
          9,
          4,
          9,
          4,
          9,
          4,
          4,
          4,
          4,
          2.3333333333333335,
          2.3333333333333335,
          2.3333333333333335,
          1.5
         ],
         "yaxis": "y"
        },
        {
         "legendgroup": "Felix Auger Aliassime",
         "line": {
          "color": "tomato",
          "dash": "solid"
         },
         "marker": {
          "symbol": "circle"
         },
         "mode": "markers+lines",
         "name": "Felix Auger Aliassime",
         "orientation": "v",
         "showlegend": true,
         "type": "scatter",
         "x": [
          "2021-11-01T00:00:00",
          "2021-11-01T00:00:00",
          "2021-11-08T00:00:00",
          "2021-11-08T00:00:00",
          "2021-11-08T00:00:00",
          "2022-01-17T00:00:00",
          "2022-01-17T00:00:00",
          "2022-01-17T00:00:00",
          "2022-01-17T00:00:00",
          "2022-01-17T00:00:00",
          "2022-02-07T00:00:00",
          "2022-02-07T00:00:00",
          "2022-02-07T00:00:00",
          "2022-02-07T00:00:00",
          "2022-02-07T00:00:00",
          "2022-02-14T00:00:00",
          "2022-02-14T00:00:00",
          "2022-02-14T00:00:00",
          "2022-02-14T00:00:00",
          "2022-03-07T00:00:00",
          "2022-03-21T00:00:00",
          "2022-04-04T00:00:00",
          "2022-04-04T00:00:00",
          "2022-04-11T00:00:00",
          "2022-04-18T00:00:00",
          "2022-04-18T00:00:00",
          "2022-04-18T00:00:00",
          "2022-04-25T00:00:00",
          "2022-04-25T00:00:00",
          "2022-05-02T00:00:00",
          "2022-05-02T00:00:00",
          "2022-05-02T00:00:00",
          "2022-05-09T00:00:00",
          "2022-05-09T00:00:00",
          "2022-05-09T00:00:00",
          "2022-05-23T00:00:00",
          "2022-05-23T00:00:00",
          "2022-05-23T00:00:00",
          "2022-05-23T00:00:00",
          "2022-06-06T00:00:00",
          "2022-06-06T00:00:00",
          "2022-06-06T00:00:00",
          "2022-06-13T00:00:00",
          "2022-06-13T00:00:00",
          "2022-06-13T00:00:00",
          "2022-06-27T00:00:00",
          "2022-07-11T00:00:00",
          "2022-08-01T00:00:00",
          "2022-08-01T00:00:00",
          "2022-08-01T00:00:00",
          "2022-08-08T00:00:00",
          "2022-08-08T00:00:00",
          "2022-08-08T00:00:00",
          "2022-08-15T00:00:00",
          "2022-08-15T00:00:00",
          "2022-08-15T00:00:00",
          "2022-08-29T00:00:00",
          "2022-08-29T00:00:00",
          "2022-10-03T00:00:00",
          "2022-10-10T00:00:00",
          "2022-10-10T00:00:00",
          "2022-10-10T00:00:00",
          "2022-10-10T00:00:00",
          "2022-10-17T00:00:00",
          "2022-10-17T00:00:00",
          "2022-10-17T00:00:00",
          "2022-10-17T00:00:00",
          "2022-10-24T00:00:00",
          "2022-10-31T00:00:00",
          "2022-10-31T00:00:00",
          "2022-10-31T00:00:00",
          "2022-10-31T00:00:00",
          "2023-01-02T00:00:00",
          "2023-01-16T00:00:00",
          "2023-01-16T00:00:00",
          "2023-01-16T00:00:00",
          "2023-01-16T00:00:00",
          "2023-02-13T00:00:00",
          "2023-02-13T00:00:00",
          "2023-02-13T00:00:00",
          "2023-02-20T00:00:00",
          "2023-02-20T00:00:00",
          "2023-02-20T00:00:00",
          "2023-02-27T00:00:00",
          "2023-02-27T00:00:00",
          "2023-03-06T00:00:00",
          "2023-03-06T00:00:00",
          "2023-03-06T00:00:00",
          "2023-03-06T00:00:00",
          "2023-03-20T00:00:00",
          "2023-03-20T00:00:00",
          "2023-04-24T00:00:00",
          "2023-05-08T00:00:00",
          "2023-05-22T00:00:00",
          "2023-05-22T00:00:00",
          "2023-05-29T00:00:00",
          "2023-07-03T00:00:00",
          "2023-07-31T00:00:00",
          "2023-08-07T00:00:00",
          "2023-08-14T00:00:00",
          "2023-08-14T00:00:00",
          "2023-08-28T00:00:00",
          "2023-09-27T00:00:00",
          "2023-10-02T00:00:00",
          "2023-10-16T00:00:00",
          "2023-10-16T00:00:00",
          "2023-10-16T00:00:00",
          "2023-10-23T00:00:00",
          "2023-10-23T00:00:00",
          "2023-10-23T00:00:00",
          "2023-10-23T00:00:00",
          "2023-10-23T00:00:00",
          "2023-10-30T00:00:00",
          "2023-10-30T00:00:00"
         ],
         "xaxis": "x",
         "y": [
          1.5,
          1.5,
          2.3333333333333335,
          2.3333333333333335,
          1.5,
          2.3333333333333335,
          2.3333333333333335,
          4,
          2.3333333333333335,
          4,
          4,
          4,
          4,
          4,
          9,
          4,
          4,
          4,
          4,
          4,
          2.3333333333333335,
          1.5,
          1.5,
          1,
          1,
          1,
          0.6666666666666666,
          0.6666666666666666,
          0.6666666666666666,
          0.6666666666666666,
          1.5,
          1,
          1.5,
          1,
          2.3333333333333335,
          2.3333333333333335,
          4,
          2.3333333333333335,
          2.3333333333333335,
          2.3333333333333335,
          2.3333333333333335,
          2.3333333333333335,
          2.3333333333333335,
          2.3333333333333335,
          2.3333333333333335,
          1.5,
          1,
          0.6666666666666666,
          1,
          1.5,
          1,
          1,
          1.5,
          1,
          1.5,
          1,
          2.3333333333333335,
          2.3333333333333335,
          1.5,
          2.3333333333333335,
          2.3333333333333335,
          2.3333333333333335,
          1.5,
          4,
          4,
          4,
          4,
          9,
          9,
          9,
          9,
          9,
          4,
          4,
          2.3333333333333335,
          4,
          4,
          2.3333333333333335,
          1.5,
          2.3333333333333335,
          1.5,
          1.5,
          2.3333333333333335,
          1.5,
          1.5,
          2.3333333333333335,
          2.3333333333333335,
          1.5,
          1,
          2.3333333333333335,
          1.5,
          1.5,
          1,
          1,
          1,
          1,
          0.6666666666666666,
          0.42857142857142855,
          0.25,
          0.25,
          0.25,
          0.25,
          0.25,
          0.25,
          0.42857142857142855,
          0.25,
          0.1111111111111111,
          0.6666666666666666,
          1,
          1.5,
          1.5,
          2.3333333333333335,
          2.3333333333333335,
          4
         ],
         "yaxis": "y"
        }
       ],
       "layout": {
        "hovermode": "x",
        "legend": {
         "title": {
          "text": "player_name"
         },
         "tracegroupgap": 0
        },
        "template": {
         "data": {
          "bar": [
           {
            "error_x": {
             "color": "#2a3f5f"
            },
            "error_y": {
             "color": "#2a3f5f"
            },
            "marker": {
             "line": {
              "color": "#E5ECF6",
              "width": 0.5
             },
             "pattern": {
              "fillmode": "overlay",
              "size": 10,
              "solidity": 0.2
             }
            },
            "type": "bar"
           }
          ],
          "barpolar": [
           {
            "marker": {
             "line": {
              "color": "#E5ECF6",
              "width": 0.5
             },
             "pattern": {
              "fillmode": "overlay",
              "size": 10,
              "solidity": 0.2
             }
            },
            "type": "barpolar"
           }
          ],
          "carpet": [
           {
            "aaxis": {
             "endlinecolor": "#2a3f5f",
             "gridcolor": "white",
             "linecolor": "white",
             "minorgridcolor": "white",
             "startlinecolor": "#2a3f5f"
            },
            "baxis": {
             "endlinecolor": "#2a3f5f",
             "gridcolor": "white",
             "linecolor": "white",
             "minorgridcolor": "white",
             "startlinecolor": "#2a3f5f"
            },
            "type": "carpet"
           }
          ],
          "choropleth": [
           {
            "colorbar": {
             "outlinewidth": 0,
             "ticks": ""
            },
            "type": "choropleth"
           }
          ],
          "contour": [
           {
            "colorbar": {
             "outlinewidth": 0,
             "ticks": ""
            },
            "colorscale": [
             [
              0,
              "#0d0887"
             ],
             [
              0.1111111111111111,
              "#46039f"
             ],
             [
              0.2222222222222222,
              "#7201a8"
             ],
             [
              0.3333333333333333,
              "#9c179e"
             ],
             [
              0.4444444444444444,
              "#bd3786"
             ],
             [
              0.5555555555555556,
              "#d8576b"
             ],
             [
              0.6666666666666666,
              "#ed7953"
             ],
             [
              0.7777777777777778,
              "#fb9f3a"
             ],
             [
              0.8888888888888888,
              "#fdca26"
             ],
             [
              1,
              "#f0f921"
             ]
            ],
            "type": "contour"
           }
          ],
          "contourcarpet": [
           {
            "colorbar": {
             "outlinewidth": 0,
             "ticks": ""
            },
            "type": "contourcarpet"
           }
          ],
          "heatmap": [
           {
            "colorbar": {
             "outlinewidth": 0,
             "ticks": ""
            },
            "colorscale": [
             [
              0,
              "#0d0887"
             ],
             [
              0.1111111111111111,
              "#46039f"
             ],
             [
              0.2222222222222222,
              "#7201a8"
             ],
             [
              0.3333333333333333,
              "#9c179e"
             ],
             [
              0.4444444444444444,
              "#bd3786"
             ],
             [
              0.5555555555555556,
              "#d8576b"
             ],
             [
              0.6666666666666666,
              "#ed7953"
             ],
             [
              0.7777777777777778,
              "#fb9f3a"
             ],
             [
              0.8888888888888888,
              "#fdca26"
             ],
             [
              1,
              "#f0f921"
             ]
            ],
            "type": "heatmap"
           }
          ],
          "heatmapgl": [
           {
            "colorbar": {
             "outlinewidth": 0,
             "ticks": ""
            },
            "colorscale": [
             [
              0,
              "#0d0887"
             ],
             [
              0.1111111111111111,
              "#46039f"
             ],
             [
              0.2222222222222222,
              "#7201a8"
             ],
             [
              0.3333333333333333,
              "#9c179e"
             ],
             [
              0.4444444444444444,
              "#bd3786"
             ],
             [
              0.5555555555555556,
              "#d8576b"
             ],
             [
              0.6666666666666666,
              "#ed7953"
             ],
             [
              0.7777777777777778,
              "#fb9f3a"
             ],
             [
              0.8888888888888888,
              "#fdca26"
             ],
             [
              1,
              "#f0f921"
             ]
            ],
            "type": "heatmapgl"
           }
          ],
          "histogram": [
           {
            "marker": {
             "pattern": {
              "fillmode": "overlay",
              "size": 10,
              "solidity": 0.2
             }
            },
            "type": "histogram"
           }
          ],
          "histogram2d": [
           {
            "colorbar": {
             "outlinewidth": 0,
             "ticks": ""
            },
            "colorscale": [
             [
              0,
              "#0d0887"
             ],
             [
              0.1111111111111111,
              "#46039f"
             ],
             [
              0.2222222222222222,
              "#7201a8"
             ],
             [
              0.3333333333333333,
              "#9c179e"
             ],
             [
              0.4444444444444444,
              "#bd3786"
             ],
             [
              0.5555555555555556,
              "#d8576b"
             ],
             [
              0.6666666666666666,
              "#ed7953"
             ],
             [
              0.7777777777777778,
              "#fb9f3a"
             ],
             [
              0.8888888888888888,
              "#fdca26"
             ],
             [
              1,
              "#f0f921"
             ]
            ],
            "type": "histogram2d"
           }
          ],
          "histogram2dcontour": [
           {
            "colorbar": {
             "outlinewidth": 0,
             "ticks": ""
            },
            "colorscale": [
             [
              0,
              "#0d0887"
             ],
             [
              0.1111111111111111,
              "#46039f"
             ],
             [
              0.2222222222222222,
              "#7201a8"
             ],
             [
              0.3333333333333333,
              "#9c179e"
             ],
             [
              0.4444444444444444,
              "#bd3786"
             ],
             [
              0.5555555555555556,
              "#d8576b"
             ],
             [
              0.6666666666666666,
              "#ed7953"
             ],
             [
              0.7777777777777778,
              "#fb9f3a"
             ],
             [
              0.8888888888888888,
              "#fdca26"
             ],
             [
              1,
              "#f0f921"
             ]
            ],
            "type": "histogram2dcontour"
           }
          ],
          "mesh3d": [
           {
            "colorbar": {
             "outlinewidth": 0,
             "ticks": ""
            },
            "type": "mesh3d"
           }
          ],
          "parcoords": [
           {
            "line": {
             "colorbar": {
              "outlinewidth": 0,
              "ticks": ""
             }
            },
            "type": "parcoords"
           }
          ],
          "pie": [
           {
            "automargin": true,
            "type": "pie"
           }
          ],
          "scatter": [
           {
            "fillpattern": {
             "fillmode": "overlay",
             "size": 10,
             "solidity": 0.2
            },
            "type": "scatter"
           }
          ],
          "scatter3d": [
           {
            "line": {
             "colorbar": {
              "outlinewidth": 0,
              "ticks": ""
             }
            },
            "marker": {
             "colorbar": {
              "outlinewidth": 0,
              "ticks": ""
             }
            },
            "type": "scatter3d"
           }
          ],
          "scattercarpet": [
           {
            "marker": {
             "colorbar": {
              "outlinewidth": 0,
              "ticks": ""
             }
            },
            "type": "scattercarpet"
           }
          ],
          "scattergeo": [
           {
            "marker": {
             "colorbar": {
              "outlinewidth": 0,
              "ticks": ""
             }
            },
            "type": "scattergeo"
           }
          ],
          "scattergl": [
           {
            "marker": {
             "colorbar": {
              "outlinewidth": 0,
              "ticks": ""
             }
            },
            "type": "scattergl"
           }
          ],
          "scattermapbox": [
           {
            "marker": {
             "colorbar": {
              "outlinewidth": 0,
              "ticks": ""
             }
            },
            "type": "scattermapbox"
           }
          ],
          "scatterpolar": [
           {
            "marker": {
             "colorbar": {
              "outlinewidth": 0,
              "ticks": ""
             }
            },
            "type": "scatterpolar"
           }
          ],
          "scatterpolargl": [
           {
            "marker": {
             "colorbar": {
              "outlinewidth": 0,
              "ticks": ""
             }
            },
            "type": "scatterpolargl"
           }
          ],
          "scatterternary": [
           {
            "marker": {
             "colorbar": {
              "outlinewidth": 0,
              "ticks": ""
             }
            },
            "type": "scatterternary"
           }
          ],
          "surface": [
           {
            "colorbar": {
             "outlinewidth": 0,
             "ticks": ""
            },
            "colorscale": [
             [
              0,
              "#0d0887"
             ],
             [
              0.1111111111111111,
              "#46039f"
             ],
             [
              0.2222222222222222,
              "#7201a8"
             ],
             [
              0.3333333333333333,
              "#9c179e"
             ],
             [
              0.4444444444444444,
              "#bd3786"
             ],
             [
              0.5555555555555556,
              "#d8576b"
             ],
             [
              0.6666666666666666,
              "#ed7953"
             ],
             [
              0.7777777777777778,
              "#fb9f3a"
             ],
             [
              0.8888888888888888,
              "#fdca26"
             ],
             [
              1,
              "#f0f921"
             ]
            ],
            "type": "surface"
           }
          ],
          "table": [
           {
            "cells": {
             "fill": {
              "color": "#EBF0F8"
             },
             "line": {
              "color": "white"
             }
            },
            "header": {
             "fill": {
              "color": "#C8D4E3"
             },
             "line": {
              "color": "white"
             }
            },
            "type": "table"
           }
          ]
         },
         "layout": {
          "annotationdefaults": {
           "arrowcolor": "#2a3f5f",
           "arrowhead": 0,
           "arrowwidth": 1
          },
          "autotypenumbers": "strict",
          "coloraxis": {
           "colorbar": {
            "outlinewidth": 0,
            "ticks": ""
           }
          },
          "colorscale": {
           "diverging": [
            [
             0,
             "#8e0152"
            ],
            [
             0.1,
             "#c51b7d"
            ],
            [
             0.2,
             "#de77ae"
            ],
            [
             0.3,
             "#f1b6da"
            ],
            [
             0.4,
             "#fde0ef"
            ],
            [
             0.5,
             "#f7f7f7"
            ],
            [
             0.6,
             "#e6f5d0"
            ],
            [
             0.7,
             "#b8e186"
            ],
            [
             0.8,
             "#7fbc41"
            ],
            [
             0.9,
             "#4d9221"
            ],
            [
             1,
             "#276419"
            ]
           ],
           "sequential": [
            [
             0,
             "#0d0887"
            ],
            [
             0.1111111111111111,
             "#46039f"
            ],
            [
             0.2222222222222222,
             "#7201a8"
            ],
            [
             0.3333333333333333,
             "#9c179e"
            ],
            [
             0.4444444444444444,
             "#bd3786"
            ],
            [
             0.5555555555555556,
             "#d8576b"
            ],
            [
             0.6666666666666666,
             "#ed7953"
            ],
            [
             0.7777777777777778,
             "#fb9f3a"
            ],
            [
             0.8888888888888888,
             "#fdca26"
            ],
            [
             1,
             "#f0f921"
            ]
           ],
           "sequentialminus": [
            [
             0,
             "#0d0887"
            ],
            [
             0.1111111111111111,
             "#46039f"
            ],
            [
             0.2222222222222222,
             "#7201a8"
            ],
            [
             0.3333333333333333,
             "#9c179e"
            ],
            [
             0.4444444444444444,
             "#bd3786"
            ],
            [
             0.5555555555555556,
             "#d8576b"
            ],
            [
             0.6666666666666666,
             "#ed7953"
            ],
            [
             0.7777777777777778,
             "#fb9f3a"
            ],
            [
             0.8888888888888888,
             "#fdca26"
            ],
            [
             1,
             "#f0f921"
            ]
           ]
          },
          "colorway": [
           "#636efa",
           "#EF553B",
           "#00cc96",
           "#ab63fa",
           "#FFA15A",
           "#19d3f3",
           "#FF6692",
           "#B6E880",
           "#FF97FF",
           "#FECB52"
          ],
          "font": {
           "color": "#2a3f5f"
          },
          "geo": {
           "bgcolor": "white",
           "lakecolor": "white",
           "landcolor": "#E5ECF6",
           "showlakes": true,
           "showland": true,
           "subunitcolor": "white"
          },
          "hoverlabel": {
           "align": "left"
          },
          "hovermode": "closest",
          "mapbox": {
           "style": "light"
          },
          "paper_bgcolor": "white",
          "plot_bgcolor": "#E5ECF6",
          "polar": {
           "angularaxis": {
            "gridcolor": "white",
            "linecolor": "white",
            "ticks": ""
           },
           "bgcolor": "#E5ECF6",
           "radialaxis": {
            "gridcolor": "white",
            "linecolor": "white",
            "ticks": ""
           }
          },
          "scene": {
           "xaxis": {
            "backgroundcolor": "#E5ECF6",
            "gridcolor": "white",
            "gridwidth": 2,
            "linecolor": "white",
            "showbackground": true,
            "ticks": "",
            "zerolinecolor": "white"
           },
           "yaxis": {
            "backgroundcolor": "#E5ECF6",
            "gridcolor": "white",
            "gridwidth": 2,
            "linecolor": "white",
            "showbackground": true,
            "ticks": "",
            "zerolinecolor": "white"
           },
           "zaxis": {
            "backgroundcolor": "#E5ECF6",
            "gridcolor": "white",
            "gridwidth": 2,
            "linecolor": "white",
            "showbackground": true,
            "ticks": "",
            "zerolinecolor": "white"
           }
          },
          "shapedefaults": {
           "line": {
            "color": "#2a3f5f"
           }
          },
          "ternary": {
           "aaxis": {
            "gridcolor": "white",
            "linecolor": "white",
            "ticks": ""
           },
           "baxis": {
            "gridcolor": "white",
            "linecolor": "white",
            "ticks": ""
           },
           "bgcolor": "#E5ECF6",
           "caxis": {
            "gridcolor": "white",
            "linecolor": "white",
            "ticks": ""
           }
          },
          "title": {
           "x": 0.05
          },
          "xaxis": {
           "automargin": true,
           "gridcolor": "white",
           "linecolor": "white",
           "ticks": "",
           "title": {
            "standoff": 15
           },
           "zerolinecolor": "white",
           "zerolinewidth": 2
          },
          "yaxis": {
           "automargin": true,
           "gridcolor": "white",
           "linecolor": "white",
           "ticks": "",
           "title": {
            "standoff": 15
           },
           "zerolinecolor": "white",
           "zerolinewidth": 2
          }
         }
        },
        "title": {
         "text": "W/L Ratio Last 10 Matches"
        },
        "xaxis": {
         "anchor": "y",
         "domain": [
          0,
          1
         ],
         "title": {
          "text": "match_date"
         }
        },
        "yaxis": {
         "anchor": "x",
         "domain": [
          0,
          1
         ],
         "title": {
          "text": "win_loss_ratio_last_10"
         }
        }
       }
      }
     },
     "metadata": {},
     "output_type": "display_data"
    },
    {
     "data": {
      "application/vnd.plotly.v1+json": {
       "config": {
        "plotlyServerURL": "https://plot.ly"
       },
       "data": [
        {
         "legendgroup": "Carlos Alcaraz",
         "line": {
          "color": "seagreen",
          "dash": "solid"
         },
         "marker": {
          "symbol": "circle"
         },
         "mode": "markers+lines",
         "name": "Carlos Alcaraz",
         "orientation": "v",
         "showlegend": true,
         "type": "scatter",
         "x": [
          "2021-11-01T00:00:00",
          "2022-01-17T00:00:00",
          "2022-01-17T00:00:00",
          "2022-01-17T00:00:00",
          "2022-02-14T00:00:00",
          "2022-02-14T00:00:00",
          "2022-02-14T00:00:00",
          "2022-02-14T00:00:00",
          "2022-02-14T00:00:00",
          "2022-03-07T00:00:00",
          "2022-03-07T00:00:00",
          "2022-03-07T00:00:00",
          "2022-03-07T00:00:00",
          "2022-03-07T00:00:00",
          "2022-03-21T00:00:00",
          "2022-03-21T00:00:00",
          "2022-03-21T00:00:00",
          "2022-03-21T00:00:00",
          "2022-03-21T00:00:00",
          "2022-04-11T00:00:00",
          "2022-04-18T00:00:00",
          "2022-04-18T00:00:00",
          "2022-04-18T00:00:00",
          "2022-04-18T00:00:00",
          "2022-04-18T00:00:00",
          "2022-05-02T00:00:00",
          "2022-05-02T00:00:00",
          "2022-05-02T00:00:00",
          "2022-05-02T00:00:00",
          "2022-05-23T00:00:00",
          "2022-06-27T00:00:00",
          "2022-06-27T00:00:00",
          "2022-06-27T00:00:00",
          "2022-06-27T00:00:00",
          "2022-07-18T00:00:00",
          "2022-07-18T00:00:00",
          "2022-07-18T00:00:00",
          "2022-07-18T00:00:00",
          "2022-07-18T00:00:00",
          "2022-07-25T00:00:00",
          "2022-07-25T00:00:00",
          "2022-07-25T00:00:00",
          "2022-07-25T00:00:00",
          "2022-08-08T00:00:00",
          "2022-08-15T00:00:00",
          "2022-08-15T00:00:00",
          "2022-08-15T00:00:00",
          "2022-08-29T00:00:00",
          "2022-08-29T00:00:00",
          "2022-08-29T00:00:00",
          "2022-08-29T00:00:00",
          "2022-08-29T00:00:00",
          "2022-08-29T00:00:00",
          "2022-08-29T00:00:00",
          "2022-10-03T00:00:00",
          "2022-10-24T00:00:00",
          "2022-10-24T00:00:00",
          "2022-10-24T00:00:00",
          "2022-10-24T00:00:00",
          "2022-10-31T00:00:00",
          "2022-10-31T00:00:00",
          "2022-10-31T00:00:00",
          "2023-02-13T00:00:00",
          "2023-02-13T00:00:00",
          "2023-02-13T00:00:00",
          "2023-02-13T00:00:00",
          "2023-02-20T00:00:00",
          "2023-02-20T00:00:00",
          "2023-02-20T00:00:00",
          "2023-02-20T00:00:00",
          "2023-02-20T00:00:00",
          "2023-03-06T00:00:00",
          "2023-03-06T00:00:00",
          "2023-03-06T00:00:00",
          "2023-03-06T00:00:00",
          "2023-03-06T00:00:00",
          "2023-03-20T00:00:00",
          "2023-03-20T00:00:00",
          "2023-03-20T00:00:00",
          "2023-03-20T00:00:00",
          "2023-03-20T00:00:00",
          "2023-04-17T00:00:00",
          "2023-04-17T00:00:00",
          "2023-04-17T00:00:00",
          "2023-04-17T00:00:00",
          "2023-04-17T00:00:00",
          "2023-05-08T00:00:00",
          "2023-05-08T00:00:00",
          "2023-05-29T00:00:00",
          "2023-05-29T00:00:00",
          "2023-05-29T00:00:00",
          "2023-05-29T00:00:00",
          "2023-05-29T00:00:00",
          "2023-05-29T00:00:00",
          "2023-06-19T00:00:00",
          "2023-06-19T00:00:00",
          "2023-06-19T00:00:00",
          "2023-06-19T00:00:00",
          "2023-06-19T00:00:00",
          "2023-07-03T00:00:00",
          "2023-07-03T00:00:00",
          "2023-07-03T00:00:00",
          "2023-07-03T00:00:00",
          "2023-08-07T00:00:00",
          "2023-08-07T00:00:00",
          "2023-08-07T00:00:00",
          "2023-08-14T00:00:00",
          "2023-08-14T00:00:00",
          "2023-08-14T00:00:00",
          "2023-08-14T00:00:00",
          "2023-08-14T00:00:00",
          "2023-08-28T00:00:00",
          "2023-08-28T00:00:00",
          "2023-08-28T00:00:00",
          "2023-08-28T00:00:00",
          "2023-08-28T00:00:00",
          "2023-08-28T00:00:00",
          "2023-09-27T00:00:00",
          "2023-09-27T00:00:00",
          "2023-09-27T00:00:00",
          "2023-09-27T00:00:00",
          "2023-10-02T00:00:00",
          "2023-10-02T00:00:00",
          "2023-10-02T00:00:00",
          "2023-10-30T00:00:00"
         ],
         "xaxis": "x",
         "y": [
          0.6,
          0.6122448979591837,
          0.625,
          0.6170212765957447,
          0.6481481481481481,
          0.6415094339622641,
          0.6346153846153846,
          0.6274509803921569,
          0.62,
          0.6428571428571429,
          0.6363636363636364,
          0.6551724137931034,
          0.6491228070175439,
          0.6610169491525424,
          0.6666666666666666,
          0.6721311475409836,
          0.6774193548387096,
          0.6825396825396826,
          0.6875,
          0.6818181818181818,
          0.704225352112676,
          0.6956521739130435,
          0.6911764705882353,
          0.6865671641791045,
          0.7,
          0.7162162162162162,
          0.7123287671232876,
          0.72,
          0.7083333333333334,
          0.7283950617283951,
          0.7294117647058823,
          0.7317073170731707,
          0.7349397590361446,
          0.7380952380952381,
          0.7333333333333333,
          0.7303370786516854,
          0.7272727272727273,
          0.7241379310344828,
          0.7209302325581395,
          0.7311827956989247,
          0.7282608695652174,
          0.7252747252747253,
          0.7340425531914894,
          0.7263157894736842,
          0.71875,
          0.7216494845360825,
          0.7244897959183674,
          0.7428571428571429,
          0.7403846153846154,
          0.7378640776699029,
          0.7352941176470589,
          0.7326732673267327,
          0.73,
          0.7272727272727273,
          0.7358490566037735,
          0.7314814814814815,
          0.7289719626168224,
          0.7339449541284404,
          0.7363636363636363,
          0.7321428571428571,
          0.7345132743362832,
          0.7297297297297297,
          0.7435897435897436,
          0.7391304347826086,
          0.7368421052631579,
          0.7413793103448276,
          0.743801652892562,
          0.7372881355932204,
          0.7394957983193278,
          0.7416666666666667,
          0.7459016393442623,
          0.75,
          0.752,
          0.753968253968254,
          0.7559055118110236,
          0.7479674796747967,
          0.7538461538461538,
          0.7557251908396947,
          0.7575757575757576,
          0.7593984962406015,
          0.751937984496124,
          0.7611940298507462,
          0.762962962962963,
          0.7664233576642335,
          0.7681159420289855,
          0.7647058823529411,
          0.7724137931034483,
          0.773972602739726,
          0.7755102040816326,
          0.777027027027027,
          0.7785234899328859,
          0.78,
          0.7814569536423841,
          0.7763157894736842,
          0.7792207792207793,
          0.7777777777777778,
          0.7806451612903226,
          0.782051282051282,
          0.7834394904458599,
          0.7888198757763976,
          0.7875,
          0.7848101265822784,
          0.7861635220125787,
          0.7878787878787878,
          0.7904191616766467,
          0.7891566265060241,
          0.7857142857142857,
          0.7894736842105263,
          0.7906976744186046,
          0.788235294117647,
          0.7869822485207101,
          0.7942857142857143,
          0.7954545454545454,
          0.791907514450867,
          0.7921348314606742,
          0.7931034482758621,
          0.7966101694915254,
          0.7900552486187845,
          0.7912087912087912,
          0.7888888888888889,
          0.7877094972067039,
          0.7891891891891892,
          0.7880434782608695,
          0.7868852459016393,
          0.7849462365591398
         ],
         "yaxis": "y"
        },
        {
         "legendgroup": "Felix Auger Aliassime",
         "line": {
          "color": "tomato",
          "dash": "solid"
         },
         "marker": {
          "symbol": "circle"
         },
         "mode": "markers+lines",
         "name": "Felix Auger Aliassime",
         "orientation": "v",
         "showlegend": true,
         "type": "scatter",
         "x": [
          "2021-11-01T00:00:00",
          "2021-11-01T00:00:00",
          "2021-11-08T00:00:00",
          "2021-11-08T00:00:00",
          "2021-11-08T00:00:00",
          "2022-01-17T00:00:00",
          "2022-01-17T00:00:00",
          "2022-01-17T00:00:00",
          "2022-01-17T00:00:00",
          "2022-01-17T00:00:00",
          "2022-02-07T00:00:00",
          "2022-02-07T00:00:00",
          "2022-02-07T00:00:00",
          "2022-02-07T00:00:00",
          "2022-02-07T00:00:00",
          "2022-02-14T00:00:00",
          "2022-02-14T00:00:00",
          "2022-02-14T00:00:00",
          "2022-02-14T00:00:00",
          "2022-03-07T00:00:00",
          "2022-03-21T00:00:00",
          "2022-04-04T00:00:00",
          "2022-04-04T00:00:00",
          "2022-04-11T00:00:00",
          "2022-04-18T00:00:00",
          "2022-04-18T00:00:00",
          "2022-04-18T00:00:00",
          "2022-04-25T00:00:00",
          "2022-04-25T00:00:00",
          "2022-05-02T00:00:00",
          "2022-05-02T00:00:00",
          "2022-05-02T00:00:00",
          "2022-05-09T00:00:00",
          "2022-05-09T00:00:00",
          "2022-05-09T00:00:00",
          "2022-05-23T00:00:00",
          "2022-05-23T00:00:00",
          "2022-05-23T00:00:00",
          "2022-05-23T00:00:00",
          "2022-06-06T00:00:00",
          "2022-06-06T00:00:00",
          "2022-06-06T00:00:00",
          "2022-06-13T00:00:00",
          "2022-06-13T00:00:00",
          "2022-06-13T00:00:00",
          "2022-06-27T00:00:00",
          "2022-07-11T00:00:00",
          "2022-08-01T00:00:00",
          "2022-08-01T00:00:00",
          "2022-08-01T00:00:00",
          "2022-08-08T00:00:00",
          "2022-08-08T00:00:00",
          "2022-08-08T00:00:00",
          "2022-08-15T00:00:00",
          "2022-08-15T00:00:00",
          "2022-08-15T00:00:00",
          "2022-08-29T00:00:00",
          "2022-08-29T00:00:00",
          "2022-10-03T00:00:00",
          "2022-10-10T00:00:00",
          "2022-10-10T00:00:00",
          "2022-10-10T00:00:00",
          "2022-10-10T00:00:00",
          "2022-10-17T00:00:00",
          "2022-10-17T00:00:00",
          "2022-10-17T00:00:00",
          "2022-10-17T00:00:00",
          "2022-10-24T00:00:00",
          "2022-10-31T00:00:00",
          "2022-10-31T00:00:00",
          "2022-10-31T00:00:00",
          "2022-10-31T00:00:00",
          "2023-01-02T00:00:00",
          "2023-01-16T00:00:00",
          "2023-01-16T00:00:00",
          "2023-01-16T00:00:00",
          "2023-01-16T00:00:00",
          "2023-02-13T00:00:00",
          "2023-02-13T00:00:00",
          "2023-02-13T00:00:00",
          "2023-02-20T00:00:00",
          "2023-02-20T00:00:00",
          "2023-02-20T00:00:00",
          "2023-02-27T00:00:00",
          "2023-02-27T00:00:00",
          "2023-03-06T00:00:00",
          "2023-03-06T00:00:00",
          "2023-03-06T00:00:00",
          "2023-03-06T00:00:00",
          "2023-03-20T00:00:00",
          "2023-03-20T00:00:00",
          "2023-04-24T00:00:00",
          "2023-05-08T00:00:00",
          "2023-05-22T00:00:00",
          "2023-05-22T00:00:00",
          "2023-05-29T00:00:00",
          "2023-07-03T00:00:00",
          "2023-07-31T00:00:00",
          "2023-08-07T00:00:00",
          "2023-08-14T00:00:00",
          "2023-08-14T00:00:00",
          "2023-08-28T00:00:00",
          "2023-09-27T00:00:00",
          "2023-10-02T00:00:00",
          "2023-10-16T00:00:00",
          "2023-10-16T00:00:00",
          "2023-10-16T00:00:00",
          "2023-10-23T00:00:00",
          "2023-10-23T00:00:00",
          "2023-10-23T00:00:00",
          "2023-10-23T00:00:00",
          "2023-10-23T00:00:00",
          "2023-10-30T00:00:00",
          "2023-10-30T00:00:00"
         ],
         "xaxis": "x",
         "y": [
          0.5726495726495726,
          0.5775862068965517,
          0.5652173913043478,
          0.5693430656934306,
          0.5661764705882353,
          0.5964912280701754,
          0.5941176470588235,
          0.5953757225433526,
          0.591715976331361,
          0.5988372093023255,
          0.5977011494252874,
          0.6,
          0.6022727272727273,
          0.6045197740112994,
          0.6067415730337079,
          0.6098901098901099,
          0.6077348066298343,
          0.6055555555555555,
          0.6033519553072626,
          0.6065573770491803,
          0.6032608695652174,
          0.6021505376344086,
          0.6,
          0.5989304812834224,
          0.6,
          0.5978835978835979,
          0.5957446808510638,
          0.5989583333333334,
          0.5968586387434555,
          0.5958549222797928,
          0.6,
          0.5979381443298969,
          0.5989847715736041,
          0.5969387755102041,
          0.601010101010101,
          0.605,
          0.6069651741293532,
          0.6039603960396039,
          0.6030150753768844,
          0.6009852216748769,
          0.6029411764705882,
          0.6048780487804878,
          0.6019417475728155,
          0.6038647342995169,
          0.6057692307692307,
          0.6028708133971292,
          0.6,
          0.5971563981042654,
          0.5990566037735849,
          0.6009389671361502,
          0.5981308411214953,
          0.6,
          0.6018518518518519,
          0.5990783410138248,
          0.6027397260273972,
          0.6009174311926605,
          0.6045454545454545,
          0.6018099547511312,
          0.5990990990990991,
          0.6061946902654868,
          0.6044444444444445,
          0.6026785714285714,
          0.600896860986547,
          0.6130434782608696,
          0.611353711790393,
          0.6096491228070176,
          0.6079295154185022,
          0.6147186147186147,
          0.6186440677966102,
          0.620253164556962,
          0.6218487394957983,
          0.6234309623430963,
          0.6208333333333333,
          0.6224066390041494,
          0.6229508196721312,
          0.6239669421487604,
          0.6255144032921811,
          0.6219512195121951,
          0.6204081632653061,
          0.6234817813765182,
          0.6224899598393574,
          0.6209677419354839,
          0.624,
          0.6215139442231076,
          0.623015873015873,
          0.625,
          0.6235294117647059,
          0.6220472440944882,
          0.6205533596837944,
          0.624031007751938,
          0.622568093385214,
          0.6216216216216216,
          0.6192307692307693,
          0.6183206106870229,
          0.6168582375478927,
          0.6159695817490495,
          0.6136363636363636,
          0.6113207547169811,
          0.6090225563909775,
          0.6067415730337079,
          0.6082089552238806,
          0.6059479553903345,
          0.6037037037037037,
          0.6014760147601476,
          0.6021897810218978,
          0.6007326007326007,
          0.5992647058823529,
          0.6036363636363636,
          0.605072463768116,
          0.6064981949458483,
          0.6079136690647482,
          0.6093189964157706,
          0.6071428571428571,
          0.608540925266904
         ],
         "yaxis": "y"
        }
       ],
       "layout": {
        "hovermode": "x",
        "legend": {
         "title": {
          "text": "player_name"
         },
         "tracegroupgap": 0
        },
        "template": {
         "data": {
          "bar": [
           {
            "error_x": {
             "color": "#2a3f5f"
            },
            "error_y": {
             "color": "#2a3f5f"
            },
            "marker": {
             "line": {
              "color": "#E5ECF6",
              "width": 0.5
             },
             "pattern": {
              "fillmode": "overlay",
              "size": 10,
              "solidity": 0.2
             }
            },
            "type": "bar"
           }
          ],
          "barpolar": [
           {
            "marker": {
             "line": {
              "color": "#E5ECF6",
              "width": 0.5
             },
             "pattern": {
              "fillmode": "overlay",
              "size": 10,
              "solidity": 0.2
             }
            },
            "type": "barpolar"
           }
          ],
          "carpet": [
           {
            "aaxis": {
             "endlinecolor": "#2a3f5f",
             "gridcolor": "white",
             "linecolor": "white",
             "minorgridcolor": "white",
             "startlinecolor": "#2a3f5f"
            },
            "baxis": {
             "endlinecolor": "#2a3f5f",
             "gridcolor": "white",
             "linecolor": "white",
             "minorgridcolor": "white",
             "startlinecolor": "#2a3f5f"
            },
            "type": "carpet"
           }
          ],
          "choropleth": [
           {
            "colorbar": {
             "outlinewidth": 0,
             "ticks": ""
            },
            "type": "choropleth"
           }
          ],
          "contour": [
           {
            "colorbar": {
             "outlinewidth": 0,
             "ticks": ""
            },
            "colorscale": [
             [
              0,
              "#0d0887"
             ],
             [
              0.1111111111111111,
              "#46039f"
             ],
             [
              0.2222222222222222,
              "#7201a8"
             ],
             [
              0.3333333333333333,
              "#9c179e"
             ],
             [
              0.4444444444444444,
              "#bd3786"
             ],
             [
              0.5555555555555556,
              "#d8576b"
             ],
             [
              0.6666666666666666,
              "#ed7953"
             ],
             [
              0.7777777777777778,
              "#fb9f3a"
             ],
             [
              0.8888888888888888,
              "#fdca26"
             ],
             [
              1,
              "#f0f921"
             ]
            ],
            "type": "contour"
           }
          ],
          "contourcarpet": [
           {
            "colorbar": {
             "outlinewidth": 0,
             "ticks": ""
            },
            "type": "contourcarpet"
           }
          ],
          "heatmap": [
           {
            "colorbar": {
             "outlinewidth": 0,
             "ticks": ""
            },
            "colorscale": [
             [
              0,
              "#0d0887"
             ],
             [
              0.1111111111111111,
              "#46039f"
             ],
             [
              0.2222222222222222,
              "#7201a8"
             ],
             [
              0.3333333333333333,
              "#9c179e"
             ],
             [
              0.4444444444444444,
              "#bd3786"
             ],
             [
              0.5555555555555556,
              "#d8576b"
             ],
             [
              0.6666666666666666,
              "#ed7953"
             ],
             [
              0.7777777777777778,
              "#fb9f3a"
             ],
             [
              0.8888888888888888,
              "#fdca26"
             ],
             [
              1,
              "#f0f921"
             ]
            ],
            "type": "heatmap"
           }
          ],
          "heatmapgl": [
           {
            "colorbar": {
             "outlinewidth": 0,
             "ticks": ""
            },
            "colorscale": [
             [
              0,
              "#0d0887"
             ],
             [
              0.1111111111111111,
              "#46039f"
             ],
             [
              0.2222222222222222,
              "#7201a8"
             ],
             [
              0.3333333333333333,
              "#9c179e"
             ],
             [
              0.4444444444444444,
              "#bd3786"
             ],
             [
              0.5555555555555556,
              "#d8576b"
             ],
             [
              0.6666666666666666,
              "#ed7953"
             ],
             [
              0.7777777777777778,
              "#fb9f3a"
             ],
             [
              0.8888888888888888,
              "#fdca26"
             ],
             [
              1,
              "#f0f921"
             ]
            ],
            "type": "heatmapgl"
           }
          ],
          "histogram": [
           {
            "marker": {
             "pattern": {
              "fillmode": "overlay",
              "size": 10,
              "solidity": 0.2
             }
            },
            "type": "histogram"
           }
          ],
          "histogram2d": [
           {
            "colorbar": {
             "outlinewidth": 0,
             "ticks": ""
            },
            "colorscale": [
             [
              0,
              "#0d0887"
             ],
             [
              0.1111111111111111,
              "#46039f"
             ],
             [
              0.2222222222222222,
              "#7201a8"
             ],
             [
              0.3333333333333333,
              "#9c179e"
             ],
             [
              0.4444444444444444,
              "#bd3786"
             ],
             [
              0.5555555555555556,
              "#d8576b"
             ],
             [
              0.6666666666666666,
              "#ed7953"
             ],
             [
              0.7777777777777778,
              "#fb9f3a"
             ],
             [
              0.8888888888888888,
              "#fdca26"
             ],
             [
              1,
              "#f0f921"
             ]
            ],
            "type": "histogram2d"
           }
          ],
          "histogram2dcontour": [
           {
            "colorbar": {
             "outlinewidth": 0,
             "ticks": ""
            },
            "colorscale": [
             [
              0,
              "#0d0887"
             ],
             [
              0.1111111111111111,
              "#46039f"
             ],
             [
              0.2222222222222222,
              "#7201a8"
             ],
             [
              0.3333333333333333,
              "#9c179e"
             ],
             [
              0.4444444444444444,
              "#bd3786"
             ],
             [
              0.5555555555555556,
              "#d8576b"
             ],
             [
              0.6666666666666666,
              "#ed7953"
             ],
             [
              0.7777777777777778,
              "#fb9f3a"
             ],
             [
              0.8888888888888888,
              "#fdca26"
             ],
             [
              1,
              "#f0f921"
             ]
            ],
            "type": "histogram2dcontour"
           }
          ],
          "mesh3d": [
           {
            "colorbar": {
             "outlinewidth": 0,
             "ticks": ""
            },
            "type": "mesh3d"
           }
          ],
          "parcoords": [
           {
            "line": {
             "colorbar": {
              "outlinewidth": 0,
              "ticks": ""
             }
            },
            "type": "parcoords"
           }
          ],
          "pie": [
           {
            "automargin": true,
            "type": "pie"
           }
          ],
          "scatter": [
           {
            "fillpattern": {
             "fillmode": "overlay",
             "size": 10,
             "solidity": 0.2
            },
            "type": "scatter"
           }
          ],
          "scatter3d": [
           {
            "line": {
             "colorbar": {
              "outlinewidth": 0,
              "ticks": ""
             }
            },
            "marker": {
             "colorbar": {
              "outlinewidth": 0,
              "ticks": ""
             }
            },
            "type": "scatter3d"
           }
          ],
          "scattercarpet": [
           {
            "marker": {
             "colorbar": {
              "outlinewidth": 0,
              "ticks": ""
             }
            },
            "type": "scattercarpet"
           }
          ],
          "scattergeo": [
           {
            "marker": {
             "colorbar": {
              "outlinewidth": 0,
              "ticks": ""
             }
            },
            "type": "scattergeo"
           }
          ],
          "scattergl": [
           {
            "marker": {
             "colorbar": {
              "outlinewidth": 0,
              "ticks": ""
             }
            },
            "type": "scattergl"
           }
          ],
          "scattermapbox": [
           {
            "marker": {
             "colorbar": {
              "outlinewidth": 0,
              "ticks": ""
             }
            },
            "type": "scattermapbox"
           }
          ],
          "scatterpolar": [
           {
            "marker": {
             "colorbar": {
              "outlinewidth": 0,
              "ticks": ""
             }
            },
            "type": "scatterpolar"
           }
          ],
          "scatterpolargl": [
           {
            "marker": {
             "colorbar": {
              "outlinewidth": 0,
              "ticks": ""
             }
            },
            "type": "scatterpolargl"
           }
          ],
          "scatterternary": [
           {
            "marker": {
             "colorbar": {
              "outlinewidth": 0,
              "ticks": ""
             }
            },
            "type": "scatterternary"
           }
          ],
          "surface": [
           {
            "colorbar": {
             "outlinewidth": 0,
             "ticks": ""
            },
            "colorscale": [
             [
              0,
              "#0d0887"
             ],
             [
              0.1111111111111111,
              "#46039f"
             ],
             [
              0.2222222222222222,
              "#7201a8"
             ],
             [
              0.3333333333333333,
              "#9c179e"
             ],
             [
              0.4444444444444444,
              "#bd3786"
             ],
             [
              0.5555555555555556,
              "#d8576b"
             ],
             [
              0.6666666666666666,
              "#ed7953"
             ],
             [
              0.7777777777777778,
              "#fb9f3a"
             ],
             [
              0.8888888888888888,
              "#fdca26"
             ],
             [
              1,
              "#f0f921"
             ]
            ],
            "type": "surface"
           }
          ],
          "table": [
           {
            "cells": {
             "fill": {
              "color": "#EBF0F8"
             },
             "line": {
              "color": "white"
             }
            },
            "header": {
             "fill": {
              "color": "#C8D4E3"
             },
             "line": {
              "color": "white"
             }
            },
            "type": "table"
           }
          ]
         },
         "layout": {
          "annotationdefaults": {
           "arrowcolor": "#2a3f5f",
           "arrowhead": 0,
           "arrowwidth": 1
          },
          "autotypenumbers": "strict",
          "coloraxis": {
           "colorbar": {
            "outlinewidth": 0,
            "ticks": ""
           }
          },
          "colorscale": {
           "diverging": [
            [
             0,
             "#8e0152"
            ],
            [
             0.1,
             "#c51b7d"
            ],
            [
             0.2,
             "#de77ae"
            ],
            [
             0.3,
             "#f1b6da"
            ],
            [
             0.4,
             "#fde0ef"
            ],
            [
             0.5,
             "#f7f7f7"
            ],
            [
             0.6,
             "#e6f5d0"
            ],
            [
             0.7,
             "#b8e186"
            ],
            [
             0.8,
             "#7fbc41"
            ],
            [
             0.9,
             "#4d9221"
            ],
            [
             1,
             "#276419"
            ]
           ],
           "sequential": [
            [
             0,
             "#0d0887"
            ],
            [
             0.1111111111111111,
             "#46039f"
            ],
            [
             0.2222222222222222,
             "#7201a8"
            ],
            [
             0.3333333333333333,
             "#9c179e"
            ],
            [
             0.4444444444444444,
             "#bd3786"
            ],
            [
             0.5555555555555556,
             "#d8576b"
            ],
            [
             0.6666666666666666,
             "#ed7953"
            ],
            [
             0.7777777777777778,
             "#fb9f3a"
            ],
            [
             0.8888888888888888,
             "#fdca26"
            ],
            [
             1,
             "#f0f921"
            ]
           ],
           "sequentialminus": [
            [
             0,
             "#0d0887"
            ],
            [
             0.1111111111111111,
             "#46039f"
            ],
            [
             0.2222222222222222,
             "#7201a8"
            ],
            [
             0.3333333333333333,
             "#9c179e"
            ],
            [
             0.4444444444444444,
             "#bd3786"
            ],
            [
             0.5555555555555556,
             "#d8576b"
            ],
            [
             0.6666666666666666,
             "#ed7953"
            ],
            [
             0.7777777777777778,
             "#fb9f3a"
            ],
            [
             0.8888888888888888,
             "#fdca26"
            ],
            [
             1,
             "#f0f921"
            ]
           ]
          },
          "colorway": [
           "#636efa",
           "#EF553B",
           "#00cc96",
           "#ab63fa",
           "#FFA15A",
           "#19d3f3",
           "#FF6692",
           "#B6E880",
           "#FF97FF",
           "#FECB52"
          ],
          "font": {
           "color": "#2a3f5f"
          },
          "geo": {
           "bgcolor": "white",
           "lakecolor": "white",
           "landcolor": "#E5ECF6",
           "showlakes": true,
           "showland": true,
           "subunitcolor": "white"
          },
          "hoverlabel": {
           "align": "left"
          },
          "hovermode": "closest",
          "mapbox": {
           "style": "light"
          },
          "paper_bgcolor": "white",
          "plot_bgcolor": "#E5ECF6",
          "polar": {
           "angularaxis": {
            "gridcolor": "white",
            "linecolor": "white",
            "ticks": ""
           },
           "bgcolor": "#E5ECF6",
           "radialaxis": {
            "gridcolor": "white",
            "linecolor": "white",
            "ticks": ""
           }
          },
          "scene": {
           "xaxis": {
            "backgroundcolor": "#E5ECF6",
            "gridcolor": "white",
            "gridwidth": 2,
            "linecolor": "white",
            "showbackground": true,
            "ticks": "",
            "zerolinecolor": "white"
           },
           "yaxis": {
            "backgroundcolor": "#E5ECF6",
            "gridcolor": "white",
            "gridwidth": 2,
            "linecolor": "white",
            "showbackground": true,
            "ticks": "",
            "zerolinecolor": "white"
           },
           "zaxis": {
            "backgroundcolor": "#E5ECF6",
            "gridcolor": "white",
            "gridwidth": 2,
            "linecolor": "white",
            "showbackground": true,
            "ticks": "",
            "zerolinecolor": "white"
           }
          },
          "shapedefaults": {
           "line": {
            "color": "#2a3f5f"
           }
          },
          "ternary": {
           "aaxis": {
            "gridcolor": "white",
            "linecolor": "white",
            "ticks": ""
           },
           "baxis": {
            "gridcolor": "white",
            "linecolor": "white",
            "ticks": ""
           },
           "bgcolor": "#E5ECF6",
           "caxis": {
            "gridcolor": "white",
            "linecolor": "white",
            "ticks": ""
           }
          },
          "title": {
           "x": 0.05
          },
          "xaxis": {
           "automargin": true,
           "gridcolor": "white",
           "linecolor": "white",
           "ticks": "",
           "title": {
            "standoff": 15
           },
           "zerolinecolor": "white",
           "zerolinewidth": 2
          },
          "yaxis": {
           "automargin": true,
           "gridcolor": "white",
           "linecolor": "white",
           "ticks": "",
           "title": {
            "standoff": 15
           },
           "zerolinecolor": "white",
           "zerolinewidth": 2
          }
         }
        },
        "title": {
         "text": "Win % Start"
        },
        "xaxis": {
         "anchor": "y",
         "domain": [
          0,
          1
         ],
         "title": {
          "text": "match_date"
         }
        },
        "yaxis": {
         "anchor": "x",
         "domain": [
          0,
          1
         ],
         "title": {
          "text": "win_perc"
         }
        }
       }
      }
     },
     "metadata": {},
     "output_type": "display_data"
    },
    {
     "data": {
      "application/vnd.plotly.v1+json": {
       "config": {
        "plotlyServerURL": "https://plot.ly"
       },
       "data": [
        {
         "legendgroup": "Carlos Alcaraz",
         "line": {
          "color": "seagreen",
          "dash": "solid"
         },
         "marker": {
          "symbol": "circle"
         },
         "mode": "markers+lines",
         "name": "Carlos Alcaraz",
         "orientation": "v",
         "showlegend": true,
         "type": "scatter",
         "x": [
          "2021-11-01T00:00:00",
          "2022-01-17T00:00:00",
          "2022-01-17T00:00:00",
          "2022-01-17T00:00:00",
          "2022-02-14T00:00:00",
          "2022-02-14T00:00:00",
          "2022-02-14T00:00:00",
          "2022-02-14T00:00:00",
          "2022-02-14T00:00:00",
          "2022-03-07T00:00:00",
          "2022-03-07T00:00:00",
          "2022-03-07T00:00:00",
          "2022-03-07T00:00:00",
          "2022-03-07T00:00:00",
          "2022-03-21T00:00:00",
          "2022-03-21T00:00:00",
          "2022-03-21T00:00:00",
          "2022-03-21T00:00:00",
          "2022-03-21T00:00:00",
          "2022-04-11T00:00:00",
          "2022-04-18T00:00:00",
          "2022-04-18T00:00:00",
          "2022-04-18T00:00:00",
          "2022-04-18T00:00:00",
          "2022-04-18T00:00:00",
          "2022-05-02T00:00:00",
          "2022-05-02T00:00:00",
          "2022-05-02T00:00:00",
          "2022-05-02T00:00:00",
          "2022-05-23T00:00:00",
          "2022-06-27T00:00:00",
          "2022-06-27T00:00:00",
          "2022-06-27T00:00:00",
          "2022-06-27T00:00:00",
          "2022-07-18T00:00:00",
          "2022-07-18T00:00:00",
          "2022-07-18T00:00:00",
          "2022-07-18T00:00:00",
          "2022-07-18T00:00:00",
          "2022-07-25T00:00:00",
          "2022-07-25T00:00:00",
          "2022-07-25T00:00:00",
          "2022-07-25T00:00:00",
          "2022-08-08T00:00:00",
          "2022-08-15T00:00:00",
          "2022-08-15T00:00:00",
          "2022-08-15T00:00:00",
          "2022-08-29T00:00:00",
          "2022-08-29T00:00:00",
          "2022-08-29T00:00:00",
          "2022-08-29T00:00:00",
          "2022-08-29T00:00:00",
          "2022-08-29T00:00:00",
          "2022-08-29T00:00:00",
          "2022-10-03T00:00:00",
          "2022-10-24T00:00:00",
          "2022-10-24T00:00:00",
          "2022-10-24T00:00:00",
          "2022-10-24T00:00:00",
          "2022-10-31T00:00:00",
          "2022-10-31T00:00:00",
          "2022-10-31T00:00:00",
          "2023-02-13T00:00:00",
          "2023-02-13T00:00:00",
          "2023-02-13T00:00:00",
          "2023-02-13T00:00:00",
          "2023-02-20T00:00:00",
          "2023-02-20T00:00:00",
          "2023-02-20T00:00:00",
          "2023-02-20T00:00:00",
          "2023-02-20T00:00:00",
          "2023-03-06T00:00:00",
          "2023-03-06T00:00:00",
          "2023-03-06T00:00:00",
          "2023-03-06T00:00:00",
          "2023-03-06T00:00:00",
          "2023-03-20T00:00:00",
          "2023-03-20T00:00:00",
          "2023-03-20T00:00:00",
          "2023-03-20T00:00:00",
          "2023-03-20T00:00:00",
          "2023-04-17T00:00:00",
          "2023-04-17T00:00:00",
          "2023-04-17T00:00:00",
          "2023-04-17T00:00:00",
          "2023-04-17T00:00:00",
          "2023-05-08T00:00:00",
          "2023-05-08T00:00:00",
          "2023-05-29T00:00:00",
          "2023-05-29T00:00:00",
          "2023-05-29T00:00:00",
          "2023-05-29T00:00:00",
          "2023-05-29T00:00:00",
          "2023-05-29T00:00:00",
          "2023-06-19T00:00:00",
          "2023-06-19T00:00:00",
          "2023-06-19T00:00:00",
          "2023-06-19T00:00:00",
          "2023-06-19T00:00:00",
          "2023-07-03T00:00:00",
          "2023-07-03T00:00:00",
          "2023-07-03T00:00:00",
          "2023-07-03T00:00:00",
          "2023-08-07T00:00:00",
          "2023-08-07T00:00:00",
          "2023-08-07T00:00:00",
          "2023-08-14T00:00:00",
          "2023-08-14T00:00:00",
          "2023-08-14T00:00:00",
          "2023-08-14T00:00:00",
          "2023-08-14T00:00:00",
          "2023-08-28T00:00:00",
          "2023-08-28T00:00:00",
          "2023-08-28T00:00:00",
          "2023-08-28T00:00:00",
          "2023-08-28T00:00:00",
          "2023-08-28T00:00:00",
          "2023-09-27T00:00:00",
          "2023-09-27T00:00:00",
          "2023-09-27T00:00:00",
          "2023-09-27T00:00:00",
          "2023-10-02T00:00:00",
          "2023-10-02T00:00:00",
          "2023-10-02T00:00:00",
          "2023-10-30T00:00:00"
         ],
         "xaxis": "x",
         "y": [
          0.6,
          0.7,
          0.7,
          0.6,
          0.8,
          0.8,
          0.8,
          0.7,
          0.7,
          0.8,
          0.7,
          0.8,
          0.8,
          0.9,
          0.9,
          0.9,
          0.9,
          0.9,
          0.9,
          0.9,
          0.9,
          0.9,
          0.9,
          0.9,
          0.9,
          0.9,
          0.9,
          0.9,
          0.9,
          0.9,
          0.8,
          0.9,
          0.9,
          0.9,
          0.7,
          0.7,
          0.7,
          0.7,
          0.7,
          0.7,
          0.7,
          0.7,
          0.7,
          0.7,
          0.7,
          0.7,
          0.7,
          0.9,
          0.8,
          0.8,
          0.8,
          0.8,
          0.7,
          0.7,
          0.9,
          0.8,
          0.8,
          0.8,
          0.8,
          0.7,
          0.7,
          0.7,
          0.9,
          0.7,
          0.7,
          0.8,
          0.9,
          0.8,
          0.8,
          0.8,
          0.9,
          0.9,
          0.9,
          0.9,
          0.9,
          0.9,
          0.9,
          0.9,
          0.9,
          0.9,
          0.9,
          0.9,
          0.9,
          0.9,
          0.9,
          0.9,
          0.9,
          0.9,
          0.9,
          0.9,
          0.9,
          0.9,
          0.9,
          0.8,
          0.8,
          0.8,
          0.9,
          0.9,
          0.9,
          0.9,
          0.9,
          0.9,
          0.9,
          0.9,
          0.9,
          0.9,
          0.8,
          0.8,
          0.8,
          0.8,
          0.8,
          0.9,
          0.9,
          0.8,
          0.9,
          0.8,
          0.9,
          0.8,
          0.8,
          0.8,
          0.8,
          0.7,
          0.7,
          0.7,
          0.6
         ],
         "yaxis": "y"
        },
        {
         "legendgroup": "Felix Auger Aliassime",
         "line": {
          "color": "tomato",
          "dash": "solid"
         },
         "marker": {
          "symbol": "circle"
         },
         "mode": "markers+lines",
         "name": "Felix Auger Aliassime",
         "orientation": "v",
         "showlegend": true,
         "type": "scatter",
         "x": [
          "2021-11-01T00:00:00",
          "2021-11-01T00:00:00",
          "2021-11-08T00:00:00",
          "2021-11-08T00:00:00",
          "2021-11-08T00:00:00",
          "2022-01-17T00:00:00",
          "2022-01-17T00:00:00",
          "2022-01-17T00:00:00",
          "2022-01-17T00:00:00",
          "2022-01-17T00:00:00",
          "2022-02-07T00:00:00",
          "2022-02-07T00:00:00",
          "2022-02-07T00:00:00",
          "2022-02-07T00:00:00",
          "2022-02-07T00:00:00",
          "2022-02-14T00:00:00",
          "2022-02-14T00:00:00",
          "2022-02-14T00:00:00",
          "2022-02-14T00:00:00",
          "2022-03-07T00:00:00",
          "2022-03-21T00:00:00",
          "2022-04-04T00:00:00",
          "2022-04-04T00:00:00",
          "2022-04-11T00:00:00",
          "2022-04-18T00:00:00",
          "2022-04-18T00:00:00",
          "2022-04-18T00:00:00",
          "2022-04-25T00:00:00",
          "2022-04-25T00:00:00",
          "2022-05-02T00:00:00",
          "2022-05-02T00:00:00",
          "2022-05-02T00:00:00",
          "2022-05-09T00:00:00",
          "2022-05-09T00:00:00",
          "2022-05-09T00:00:00",
          "2022-05-23T00:00:00",
          "2022-05-23T00:00:00",
          "2022-05-23T00:00:00",
          "2022-05-23T00:00:00",
          "2022-06-06T00:00:00",
          "2022-06-06T00:00:00",
          "2022-06-06T00:00:00",
          "2022-06-13T00:00:00",
          "2022-06-13T00:00:00",
          "2022-06-13T00:00:00",
          "2022-06-27T00:00:00",
          "2022-07-11T00:00:00",
          "2022-08-01T00:00:00",
          "2022-08-01T00:00:00",
          "2022-08-01T00:00:00",
          "2022-08-08T00:00:00",
          "2022-08-08T00:00:00",
          "2022-08-08T00:00:00",
          "2022-08-15T00:00:00",
          "2022-08-15T00:00:00",
          "2022-08-15T00:00:00",
          "2022-08-29T00:00:00",
          "2022-08-29T00:00:00",
          "2022-10-03T00:00:00",
          "2022-10-10T00:00:00",
          "2022-10-10T00:00:00",
          "2022-10-10T00:00:00",
          "2022-10-10T00:00:00",
          "2022-10-17T00:00:00",
          "2022-10-17T00:00:00",
          "2022-10-17T00:00:00",
          "2022-10-17T00:00:00",
          "2022-10-24T00:00:00",
          "2022-10-31T00:00:00",
          "2022-10-31T00:00:00",
          "2022-10-31T00:00:00",
          "2022-10-31T00:00:00",
          "2023-01-02T00:00:00",
          "2023-01-16T00:00:00",
          "2023-01-16T00:00:00",
          "2023-01-16T00:00:00",
          "2023-01-16T00:00:00",
          "2023-02-13T00:00:00",
          "2023-02-13T00:00:00",
          "2023-02-13T00:00:00",
          "2023-02-20T00:00:00",
          "2023-02-20T00:00:00",
          "2023-02-20T00:00:00",
          "2023-02-27T00:00:00",
          "2023-02-27T00:00:00",
          "2023-03-06T00:00:00",
          "2023-03-06T00:00:00",
          "2023-03-06T00:00:00",
          "2023-03-06T00:00:00",
          "2023-03-20T00:00:00",
          "2023-03-20T00:00:00",
          "2023-04-24T00:00:00",
          "2023-05-08T00:00:00",
          "2023-05-22T00:00:00",
          "2023-05-22T00:00:00",
          "2023-05-29T00:00:00",
          "2023-07-03T00:00:00",
          "2023-07-31T00:00:00",
          "2023-08-07T00:00:00",
          "2023-08-14T00:00:00",
          "2023-08-14T00:00:00",
          "2023-08-28T00:00:00",
          "2023-09-27T00:00:00",
          "2023-10-02T00:00:00",
          "2023-10-16T00:00:00",
          "2023-10-16T00:00:00",
          "2023-10-16T00:00:00",
          "2023-10-23T00:00:00",
          "2023-10-23T00:00:00",
          "2023-10-23T00:00:00",
          "2023-10-23T00:00:00",
          "2023-10-23T00:00:00",
          "2023-10-30T00:00:00",
          "2023-10-30T00:00:00"
         ],
         "xaxis": "x",
         "y": [
          0.6,
          0.6,
          0.7,
          0.7,
          0.6,
          0.7,
          0.7,
          0.8,
          0.7,
          0.8,
          0.8,
          0.8,
          0.8,
          0.8,
          0.9,
          0.8,
          0.8,
          0.8,
          0.8,
          0.8,
          0.7,
          0.6,
          0.6,
          0.5,
          0.5,
          0.5,
          0.4,
          0.4,
          0.4,
          0.4,
          0.6,
          0.5,
          0.6,
          0.5,
          0.7,
          0.7,
          0.8,
          0.7,
          0.7,
          0.7,
          0.7,
          0.7,
          0.7,
          0.7,
          0.7,
          0.6,
          0.5,
          0.4,
          0.5,
          0.6,
          0.5,
          0.5,
          0.6,
          0.5,
          0.6,
          0.5,
          0.7,
          0.7,
          0.6,
          0.7,
          0.7,
          0.7,
          0.6,
          0.8,
          0.8,
          0.8,
          0.8,
          0.9,
          0.9,
          0.9,
          0.9,
          0.9,
          0.8,
          0.8,
          0.7,
          0.8,
          0.8,
          0.7,
          0.6,
          0.7,
          0.6,
          0.6,
          0.7,
          0.6,
          0.6,
          0.7,
          0.7,
          0.6,
          0.5,
          0.7,
          0.6,
          0.6,
          0.5,
          0.5,
          0.5,
          0.5,
          0.4,
          0.3,
          0.2,
          0.2,
          0.2,
          0.2,
          0.2,
          0.2,
          0.3,
          0.2,
          0.1,
          0.4,
          0.5,
          0.6,
          0.6,
          0.7,
          0.7,
          0.8
         ],
         "yaxis": "y"
        }
       ],
       "layout": {
        "hovermode": "x",
        "legend": {
         "title": {
          "text": "player_name"
         },
         "tracegroupgap": 0
        },
        "template": {
         "data": {
          "bar": [
           {
            "error_x": {
             "color": "#2a3f5f"
            },
            "error_y": {
             "color": "#2a3f5f"
            },
            "marker": {
             "line": {
              "color": "#E5ECF6",
              "width": 0.5
             },
             "pattern": {
              "fillmode": "overlay",
              "size": 10,
              "solidity": 0.2
             }
            },
            "type": "bar"
           }
          ],
          "barpolar": [
           {
            "marker": {
             "line": {
              "color": "#E5ECF6",
              "width": 0.5
             },
             "pattern": {
              "fillmode": "overlay",
              "size": 10,
              "solidity": 0.2
             }
            },
            "type": "barpolar"
           }
          ],
          "carpet": [
           {
            "aaxis": {
             "endlinecolor": "#2a3f5f",
             "gridcolor": "white",
             "linecolor": "white",
             "minorgridcolor": "white",
             "startlinecolor": "#2a3f5f"
            },
            "baxis": {
             "endlinecolor": "#2a3f5f",
             "gridcolor": "white",
             "linecolor": "white",
             "minorgridcolor": "white",
             "startlinecolor": "#2a3f5f"
            },
            "type": "carpet"
           }
          ],
          "choropleth": [
           {
            "colorbar": {
             "outlinewidth": 0,
             "ticks": ""
            },
            "type": "choropleth"
           }
          ],
          "contour": [
           {
            "colorbar": {
             "outlinewidth": 0,
             "ticks": ""
            },
            "colorscale": [
             [
              0,
              "#0d0887"
             ],
             [
              0.1111111111111111,
              "#46039f"
             ],
             [
              0.2222222222222222,
              "#7201a8"
             ],
             [
              0.3333333333333333,
              "#9c179e"
             ],
             [
              0.4444444444444444,
              "#bd3786"
             ],
             [
              0.5555555555555556,
              "#d8576b"
             ],
             [
              0.6666666666666666,
              "#ed7953"
             ],
             [
              0.7777777777777778,
              "#fb9f3a"
             ],
             [
              0.8888888888888888,
              "#fdca26"
             ],
             [
              1,
              "#f0f921"
             ]
            ],
            "type": "contour"
           }
          ],
          "contourcarpet": [
           {
            "colorbar": {
             "outlinewidth": 0,
             "ticks": ""
            },
            "type": "contourcarpet"
           }
          ],
          "heatmap": [
           {
            "colorbar": {
             "outlinewidth": 0,
             "ticks": ""
            },
            "colorscale": [
             [
              0,
              "#0d0887"
             ],
             [
              0.1111111111111111,
              "#46039f"
             ],
             [
              0.2222222222222222,
              "#7201a8"
             ],
             [
              0.3333333333333333,
              "#9c179e"
             ],
             [
              0.4444444444444444,
              "#bd3786"
             ],
             [
              0.5555555555555556,
              "#d8576b"
             ],
             [
              0.6666666666666666,
              "#ed7953"
             ],
             [
              0.7777777777777778,
              "#fb9f3a"
             ],
             [
              0.8888888888888888,
              "#fdca26"
             ],
             [
              1,
              "#f0f921"
             ]
            ],
            "type": "heatmap"
           }
          ],
          "heatmapgl": [
           {
            "colorbar": {
             "outlinewidth": 0,
             "ticks": ""
            },
            "colorscale": [
             [
              0,
              "#0d0887"
             ],
             [
              0.1111111111111111,
              "#46039f"
             ],
             [
              0.2222222222222222,
              "#7201a8"
             ],
             [
              0.3333333333333333,
              "#9c179e"
             ],
             [
              0.4444444444444444,
              "#bd3786"
             ],
             [
              0.5555555555555556,
              "#d8576b"
             ],
             [
              0.6666666666666666,
              "#ed7953"
             ],
             [
              0.7777777777777778,
              "#fb9f3a"
             ],
             [
              0.8888888888888888,
              "#fdca26"
             ],
             [
              1,
              "#f0f921"
             ]
            ],
            "type": "heatmapgl"
           }
          ],
          "histogram": [
           {
            "marker": {
             "pattern": {
              "fillmode": "overlay",
              "size": 10,
              "solidity": 0.2
             }
            },
            "type": "histogram"
           }
          ],
          "histogram2d": [
           {
            "colorbar": {
             "outlinewidth": 0,
             "ticks": ""
            },
            "colorscale": [
             [
              0,
              "#0d0887"
             ],
             [
              0.1111111111111111,
              "#46039f"
             ],
             [
              0.2222222222222222,
              "#7201a8"
             ],
             [
              0.3333333333333333,
              "#9c179e"
             ],
             [
              0.4444444444444444,
              "#bd3786"
             ],
             [
              0.5555555555555556,
              "#d8576b"
             ],
             [
              0.6666666666666666,
              "#ed7953"
             ],
             [
              0.7777777777777778,
              "#fb9f3a"
             ],
             [
              0.8888888888888888,
              "#fdca26"
             ],
             [
              1,
              "#f0f921"
             ]
            ],
            "type": "histogram2d"
           }
          ],
          "histogram2dcontour": [
           {
            "colorbar": {
             "outlinewidth": 0,
             "ticks": ""
            },
            "colorscale": [
             [
              0,
              "#0d0887"
             ],
             [
              0.1111111111111111,
              "#46039f"
             ],
             [
              0.2222222222222222,
              "#7201a8"
             ],
             [
              0.3333333333333333,
              "#9c179e"
             ],
             [
              0.4444444444444444,
              "#bd3786"
             ],
             [
              0.5555555555555556,
              "#d8576b"
             ],
             [
              0.6666666666666666,
              "#ed7953"
             ],
             [
              0.7777777777777778,
              "#fb9f3a"
             ],
             [
              0.8888888888888888,
              "#fdca26"
             ],
             [
              1,
              "#f0f921"
             ]
            ],
            "type": "histogram2dcontour"
           }
          ],
          "mesh3d": [
           {
            "colorbar": {
             "outlinewidth": 0,
             "ticks": ""
            },
            "type": "mesh3d"
           }
          ],
          "parcoords": [
           {
            "line": {
             "colorbar": {
              "outlinewidth": 0,
              "ticks": ""
             }
            },
            "type": "parcoords"
           }
          ],
          "pie": [
           {
            "automargin": true,
            "type": "pie"
           }
          ],
          "scatter": [
           {
            "fillpattern": {
             "fillmode": "overlay",
             "size": 10,
             "solidity": 0.2
            },
            "type": "scatter"
           }
          ],
          "scatter3d": [
           {
            "line": {
             "colorbar": {
              "outlinewidth": 0,
              "ticks": ""
             }
            },
            "marker": {
             "colorbar": {
              "outlinewidth": 0,
              "ticks": ""
             }
            },
            "type": "scatter3d"
           }
          ],
          "scattercarpet": [
           {
            "marker": {
             "colorbar": {
              "outlinewidth": 0,
              "ticks": ""
             }
            },
            "type": "scattercarpet"
           }
          ],
          "scattergeo": [
           {
            "marker": {
             "colorbar": {
              "outlinewidth": 0,
              "ticks": ""
             }
            },
            "type": "scattergeo"
           }
          ],
          "scattergl": [
           {
            "marker": {
             "colorbar": {
              "outlinewidth": 0,
              "ticks": ""
             }
            },
            "type": "scattergl"
           }
          ],
          "scattermapbox": [
           {
            "marker": {
             "colorbar": {
              "outlinewidth": 0,
              "ticks": ""
             }
            },
            "type": "scattermapbox"
           }
          ],
          "scatterpolar": [
           {
            "marker": {
             "colorbar": {
              "outlinewidth": 0,
              "ticks": ""
             }
            },
            "type": "scatterpolar"
           }
          ],
          "scatterpolargl": [
           {
            "marker": {
             "colorbar": {
              "outlinewidth": 0,
              "ticks": ""
             }
            },
            "type": "scatterpolargl"
           }
          ],
          "scatterternary": [
           {
            "marker": {
             "colorbar": {
              "outlinewidth": 0,
              "ticks": ""
             }
            },
            "type": "scatterternary"
           }
          ],
          "surface": [
           {
            "colorbar": {
             "outlinewidth": 0,
             "ticks": ""
            },
            "colorscale": [
             [
              0,
              "#0d0887"
             ],
             [
              0.1111111111111111,
              "#46039f"
             ],
             [
              0.2222222222222222,
              "#7201a8"
             ],
             [
              0.3333333333333333,
              "#9c179e"
             ],
             [
              0.4444444444444444,
              "#bd3786"
             ],
             [
              0.5555555555555556,
              "#d8576b"
             ],
             [
              0.6666666666666666,
              "#ed7953"
             ],
             [
              0.7777777777777778,
              "#fb9f3a"
             ],
             [
              0.8888888888888888,
              "#fdca26"
             ],
             [
              1,
              "#f0f921"
             ]
            ],
            "type": "surface"
           }
          ],
          "table": [
           {
            "cells": {
             "fill": {
              "color": "#EBF0F8"
             },
             "line": {
              "color": "white"
             }
            },
            "header": {
             "fill": {
              "color": "#C8D4E3"
             },
             "line": {
              "color": "white"
             }
            },
            "type": "table"
           }
          ]
         },
         "layout": {
          "annotationdefaults": {
           "arrowcolor": "#2a3f5f",
           "arrowhead": 0,
           "arrowwidth": 1
          },
          "autotypenumbers": "strict",
          "coloraxis": {
           "colorbar": {
            "outlinewidth": 0,
            "ticks": ""
           }
          },
          "colorscale": {
           "diverging": [
            [
             0,
             "#8e0152"
            ],
            [
             0.1,
             "#c51b7d"
            ],
            [
             0.2,
             "#de77ae"
            ],
            [
             0.3,
             "#f1b6da"
            ],
            [
             0.4,
             "#fde0ef"
            ],
            [
             0.5,
             "#f7f7f7"
            ],
            [
             0.6,
             "#e6f5d0"
            ],
            [
             0.7,
             "#b8e186"
            ],
            [
             0.8,
             "#7fbc41"
            ],
            [
             0.9,
             "#4d9221"
            ],
            [
             1,
             "#276419"
            ]
           ],
           "sequential": [
            [
             0,
             "#0d0887"
            ],
            [
             0.1111111111111111,
             "#46039f"
            ],
            [
             0.2222222222222222,
             "#7201a8"
            ],
            [
             0.3333333333333333,
             "#9c179e"
            ],
            [
             0.4444444444444444,
             "#bd3786"
            ],
            [
             0.5555555555555556,
             "#d8576b"
            ],
            [
             0.6666666666666666,
             "#ed7953"
            ],
            [
             0.7777777777777778,
             "#fb9f3a"
            ],
            [
             0.8888888888888888,
             "#fdca26"
            ],
            [
             1,
             "#f0f921"
            ]
           ],
           "sequentialminus": [
            [
             0,
             "#0d0887"
            ],
            [
             0.1111111111111111,
             "#46039f"
            ],
            [
             0.2222222222222222,
             "#7201a8"
            ],
            [
             0.3333333333333333,
             "#9c179e"
            ],
            [
             0.4444444444444444,
             "#bd3786"
            ],
            [
             0.5555555555555556,
             "#d8576b"
            ],
            [
             0.6666666666666666,
             "#ed7953"
            ],
            [
             0.7777777777777778,
             "#fb9f3a"
            ],
            [
             0.8888888888888888,
             "#fdca26"
            ],
            [
             1,
             "#f0f921"
            ]
           ]
          },
          "colorway": [
           "#636efa",
           "#EF553B",
           "#00cc96",
           "#ab63fa",
           "#FFA15A",
           "#19d3f3",
           "#FF6692",
           "#B6E880",
           "#FF97FF",
           "#FECB52"
          ],
          "font": {
           "color": "#2a3f5f"
          },
          "geo": {
           "bgcolor": "white",
           "lakecolor": "white",
           "landcolor": "#E5ECF6",
           "showlakes": true,
           "showland": true,
           "subunitcolor": "white"
          },
          "hoverlabel": {
           "align": "left"
          },
          "hovermode": "closest",
          "mapbox": {
           "style": "light"
          },
          "paper_bgcolor": "white",
          "plot_bgcolor": "#E5ECF6",
          "polar": {
           "angularaxis": {
            "gridcolor": "white",
            "linecolor": "white",
            "ticks": ""
           },
           "bgcolor": "#E5ECF6",
           "radialaxis": {
            "gridcolor": "white",
            "linecolor": "white",
            "ticks": ""
           }
          },
          "scene": {
           "xaxis": {
            "backgroundcolor": "#E5ECF6",
            "gridcolor": "white",
            "gridwidth": 2,
            "linecolor": "white",
            "showbackground": true,
            "ticks": "",
            "zerolinecolor": "white"
           },
           "yaxis": {
            "backgroundcolor": "#E5ECF6",
            "gridcolor": "white",
            "gridwidth": 2,
            "linecolor": "white",
            "showbackground": true,
            "ticks": "",
            "zerolinecolor": "white"
           },
           "zaxis": {
            "backgroundcolor": "#E5ECF6",
            "gridcolor": "white",
            "gridwidth": 2,
            "linecolor": "white",
            "showbackground": true,
            "ticks": "",
            "zerolinecolor": "white"
           }
          },
          "shapedefaults": {
           "line": {
            "color": "#2a3f5f"
           }
          },
          "ternary": {
           "aaxis": {
            "gridcolor": "white",
            "linecolor": "white",
            "ticks": ""
           },
           "baxis": {
            "gridcolor": "white",
            "linecolor": "white",
            "ticks": ""
           },
           "bgcolor": "#E5ECF6",
           "caxis": {
            "gridcolor": "white",
            "linecolor": "white",
            "ticks": ""
           }
          },
          "title": {
           "x": 0.05
          },
          "xaxis": {
           "automargin": true,
           "gridcolor": "white",
           "linecolor": "white",
           "ticks": "",
           "title": {
            "standoff": 15
           },
           "zerolinecolor": "white",
           "zerolinewidth": 2
          },
          "yaxis": {
           "automargin": true,
           "gridcolor": "white",
           "linecolor": "white",
           "ticks": "",
           "title": {
            "standoff": 15
           },
           "zerolinecolor": "white",
           "zerolinewidth": 2
          }
         }
        },
        "title": {
         "text": "Win % Last 10 Matches"
        },
        "xaxis": {
         "anchor": "y",
         "domain": [
          0,
          1
         ],
         "title": {
          "text": "match_date"
         }
        },
        "yaxis": {
         "anchor": "x",
         "domain": [
          0,
          1
         ],
         "title": {
          "text": "win_perc_last_10"
         }
        }
       }
      }
     },
     "metadata": {},
     "output_type": "display_data"
    },
    {
     "data": {
      "application/vnd.plotly.v1+json": {
       "config": {
        "plotlyServerURL": "https://plot.ly"
       },
       "data": [
        {
         "legendgroup": "Felix Auger Aliassime",
         "line": {
          "color": "tomato",
          "dash": "solid"
         },
         "marker": {
          "symbol": "circle"
         },
         "mode": "markers+lines",
         "name": "Felix Auger Aliassime",
         "orientation": "v",
         "showlegend": true,
         "type": "scatter",
         "x": [
          "2021-12-27T00:00:00",
          "2022-01-03T00:00:00",
          "2022-01-10T00:00:00",
          "2022-01-17T00:00:00",
          "2022-01-31T00:00:00",
          "2022-02-07T00:00:00",
          "2022-02-14T00:00:00",
          "2022-02-21T00:00:00",
          "2022-02-28T00:00:00",
          "2022-03-07T00:00:00",
          "2022-03-21T00:00:00",
          "2022-04-04T00:00:00",
          "2022-04-11T00:00:00",
          "2022-04-18T00:00:00",
          "2022-04-25T00:00:00",
          "2022-05-02T00:00:00",
          "2022-05-09T00:00:00",
          "2022-05-16T00:00:00",
          "2022-05-23T00:00:00",
          "2022-06-06T00:00:00",
          "2022-06-13T00:00:00",
          "2022-06-20T00:00:00",
          "2022-06-27T00:00:00",
          "2022-07-11T00:00:00",
          "2022-07-18T00:00:00",
          "2022-07-25T00:00:00",
          "2022-08-01T00:00:00",
          "2022-08-08T00:00:00",
          "2022-08-15T00:00:00",
          "2022-08-22T00:00:00",
          "2022-08-29T00:00:00",
          "2022-09-12T00:00:00",
          "2022-09-19T00:00:00",
          "2022-09-26T00:00:00",
          "2022-10-03T00:00:00",
          "2022-10-10T00:00:00",
          "2022-10-17T00:00:00",
          "2022-10-24T00:00:00",
          "2022-10-31T00:00:00",
          "2022-11-07T00:00:00",
          "2022-11-14T00:00:00",
          "2022-11-21T00:00:00",
          "2022-11-28T00:00:00",
          "2022-12-05T00:00:00",
          "2022-12-12T00:00:00",
          "2022-12-19T00:00:00",
          "2022-12-26T00:00:00",
          "2023-01-02T00:00:00",
          "2023-01-09T00:00:00",
          "2023-01-16T00:00:00",
          "2023-01-30T00:00:00",
          "2023-02-06T00:00:00",
          "2023-02-13T00:00:00",
          "2023-02-20T00:00:00",
          "2023-02-27T00:00:00",
          "2023-03-06T00:00:00",
          "2023-03-20T00:00:00",
          "2023-04-03T00:00:00",
          "2023-04-10T00:00:00",
          "2023-04-17T00:00:00",
          "2023-04-24T00:00:00",
          "2023-05-08T00:00:00",
          "2023-05-22T00:00:00",
          "2023-05-29T00:00:00",
          "2023-06-12T00:00:00",
          "2023-06-19T00:00:00",
          "2023-06-26T00:00:00",
          "2023-07-03T00:00:00",
          "2023-07-17T00:00:00",
          "2023-07-24T00:00:00",
          "2023-07-31T00:00:00",
          "2023-08-07T00:00:00",
          "2023-08-14T00:00:00",
          "2023-08-21T00:00:00",
          "2023-08-28T00:00:00",
          "2023-09-11T00:00:00",
          "2023-09-18T00:00:00",
          "2023-09-25T00:00:00",
          "2023-10-02T00:00:00",
          "2023-10-16T00:00:00",
          "2023-10-23T00:00:00",
          "2023-10-30T00:00:00",
          "2023-11-06T00:00:00",
          "2023-11-13T00:00:00",
          "2023-11-20T00:00:00",
          "2023-11-27T00:00:00",
          "2023-12-04T00:00:00",
          "2023-12-11T00:00:00",
          "2023-12-18T00:00:00",
          "2023-12-25T00:00:00"
         ],
         "xaxis": "x",
         "y": [
          11,
          11,
          9,
          9,
          9,
          9,
          9,
          9,
          9,
          9,
          9,
          9,
          9,
          9,
          10,
          10,
          9,
          9,
          9,
          9,
          9,
          9,
          9,
          9,
          9,
          9,
          9,
          9,
          9,
          8,
          8,
          13,
          13,
          13,
          13,
          13,
          10,
          9,
          8,
          6,
          6,
          6,
          6,
          6,
          6,
          6,
          6,
          6,
          7,
          7,
          7,
          7,
          8,
          9,
          9,
          10,
          6,
          7,
          7,
          9,
          9,
          10,
          10,
          10,
          11,
          12,
          12,
          12,
          12,
          12,
          12,
          12,
          14,
          15,
          15,
          14,
          14,
          15,
          15,
          17,
          19,
          19,
          22,
          29,
          29,
          29,
          29,
          29,
          29,
          29
         ],
         "yaxis": "y"
        },
        {
         "legendgroup": "Carlos Alcaraz",
         "line": {
          "color": "seagreen",
          "dash": "solid"
         },
         "marker": {
          "symbol": "circle"
         },
         "mode": "markers+lines",
         "name": "Carlos Alcaraz",
         "orientation": "v",
         "showlegend": true,
         "type": "scatter",
         "x": [
          "2021-12-27T00:00:00",
          "2022-01-03T00:00:00",
          "2022-01-10T00:00:00",
          "2022-01-17T00:00:00",
          "2022-01-31T00:00:00",
          "2022-02-07T00:00:00",
          "2022-02-14T00:00:00",
          "2022-02-21T00:00:00",
          "2022-02-28T00:00:00",
          "2022-03-07T00:00:00",
          "2022-03-21T00:00:00",
          "2022-04-04T00:00:00",
          "2022-04-11T00:00:00",
          "2022-04-18T00:00:00",
          "2022-04-25T00:00:00",
          "2022-05-02T00:00:00",
          "2022-05-09T00:00:00",
          "2022-05-16T00:00:00",
          "2022-05-23T00:00:00",
          "2022-06-06T00:00:00",
          "2022-06-13T00:00:00",
          "2022-06-20T00:00:00",
          "2022-06-27T00:00:00",
          "2022-07-11T00:00:00",
          "2022-07-18T00:00:00",
          "2022-07-25T00:00:00",
          "2022-08-01T00:00:00",
          "2022-08-08T00:00:00",
          "2022-08-15T00:00:00",
          "2022-08-22T00:00:00",
          "2022-08-29T00:00:00",
          "2022-09-12T00:00:00",
          "2022-09-19T00:00:00",
          "2022-09-26T00:00:00",
          "2022-10-03T00:00:00",
          "2022-10-10T00:00:00",
          "2022-10-17T00:00:00",
          "2022-10-24T00:00:00",
          "2022-10-31T00:00:00",
          "2022-11-07T00:00:00",
          "2022-11-14T00:00:00",
          "2022-11-21T00:00:00",
          "2022-11-28T00:00:00",
          "2022-12-05T00:00:00",
          "2022-12-12T00:00:00",
          "2022-12-19T00:00:00",
          "2022-12-26T00:00:00",
          "2023-01-02T00:00:00",
          "2023-01-09T00:00:00",
          "2023-01-16T00:00:00",
          "2023-01-30T00:00:00",
          "2023-02-06T00:00:00",
          "2023-02-13T00:00:00",
          "2023-02-20T00:00:00",
          "2023-02-27T00:00:00",
          "2023-03-06T00:00:00",
          "2023-03-20T00:00:00",
          "2023-04-03T00:00:00",
          "2023-04-10T00:00:00",
          "2023-04-17T00:00:00",
          "2023-04-24T00:00:00",
          "2023-05-08T00:00:00",
          "2023-05-22T00:00:00",
          "2023-05-29T00:00:00",
          "2023-06-12T00:00:00",
          "2023-06-19T00:00:00",
          "2023-06-26T00:00:00",
          "2023-07-03T00:00:00",
          "2023-07-17T00:00:00",
          "2023-07-24T00:00:00",
          "2023-07-31T00:00:00",
          "2023-08-07T00:00:00",
          "2023-08-14T00:00:00",
          "2023-08-21T00:00:00",
          "2023-08-28T00:00:00",
          "2023-09-11T00:00:00",
          "2023-09-18T00:00:00",
          "2023-09-25T00:00:00",
          "2023-10-02T00:00:00",
          "2023-10-16T00:00:00",
          "2023-10-23T00:00:00",
          "2023-10-30T00:00:00",
          "2023-11-06T00:00:00",
          "2023-11-13T00:00:00",
          "2023-11-20T00:00:00",
          "2023-11-27T00:00:00",
          "2023-12-04T00:00:00",
          "2023-12-11T00:00:00",
          "2023-12-18T00:00:00",
          "2023-12-25T00:00:00"
         ],
         "xaxis": "x",
         "y": [
          32,
          32,
          33,
          31,
          29,
          29,
          29,
          20,
          19,
          19,
          16,
          11,
          11,
          11,
          9,
          9,
          6,
          6,
          6,
          7,
          7,
          7,
          7,
          6,
          6,
          5,
          4,
          4,
          4,
          4,
          4,
          1,
          1,
          1,
          1,
          1,
          1,
          1,
          1,
          1,
          1,
          1,
          1,
          1,
          1,
          1,
          1,
          1,
          1,
          1,
          2,
          2,
          2,
          2,
          2,
          2,
          1,
          2,
          2,
          2,
          2,
          2,
          1,
          1,
          2,
          2,
          1,
          1,
          1,
          1,
          1,
          1,
          1,
          1,
          1,
          2,
          2,
          2,
          2,
          2,
          2,
          2,
          2,
          2,
          2,
          2,
          2,
          2,
          2,
          2
         ],
         "yaxis": "y"
        }
       ],
       "layout": {
        "hovermode": "x",
        "legend": {
         "title": {
          "text": "player_name"
         },
         "tracegroupgap": 0
        },
        "template": {
         "data": {
          "bar": [
           {
            "error_x": {
             "color": "#2a3f5f"
            },
            "error_y": {
             "color": "#2a3f5f"
            },
            "marker": {
             "line": {
              "color": "#E5ECF6",
              "width": 0.5
             },
             "pattern": {
              "fillmode": "overlay",
              "size": 10,
              "solidity": 0.2
             }
            },
            "type": "bar"
           }
          ],
          "barpolar": [
           {
            "marker": {
             "line": {
              "color": "#E5ECF6",
              "width": 0.5
             },
             "pattern": {
              "fillmode": "overlay",
              "size": 10,
              "solidity": 0.2
             }
            },
            "type": "barpolar"
           }
          ],
          "carpet": [
           {
            "aaxis": {
             "endlinecolor": "#2a3f5f",
             "gridcolor": "white",
             "linecolor": "white",
             "minorgridcolor": "white",
             "startlinecolor": "#2a3f5f"
            },
            "baxis": {
             "endlinecolor": "#2a3f5f",
             "gridcolor": "white",
             "linecolor": "white",
             "minorgridcolor": "white",
             "startlinecolor": "#2a3f5f"
            },
            "type": "carpet"
           }
          ],
          "choropleth": [
           {
            "colorbar": {
             "outlinewidth": 0,
             "ticks": ""
            },
            "type": "choropleth"
           }
          ],
          "contour": [
           {
            "colorbar": {
             "outlinewidth": 0,
             "ticks": ""
            },
            "colorscale": [
             [
              0,
              "#0d0887"
             ],
             [
              0.1111111111111111,
              "#46039f"
             ],
             [
              0.2222222222222222,
              "#7201a8"
             ],
             [
              0.3333333333333333,
              "#9c179e"
             ],
             [
              0.4444444444444444,
              "#bd3786"
             ],
             [
              0.5555555555555556,
              "#d8576b"
             ],
             [
              0.6666666666666666,
              "#ed7953"
             ],
             [
              0.7777777777777778,
              "#fb9f3a"
             ],
             [
              0.8888888888888888,
              "#fdca26"
             ],
             [
              1,
              "#f0f921"
             ]
            ],
            "type": "contour"
           }
          ],
          "contourcarpet": [
           {
            "colorbar": {
             "outlinewidth": 0,
             "ticks": ""
            },
            "type": "contourcarpet"
           }
          ],
          "heatmap": [
           {
            "colorbar": {
             "outlinewidth": 0,
             "ticks": ""
            },
            "colorscale": [
             [
              0,
              "#0d0887"
             ],
             [
              0.1111111111111111,
              "#46039f"
             ],
             [
              0.2222222222222222,
              "#7201a8"
             ],
             [
              0.3333333333333333,
              "#9c179e"
             ],
             [
              0.4444444444444444,
              "#bd3786"
             ],
             [
              0.5555555555555556,
              "#d8576b"
             ],
             [
              0.6666666666666666,
              "#ed7953"
             ],
             [
              0.7777777777777778,
              "#fb9f3a"
             ],
             [
              0.8888888888888888,
              "#fdca26"
             ],
             [
              1,
              "#f0f921"
             ]
            ],
            "type": "heatmap"
           }
          ],
          "heatmapgl": [
           {
            "colorbar": {
             "outlinewidth": 0,
             "ticks": ""
            },
            "colorscale": [
             [
              0,
              "#0d0887"
             ],
             [
              0.1111111111111111,
              "#46039f"
             ],
             [
              0.2222222222222222,
              "#7201a8"
             ],
             [
              0.3333333333333333,
              "#9c179e"
             ],
             [
              0.4444444444444444,
              "#bd3786"
             ],
             [
              0.5555555555555556,
              "#d8576b"
             ],
             [
              0.6666666666666666,
              "#ed7953"
             ],
             [
              0.7777777777777778,
              "#fb9f3a"
             ],
             [
              0.8888888888888888,
              "#fdca26"
             ],
             [
              1,
              "#f0f921"
             ]
            ],
            "type": "heatmapgl"
           }
          ],
          "histogram": [
           {
            "marker": {
             "pattern": {
              "fillmode": "overlay",
              "size": 10,
              "solidity": 0.2
             }
            },
            "type": "histogram"
           }
          ],
          "histogram2d": [
           {
            "colorbar": {
             "outlinewidth": 0,
             "ticks": ""
            },
            "colorscale": [
             [
              0,
              "#0d0887"
             ],
             [
              0.1111111111111111,
              "#46039f"
             ],
             [
              0.2222222222222222,
              "#7201a8"
             ],
             [
              0.3333333333333333,
              "#9c179e"
             ],
             [
              0.4444444444444444,
              "#bd3786"
             ],
             [
              0.5555555555555556,
              "#d8576b"
             ],
             [
              0.6666666666666666,
              "#ed7953"
             ],
             [
              0.7777777777777778,
              "#fb9f3a"
             ],
             [
              0.8888888888888888,
              "#fdca26"
             ],
             [
              1,
              "#f0f921"
             ]
            ],
            "type": "histogram2d"
           }
          ],
          "histogram2dcontour": [
           {
            "colorbar": {
             "outlinewidth": 0,
             "ticks": ""
            },
            "colorscale": [
             [
              0,
              "#0d0887"
             ],
             [
              0.1111111111111111,
              "#46039f"
             ],
             [
              0.2222222222222222,
              "#7201a8"
             ],
             [
              0.3333333333333333,
              "#9c179e"
             ],
             [
              0.4444444444444444,
              "#bd3786"
             ],
             [
              0.5555555555555556,
              "#d8576b"
             ],
             [
              0.6666666666666666,
              "#ed7953"
             ],
             [
              0.7777777777777778,
              "#fb9f3a"
             ],
             [
              0.8888888888888888,
              "#fdca26"
             ],
             [
              1,
              "#f0f921"
             ]
            ],
            "type": "histogram2dcontour"
           }
          ],
          "mesh3d": [
           {
            "colorbar": {
             "outlinewidth": 0,
             "ticks": ""
            },
            "type": "mesh3d"
           }
          ],
          "parcoords": [
           {
            "line": {
             "colorbar": {
              "outlinewidth": 0,
              "ticks": ""
             }
            },
            "type": "parcoords"
           }
          ],
          "pie": [
           {
            "automargin": true,
            "type": "pie"
           }
          ],
          "scatter": [
           {
            "fillpattern": {
             "fillmode": "overlay",
             "size": 10,
             "solidity": 0.2
            },
            "type": "scatter"
           }
          ],
          "scatter3d": [
           {
            "line": {
             "colorbar": {
              "outlinewidth": 0,
              "ticks": ""
             }
            },
            "marker": {
             "colorbar": {
              "outlinewidth": 0,
              "ticks": ""
             }
            },
            "type": "scatter3d"
           }
          ],
          "scattercarpet": [
           {
            "marker": {
             "colorbar": {
              "outlinewidth": 0,
              "ticks": ""
             }
            },
            "type": "scattercarpet"
           }
          ],
          "scattergeo": [
           {
            "marker": {
             "colorbar": {
              "outlinewidth": 0,
              "ticks": ""
             }
            },
            "type": "scattergeo"
           }
          ],
          "scattergl": [
           {
            "marker": {
             "colorbar": {
              "outlinewidth": 0,
              "ticks": ""
             }
            },
            "type": "scattergl"
           }
          ],
          "scattermapbox": [
           {
            "marker": {
             "colorbar": {
              "outlinewidth": 0,
              "ticks": ""
             }
            },
            "type": "scattermapbox"
           }
          ],
          "scatterpolar": [
           {
            "marker": {
             "colorbar": {
              "outlinewidth": 0,
              "ticks": ""
             }
            },
            "type": "scatterpolar"
           }
          ],
          "scatterpolargl": [
           {
            "marker": {
             "colorbar": {
              "outlinewidth": 0,
              "ticks": ""
             }
            },
            "type": "scatterpolargl"
           }
          ],
          "scatterternary": [
           {
            "marker": {
             "colorbar": {
              "outlinewidth": 0,
              "ticks": ""
             }
            },
            "type": "scatterternary"
           }
          ],
          "surface": [
           {
            "colorbar": {
             "outlinewidth": 0,
             "ticks": ""
            },
            "colorscale": [
             [
              0,
              "#0d0887"
             ],
             [
              0.1111111111111111,
              "#46039f"
             ],
             [
              0.2222222222222222,
              "#7201a8"
             ],
             [
              0.3333333333333333,
              "#9c179e"
             ],
             [
              0.4444444444444444,
              "#bd3786"
             ],
             [
              0.5555555555555556,
              "#d8576b"
             ],
             [
              0.6666666666666666,
              "#ed7953"
             ],
             [
              0.7777777777777778,
              "#fb9f3a"
             ],
             [
              0.8888888888888888,
              "#fdca26"
             ],
             [
              1,
              "#f0f921"
             ]
            ],
            "type": "surface"
           }
          ],
          "table": [
           {
            "cells": {
             "fill": {
              "color": "#EBF0F8"
             },
             "line": {
              "color": "white"
             }
            },
            "header": {
             "fill": {
              "color": "#C8D4E3"
             },
             "line": {
              "color": "white"
             }
            },
            "type": "table"
           }
          ]
         },
         "layout": {
          "annotationdefaults": {
           "arrowcolor": "#2a3f5f",
           "arrowhead": 0,
           "arrowwidth": 1
          },
          "autotypenumbers": "strict",
          "coloraxis": {
           "colorbar": {
            "outlinewidth": 0,
            "ticks": ""
           }
          },
          "colorscale": {
           "diverging": [
            [
             0,
             "#8e0152"
            ],
            [
             0.1,
             "#c51b7d"
            ],
            [
             0.2,
             "#de77ae"
            ],
            [
             0.3,
             "#f1b6da"
            ],
            [
             0.4,
             "#fde0ef"
            ],
            [
             0.5,
             "#f7f7f7"
            ],
            [
             0.6,
             "#e6f5d0"
            ],
            [
             0.7,
             "#b8e186"
            ],
            [
             0.8,
             "#7fbc41"
            ],
            [
             0.9,
             "#4d9221"
            ],
            [
             1,
             "#276419"
            ]
           ],
           "sequential": [
            [
             0,
             "#0d0887"
            ],
            [
             0.1111111111111111,
             "#46039f"
            ],
            [
             0.2222222222222222,
             "#7201a8"
            ],
            [
             0.3333333333333333,
             "#9c179e"
            ],
            [
             0.4444444444444444,
             "#bd3786"
            ],
            [
             0.5555555555555556,
             "#d8576b"
            ],
            [
             0.6666666666666666,
             "#ed7953"
            ],
            [
             0.7777777777777778,
             "#fb9f3a"
            ],
            [
             0.8888888888888888,
             "#fdca26"
            ],
            [
             1,
             "#f0f921"
            ]
           ],
           "sequentialminus": [
            [
             0,
             "#0d0887"
            ],
            [
             0.1111111111111111,
             "#46039f"
            ],
            [
             0.2222222222222222,
             "#7201a8"
            ],
            [
             0.3333333333333333,
             "#9c179e"
            ],
            [
             0.4444444444444444,
             "#bd3786"
            ],
            [
             0.5555555555555556,
             "#d8576b"
            ],
            [
             0.6666666666666666,
             "#ed7953"
            ],
            [
             0.7777777777777778,
             "#fb9f3a"
            ],
            [
             0.8888888888888888,
             "#fdca26"
            ],
            [
             1,
             "#f0f921"
            ]
           ]
          },
          "colorway": [
           "#636efa",
           "#EF553B",
           "#00cc96",
           "#ab63fa",
           "#FFA15A",
           "#19d3f3",
           "#FF6692",
           "#B6E880",
           "#FF97FF",
           "#FECB52"
          ],
          "font": {
           "color": "#2a3f5f"
          },
          "geo": {
           "bgcolor": "white",
           "lakecolor": "white",
           "landcolor": "#E5ECF6",
           "showlakes": true,
           "showland": true,
           "subunitcolor": "white"
          },
          "hoverlabel": {
           "align": "left"
          },
          "hovermode": "closest",
          "mapbox": {
           "style": "light"
          },
          "paper_bgcolor": "white",
          "plot_bgcolor": "#E5ECF6",
          "polar": {
           "angularaxis": {
            "gridcolor": "white",
            "linecolor": "white",
            "ticks": ""
           },
           "bgcolor": "#E5ECF6",
           "radialaxis": {
            "gridcolor": "white",
            "linecolor": "white",
            "ticks": ""
           }
          },
          "scene": {
           "xaxis": {
            "backgroundcolor": "#E5ECF6",
            "gridcolor": "white",
            "gridwidth": 2,
            "linecolor": "white",
            "showbackground": true,
            "ticks": "",
            "zerolinecolor": "white"
           },
           "yaxis": {
            "backgroundcolor": "#E5ECF6",
            "gridcolor": "white",
            "gridwidth": 2,
            "linecolor": "white",
            "showbackground": true,
            "ticks": "",
            "zerolinecolor": "white"
           },
           "zaxis": {
            "backgroundcolor": "#E5ECF6",
            "gridcolor": "white",
            "gridwidth": 2,
            "linecolor": "white",
            "showbackground": true,
            "ticks": "",
            "zerolinecolor": "white"
           }
          },
          "shapedefaults": {
           "line": {
            "color": "#2a3f5f"
           }
          },
          "ternary": {
           "aaxis": {
            "gridcolor": "white",
            "linecolor": "white",
            "ticks": ""
           },
           "baxis": {
            "gridcolor": "white",
            "linecolor": "white",
            "ticks": ""
           },
           "bgcolor": "#E5ECF6",
           "caxis": {
            "gridcolor": "white",
            "linecolor": "white",
            "ticks": ""
           }
          },
          "title": {
           "x": 0.05
          },
          "xaxis": {
           "automargin": true,
           "gridcolor": "white",
           "linecolor": "white",
           "ticks": "",
           "title": {
            "standoff": 15
           },
           "zerolinecolor": "white",
           "zerolinewidth": 2
          },
          "yaxis": {
           "automargin": true,
           "gridcolor": "white",
           "linecolor": "white",
           "ticks": "",
           "title": {
            "standoff": 15
           },
           "zerolinecolor": "white",
           "zerolinewidth": 2
          }
         }
        },
        "title": {
         "text": "Rank Evolution"
        },
        "xaxis": {
         "anchor": "y",
         "domain": [
          0,
          1
         ],
         "title": {
          "text": "ranking_date"
         }
        },
        "yaxis": {
         "anchor": "x",
         "autorange": "reversed",
         "domain": [
          0,
          1
         ],
         "title": {
          "text": "rank"
         }
        }
       }
      }
     },
     "metadata": {},
     "output_type": "display_data"
    },
    {
     "data": {
      "text/plain": [
       "('Felix Auger Aliassime', 'Carlos Alcaraz', 0.5453643509620061)"
      ]
     },
     "execution_count": 576,
     "metadata": {},
     "output_type": "execute_result"
    }
   ],
   "source": [
    "p1,p2,model_to_predict,model_scaled = main_model(model,name_a,name_b,tournament_name,tournament_date,round_level,df_rankings,kpis,tourns_dict)\n",
    "\n",
    "tc = TennisPredModel(model_scaled)\n",
    "\n",
    "X, y, X_train, X_test, y_train, y_test, X_to_predict, y_to_predict = tc.split_model()\n",
    "\n",
    "print(f'Data model and features ready')\n",
    "# model_selected,model_name,preci,recall = tc.pick_best_model(X_train, y_train, X_test, y_test)\n",
    "params = {'max_depth': 6, 'max_features': 'sqrt', 'max_leaf_nodes': 9, 'n_estimators': 25}\n",
    "# params = {'max_depth': 9, 'max_features': 'sqrt', 'max_leaf_nodes': 9, 'n_estimators': 25}\n",
    "model_selected = RandomForestClassifier(**params)\n",
    "result, probability, feat_importance = tc.predictive_model_apply(model_selected,X,y,X_to_predict)\n",
    "get_final_result(p1,p2,result,probability,feat_importance,True)"
   ]
  },
  {
   "cell_type": "code",
   "execution_count": 632,
   "metadata": {},
   "outputs": [
    {
     "name": "stdout",
     "output_type": "stream",
     "text": [
      "Data model and features ready\n",
      "WINNER: Novak Djokovic | LOSER: Casper Ruud | Probability: 74.93%!\n",
      "Data model and features ready\n",
      "WINNER: Carlos Alcaraz | LOSER: Casper Ruud | Probability: 61.52%!\n",
      "Data model and features ready\n",
      "WINNER: Daniil Medvedev | LOSER: Casper Ruud | Probability: 74.23%!\n",
      "Data model and features ready\n",
      "WINNER: Jannik Sinner | LOSER: Casper Ruud | Probability: 75.55%!\n",
      "Data model and features ready\n",
      "WINNER: Andrey Rublev | LOSER: Casper Ruud | Probability: 77.74%!\n",
      "Data model and features ready\n",
      "WINNER: Stefanos Tsitsipas | LOSER: Casper Ruud | Probability: 76.15%!\n",
      "Data model and features ready\n",
      "WINNER: Alexander Zverev | LOSER: Casper Ruud | Probability: 61.42%!\n",
      "Data model and features ready\n",
      "WINNER: Holger Rune | LOSER: Casper Ruud | Probability: 51.93%!\n",
      "Data model and features ready\n",
      "WINNER: Hubert Hurkacz | LOSER: Casper Ruud | Probability: 67.04%!\n",
      "Data model and features ready\n",
      "WINNER: Casper Ruud | LOSER: Taylor Fritz | Probability: 58.13%!\n",
      "Data model and features ready\n",
      "WINNER: Alex De Minaur | LOSER: Casper Ruud | Probability: 50.53%!\n",
      "Data model and features ready\n",
      "WINNER: Casper Ruud | LOSER: Tommy Paul | Probability: 56.79%!\n",
      "Data model and features ready\n",
      "WINNER: Grigor Dimitrov | LOSER: Casper Ruud | Probability: 53.28%!\n",
      "Data model and features ready\n",
      "WINNER: Casper Ruud | LOSER: Karen Khachanov | Probability: 57.18%!\n",
      "Data model and features ready\n",
      "WINNER: Casper Ruud | LOSER: Frances Tiafoe | Probability: 64.09%!\n",
      "Data model and features ready\n",
      "WINNER: Ben Shelton | LOSER: Casper Ruud | Probability: 67.45%!\n",
      "Data model and features ready\n",
      "WINNER: Casper Ruud | LOSER: Cameron Norrie | Probability: 74.76%!\n",
      "Data model and features ready\n",
      "WINNER: Casper Ruud | LOSER: Nicolas Jarry | Probability: 53.46%!\n",
      "Data model and features ready\n",
      "WINNER: Ugo Humbert | LOSER: Casper Ruud | Probability: 50.64%!\n",
      "Data model and features ready\n",
      "WINNER: Casper Ruud | LOSER: Francisco Cerundolo | Probability: 59.63%!\n",
      "Data model and features ready\n",
      "WINNER: Casper Ruud | LOSER: Adrian Mannarino | Probability: 58.35%!\n",
      "Data model and features ready\n",
      "WINNER: Casper Ruud | LOSER: Tallon Griekspoor | Probability: 58.68%!\n",
      "Data model and features ready\n",
      "WINNER: Casper Ruud | LOSER: Sebastian Korda | Probability: 51.22%!\n",
      "Data model and features ready\n",
      "WINNER: Casper Ruud | LOSER: Jan Lennard Struff | Probability: 77.68%!\n",
      "Data model and features ready\n",
      "WINNER: Casper Ruud | LOSER: Alejandro Davidovich Fokina | Probability: 62.03%!\n",
      "Data model and features ready\n",
      "WINNER: Casper Ruud | LOSER: Lorenzo Musetti | Probability: 76.18%!\n",
      "Data model and features ready\n",
      "WINNER: Casper Ruud | LOSER: Sebastian Baez | Probability: 78.44%!\n",
      "Data model and features ready\n",
      "WINNER: Felix Auger Aliassime | LOSER: Casper Ruud | Probability: 50.41%!\n",
      "Data model and features ready\n",
      "WINNER: Casper Ruud | LOSER: Tomas Martin Etcheverry | Probability: 69.68%!\n",
      "Data model and features ready\n",
      "WINNER: Casper Ruud | LOSER: Jiri Lehecka | Probability: 78.72%!\n",
      "Data model and features ready\n",
      "WINNER: Casper Ruud | LOSER: Alexander Bublik | Probability: 53.32%!\n",
      "Data model and features ready\n",
      "WINNER: Casper Ruud | LOSER: Laslo Djere | Probability: 68.84%!\n",
      "Data model and features ready\n",
      "WINNER: Casper Ruud | LOSER: Christopher Eubanks | Probability: 82.16%!\n",
      "Data model and features ready\n",
      "WINNER: Aslan Karatsev | LOSER: Casper Ruud | Probability: 51.76%!\n",
      "Data model and features ready\n",
      "WINNER: Casper Ruud | LOSER: Arthur Fils | Probability: 58.70%!\n",
      "Data model and features ready\n",
      "WINNER: Casper Ruud | LOSER: Borna Coric | Probability: 59.92%!\n",
      "Data model and features ready\n",
      "WINNER: Casper Ruud | LOSER: Daniel Evans | Probability: 80.34%!\n",
      "Data model and features ready\n",
      "WINNER: Casper Ruud | LOSER: Roman Safiullin | Probability: 61.10%!\n",
      "Data model and features ready\n",
      "WINNER: Casper Ruud | LOSER: Alexei Popyrin | Probability: 78.71%!\n",
      "Data model and features ready\n",
      "WINNER: Casper Ruud | LOSER: Mackenzie Mcdonald | Probability: 68.87%!\n",
      "Data model and features ready\n",
      "WINNER: Casper Ruud | LOSER: Andy Murray | Probability: 73.01%!\n",
      "Data model and features ready\n",
      "WINNER: Casper Ruud | LOSER: Sebastian Ofner | Probability: 53.43%!\n",
      "Data model and features ready\n",
      "WINNER: Casper Ruud | LOSER: Matteo Arnaldi | Probability: 59.36%!\n",
      "Data model and features ready\n",
      "WINNER: Casper Ruud | LOSER: Max Purcell | Probability: 82.96%!\n",
      "Data model and features ready\n",
      "WINNER: Casper Ruud | LOSER: Lorenzo Sonego | Probability: 56.25%!\n",
      "Data model and features ready\n",
      "WINNER: Casper Ruud | LOSER: Yoshihito Nishioka | Probability: 57.45%!\n",
      "Data model and features ready\n",
      "WINNER: Alexander Shevchenko | LOSER: Casper Ruud | Probability: 61.69%!\n",
      "Data model and features ready\n",
      "WINNER: Casper Ruud | LOSER: Stan Wawrinka | Probability: 74.69%!\n",
      "Data model and features ready\n",
      "WINNER: Casper Ruud | LOSER: Botic Van De Zandschulp | Probability: 68.15%!\n"
     ]
    }
   ],
   "source": [
    "# Define inputs\n",
    "name_a = 'Casper Ruud'\n",
    "tournament_name = 'Estoril'\n",
    "tournament_date = pd.to_datetime('2024-04-05',format='%Y-%m-%d')\n",
    "round_level = 0\n",
    "\n",
    "top_50_names = get_top_50[['name','rank']].drop_duplicates()\n",
    "\n",
    "rank_a = top_50_names[top_50_names['name']==name_a]['rank'].iloc[0]\n",
    "\n",
    "results = []\n",
    "for i,row in top_50_names.iterrows():\n",
    "    name_b = row['name']\n",
    "    rank_b = row['rank']\n",
    "\n",
    "    if name_b != name_a:\n",
    "        p1,p2,model_to_predict,model_scaled = main_model(model,name_a,name_b,tournament_name,tournament_date,round_level,df_rankings,kpis,tourns_dict)\n",
    "        \n",
    "        tc = TennisPredModel(model_scaled)\n",
    "\n",
    "        X, y, X_train, X_test, y_train, y_test, X_to_predict, y_to_predict = tc.split_model()\n",
    "\n",
    "        print(f'Data model and features ready')\n",
    "        # model_selected,model_name,preci,recall = tc.pick_best_model(X_train, y_train, X_test, y_test)\n",
    "        params = {'max_depth': 6, 'max_features': 'sqrt', 'max_leaf_nodes': 9, 'n_estimators': 25}\n",
    "        # params = {'max_depth': 9, 'max_features': 'sqrt', 'max_leaf_nodes': 9, 'n_estimators': 25}\n",
    "        model_selected = RandomForestClassifier(**params)\n",
    "        result, probability, feat_importance = tc.predictive_model_apply(model_selected,X,y,X_to_predict)\n",
    "        winner_name,loser_name,probability_result = get_final_result(p1,p2,result,probability,feat_importance,False)\n",
    "\n",
    "        if name_a == winner_name:\n",
    "            prob = probability_result\n",
    "            win_a = 1\n",
    "        else:\n",
    "            prob = 1-probability_result\n",
    "            win_a = 0\n",
    "\n",
    "        results.append([name_a,rank_a,name_b,rank_b,win_a,probability_result])"
   ]
  },
  {
   "cell_type": "code",
   "execution_count": 633,
   "metadata": {},
   "outputs": [
    {
     "data": {
      "application/vnd.plotly.v1+json": {
       "config": {
        "plotlyServerURL": "https://plot.ly"
       },
       "data": [
        {
         "alignmentgroup": "True",
         "hovertemplate": "Type=Easy_Loss<br>Name_O=%{x}<br>Probability=%{text}<extra></extra>",
         "legendgroup": "Easy_Loss",
         "marker": {
          "color": "#636efa",
          "pattern": {
           "shape": ""
          }
         },
         "name": "Easy_Loss",
         "offsetgroup": "Easy_Loss",
         "orientation": "v",
         "showlegend": true,
         "text": [
          0.7492575534532971,
          0.7422746166313187,
          0.755490128302194,
          0.7774408753161152,
          0.7615095670917629
         ],
         "textposition": "auto",
         "texttemplate": "%{y:.1%}",
         "type": "bar",
         "x": [
          "Novak Djokovic",
          "Daniil Medvedev",
          "Jannik Sinner",
          "Andrey Rublev",
          "Stefanos Tsitsipas"
         ],
         "xaxis": "x",
         "y": [
          0.7492575534532971,
          0.7422746166313187,
          0.755490128302194,
          0.7774408753161152,
          0.7615095670917629
         ],
         "yaxis": "y"
        },
        {
         "alignmentgroup": "True",
         "hovertemplate": "Type=Hard_Loss<br>Name_O=%{x}<br>Probability=%{text}<extra></extra>",
         "legendgroup": "Hard_Loss",
         "marker": {
          "color": "#EF553B",
          "pattern": {
           "shape": ""
          }
         },
         "name": "Hard_Loss",
         "offsetgroup": "Hard_Loss",
         "orientation": "v",
         "showlegend": true,
         "text": [
          0.6152224064502804,
          0.6141938967225077,
          0.5193107815524961,
          0.6704387212390059,
          0.5052570406099837,
          0.5327709171000978,
          0.674541849372448,
          0.5064033023129856,
          0.5041278052786475,
          0.5176022193686816,
          0.6168630648758366
         ],
         "textposition": "auto",
         "texttemplate": "%{y:.1%}",
         "type": "bar",
         "x": [
          "Carlos Alcaraz",
          "Alexander Zverev",
          "Holger Rune",
          "Hubert Hurkacz",
          "Alex De Minaur",
          "Grigor Dimitrov",
          "Ben Shelton",
          "Ugo Humbert",
          "Felix Auger Aliassime",
          "Aslan Karatsev",
          "Alexander Shevchenko"
         ],
         "xaxis": "x",
         "y": [
          0.6152224064502804,
          0.6141938967225077,
          0.5193107815524961,
          0.6704387212390059,
          0.5052570406099837,
          0.5327709171000978,
          0.674541849372448,
          0.5064033023129856,
          0.5041278052786475,
          0.5176022193686816,
          0.6168630648758366
         ],
         "yaxis": "y"
        },
        {
         "alignmentgroup": "True",
         "hovertemplate": "Type=Hard_Win<br>Name_O=%{x}<br>Probability=%{text}<extra></extra>",
         "legendgroup": "Hard_Win",
         "marker": {
          "color": "#00cc96",
          "pattern": {
           "shape": ""
          }
         },
         "name": "Hard_Win",
         "offsetgroup": "Hard_Win",
         "orientation": "v",
         "showlegend": true,
         "text": [
          0.5813029479891862,
          0.5678882386316918,
          0.5717508539882759,
          0.640873402227881,
          0.5346385691627682,
          0.5963104909360029,
          0.583452969420511,
          0.5868078069412749,
          0.5122487347968785,
          0.6203388139561398,
          0.6967912962646601,
          0.5331994836426321,
          0.6884029873889764,
          0.5869885300486606,
          0.5992346200237249,
          0.611000632071004,
          0.6887278964016045,
          0.5342558897664569,
          0.5935954047362696,
          0.5625199994338278,
          0.5744660833552078,
          0.6815390660671745
         ],
         "textposition": "auto",
         "texttemplate": "%{y:.1%}",
         "type": "bar",
         "x": [
          "Taylor Fritz",
          "Tommy Paul",
          "Karen Khachanov",
          "Frances Tiafoe",
          "Nicolas Jarry",
          "Francisco Cerundolo",
          "Adrian Mannarino",
          "Tallon Griekspoor",
          "Sebastian Korda",
          "Alejandro Davidovich Fokina",
          "Tomas Martin Etcheverry",
          "Alexander Bublik",
          "Laslo Djere",
          "Arthur Fils",
          "Borna Coric",
          "Roman Safiullin",
          "Mackenzie Mcdonald",
          "Sebastian Ofner",
          "Matteo Arnaldi",
          "Lorenzo Sonego",
          "Yoshihito Nishioka",
          "Botic Van De Zandschulp"
         ],
         "xaxis": "x",
         "y": [
          0.5813029479891862,
          0.5678882386316918,
          0.5717508539882759,
          0.640873402227881,
          0.5346385691627682,
          0.5963104909360029,
          0.583452969420511,
          0.5868078069412749,
          0.5122487347968785,
          0.6203388139561398,
          0.6967912962646601,
          0.5331994836426321,
          0.6884029873889764,
          0.5869885300486606,
          0.5992346200237249,
          0.611000632071004,
          0.6887278964016045,
          0.5342558897664569,
          0.5935954047362696,
          0.5625199994338278,
          0.5744660833552078,
          0.6815390660671745
         ],
         "yaxis": "y"
        },
        {
         "alignmentgroup": "True",
         "hovertemplate": "Type=Easy_Win<br>Name_O=%{x}<br>Probability=%{text}<extra></extra>",
         "legendgroup": "Easy_Win",
         "marker": {
          "color": "#ab63fa",
          "pattern": {
           "shape": ""
          }
         },
         "name": "Easy_Win",
         "offsetgroup": "Easy_Win",
         "orientation": "v",
         "showlegend": true,
         "text": [
          0.7476413949858925,
          0.7767978770383874,
          0.7618215736623821,
          0.7844385637201523,
          0.7871741067894633,
          0.8215892636558246,
          0.8034054609171384,
          0.787114676605476,
          0.7300764871187946,
          0.8296249281302646,
          0.7469070988216902
         ],
         "textposition": "auto",
         "texttemplate": "%{y:.1%}",
         "type": "bar",
         "x": [
          "Cameron Norrie",
          "Jan Lennard Struff",
          "Lorenzo Musetti",
          "Sebastian Baez",
          "Jiri Lehecka",
          "Christopher Eubanks",
          "Daniel Evans",
          "Alexei Popyrin",
          "Andy Murray",
          "Max Purcell",
          "Stan Wawrinka"
         ],
         "xaxis": "x",
         "y": [
          0.7476413949858925,
          0.7767978770383874,
          0.7618215736623821,
          0.7844385637201523,
          0.7871741067894633,
          0.8215892636558246,
          0.8034054609171384,
          0.787114676605476,
          0.7300764871187946,
          0.8296249281302646,
          0.7469070988216902
         ],
         "yaxis": "y"
        }
       ],
       "layout": {
        "barmode": "relative",
        "legend": {
         "title": {
          "text": "Type"
         },
         "tracegroupgap": 0
        },
        "template": {
         "data": {
          "bar": [
           {
            "error_x": {
             "color": "#2a3f5f"
            },
            "error_y": {
             "color": "#2a3f5f"
            },
            "marker": {
             "line": {
              "color": "#E5ECF6",
              "width": 0.5
             },
             "pattern": {
              "fillmode": "overlay",
              "size": 10,
              "solidity": 0.2
             }
            },
            "type": "bar"
           }
          ],
          "barpolar": [
           {
            "marker": {
             "line": {
              "color": "#E5ECF6",
              "width": 0.5
             },
             "pattern": {
              "fillmode": "overlay",
              "size": 10,
              "solidity": 0.2
             }
            },
            "type": "barpolar"
           }
          ],
          "carpet": [
           {
            "aaxis": {
             "endlinecolor": "#2a3f5f",
             "gridcolor": "white",
             "linecolor": "white",
             "minorgridcolor": "white",
             "startlinecolor": "#2a3f5f"
            },
            "baxis": {
             "endlinecolor": "#2a3f5f",
             "gridcolor": "white",
             "linecolor": "white",
             "minorgridcolor": "white",
             "startlinecolor": "#2a3f5f"
            },
            "type": "carpet"
           }
          ],
          "choropleth": [
           {
            "colorbar": {
             "outlinewidth": 0,
             "ticks": ""
            },
            "type": "choropleth"
           }
          ],
          "contour": [
           {
            "colorbar": {
             "outlinewidth": 0,
             "ticks": ""
            },
            "colorscale": [
             [
              0,
              "#0d0887"
             ],
             [
              0.1111111111111111,
              "#46039f"
             ],
             [
              0.2222222222222222,
              "#7201a8"
             ],
             [
              0.3333333333333333,
              "#9c179e"
             ],
             [
              0.4444444444444444,
              "#bd3786"
             ],
             [
              0.5555555555555556,
              "#d8576b"
             ],
             [
              0.6666666666666666,
              "#ed7953"
             ],
             [
              0.7777777777777778,
              "#fb9f3a"
             ],
             [
              0.8888888888888888,
              "#fdca26"
             ],
             [
              1,
              "#f0f921"
             ]
            ],
            "type": "contour"
           }
          ],
          "contourcarpet": [
           {
            "colorbar": {
             "outlinewidth": 0,
             "ticks": ""
            },
            "type": "contourcarpet"
           }
          ],
          "heatmap": [
           {
            "colorbar": {
             "outlinewidth": 0,
             "ticks": ""
            },
            "colorscale": [
             [
              0,
              "#0d0887"
             ],
             [
              0.1111111111111111,
              "#46039f"
             ],
             [
              0.2222222222222222,
              "#7201a8"
             ],
             [
              0.3333333333333333,
              "#9c179e"
             ],
             [
              0.4444444444444444,
              "#bd3786"
             ],
             [
              0.5555555555555556,
              "#d8576b"
             ],
             [
              0.6666666666666666,
              "#ed7953"
             ],
             [
              0.7777777777777778,
              "#fb9f3a"
             ],
             [
              0.8888888888888888,
              "#fdca26"
             ],
             [
              1,
              "#f0f921"
             ]
            ],
            "type": "heatmap"
           }
          ],
          "heatmapgl": [
           {
            "colorbar": {
             "outlinewidth": 0,
             "ticks": ""
            },
            "colorscale": [
             [
              0,
              "#0d0887"
             ],
             [
              0.1111111111111111,
              "#46039f"
             ],
             [
              0.2222222222222222,
              "#7201a8"
             ],
             [
              0.3333333333333333,
              "#9c179e"
             ],
             [
              0.4444444444444444,
              "#bd3786"
             ],
             [
              0.5555555555555556,
              "#d8576b"
             ],
             [
              0.6666666666666666,
              "#ed7953"
             ],
             [
              0.7777777777777778,
              "#fb9f3a"
             ],
             [
              0.8888888888888888,
              "#fdca26"
             ],
             [
              1,
              "#f0f921"
             ]
            ],
            "type": "heatmapgl"
           }
          ],
          "histogram": [
           {
            "marker": {
             "pattern": {
              "fillmode": "overlay",
              "size": 10,
              "solidity": 0.2
             }
            },
            "type": "histogram"
           }
          ],
          "histogram2d": [
           {
            "colorbar": {
             "outlinewidth": 0,
             "ticks": ""
            },
            "colorscale": [
             [
              0,
              "#0d0887"
             ],
             [
              0.1111111111111111,
              "#46039f"
             ],
             [
              0.2222222222222222,
              "#7201a8"
             ],
             [
              0.3333333333333333,
              "#9c179e"
             ],
             [
              0.4444444444444444,
              "#bd3786"
             ],
             [
              0.5555555555555556,
              "#d8576b"
             ],
             [
              0.6666666666666666,
              "#ed7953"
             ],
             [
              0.7777777777777778,
              "#fb9f3a"
             ],
             [
              0.8888888888888888,
              "#fdca26"
             ],
             [
              1,
              "#f0f921"
             ]
            ],
            "type": "histogram2d"
           }
          ],
          "histogram2dcontour": [
           {
            "colorbar": {
             "outlinewidth": 0,
             "ticks": ""
            },
            "colorscale": [
             [
              0,
              "#0d0887"
             ],
             [
              0.1111111111111111,
              "#46039f"
             ],
             [
              0.2222222222222222,
              "#7201a8"
             ],
             [
              0.3333333333333333,
              "#9c179e"
             ],
             [
              0.4444444444444444,
              "#bd3786"
             ],
             [
              0.5555555555555556,
              "#d8576b"
             ],
             [
              0.6666666666666666,
              "#ed7953"
             ],
             [
              0.7777777777777778,
              "#fb9f3a"
             ],
             [
              0.8888888888888888,
              "#fdca26"
             ],
             [
              1,
              "#f0f921"
             ]
            ],
            "type": "histogram2dcontour"
           }
          ],
          "mesh3d": [
           {
            "colorbar": {
             "outlinewidth": 0,
             "ticks": ""
            },
            "type": "mesh3d"
           }
          ],
          "parcoords": [
           {
            "line": {
             "colorbar": {
              "outlinewidth": 0,
              "ticks": ""
             }
            },
            "type": "parcoords"
           }
          ],
          "pie": [
           {
            "automargin": true,
            "type": "pie"
           }
          ],
          "scatter": [
           {
            "fillpattern": {
             "fillmode": "overlay",
             "size": 10,
             "solidity": 0.2
            },
            "type": "scatter"
           }
          ],
          "scatter3d": [
           {
            "line": {
             "colorbar": {
              "outlinewidth": 0,
              "ticks": ""
             }
            },
            "marker": {
             "colorbar": {
              "outlinewidth": 0,
              "ticks": ""
             }
            },
            "type": "scatter3d"
           }
          ],
          "scattercarpet": [
           {
            "marker": {
             "colorbar": {
              "outlinewidth": 0,
              "ticks": ""
             }
            },
            "type": "scattercarpet"
           }
          ],
          "scattergeo": [
           {
            "marker": {
             "colorbar": {
              "outlinewidth": 0,
              "ticks": ""
             }
            },
            "type": "scattergeo"
           }
          ],
          "scattergl": [
           {
            "marker": {
             "colorbar": {
              "outlinewidth": 0,
              "ticks": ""
             }
            },
            "type": "scattergl"
           }
          ],
          "scattermapbox": [
           {
            "marker": {
             "colorbar": {
              "outlinewidth": 0,
              "ticks": ""
             }
            },
            "type": "scattermapbox"
           }
          ],
          "scatterpolar": [
           {
            "marker": {
             "colorbar": {
              "outlinewidth": 0,
              "ticks": ""
             }
            },
            "type": "scatterpolar"
           }
          ],
          "scatterpolargl": [
           {
            "marker": {
             "colorbar": {
              "outlinewidth": 0,
              "ticks": ""
             }
            },
            "type": "scatterpolargl"
           }
          ],
          "scatterternary": [
           {
            "marker": {
             "colorbar": {
              "outlinewidth": 0,
              "ticks": ""
             }
            },
            "type": "scatterternary"
           }
          ],
          "surface": [
           {
            "colorbar": {
             "outlinewidth": 0,
             "ticks": ""
            },
            "colorscale": [
             [
              0,
              "#0d0887"
             ],
             [
              0.1111111111111111,
              "#46039f"
             ],
             [
              0.2222222222222222,
              "#7201a8"
             ],
             [
              0.3333333333333333,
              "#9c179e"
             ],
             [
              0.4444444444444444,
              "#bd3786"
             ],
             [
              0.5555555555555556,
              "#d8576b"
             ],
             [
              0.6666666666666666,
              "#ed7953"
             ],
             [
              0.7777777777777778,
              "#fb9f3a"
             ],
             [
              0.8888888888888888,
              "#fdca26"
             ],
             [
              1,
              "#f0f921"
             ]
            ],
            "type": "surface"
           }
          ],
          "table": [
           {
            "cells": {
             "fill": {
              "color": "#EBF0F8"
             },
             "line": {
              "color": "white"
             }
            },
            "header": {
             "fill": {
              "color": "#C8D4E3"
             },
             "line": {
              "color": "white"
             }
            },
            "type": "table"
           }
          ]
         },
         "layout": {
          "annotationdefaults": {
           "arrowcolor": "#2a3f5f",
           "arrowhead": 0,
           "arrowwidth": 1
          },
          "autotypenumbers": "strict",
          "coloraxis": {
           "colorbar": {
            "outlinewidth": 0,
            "ticks": ""
           }
          },
          "colorscale": {
           "diverging": [
            [
             0,
             "#8e0152"
            ],
            [
             0.1,
             "#c51b7d"
            ],
            [
             0.2,
             "#de77ae"
            ],
            [
             0.3,
             "#f1b6da"
            ],
            [
             0.4,
             "#fde0ef"
            ],
            [
             0.5,
             "#f7f7f7"
            ],
            [
             0.6,
             "#e6f5d0"
            ],
            [
             0.7,
             "#b8e186"
            ],
            [
             0.8,
             "#7fbc41"
            ],
            [
             0.9,
             "#4d9221"
            ],
            [
             1,
             "#276419"
            ]
           ],
           "sequential": [
            [
             0,
             "#0d0887"
            ],
            [
             0.1111111111111111,
             "#46039f"
            ],
            [
             0.2222222222222222,
             "#7201a8"
            ],
            [
             0.3333333333333333,
             "#9c179e"
            ],
            [
             0.4444444444444444,
             "#bd3786"
            ],
            [
             0.5555555555555556,
             "#d8576b"
            ],
            [
             0.6666666666666666,
             "#ed7953"
            ],
            [
             0.7777777777777778,
             "#fb9f3a"
            ],
            [
             0.8888888888888888,
             "#fdca26"
            ],
            [
             1,
             "#f0f921"
            ]
           ],
           "sequentialminus": [
            [
             0,
             "#0d0887"
            ],
            [
             0.1111111111111111,
             "#46039f"
            ],
            [
             0.2222222222222222,
             "#7201a8"
            ],
            [
             0.3333333333333333,
             "#9c179e"
            ],
            [
             0.4444444444444444,
             "#bd3786"
            ],
            [
             0.5555555555555556,
             "#d8576b"
            ],
            [
             0.6666666666666666,
             "#ed7953"
            ],
            [
             0.7777777777777778,
             "#fb9f3a"
            ],
            [
             0.8888888888888888,
             "#fdca26"
            ],
            [
             1,
             "#f0f921"
            ]
           ]
          },
          "colorway": [
           "#636efa",
           "#EF553B",
           "#00cc96",
           "#ab63fa",
           "#FFA15A",
           "#19d3f3",
           "#FF6692",
           "#B6E880",
           "#FF97FF",
           "#FECB52"
          ],
          "font": {
           "color": "#2a3f5f"
          },
          "geo": {
           "bgcolor": "white",
           "lakecolor": "white",
           "landcolor": "#E5ECF6",
           "showlakes": true,
           "showland": true,
           "subunitcolor": "white"
          },
          "hoverlabel": {
           "align": "left"
          },
          "hovermode": "closest",
          "mapbox": {
           "style": "light"
          },
          "paper_bgcolor": "white",
          "plot_bgcolor": "#E5ECF6",
          "polar": {
           "angularaxis": {
            "gridcolor": "white",
            "linecolor": "white",
            "ticks": ""
           },
           "bgcolor": "#E5ECF6",
           "radialaxis": {
            "gridcolor": "white",
            "linecolor": "white",
            "ticks": ""
           }
          },
          "scene": {
           "xaxis": {
            "backgroundcolor": "#E5ECF6",
            "gridcolor": "white",
            "gridwidth": 2,
            "linecolor": "white",
            "showbackground": true,
            "ticks": "",
            "zerolinecolor": "white"
           },
           "yaxis": {
            "backgroundcolor": "#E5ECF6",
            "gridcolor": "white",
            "gridwidth": 2,
            "linecolor": "white",
            "showbackground": true,
            "ticks": "",
            "zerolinecolor": "white"
           },
           "zaxis": {
            "backgroundcolor": "#E5ECF6",
            "gridcolor": "white",
            "gridwidth": 2,
            "linecolor": "white",
            "showbackground": true,
            "ticks": "",
            "zerolinecolor": "white"
           }
          },
          "shapedefaults": {
           "line": {
            "color": "#2a3f5f"
           }
          },
          "ternary": {
           "aaxis": {
            "gridcolor": "white",
            "linecolor": "white",
            "ticks": ""
           },
           "baxis": {
            "gridcolor": "white",
            "linecolor": "white",
            "ticks": ""
           },
           "bgcolor": "#E5ECF6",
           "caxis": {
            "gridcolor": "white",
            "linecolor": "white",
            "ticks": ""
           }
          },
          "title": {
           "x": 0.05
          },
          "xaxis": {
           "automargin": true,
           "gridcolor": "white",
           "linecolor": "white",
           "ticks": "",
           "title": {
            "standoff": 15
           },
           "zerolinecolor": "white",
           "zerolinewidth": 2
          },
          "yaxis": {
           "automargin": true,
           "gridcolor": "white",
           "linecolor": "white",
           "ticks": "",
           "title": {
            "standoff": 15
           },
           "zerolinecolor": "white",
           "zerolinewidth": 2
          }
         }
        },
        "title": {
         "text": "Feature Importances"
        },
        "xaxis": {
         "anchor": "y",
         "domain": [
          0,
          1
         ],
         "title": {
          "text": "Name_O"
         }
        },
        "yaxis": {
         "anchor": "x",
         "domain": [
          0,
          1
         ],
         "title": {
          "text": "Probability"
         }
        }
       }
      }
     },
     "metadata": {},
     "output_type": "display_data"
    }
   ],
   "source": [
    "df_res = pd.DataFrame(results,columns=['Name_P','Rank_P','Name_O','Rank_O','Win_for_P','Probability'])\n",
    "df_res['color'] = np.where(df_res['Win_for_P']==0,-1,1)*df_res['Probability']\n",
    "\n",
    "\n",
    "df_res['Type'] = np.where((df_res['Win_for_P']==1)&(df_res['Probability']>0.7),\"Easy_Win\",\n",
    "                          np.where((df_res['Win_for_P']==1)&(df_res['Probability']<=0.7),\"Hard_Win\",\"-\"))\n",
    "df_res['Type'] = np.where((df_res['Win_for_P']==0)&(df_res['Probability']>0.7),\"Easy_Loss\",\n",
    "                          np.where((df_res['Win_for_P']==0)&(df_res['Probability']<=0.7),\"Hard_Loss\",df_res['Type']))\n",
    "\n",
    "\n",
    "px.bar(data_frame=df_res,x='Name_O',y='Probability',text = 'Probability',title=\"Feature Importances\",text_auto=\".1%\",color='Type')"
   ]
  },
  {
   "cell_type": "code",
   "execution_count": 634,
   "metadata": {},
   "outputs": [
    {
     "data": {
      "application/vnd.plotly.v1+json": {
       "config": {
        "plotlyServerURL": "https://plot.ly"
       },
       "data": [
        {
         "hovertemplate": "<b>%{hovertext}</b><br><br>Type=Easy_Loss<br>Probability=%{x}<br>Rank_O=%{y}<br>Rank_P=%{marker.size}<br>Name_O=%{text}<extra></extra>",
         "hovertext": [
          "Novak Djokovic",
          "Daniil Medvedev",
          "Jannik Sinner",
          "Andrey Rublev",
          "Stefanos Tsitsipas"
         ],
         "legendgroup": "Easy_Loss",
         "marker": {
          "color": "#636efa",
          "size": [
           11,
           11,
           11,
           11,
           11
          ],
          "sizemode": "area",
          "sizeref": 0.0275,
          "symbol": "circle"
         },
         "mode": "markers+text",
         "name": "Easy_Loss",
         "orientation": "v",
         "showlegend": true,
         "text": [
          "Novak Djokovic",
          "Daniil Medvedev",
          "Jannik Sinner",
          "Andrey Rublev",
          "Stefanos Tsitsipas"
         ],
         "type": "scatter",
         "x": [
          0.7492575534532971,
          0.7422746166313187,
          0.755490128302194,
          0.7774408753161152,
          0.7615095670917629
         ],
         "xaxis": "x",
         "y": [
          1,
          3,
          4,
          5,
          6
         ],
         "yaxis": "y"
        },
        {
         "hovertemplate": "<b>%{hovertext}</b><br><br>Type=Hard_Loss<br>Probability=%{x}<br>Rank_O=%{y}<br>Rank_P=%{marker.size}<br>Name_O=%{text}<extra></extra>",
         "hovertext": [
          "Carlos Alcaraz",
          "Alexander Zverev",
          "Holger Rune",
          "Hubert Hurkacz",
          "Alex De Minaur",
          "Grigor Dimitrov",
          "Ben Shelton",
          "Ugo Humbert",
          "Felix Auger Aliassime",
          "Aslan Karatsev",
          "Alexander Shevchenko"
         ],
         "legendgroup": "Hard_Loss",
         "marker": {
          "color": "#EF553B",
          "size": [
           11,
           11,
           11,
           11,
           11,
           11,
           11,
           11,
           11,
           11,
           11
          ],
          "sizemode": "area",
          "sizeref": 0.0275,
          "symbol": "circle"
         },
         "mode": "markers+text",
         "name": "Hard_Loss",
         "orientation": "v",
         "showlegend": true,
         "text": [
          "Carlos Alcaraz",
          "Alexander Zverev",
          "Holger Rune",
          "Hubert Hurkacz",
          "Alex De Minaur",
          "Grigor Dimitrov",
          "Ben Shelton",
          "Ugo Humbert",
          "Felix Auger Aliassime",
          "Aslan Karatsev",
          "Alexander Shevchenko"
         ],
         "type": "scatter",
         "x": [
          0.6152224064502804,
          0.6141938967225077,
          0.5193107815524961,
          0.6704387212390059,
          0.5052570406099837,
          0.5327709171000978,
          0.674541849372448,
          0.5064033023129856,
          0.5041278052786475,
          0.5176022193686816,
          0.6168630648758366
         ],
         "xaxis": "x",
         "y": [
          2,
          7,
          8,
          9,
          12,
          14,
          17,
          20,
          29,
          35,
          48
         ],
         "yaxis": "y"
        },
        {
         "hovertemplate": "<b>%{hovertext}</b><br><br>Type=Hard_Win<br>Probability=%{x}<br>Rank_O=%{y}<br>Rank_P=%{marker.size}<br>Name_O=%{text}<extra></extra>",
         "hovertext": [
          "Taylor Fritz",
          "Tommy Paul",
          "Karen Khachanov",
          "Frances Tiafoe",
          "Nicolas Jarry",
          "Francisco Cerundolo",
          "Adrian Mannarino",
          "Tallon Griekspoor",
          "Sebastian Korda",
          "Alejandro Davidovich Fokina",
          "Tomas Martin Etcheverry",
          "Alexander Bublik",
          "Laslo Djere",
          "Arthur Fils",
          "Borna Coric",
          "Roman Safiullin",
          "Mackenzie Mcdonald",
          "Sebastian Ofner",
          "Matteo Arnaldi",
          "Lorenzo Sonego",
          "Yoshihito Nishioka",
          "Botic Van De Zandschulp"
         ],
         "legendgroup": "Hard_Win",
         "marker": {
          "color": "#00cc96",
          "size": [
           11,
           11,
           11,
           11,
           11,
           11,
           11,
           11,
           11,
           11,
           11,
           11,
           11,
           11,
           11,
           11,
           11,
           11,
           11,
           11,
           11,
           11
          ],
          "sizemode": "area",
          "sizeref": 0.0275,
          "symbol": "circle"
         },
         "mode": "markers+text",
         "name": "Hard_Win",
         "orientation": "v",
         "showlegend": true,
         "text": [
          "Taylor Fritz",
          "Tommy Paul",
          "Karen Khachanov",
          "Frances Tiafoe",
          "Nicolas Jarry",
          "Francisco Cerundolo",
          "Adrian Mannarino",
          "Tallon Griekspoor",
          "Sebastian Korda",
          "Alejandro Davidovich Fokina",
          "Tomas Martin Etcheverry",
          "Alexander Bublik",
          "Laslo Djere",
          "Arthur Fils",
          "Borna Coric",
          "Roman Safiullin",
          "Mackenzie Mcdonald",
          "Sebastian Ofner",
          "Matteo Arnaldi",
          "Lorenzo Sonego",
          "Yoshihito Nishioka",
          "Botic Van De Zandschulp"
         ],
         "type": "scatter",
         "x": [
          0.5813029479891862,
          0.5678882386316918,
          0.5717508539882759,
          0.640873402227881,
          0.5346385691627682,
          0.5963104909360029,
          0.583452969420511,
          0.5868078069412749,
          0.5122487347968785,
          0.6203388139561398,
          0.6967912962646601,
          0.5331994836426321,
          0.6884029873889764,
          0.5869885300486606,
          0.5992346200237249,
          0.611000632071004,
          0.6887278964016045,
          0.5342558897664569,
          0.5935954047362696,
          0.5625199994338278,
          0.5744660833552078,
          0.6815390660671745
         ],
         "xaxis": "x",
         "y": [
          10,
          13,
          15,
          16,
          19,
          21,
          22,
          23,
          24,
          26,
          30,
          32,
          33,
          36,
          37,
          39,
          41,
          43,
          44,
          46,
          47,
          50
         ],
         "yaxis": "y"
        },
        {
         "hovertemplate": "<b>%{hovertext}</b><br><br>Type=Easy_Win<br>Probability=%{x}<br>Rank_O=%{y}<br>Rank_P=%{marker.size}<br>Name_O=%{text}<extra></extra>",
         "hovertext": [
          "Cameron Norrie",
          "Jan Lennard Struff",
          "Lorenzo Musetti",
          "Sebastian Baez",
          "Jiri Lehecka",
          "Christopher Eubanks",
          "Daniel Evans",
          "Alexei Popyrin",
          "Andy Murray",
          "Max Purcell",
          "Stan Wawrinka"
         ],
         "legendgroup": "Easy_Win",
         "marker": {
          "color": "#ab63fa",
          "size": [
           11,
           11,
           11,
           11,
           11,
           11,
           11,
           11,
           11,
           11,
           11
          ],
          "sizemode": "area",
          "sizeref": 0.0275,
          "symbol": "circle"
         },
         "mode": "markers+text",
         "name": "Easy_Win",
         "orientation": "v",
         "showlegend": true,
         "text": [
          "Cameron Norrie",
          "Jan Lennard Struff",
          "Lorenzo Musetti",
          "Sebastian Baez",
          "Jiri Lehecka",
          "Christopher Eubanks",
          "Daniel Evans",
          "Alexei Popyrin",
          "Andy Murray",
          "Max Purcell",
          "Stan Wawrinka"
         ],
         "type": "scatter",
         "x": [
          0.7476413949858925,
          0.7767978770383874,
          0.7618215736623821,
          0.7844385637201523,
          0.7871741067894633,
          0.8215892636558246,
          0.8034054609171384,
          0.787114676605476,
          0.7300764871187946,
          0.8296249281302646,
          0.7469070988216902
         ],
         "xaxis": "x",
         "y": [
          18,
          25,
          27,
          28,
          31,
          34,
          38,
          40,
          42,
          45,
          49
         ],
         "yaxis": "y"
        }
       ],
       "layout": {
        "legend": {
         "itemsizing": "constant",
         "title": {
          "text": "Type"
         },
         "tracegroupgap": 0
        },
        "margin": {
         "t": 60
        },
        "template": {
         "data": {
          "bar": [
           {
            "error_x": {
             "color": "#2a3f5f"
            },
            "error_y": {
             "color": "#2a3f5f"
            },
            "marker": {
             "line": {
              "color": "#E5ECF6",
              "width": 0.5
             },
             "pattern": {
              "fillmode": "overlay",
              "size": 10,
              "solidity": 0.2
             }
            },
            "type": "bar"
           }
          ],
          "barpolar": [
           {
            "marker": {
             "line": {
              "color": "#E5ECF6",
              "width": 0.5
             },
             "pattern": {
              "fillmode": "overlay",
              "size": 10,
              "solidity": 0.2
             }
            },
            "type": "barpolar"
           }
          ],
          "carpet": [
           {
            "aaxis": {
             "endlinecolor": "#2a3f5f",
             "gridcolor": "white",
             "linecolor": "white",
             "minorgridcolor": "white",
             "startlinecolor": "#2a3f5f"
            },
            "baxis": {
             "endlinecolor": "#2a3f5f",
             "gridcolor": "white",
             "linecolor": "white",
             "minorgridcolor": "white",
             "startlinecolor": "#2a3f5f"
            },
            "type": "carpet"
           }
          ],
          "choropleth": [
           {
            "colorbar": {
             "outlinewidth": 0,
             "ticks": ""
            },
            "type": "choropleth"
           }
          ],
          "contour": [
           {
            "colorbar": {
             "outlinewidth": 0,
             "ticks": ""
            },
            "colorscale": [
             [
              0,
              "#0d0887"
             ],
             [
              0.1111111111111111,
              "#46039f"
             ],
             [
              0.2222222222222222,
              "#7201a8"
             ],
             [
              0.3333333333333333,
              "#9c179e"
             ],
             [
              0.4444444444444444,
              "#bd3786"
             ],
             [
              0.5555555555555556,
              "#d8576b"
             ],
             [
              0.6666666666666666,
              "#ed7953"
             ],
             [
              0.7777777777777778,
              "#fb9f3a"
             ],
             [
              0.8888888888888888,
              "#fdca26"
             ],
             [
              1,
              "#f0f921"
             ]
            ],
            "type": "contour"
           }
          ],
          "contourcarpet": [
           {
            "colorbar": {
             "outlinewidth": 0,
             "ticks": ""
            },
            "type": "contourcarpet"
           }
          ],
          "heatmap": [
           {
            "colorbar": {
             "outlinewidth": 0,
             "ticks": ""
            },
            "colorscale": [
             [
              0,
              "#0d0887"
             ],
             [
              0.1111111111111111,
              "#46039f"
             ],
             [
              0.2222222222222222,
              "#7201a8"
             ],
             [
              0.3333333333333333,
              "#9c179e"
             ],
             [
              0.4444444444444444,
              "#bd3786"
             ],
             [
              0.5555555555555556,
              "#d8576b"
             ],
             [
              0.6666666666666666,
              "#ed7953"
             ],
             [
              0.7777777777777778,
              "#fb9f3a"
             ],
             [
              0.8888888888888888,
              "#fdca26"
             ],
             [
              1,
              "#f0f921"
             ]
            ],
            "type": "heatmap"
           }
          ],
          "heatmapgl": [
           {
            "colorbar": {
             "outlinewidth": 0,
             "ticks": ""
            },
            "colorscale": [
             [
              0,
              "#0d0887"
             ],
             [
              0.1111111111111111,
              "#46039f"
             ],
             [
              0.2222222222222222,
              "#7201a8"
             ],
             [
              0.3333333333333333,
              "#9c179e"
             ],
             [
              0.4444444444444444,
              "#bd3786"
             ],
             [
              0.5555555555555556,
              "#d8576b"
             ],
             [
              0.6666666666666666,
              "#ed7953"
             ],
             [
              0.7777777777777778,
              "#fb9f3a"
             ],
             [
              0.8888888888888888,
              "#fdca26"
             ],
             [
              1,
              "#f0f921"
             ]
            ],
            "type": "heatmapgl"
           }
          ],
          "histogram": [
           {
            "marker": {
             "pattern": {
              "fillmode": "overlay",
              "size": 10,
              "solidity": 0.2
             }
            },
            "type": "histogram"
           }
          ],
          "histogram2d": [
           {
            "colorbar": {
             "outlinewidth": 0,
             "ticks": ""
            },
            "colorscale": [
             [
              0,
              "#0d0887"
             ],
             [
              0.1111111111111111,
              "#46039f"
             ],
             [
              0.2222222222222222,
              "#7201a8"
             ],
             [
              0.3333333333333333,
              "#9c179e"
             ],
             [
              0.4444444444444444,
              "#bd3786"
             ],
             [
              0.5555555555555556,
              "#d8576b"
             ],
             [
              0.6666666666666666,
              "#ed7953"
             ],
             [
              0.7777777777777778,
              "#fb9f3a"
             ],
             [
              0.8888888888888888,
              "#fdca26"
             ],
             [
              1,
              "#f0f921"
             ]
            ],
            "type": "histogram2d"
           }
          ],
          "histogram2dcontour": [
           {
            "colorbar": {
             "outlinewidth": 0,
             "ticks": ""
            },
            "colorscale": [
             [
              0,
              "#0d0887"
             ],
             [
              0.1111111111111111,
              "#46039f"
             ],
             [
              0.2222222222222222,
              "#7201a8"
             ],
             [
              0.3333333333333333,
              "#9c179e"
             ],
             [
              0.4444444444444444,
              "#bd3786"
             ],
             [
              0.5555555555555556,
              "#d8576b"
             ],
             [
              0.6666666666666666,
              "#ed7953"
             ],
             [
              0.7777777777777778,
              "#fb9f3a"
             ],
             [
              0.8888888888888888,
              "#fdca26"
             ],
             [
              1,
              "#f0f921"
             ]
            ],
            "type": "histogram2dcontour"
           }
          ],
          "mesh3d": [
           {
            "colorbar": {
             "outlinewidth": 0,
             "ticks": ""
            },
            "type": "mesh3d"
           }
          ],
          "parcoords": [
           {
            "line": {
             "colorbar": {
              "outlinewidth": 0,
              "ticks": ""
             }
            },
            "type": "parcoords"
           }
          ],
          "pie": [
           {
            "automargin": true,
            "type": "pie"
           }
          ],
          "scatter": [
           {
            "fillpattern": {
             "fillmode": "overlay",
             "size": 10,
             "solidity": 0.2
            },
            "type": "scatter"
           }
          ],
          "scatter3d": [
           {
            "line": {
             "colorbar": {
              "outlinewidth": 0,
              "ticks": ""
             }
            },
            "marker": {
             "colorbar": {
              "outlinewidth": 0,
              "ticks": ""
             }
            },
            "type": "scatter3d"
           }
          ],
          "scattercarpet": [
           {
            "marker": {
             "colorbar": {
              "outlinewidth": 0,
              "ticks": ""
             }
            },
            "type": "scattercarpet"
           }
          ],
          "scattergeo": [
           {
            "marker": {
             "colorbar": {
              "outlinewidth": 0,
              "ticks": ""
             }
            },
            "type": "scattergeo"
           }
          ],
          "scattergl": [
           {
            "marker": {
             "colorbar": {
              "outlinewidth": 0,
              "ticks": ""
             }
            },
            "type": "scattergl"
           }
          ],
          "scattermapbox": [
           {
            "marker": {
             "colorbar": {
              "outlinewidth": 0,
              "ticks": ""
             }
            },
            "type": "scattermapbox"
           }
          ],
          "scatterpolar": [
           {
            "marker": {
             "colorbar": {
              "outlinewidth": 0,
              "ticks": ""
             }
            },
            "type": "scatterpolar"
           }
          ],
          "scatterpolargl": [
           {
            "marker": {
             "colorbar": {
              "outlinewidth": 0,
              "ticks": ""
             }
            },
            "type": "scatterpolargl"
           }
          ],
          "scatterternary": [
           {
            "marker": {
             "colorbar": {
              "outlinewidth": 0,
              "ticks": ""
             }
            },
            "type": "scatterternary"
           }
          ],
          "surface": [
           {
            "colorbar": {
             "outlinewidth": 0,
             "ticks": ""
            },
            "colorscale": [
             [
              0,
              "#0d0887"
             ],
             [
              0.1111111111111111,
              "#46039f"
             ],
             [
              0.2222222222222222,
              "#7201a8"
             ],
             [
              0.3333333333333333,
              "#9c179e"
             ],
             [
              0.4444444444444444,
              "#bd3786"
             ],
             [
              0.5555555555555556,
              "#d8576b"
             ],
             [
              0.6666666666666666,
              "#ed7953"
             ],
             [
              0.7777777777777778,
              "#fb9f3a"
             ],
             [
              0.8888888888888888,
              "#fdca26"
             ],
             [
              1,
              "#f0f921"
             ]
            ],
            "type": "surface"
           }
          ],
          "table": [
           {
            "cells": {
             "fill": {
              "color": "#EBF0F8"
             },
             "line": {
              "color": "white"
             }
            },
            "header": {
             "fill": {
              "color": "#C8D4E3"
             },
             "line": {
              "color": "white"
             }
            },
            "type": "table"
           }
          ]
         },
         "layout": {
          "annotationdefaults": {
           "arrowcolor": "#2a3f5f",
           "arrowhead": 0,
           "arrowwidth": 1
          },
          "autotypenumbers": "strict",
          "coloraxis": {
           "colorbar": {
            "outlinewidth": 0,
            "ticks": ""
           }
          },
          "colorscale": {
           "diverging": [
            [
             0,
             "#8e0152"
            ],
            [
             0.1,
             "#c51b7d"
            ],
            [
             0.2,
             "#de77ae"
            ],
            [
             0.3,
             "#f1b6da"
            ],
            [
             0.4,
             "#fde0ef"
            ],
            [
             0.5,
             "#f7f7f7"
            ],
            [
             0.6,
             "#e6f5d0"
            ],
            [
             0.7,
             "#b8e186"
            ],
            [
             0.8,
             "#7fbc41"
            ],
            [
             0.9,
             "#4d9221"
            ],
            [
             1,
             "#276419"
            ]
           ],
           "sequential": [
            [
             0,
             "#0d0887"
            ],
            [
             0.1111111111111111,
             "#46039f"
            ],
            [
             0.2222222222222222,
             "#7201a8"
            ],
            [
             0.3333333333333333,
             "#9c179e"
            ],
            [
             0.4444444444444444,
             "#bd3786"
            ],
            [
             0.5555555555555556,
             "#d8576b"
            ],
            [
             0.6666666666666666,
             "#ed7953"
            ],
            [
             0.7777777777777778,
             "#fb9f3a"
            ],
            [
             0.8888888888888888,
             "#fdca26"
            ],
            [
             1,
             "#f0f921"
            ]
           ],
           "sequentialminus": [
            [
             0,
             "#0d0887"
            ],
            [
             0.1111111111111111,
             "#46039f"
            ],
            [
             0.2222222222222222,
             "#7201a8"
            ],
            [
             0.3333333333333333,
             "#9c179e"
            ],
            [
             0.4444444444444444,
             "#bd3786"
            ],
            [
             0.5555555555555556,
             "#d8576b"
            ],
            [
             0.6666666666666666,
             "#ed7953"
            ],
            [
             0.7777777777777778,
             "#fb9f3a"
            ],
            [
             0.8888888888888888,
             "#fdca26"
            ],
            [
             1,
             "#f0f921"
            ]
           ]
          },
          "colorway": [
           "#636efa",
           "#EF553B",
           "#00cc96",
           "#ab63fa",
           "#FFA15A",
           "#19d3f3",
           "#FF6692",
           "#B6E880",
           "#FF97FF",
           "#FECB52"
          ],
          "font": {
           "color": "#2a3f5f"
          },
          "geo": {
           "bgcolor": "white",
           "lakecolor": "white",
           "landcolor": "#E5ECF6",
           "showlakes": true,
           "showland": true,
           "subunitcolor": "white"
          },
          "hoverlabel": {
           "align": "left"
          },
          "hovermode": "closest",
          "mapbox": {
           "style": "light"
          },
          "paper_bgcolor": "white",
          "plot_bgcolor": "#E5ECF6",
          "polar": {
           "angularaxis": {
            "gridcolor": "white",
            "linecolor": "white",
            "ticks": ""
           },
           "bgcolor": "#E5ECF6",
           "radialaxis": {
            "gridcolor": "white",
            "linecolor": "white",
            "ticks": ""
           }
          },
          "scene": {
           "xaxis": {
            "backgroundcolor": "#E5ECF6",
            "gridcolor": "white",
            "gridwidth": 2,
            "linecolor": "white",
            "showbackground": true,
            "ticks": "",
            "zerolinecolor": "white"
           },
           "yaxis": {
            "backgroundcolor": "#E5ECF6",
            "gridcolor": "white",
            "gridwidth": 2,
            "linecolor": "white",
            "showbackground": true,
            "ticks": "",
            "zerolinecolor": "white"
           },
           "zaxis": {
            "backgroundcolor": "#E5ECF6",
            "gridcolor": "white",
            "gridwidth": 2,
            "linecolor": "white",
            "showbackground": true,
            "ticks": "",
            "zerolinecolor": "white"
           }
          },
          "shapedefaults": {
           "line": {
            "color": "#2a3f5f"
           }
          },
          "ternary": {
           "aaxis": {
            "gridcolor": "white",
            "linecolor": "white",
            "ticks": ""
           },
           "baxis": {
            "gridcolor": "white",
            "linecolor": "white",
            "ticks": ""
           },
           "bgcolor": "#E5ECF6",
           "caxis": {
            "gridcolor": "white",
            "linecolor": "white",
            "ticks": ""
           }
          },
          "title": {
           "x": 0.05
          },
          "xaxis": {
           "automargin": true,
           "gridcolor": "white",
           "linecolor": "white",
           "ticks": "",
           "title": {
            "standoff": 15
           },
           "zerolinecolor": "white",
           "zerolinewidth": 2
          },
          "yaxis": {
           "automargin": true,
           "gridcolor": "white",
           "linecolor": "white",
           "ticks": "",
           "title": {
            "standoff": 15
           },
           "zerolinecolor": "white",
           "zerolinewidth": 2
          }
         }
        },
        "xaxis": {
         "anchor": "y",
         "domain": [
          0,
          1
         ],
         "title": {
          "text": "Probability"
         }
        },
        "yaxis": {
         "anchor": "x",
         "domain": [
          0,
          1
         ],
         "title": {
          "text": "Rank_O"
         }
        }
       }
      }
     },
     "metadata": {},
     "output_type": "display_data"
    }
   ],
   "source": [
    "px.scatter(data_frame=df_res,x='Probability',y='Rank_O',color = 'Type',size='Rank_P',hover_name='Name_O',text='Name_O')\n"
   ]
  },
  {
   "cell_type": "code",
   "execution_count": null,
   "metadata": {},
   "outputs": [],
   "source": []
  }
 ],
 "metadata": {
  "kernelspec": {
   "display_name": ".venv",
   "language": "python",
   "name": "python3"
  },
  "language_info": {
   "codemirror_mode": {
    "name": "ipython",
    "version": 3
   },
   "file_extension": ".py",
   "mimetype": "text/x-python",
   "name": "python",
   "nbconvert_exporter": "python",
   "pygments_lexer": "ipython3",
   "version": "3.12.1"
  },
  "orig_nbformat": 4,
  "vscode": {
   "interpreter": {
    "hash": "1b76c18162a31d0360cf972c119df9c1dedd2dacf5ab410f4768e50feaa534b4"
   }
  }
 },
 "nbformat": 4,
 "nbformat_minor": 2
}
